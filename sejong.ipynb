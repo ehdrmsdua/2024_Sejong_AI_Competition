{
  "cells": [
    {
      "cell_type": "code",
      "execution_count": null,
      "metadata": {
        "colab": {
          "base_uri": "https://localhost:8080/"
        },
        "id": "bvAXXYS7NeGL",
        "outputId": "beed3c8d-f0e7-47de-cfde-78502854c9da"
      },
      "outputs": [
        {
          "name": "stdout",
          "output_type": "stream",
          "text": [
            "Collecting segmentation_models_pytorch\n",
            "  Downloading segmentation_models_pytorch-0.3.3-py3-none-any.whl (106 kB)\n",
            "\u001b[2K     \u001b[90m━━━━━━━━━━━━━━━━━━━━━━━━━━━━━━━━━━━━━━━━\u001b[0m \u001b[32m106.7/106.7 kB\u001b[0m \u001b[31m3.3 MB/s\u001b[0m eta \u001b[36m0:00:00\u001b[0m\n",
            "\u001b[?25hRequirement already satisfied: torchvision>=0.5.0 in /usr/local/lib/python3.10/dist-packages (from segmentation_models_pytorch) (0.16.0+cu121)\n",
            "Collecting pretrainedmodels==0.7.4 (from segmentation_models_pytorch)\n",
            "  Downloading pretrainedmodels-0.7.4.tar.gz (58 kB)\n",
            "\u001b[2K     \u001b[90m━━━━━━━━━━━━━━━━━━━━━━━━━━━━━━━━━━━━━━━━\u001b[0m \u001b[32m58.8/58.8 kB\u001b[0m \u001b[31m10.1 MB/s\u001b[0m eta \u001b[36m0:00:00\u001b[0m\n",
            "\u001b[?25h  Preparing metadata (setup.py) ... \u001b[?25l\u001b[?25hdone\n",
            "Collecting efficientnet-pytorch==0.7.1 (from segmentation_models_pytorch)\n",
            "  Downloading efficientnet_pytorch-0.7.1.tar.gz (21 kB)\n",
            "  Preparing metadata (setup.py) ... \u001b[?25l\u001b[?25hdone\n",
            "Collecting timm==0.9.2 (from segmentation_models_pytorch)\n",
            "  Downloading timm-0.9.2-py3-none-any.whl (2.2 MB)\n",
            "\u001b[2K     \u001b[90m━━━━━━━━━━━━━━━━━━━━━━━━━━━━━━━━━━━━━━━━\u001b[0m \u001b[32m2.2/2.2 MB\u001b[0m \u001b[31m32.5 MB/s\u001b[0m eta \u001b[36m0:00:00\u001b[0m\n",
            "\u001b[?25hRequirement already satisfied: tqdm in /usr/local/lib/python3.10/dist-packages (from segmentation_models_pytorch) (4.66.2)\n",
            "Requirement already satisfied: pillow in /usr/local/lib/python3.10/dist-packages (from segmentation_models_pytorch) (9.4.0)\n",
            "Requirement already satisfied: torch in /usr/local/lib/python3.10/dist-packages (from efficientnet-pytorch==0.7.1->segmentation_models_pytorch) (2.1.0+cu121)\n",
            "Collecting munch (from pretrainedmodels==0.7.4->segmentation_models_pytorch)\n",
            "  Downloading munch-4.0.0-py2.py3-none-any.whl (9.9 kB)\n",
            "Requirement already satisfied: pyyaml in /usr/local/lib/python3.10/dist-packages (from timm==0.9.2->segmentation_models_pytorch) (6.0.1)\n",
            "Requirement already satisfied: huggingface-hub in /usr/local/lib/python3.10/dist-packages (from timm==0.9.2->segmentation_models_pytorch) (0.20.3)\n",
            "Requirement already satisfied: safetensors in /usr/local/lib/python3.10/dist-packages (from timm==0.9.2->segmentation_models_pytorch) (0.4.2)\n",
            "Requirement already satisfied: numpy in /usr/local/lib/python3.10/dist-packages (from torchvision>=0.5.0->segmentation_models_pytorch) (1.25.2)\n",
            "Requirement already satisfied: requests in /usr/local/lib/python3.10/dist-packages (from torchvision>=0.5.0->segmentation_models_pytorch) (2.31.0)\n",
            "Requirement already satisfied: filelock in /usr/local/lib/python3.10/dist-packages (from torch->efficientnet-pytorch==0.7.1->segmentation_models_pytorch) (3.13.1)\n",
            "Requirement already satisfied: typing-extensions in /usr/local/lib/python3.10/dist-packages (from torch->efficientnet-pytorch==0.7.1->segmentation_models_pytorch) (4.9.0)\n",
            "Requirement already satisfied: sympy in /usr/local/lib/python3.10/dist-packages (from torch->efficientnet-pytorch==0.7.1->segmentation_models_pytorch) (1.12)\n",
            "Requirement already satisfied: networkx in /usr/local/lib/python3.10/dist-packages (from torch->efficientnet-pytorch==0.7.1->segmentation_models_pytorch) (3.2.1)\n",
            "Requirement already satisfied: jinja2 in /usr/local/lib/python3.10/dist-packages (from torch->efficientnet-pytorch==0.7.1->segmentation_models_pytorch) (3.1.3)\n",
            "Requirement already satisfied: fsspec in /usr/local/lib/python3.10/dist-packages (from torch->efficientnet-pytorch==0.7.1->segmentation_models_pytorch) (2023.6.0)\n",
            "Requirement already satisfied: triton==2.1.0 in /usr/local/lib/python3.10/dist-packages (from torch->efficientnet-pytorch==0.7.1->segmentation_models_pytorch) (2.1.0)\n",
            "Requirement already satisfied: packaging>=20.9 in /usr/local/lib/python3.10/dist-packages (from huggingface-hub->timm==0.9.2->segmentation_models_pytorch) (23.2)\n",
            "Requirement already satisfied: charset-normalizer<4,>=2 in /usr/local/lib/python3.10/dist-packages (from requests->torchvision>=0.5.0->segmentation_models_pytorch) (3.3.2)\n",
            "Requirement already satisfied: idna<4,>=2.5 in /usr/local/lib/python3.10/dist-packages (from requests->torchvision>=0.5.0->segmentation_models_pytorch) (3.6)\n",
            "Requirement already satisfied: urllib3<3,>=1.21.1 in /usr/local/lib/python3.10/dist-packages (from requests->torchvision>=0.5.0->segmentation_models_pytorch) (2.0.7)\n",
            "Requirement already satisfied: certifi>=2017.4.17 in /usr/local/lib/python3.10/dist-packages (from requests->torchvision>=0.5.0->segmentation_models_pytorch) (2024.2.2)\n",
            "Requirement already satisfied: MarkupSafe>=2.0 in /usr/local/lib/python3.10/dist-packages (from jinja2->torch->efficientnet-pytorch==0.7.1->segmentation_models_pytorch) (2.1.5)\n",
            "Requirement already satisfied: mpmath>=0.19 in /usr/local/lib/python3.10/dist-packages (from sympy->torch->efficientnet-pytorch==0.7.1->segmentation_models_pytorch) (1.3.0)\n",
            "Building wheels for collected packages: efficientnet-pytorch, pretrainedmodels\n",
            "  Building wheel for efficientnet-pytorch (setup.py) ... \u001b[?25l\u001b[?25hdone\n",
            "  Created wheel for efficientnet-pytorch: filename=efficientnet_pytorch-0.7.1-py3-none-any.whl size=16428 sha256=4eadb1e87b94eb100fa255e2559b1827e96c99dc479c15d10b948788fac6ec0a\n",
            "  Stored in directory: /root/.cache/pip/wheels/03/3f/e9/911b1bc46869644912bda90a56bcf7b960f20b5187feea3baf\n",
            "  Building wheel for pretrainedmodels (setup.py) ... \u001b[?25l\u001b[?25hdone\n",
            "  Created wheel for pretrainedmodels: filename=pretrainedmodels-0.7.4-py3-none-any.whl size=60945 sha256=f0146349b6c237a2aeb9799589e9f62a397e79f55df62f02992edb5c4090059f\n",
            "  Stored in directory: /root/.cache/pip/wheels/35/cb/a5/8f534c60142835bfc889f9a482e4a67e0b817032d9c6883b64\n",
            "Successfully built efficientnet-pytorch pretrainedmodels\n",
            "Installing collected packages: munch, efficientnet-pytorch, timm, pretrainedmodels, segmentation_models_pytorch\n",
            "Successfully installed efficientnet-pytorch-0.7.1 munch-4.0.0 pretrainedmodels-0.7.4 segmentation_models_pytorch-0.3.3 timm-0.9.2\n"
          ]
        }
      ],
      "source": [
        "# 필요 코드 필수\n",
        "!pip install segmentation_models_pytorch"
      ]
    },
    {
      "cell_type": "code",
      "execution_count": null,
      "metadata": {
        "colab": {
          "base_uri": "https://localhost:8080/"
        },
        "id": "z3rFPmdNPSgc",
        "outputId": "7772f0a0-8a2a-46ec-849a-50ebf6185722"
      },
      "outputs": [
        {
          "name": "stdout",
          "output_type": "stream",
          "text": [
            "Starting fold 0\n"
          ]
        },
        {
          "name": "stderr",
          "output_type": "stream",
          "text": [
            "Downloading: \"https://download.pytorch.org/models/resnet101-5d3b4d8f.pth\" to /root/.cache/torch/hub/checkpoints/resnet101-5d3b4d8f.pth\n",
            "100%|██████████| 170M/170M [00:00<00:00, 247MB/s]\n"
          ]
        },
        {
          "name": "stdout",
          "output_type": "stream",
          "text": [
            "Fold 0, Epoch 1, Training Loss: 0.6669338215142488, Validation Loss: 3.024048924446106\n",
            "Fold 0, Epoch 2, Training Loss: 0.29531022906303406, Validation Loss: 0.4765893593430519\n",
            "Fold 0, Epoch 3, Training Loss: 0.21807843446731567, Validation Loss: 0.29813849925994873\n",
            "Fold 0, Epoch 4, Training Loss: 0.18207127321511507, Validation Loss: 0.24786684662103653\n",
            "Fold 0, Epoch 5, Training Loss: 0.1519895694218576, Validation Loss: 0.24102819338440895\n",
            "Fold 0, Epoch 6, Training Loss: 0.13324134703725576, Validation Loss: 0.22161061316728592\n",
            "Fold 0, Epoch 7, Training Loss: 0.13304656650871038, Validation Loss: 0.26869943737983704\n",
            "Fold 0, Epoch 8, Training Loss: 0.1434653284959495, Validation Loss: 0.3761737272143364\n",
            "Fold 0, Epoch 9, Training Loss: 0.1363366055302322, Validation Loss: 0.32023219391703606\n",
            "Fold 0, Epoch 10, Training Loss: 0.10810294840484858, Validation Loss: 0.20734814926981926\n",
            "Fold 0, Epoch 11, Training Loss: 0.10192775446921587, Validation Loss: 0.18118765763938427\n",
            "Fold 0, Epoch 12, Training Loss: 0.08955565467476845, Validation Loss: 0.1806534044444561\n",
            "Fold 0, Epoch 13, Training Loss: 0.08127739978954196, Validation Loss: 0.17214063741266727\n",
            "Fold 0, Epoch 14, Training Loss: 0.07620545732788742, Validation Loss: 0.1758385058492422\n",
            "Fold 0, Epoch 15, Training Loss: 0.07104731677100062, Validation Loss: 0.17378642410039902\n",
            "Fold 0, Epoch 16, Training Loss: 0.06969916843809187, Validation Loss: 0.16936114244163036\n",
            "Fold 0, Epoch 17, Training Loss: 0.06473658257164061, Validation Loss: 0.16577333584427834\n",
            "Fold 0, Epoch 18, Training Loss: 0.06161887594498694, Validation Loss: 0.16434630565345287\n",
            "Fold 0, Epoch 19, Training Loss: 0.05979448487050831, Validation Loss: 0.16994120553135872\n",
            "Fold 0, Epoch 20, Training Loss: 0.060972478007897735, Validation Loss: 0.16986621730029583\n",
            "Fold 0, Epoch 21, Training Loss: 0.05930845392867923, Validation Loss: 0.17071190476417542\n",
            "Fold 0, Epoch 22, Training Loss: 0.05789141240529716, Validation Loss: 0.16580930724740028\n",
            "Fold 0, Epoch 23, Training Loss: 0.05386956129223108, Validation Loss: 0.17350300401449203\n",
            "Fold 0, Epoch 24, Training Loss: 0.05199711536988616, Validation Loss: 0.16747605614364147\n",
            "Fold 0, Epoch 25, Training Loss: 0.04947152943350375, Validation Loss: 0.16813470982015133\n",
            "Fold 0, Epoch 26, Training Loss: 0.0476071375887841, Validation Loss: 0.16636737436056137\n",
            "Fold 0, Epoch 27, Training Loss: 0.04687402141280472, Validation Loss: 0.18329560570418835\n",
            "Fold 0, Epoch 28, Training Loss: 0.0473548099398613, Validation Loss: 0.16924163699150085\n",
            "Fold 0, Epoch 29, Training Loss: 0.04576143994927406, Validation Loss: 0.1718908566981554\n",
            "Fold 0, Epoch 30, Training Loss: 0.04452573275193572, Validation Loss: 0.17623904161155224\n",
            "Fold 0, Epoch 31, Training Loss: 0.04339316091500223, Validation Loss: 0.17918907664716244\n",
            "Fold 0, Epoch 32, Training Loss: 0.1460584346204996, Validation Loss: 1.2042225301265717\n",
            "Fold 0, Epoch 33, Training Loss: 0.25962533988058567, Validation Loss: 4.8139636516571045\n",
            "Fold 0, Epoch 34, Training Loss: 0.1715130526572466, Validation Loss: 0.33402398228645325\n",
            "Fold 0, Epoch 35, Training Loss: 0.13397827977314591, Validation Loss: 0.2482648566365242\n",
            "Fold 0, Epoch 36, Training Loss: 0.10837641591206193, Validation Loss: 0.18750547617673874\n",
            "Fold 0, Epoch 37, Training Loss: 0.084966323338449, Validation Loss: 0.18240223824977875\n",
            "Fold 0, Epoch 38, Training Loss: 0.07498620846308768, Validation Loss: 0.1713263038545847\n",
            "Fold 0, Epoch 39, Training Loss: 0.06821413687430322, Validation Loss: 0.16340836323797703\n",
            "Fold 0, Epoch 40, Training Loss: 0.06252701207995415, Validation Loss: 0.1651345919817686\n",
            "Fold 0, Epoch 41, Training Loss: 0.06125033204443753, Validation Loss: 0.17331529781222343\n",
            "Fold 0, Epoch 42, Training Loss: 0.05851994268596172, Validation Loss: 0.17140765860676765\n",
            "Fold 0, Epoch 43, Training Loss: 0.054420820670202374, Validation Loss: 0.16711148247122765\n",
            "Fold 0, Epoch 44, Training Loss: 0.05221325927414, Validation Loss: 0.1633115168660879\n",
            "Fold 0, Epoch 45, Training Loss: 0.05153892072848976, Validation Loss: 0.16971462778747082\n",
            "Fold 0, Epoch 46, Training Loss: 0.05081883491948247, Validation Loss: 0.16676463559269905\n",
            "Fold 0, Epoch 47, Training Loss: 0.04903122107498348, Validation Loss: 0.16808128729462624\n",
            "Fold 0, Epoch 48, Training Loss: 0.047124738804996014, Validation Loss: 0.1638656035065651\n",
            "Fold 0, Epoch 49, Training Loss: 0.04644286818802357, Validation Loss: 0.16725842468440533\n",
            "Fold 0, Epoch 50, Training Loss: 0.04463574988767505, Validation Loss: 0.16983948461711407\n",
            "Starting fold 1\n",
            "Fold 1, Epoch 1, Training Loss: 0.6731114834547043, Validation Loss: 2.4172492623329163\n",
            "Fold 1, Epoch 2, Training Loss: 0.3325052848085761, Validation Loss: 0.3549377992749214\n",
            "Fold 1, Epoch 3, Training Loss: 0.23142901714891195, Validation Loss: 0.4542665481567383\n",
            "Fold 1, Epoch 4, Training Loss: 0.2056997660547495, Validation Loss: 0.20909858122467995\n",
            "Fold 1, Epoch 5, Training Loss: 0.16808125842362642, Validation Loss: 0.1911318525671959\n",
            "Fold 1, Epoch 6, Training Loss: 0.15062091359868646, Validation Loss: 0.16584160923957825\n",
            "Fold 1, Epoch 7, Training Loss: 0.14806964388117194, Validation Loss: 0.1988053023815155\n",
            "Fold 1, Epoch 8, Training Loss: 0.12661868706345558, Validation Loss: 0.15206527337431908\n",
            "Fold 1, Epoch 9, Training Loss: 0.11682117311283946, Validation Loss: 0.20918192341923714\n",
            "Fold 1, Epoch 10, Training Loss: 0.13261228473857045, Validation Loss: 0.21355018392205238\n",
            "Fold 1, Epoch 11, Training Loss: 0.12226647464558482, Validation Loss: 0.18198291212320328\n",
            "Fold 1, Epoch 12, Training Loss: 0.1121941632591188, Validation Loss: 0.14561057649552822\n",
            "Fold 1, Epoch 13, Training Loss: 0.12276385072618723, Validation Loss: 0.1925635002553463\n",
            "Fold 1, Epoch 14, Training Loss: 0.11975688301026821, Validation Loss: 0.19217680394649506\n",
            "Fold 1, Epoch 15, Training Loss: 0.09991805953904986, Validation Loss: 0.1216060109436512\n",
            "Fold 1, Epoch 16, Training Loss: 0.08709148596972227, Validation Loss: 0.11971320025622845\n",
            "Fold 1, Epoch 17, Training Loss: 0.08234899863600731, Validation Loss: 0.1143978200852871\n",
            "Fold 1, Epoch 18, Training Loss: 0.08908494655042887, Validation Loss: 0.11978909000754356\n",
            "Fold 1, Epoch 19, Training Loss: 0.0811489624902606, Validation Loss: 0.11888215690851212\n",
            "Fold 1, Epoch 20, Training Loss: 0.07671539019793272, Validation Loss: 0.11854730360209942\n",
            "Fold 1, Epoch 21, Training Loss: 0.0677440685685724, Validation Loss: 0.10166948847472668\n",
            "Fold 1, Epoch 22, Training Loss: 0.0654572166968137, Validation Loss: 0.1011220682412386\n",
            "Fold 1, Epoch 23, Training Loss: 0.06190892099402845, Validation Loss: 0.10305421054363251\n",
            "Fold 1, Epoch 24, Training Loss: 0.0610560392960906, Validation Loss: 0.13225509226322174\n",
            "Fold 1, Epoch 25, Training Loss: 0.06057016644626856, Validation Loss: 0.10485509596765041\n",
            "Fold 1, Epoch 26, Training Loss: 0.05909069813787937, Validation Loss: 0.12063392251729965\n",
            "Fold 1, Epoch 27, Training Loss: 0.06220537517219782, Validation Loss: 0.11400694586336613\n",
            "Fold 1, Epoch 28, Training Loss: 0.07700924901291728, Validation Loss: 0.1388438604772091\n",
            "Fold 1, Epoch 29, Training Loss: 0.09080617967993021, Validation Loss: 0.18448427319526672\n",
            "Fold 1, Epoch 30, Training Loss: 0.1109724435955286, Validation Loss: 0.2234582006931305\n",
            "Fold 1, Epoch 31, Training Loss: 0.09073357284069061, Validation Loss: 0.1531832590699196\n",
            "Fold 1, Epoch 32, Training Loss: 0.08391001773998141, Validation Loss: 0.13186649791896343\n",
            "Fold 1, Epoch 33, Training Loss: 0.08088307967409492, Validation Loss: 0.16368192434310913\n",
            "Fold 1, Epoch 34, Training Loss: 0.07769020833075047, Validation Loss: 0.11075356975197792\n",
            "Fold 1, Epoch 35, Training Loss: 0.06728315819054842, Validation Loss: 0.10456074588000774\n",
            "Fold 1, Epoch 36, Training Loss: 0.058409444289281964, Validation Loss: 0.09262781031429768\n",
            "Fold 1, Epoch 37, Training Loss: 0.05358603782951832, Validation Loss: 0.09360568784177303\n",
            "Fold 1, Epoch 38, Training Loss: 0.05096977669745684, Validation Loss: 0.09278659615665674\n",
            "Fold 1, Epoch 39, Training Loss: 0.05031169974245131, Validation Loss: 0.09217327833175659\n",
            "Fold 1, Epoch 40, Training Loss: 0.047997064888477325, Validation Loss: 0.0941961258649826\n",
            "Fold 1, Epoch 41, Training Loss: 0.046243537217378616, Validation Loss: 0.09782194718718529\n",
            "Fold 1, Epoch 42, Training Loss: 0.045374865643680096, Validation Loss: 0.09885570593178272\n",
            "Fold 1, Epoch 43, Training Loss: 0.04466686770319939, Validation Loss: 0.0957588218152523\n",
            "Fold 1, Epoch 44, Training Loss: 0.04276003991253674, Validation Loss: 0.09456553403288126\n",
            "Fold 1, Epoch 45, Training Loss: 0.042168230982497334, Validation Loss: 0.09419086575508118\n",
            "Fold 1, Epoch 46, Training Loss: 0.041673221392557025, Validation Loss: 0.09744416922330856\n",
            "Fold 1, Epoch 47, Training Loss: 0.041186401853337884, Validation Loss: 0.09657778777182102\n",
            "Fold 1, Epoch 48, Training Loss: 0.040083282394334674, Validation Loss: 0.0952626783400774\n",
            "Fold 1, Epoch 49, Training Loss: 0.04005718557164073, Validation Loss: 0.09659269079566002\n",
            "Fold 1, Epoch 50, Training Loss: 0.03896974213421345, Validation Loss: 0.09898856282234192\n",
            "Starting fold 2\n",
            "Fold 2, Epoch 1, Training Loss: 0.6251731421798468, Validation Loss: 1.21012544631958\n",
            "Fold 2, Epoch 2, Training Loss: 0.298859472386539, Validation Loss: 0.3925039991736412\n",
            "Fold 2, Epoch 3, Training Loss: 0.21900321263819933, Validation Loss: 0.2009722776710987\n",
            "Fold 2, Epoch 4, Training Loss: 0.1777061140164733, Validation Loss: 0.1921115703880787\n",
            "Fold 2, Epoch 5, Training Loss: 0.14779815264046192, Validation Loss: 0.20041177049279213\n",
            "Fold 2, Epoch 6, Training Loss: 0.13088867533951998, Validation Loss: 0.17162608355283737\n",
            "Fold 2, Epoch 7, Training Loss: 0.1283400021493435, Validation Loss: 0.1785698402673006\n",
            "Fold 2, Epoch 8, Training Loss: 0.11545920232310891, Validation Loss: 0.15168335288763046\n",
            "Fold 2, Epoch 9, Training Loss: 0.10608723433688283, Validation Loss: 0.13314971514046192\n",
            "Fold 2, Epoch 10, Training Loss: 0.09915850171819329, Validation Loss: 0.16863558441400528\n",
            "Fold 2, Epoch 11, Training Loss: 0.10731375310570002, Validation Loss: 0.22470994293689728\n",
            "Fold 2, Epoch 12, Training Loss: 0.1448877351358533, Validation Loss: 0.20416534319519997\n",
            "Fold 2, Epoch 13, Training Loss: 0.137683916836977, Validation Loss: 0.19697052240371704\n",
            "Fold 2, Epoch 14, Training Loss: 0.13455797219648957, Validation Loss: 0.18581673875451088\n",
            "Fold 2, Epoch 15, Training Loss: 0.11691525625064969, Validation Loss: 0.19108662754297256\n",
            "Fold 2, Epoch 16, Training Loss: 0.09606763068586588, Validation Loss: 0.14448187500238419\n",
            "Fold 2, Epoch 17, Training Loss: 0.0839458261616528, Validation Loss: 0.12115099094808102\n",
            "Fold 2, Epoch 18, Training Loss: 0.0792317776940763, Validation Loss: 0.1276638377457857\n",
            "Fold 2, Epoch 19, Training Loss: 0.08147464017383754, Validation Loss: 0.12832715548574924\n",
            "Fold 2, Epoch 20, Training Loss: 0.07510046963579953, Validation Loss: 0.12813705764710903\n",
            "Fold 2, Epoch 21, Training Loss: 0.06722972565330565, Validation Loss: 0.11980814300477505\n",
            "Fold 2, Epoch 22, Training Loss: 0.06483919150196016, Validation Loss: 0.1306392438709736\n",
            "Fold 2, Epoch 23, Training Loss: 0.07091903197579086, Validation Loss: 0.12067139521241188\n",
            "Fold 2, Epoch 24, Training Loss: 0.0629087439738214, Validation Loss: 0.12186012975871563\n",
            "Fold 2, Epoch 25, Training Loss: 0.06094962847419083, Validation Loss: 0.12720033712685108\n",
            "Fold 2, Epoch 26, Training Loss: 0.05838261218741536, Validation Loss: 0.11683966964483261\n",
            "Fold 2, Epoch 27, Training Loss: 0.055819652043282986, Validation Loss: 0.11816252395510674\n",
            "Fold 2, Epoch 28, Training Loss: 0.053367899963632226, Validation Loss: 0.12588819675147533\n",
            "Fold 2, Epoch 29, Training Loss: 0.05154189537279308, Validation Loss: 0.11935176514089108\n",
            "Fold 2, Epoch 30, Training Loss: 0.04889112920500338, Validation Loss: 0.1207699328660965\n",
            "Fold 2, Epoch 31, Training Loss: 0.04743342776782811, Validation Loss: 0.12112557888031006\n",
            "Fold 2, Epoch 32, Training Loss: 0.0468899046536535, Validation Loss: 0.11503146402537823\n",
            "Fold 2, Epoch 33, Training Loss: 0.04478935129009187, Validation Loss: 0.11830647941678762\n",
            "Fold 2, Epoch 34, Training Loss: 0.0439320367295295, Validation Loss: 0.12195741944015026\n",
            "Fold 2, Epoch 35, Training Loss: 0.043320692144334316, Validation Loss: 0.12363030388951302\n",
            "Fold 2, Epoch 36, Training Loss: 0.04268055222928524, Validation Loss: 0.11519933771342039\n",
            "Fold 2, Epoch 37, Training Loss: 0.04167743446305394, Validation Loss: 0.1217190008610487\n",
            "Fold 2, Epoch 38, Training Loss: 0.04054386913776398, Validation Loss: 0.122338542714715\n",
            "Fold 2, Epoch 39, Training Loss: 0.04023826331831515, Validation Loss: 0.1209937185049057\n",
            "Fold 2, Epoch 40, Training Loss: 0.04021352203562856, Validation Loss: 0.11973229702562094\n",
            "Fold 2, Epoch 41, Training Loss: 0.03993058926425874, Validation Loss: 0.12269874569028616\n",
            "Fold 2, Epoch 42, Training Loss: 0.038767841178923845, Validation Loss: 0.12056019902229309\n",
            "Fold 2, Epoch 43, Training Loss: 0.038324539083987474, Validation Loss: 0.12306507304310799\n",
            "Fold 2, Epoch 44, Training Loss: 0.0389994743745774, Validation Loss: 0.12190400529652834\n",
            "Fold 2, Epoch 45, Training Loss: 0.03764153202064335, Validation Loss: 0.12531303986907005\n",
            "Fold 2, Epoch 46, Training Loss: 0.03734297398477793, Validation Loss: 0.12201004754751921\n",
            "Fold 2, Epoch 47, Training Loss: 0.03717068175319582, Validation Loss: 0.12686963938176632\n",
            "Fold 2, Epoch 48, Training Loss: 0.036418153322301805, Validation Loss: 0.12906142137944698\n",
            "Fold 2, Epoch 49, Training Loss: 0.03582704078871757, Validation Loss: 0.12617137748748064\n",
            "Fold 2, Epoch 50, Training Loss: 0.03481964010279626, Validation Loss: 0.12608665227890015\n",
            "Starting fold 3\n",
            "Fold 3, Epoch 1, Training Loss: 0.674851942807436, Validation Loss: 2.9033113718032837\n",
            "Fold 3, Epoch 2, Training Loss: 0.3109412854537368, Validation Loss: 0.9008923023939133\n",
            "Fold 3, Epoch 3, Training Loss: 0.2393663339316845, Validation Loss: 0.3211277425289154\n",
            "Fold 3, Epoch 4, Training Loss: 0.18469776585698128, Validation Loss: 0.25571298599243164\n",
            "Fold 3, Epoch 5, Training Loss: 0.17953045573085546, Validation Loss: 0.23225504532456398\n",
            "Fold 3, Epoch 6, Training Loss: 0.16350925900042057, Validation Loss: 0.19184673205018044\n",
            "Fold 3, Epoch 7, Training Loss: 0.1459382134489715, Validation Loss: 0.16874590143561363\n",
            "Fold 3, Epoch 8, Training Loss: 0.12905656872317195, Validation Loss: 0.16269560158252716\n",
            "Fold 3, Epoch 9, Training Loss: 0.11675828602164984, Validation Loss: 0.14285051822662354\n",
            "Fold 3, Epoch 10, Training Loss: 0.11136553809046745, Validation Loss: 0.13730812072753906\n",
            "Fold 3, Epoch 11, Training Loss: 0.09878697944805026, Validation Loss: 0.13605060428380966\n",
            "Fold 3, Epoch 12, Training Loss: 0.09222370199859142, Validation Loss: 0.14296768605709076\n",
            "Fold 3, Epoch 13, Training Loss: 0.0882811420597136, Validation Loss: 0.12741831131279469\n",
            "Fold 3, Epoch 14, Training Loss: 0.08120913943275809, Validation Loss: 0.1318050418049097\n",
            "Fold 3, Epoch 15, Training Loss: 0.07382480916567147, Validation Loss: 0.1362039390951395\n",
            "Fold 3, Epoch 16, Training Loss: 0.07280769781209528, Validation Loss: 0.11580095253884792\n",
            "Fold 3, Epoch 17, Training Loss: 0.07159890420734882, Validation Loss: 0.13160408660769463\n",
            "Fold 3, Epoch 18, Training Loss: 0.06586586055345833, Validation Loss: 0.12718608975410461\n",
            "Fold 3, Epoch 19, Training Loss: 0.06175410933792591, Validation Loss: 0.1249988041818142\n",
            "Fold 3, Epoch 20, Training Loss: 0.05868293158710003, Validation Loss: 0.12495081685483456\n",
            "Fold 3, Epoch 21, Training Loss: 0.05793513800017536, Validation Loss: 0.13004999607801437\n",
            "Fold 3, Epoch 22, Training Loss: 0.05986100761219859, Validation Loss: 0.1313102561980486\n",
            "Fold 3, Epoch 23, Training Loss: 0.05441022850573063, Validation Loss: 0.1258489452302456\n",
            "Fold 3, Epoch 24, Training Loss: 0.051981895696371794, Validation Loss: 0.11975141800940037\n",
            "Fold 3, Epoch 25, Training Loss: 0.050475281896069646, Validation Loss: 0.12401668168604374\n",
            "Fold 3, Epoch 26, Training Loss: 0.050109376199543476, Validation Loss: 0.12722152657806873\n",
            "Fold 3, Epoch 27, Training Loss: 0.049601888516917825, Validation Loss: 0.13266911171376705\n",
            "Fold 3, Epoch 28, Training Loss: 0.05315505503676832, Validation Loss: 0.3036339618265629\n",
            "Fold 3, Epoch 29, Training Loss: 0.060576214687898755, Validation Loss: 0.19483590498566628\n",
            "Fold 3, Epoch 30, Training Loss: 0.0854985062032938, Validation Loss: 0.2882423400878906\n",
            "Fold 3, Epoch 31, Training Loss: 0.11413006903603673, Validation Loss: 0.8466790020465851\n",
            "Fold 3, Epoch 32, Training Loss: 0.1890789270401001, Validation Loss: 0.7350245714187622\n",
            "Fold 3, Epoch 33, Training Loss: 0.1264557815156877, Validation Loss: 0.1812572367489338\n",
            "Fold 3, Epoch 34, Training Loss: 0.1020064577460289, Validation Loss: 0.15103361383080482\n",
            "Fold 3, Epoch 35, Training Loss: 0.08126870216801763, Validation Loss: 0.12650594487786293\n",
            "Fold 3, Epoch 36, Training Loss: 0.06688017235137522, Validation Loss: 0.12725758738815784\n",
            "Fold 3, Epoch 37, Training Loss: 0.060172133380547166, Validation Loss: 0.12429008446633816\n",
            "Fold 3, Epoch 38, Training Loss: 0.05494746286422014, Validation Loss: 0.11981222778558731\n",
            "Fold 3, Epoch 39, Training Loss: 0.051995940040796995, Validation Loss: 0.11666113696992397\n",
            "Fold 3, Epoch 40, Training Loss: 0.04884500126354396, Validation Loss: 0.11942687816917896\n",
            "Fold 3, Epoch 41, Training Loss: 0.0471122853923589, Validation Loss: 0.12055054120719433\n",
            "Fold 3, Epoch 42, Training Loss: 0.045895181596279144, Validation Loss: 0.1227174885571003\n",
            "Fold 3, Epoch 43, Training Loss: 0.04528577043674886, Validation Loss: 0.1243575718253851\n",
            "Fold 3, Epoch 44, Training Loss: 0.04388475650921464, Validation Loss: 0.12952562421560287\n",
            "Fold 3, Epoch 45, Training Loss: 0.043213080149143934, Validation Loss: 0.12309695780277252\n",
            "Fold 3, Epoch 46, Training Loss: 0.04182463069446385, Validation Loss: 0.12776033952832222\n",
            "Fold 3, Epoch 47, Training Loss: 0.04143273434601724, Validation Loss: 0.12950733304023743\n",
            "Fold 3, Epoch 48, Training Loss: 0.03984259348362684, Validation Loss: 0.12794263660907745\n",
            "Fold 3, Epoch 49, Training Loss: 0.03852736414410174, Validation Loss: 0.13363030552864075\n",
            "Fold 3, Epoch 50, Training Loss: 0.03857316309586167, Validation Loss: 0.13383939117193222\n",
            "Starting fold 4\n",
            "Fold 4, Epoch 1, Training Loss: 0.6971130128949881, Validation Loss: 5.942505240440369\n",
            "Fold 4, Epoch 2, Training Loss: 0.32923368737101555, Validation Loss: 0.4730639383196831\n",
            "Fold 4, Epoch 3, Training Loss: 0.2330245701596141, Validation Loss: 0.24576717242598534\n",
            "Fold 4, Epoch 4, Training Loss: 0.1939193792641163, Validation Loss: 0.30856412649154663\n",
            "Fold 4, Epoch 5, Training Loss: 0.1658190954476595, Validation Loss: 0.20384620502591133\n",
            "Fold 4, Epoch 6, Training Loss: 0.1427766033448279, Validation Loss: 0.17016573250293732\n",
            "Fold 4, Epoch 7, Training Loss: 0.12867126753553748, Validation Loss: 0.18487147614359856\n",
            "Fold 4, Epoch 8, Training Loss: 0.1200095065869391, Validation Loss: 0.1775246113538742\n",
            "Fold 4, Epoch 9, Training Loss: 0.11418663803488016, Validation Loss: 0.1364141497761011\n",
            "Fold 4, Epoch 10, Training Loss: 0.10517225041985512, Validation Loss: 0.16409467160701752\n",
            "Fold 4, Epoch 11, Training Loss: 0.09876889875158668, Validation Loss: 0.13419225998222828\n",
            "Fold 4, Epoch 12, Training Loss: 0.09137906413525343, Validation Loss: 0.12401259131729603\n",
            "Fold 4, Epoch 13, Training Loss: 0.08437819825485349, Validation Loss: 0.1212926097214222\n",
            "Fold 4, Epoch 14, Training Loss: 0.08256430341862142, Validation Loss: 0.11532778479158878\n",
            "Fold 4, Epoch 15, Training Loss: 0.07645067549310625, Validation Loss: 0.12218581885099411\n",
            "Fold 4, Epoch 16, Training Loss: 0.07266327016986907, Validation Loss: 0.10763731971383095\n",
            "Fold 4, Epoch 17, Training Loss: 0.0664441823028028, Validation Loss: 0.10651270486414433\n",
            "Fold 4, Epoch 18, Training Loss: 0.06617414904758334, Validation Loss: 0.1040850318968296\n",
            "Fold 4, Epoch 19, Training Loss: 0.06856809300370514, Validation Loss: 0.11753008514642715\n",
            "Fold 4, Epoch 20, Training Loss: 0.06734637310728431, Validation Loss: 0.11795257031917572\n",
            "Fold 4, Epoch 21, Training Loss: 0.0636641273740679, Validation Loss: 0.13762380369007587\n",
            "Fold 4, Epoch 22, Training Loss: 0.05961361154913902, Validation Loss: 0.11006982065737247\n",
            "Fold 4, Epoch 23, Training Loss: 0.05524241225793958, Validation Loss: 0.10614185594022274\n",
            "Fold 4, Epoch 24, Training Loss: 0.05278824572451413, Validation Loss: 0.09734261222183704\n",
            "Fold 4, Epoch 25, Training Loss: 0.04985075071454048, Validation Loss: 0.09986879397183657\n",
            "Fold 4, Epoch 26, Training Loss: 0.0476018157787621, Validation Loss: 0.09345409646630287\n",
            "Fold 4, Epoch 27, Training Loss: 0.04655596101656556, Validation Loss: 0.09602255001664162\n",
            "Fold 4, Epoch 28, Training Loss: 0.04527432448230684, Validation Loss: 0.09721612557768822\n",
            "Fold 4, Epoch 29, Training Loss: 0.04391748830676079, Validation Loss: 0.09593157097697258\n",
            "Fold 4, Epoch 30, Training Loss: 0.04299390176311135, Validation Loss: 0.09478260762989521\n",
            "Fold 4, Epoch 31, Training Loss: 0.041498583275824785, Validation Loss: 0.09658652730286121\n",
            "Fold 4, Epoch 32, Training Loss: 0.040709443390369415, Validation Loss: 0.09848536737263203\n",
            "Fold 4, Epoch 33, Training Loss: 0.039609638042747974, Validation Loss: 0.09210041165351868\n",
            "Fold 4, Epoch 34, Training Loss: 0.03891240828670561, Validation Loss: 0.09640651755034924\n",
            "Fold 4, Epoch 35, Training Loss: 0.03861877729650587, Validation Loss: 0.09532018005847931\n",
            "Fold 4, Epoch 36, Training Loss: 0.03798138606362045, Validation Loss: 0.0952194007113576\n",
            "Fold 4, Epoch 37, Training Loss: 0.036832361249253154, Validation Loss: 0.09503579698503017\n",
            "Fold 4, Epoch 38, Training Loss: 0.03675715671852231, Validation Loss: 0.09928324818611145\n",
            "Fold 4, Epoch 39, Training Loss: 0.037133136531338096, Validation Loss: 0.09884932450950146\n",
            "Fold 4, Epoch 40, Training Loss: 0.03656569216400385, Validation Loss: 0.0976305902004242\n",
            "Fold 4, Epoch 41, Training Loss: 0.036683241254650056, Validation Loss: 0.09868059307336807\n",
            "Fold 4, Epoch 42, Training Loss: 0.03618956415448338, Validation Loss: 0.09437888860702515\n",
            "Fold 4, Epoch 43, Training Loss: 0.03482766589149833, Validation Loss: 0.10151490196585655\n",
            "Fold 4, Epoch 44, Training Loss: 0.03416112600825727, Validation Loss: 0.09763428941369057\n",
            "Fold 4, Epoch 45, Training Loss: 0.03378306201193482, Validation Loss: 0.0981035865843296\n",
            "Fold 4, Epoch 46, Training Loss: 0.033683107467368245, Validation Loss: 0.09978737123310566\n",
            "Fold 4, Epoch 47, Training Loss: 0.033530668588355184, Validation Loss: 0.10145633481442928\n",
            "Fold 4, Epoch 48, Training Loss: 0.03282512945588678, Validation Loss: 0.09941812977194786\n",
            "Fold 4, Epoch 49, Training Loss: 0.03267180104739964, Validation Loss: 0.09825532510876656\n",
            "Fold 4, Epoch 50, Training Loss: 0.03293322422541678, Validation Loss: 0.10380629263818264\n",
            "Average K-Fold Validation Loss: 0.24261637677624823\n"
          ]
        }
      ],
      "source": [
        "import torch\n",
        "import torch.nn as nn\n",
        "import torch.optim as optim\n",
        "from torch.utils.data import DataLoader, Dataset, SubsetRandomSampler\n",
        "from torchvision import transforms\n",
        "from PIL import Image\n",
        "import os\n",
        "import numpy as np\n",
        "from sklearn.metrics import accuracy_score\n",
        "from sklearn.model_selection import KFold\n",
        "import random\n",
        "import segmentation_models_pytorch as smp\n",
        "\n",
        "# 모델 정의(deeplabv3)\n",
        "def create_deeplabv3plus(num_classes):\n",
        "    model = smp.DeepLabV3Plus(encoder_name=\"resnet101\", classes=num_classes, encoder_weights=\"imagenet\")\n",
        "    return model\n",
        "\n",
        "# 데이터셋 클래스 정의\n",
        "class SegmentationDataset(Dataset):\n",
        "    def __init__(self, image_dir, label_dir, image_list, transform=None):\n",
        "        self.image_dir = image_dir\n",
        "        self.label_dir = label_dir\n",
        "        self.transform = transform\n",
        "        self.images = image_list\n",
        "\n",
        "    def __len__(self):\n",
        "        return len(self.images)\n",
        "\n",
        "    def __getitem__(self, idx):\n",
        "        img_path = os.path.join(self.image_dir, self.images[idx])\n",
        "        label_path = os.path.join(self.label_dir, self.images[idx].replace('.jpg', '_mask.png'))\n",
        "        image = Image.open(img_path).convert('RGB')\n",
        "        label = Image.open(label_path).convert('L')\n",
        "        if self.transform:\n",
        "            image = self.transform(image)\n",
        "            label = self.transform(label) * 255\n",
        "        return image, label.squeeze().long()\n",
        "\n",
        "# 데이터 분할 함수\n",
        "def split_dataset(image_dir, test_ratio=0.2):\n",
        "    images = os.listdir(image_dir)\n",
        "    random.seed(36)\n",
        "    random.shuffle(images)\n",
        "    split_idx = int(len(images) * (1 - test_ratio))\n",
        "    return images[:split_idx], images[split_idx:]\n",
        "\n",
        "# 데이터 변환 정의\n",
        "train_transforms = transforms.Compose([\n",
        "    transforms.Resize((640, 368)),\n",
        "    transforms.ToTensor(),\n",
        "])\n",
        "\n",
        "test_transforms = transforms.Compose([\n",
        "    transforms.Resize((640, 368)),\n",
        "    transforms.ToTensor(),\n",
        "])\n",
        "\n",
        "# 데이터셋 경로 설정\n",
        "image_dir = '/content/drive/MyDrive/횡단보도/segmentation/images'\n",
        "label_dir = '/content/drive/MyDrive/횡단보도/segmentation/labels'\n",
        "\n",
        "# 데이터셋 분할\n",
        "train_images, test_images = split_dataset(image_dir)\n",
        "train_dataset = SegmentationDataset(image_dir, label_dir, train_images, transform=train_transforms)\n",
        "test_dataset = SegmentationDataset(image_dir, label_dir, test_images, transform=test_transforms)\n",
        "\n",
        "# DataLoader 설정\n",
        "test_loader = DataLoader(dataset=test_dataset, batch_size=4, shuffle=False)\n",
        "\n",
        "# 5폴드 교차검증 설정\n",
        "k_folds = 5\n",
        "kfold = KFold(n_splits=k_folds, shuffle=True)\n",
        "\n",
        "results = []\n",
        "\n",
        "# 모델 저장 경로 설정\n",
        "model_save_path = '/content/drive/MyDrive/횡단보도/segmentation/models'\n",
        "if not os.path.exists(model_save_path):\n",
        "    os.makedirs(model_save_path)\n",
        "\n",
        "for fold, (train_ids, val_ids) in enumerate(kfold.split(train_dataset)):\n",
        "    print(f'Starting fold {fold}')\n",
        "    train_subsampler = SubsetRandomSampler(train_ids)\n",
        "    val_subsampler = SubsetRandomSampler(val_ids)\n",
        "\n",
        "    train_loader = DataLoader(dataset=train_dataset, batch_size=16, sampler=train_subsampler)\n",
        "    val_loader = DataLoader(dataset=train_dataset, batch_size=16, sampler=val_subsampler)\n",
        "\n",
        "    device = torch.device(\"cuda\" if torch.cuda.is_available() else \"cpu\")\n",
        "    model = create_deeplabv3plus(num_classes=4).to(device)\n",
        "    criterion = nn.CrossEntropyLoss()\n",
        "    optimizer = optim.Adam(model.parameters(), lr=0.001)\n",
        "\n",
        "    num_epochs = 50\n",
        "\n",
        "    for epoch in range(num_epochs):\n",
        "        model.train()\n",
        "        train_loss = 0.0\n",
        "        for images, labels in train_loader:\n",
        "            images, labels = images.to(device), labels.to(device)\n",
        "            optimizer.zero_grad()\n",
        "            outputs = model(images)\n",
        "            loss = criterion(outputs, labels)\n",
        "            loss.backward()\n",
        "            optimizer.step()\n",
        "            train_loss += loss.item()\n",
        "\n",
        "        # 검증 세트에서 모델 평가\n",
        "        model.eval()\n",
        "        val_loss = 0.0\n",
        "        with torch.no_grad():\n",
        "            for images, labels in val_loader:\n",
        "                images, labels = images.to(device), labels.to(device)\n",
        "                outputs = model(images)\n",
        "                loss = criterion(outputs, labels)\n",
        "                val_loss += loss.item()\n",
        "\n",
        "        # 여기서 검증 손실을 results 리스트에 추가\n",
        "        val_loss /= len(val_loader)\n",
        "        results.append(val_loss)\n",
        "        print(f'Fold {fold}, Epoch {epoch+1}, Training Loss: {train_loss / len(train_loader)}, Validation Loss: {val_loss}')\n",
        "\n",
        "        # 모델 저장\n",
        "        torch.save(model.state_dict(), os.path.join(model_save_path, f'model_fold{fold}_epoch{epoch+1}.pth'))\n",
        "\n",
        "# 평균 K-Fold 검증 손실 계산 및 출력\n",
        "average_val_loss = np.mean(results)\n",
        "print(f'Average K-Fold Validation Loss: {average_val_loss}')\n"
      ]
    },
    {
      "cell_type": "code",
      "source": [
        "!pip install segmentation_models_pytorch\n",
        "import torch\n",
        "import torch.nn as nn\n",
        "import torch.optim as optim\n",
        "from torch.utils.data import DataLoader, Dataset, SubsetRandomSampler\n",
        "from torchvision import transforms\n",
        "from PIL import Image\n",
        "import os\n",
        "import numpy as np\n",
        "from sklearn.model_selection import KFold\n",
        "import random\n",
        "import segmentation_models_pytorch as smp\n",
        "\n",
        "def create_deeplabv3plus(num_classes):\n",
        "    model = smp.DeepLabV3Plus(encoder_name=\"resnet101\", classes=num_classes, encoder_weights=\"imagenet\")\n",
        "    return model\n",
        "\n",
        "class SegmentationDataset(Dataset):\n",
        "    def __init__(self, image_dir, label_dir, image_list, transform=None):\n",
        "        self.image_dir = image_dir\n",
        "        self.label_dir = label_dir\n",
        "        self.transform = transform\n",
        "        self.images = image_list\n",
        "\n",
        "    def __len__(self):\n",
        "        return len(self.images)\n",
        "\n",
        "    def __getitem__(self, idx):\n",
        "        img_path = os.path.join(self.image_dir, self.images[idx])\n",
        "        label_path = os.path.join(self.label_dir, self.images[idx].replace('.jpg', '_mask.png'))\n",
        "        image = Image.open(img_path).convert('RGB')\n",
        "        label = Image.open(label_path).convert('L')\n",
        "        if self.transform:\n",
        "            image = self.transform(image)\n",
        "            label = self.transform(label) * 255\n",
        "        return image, label.squeeze().long()\n",
        "\n",
        "def split_dataset(image_dir, test_ratio=0.2):\n",
        "    images = os.listdir(image_dir)\n",
        "    random.seed(36)\n",
        "    random.shuffle(images)\n",
        "    split_idx = int(len(images) * (1 - test_ratio))\n",
        "    return images[:split_idx], images[split_idx:]\n",
        "\n",
        "train_transforms = transforms.Compose([\n",
        "    transforms.Resize((640, 368)),\n",
        "    transforms.ToTensor(),\n",
        "])\n",
        "\n",
        "test_transforms = transforms.Compose([\n",
        "    transforms.Resize((640, 368)),\n",
        "    transforms.ToTensor(),\n",
        "])\n",
        "\n",
        "image_dir = '/content/drive/MyDrive/횡단보도/segmentation/images'\n",
        "label_dir = '/content/drive/MyDrive/횡단보도/segmentation/labels'\n",
        "\n",
        "train_images, test_images = split_dataset(image_dir)\n",
        "train_dataset = SegmentationDataset(image_dir, label_dir, train_images, transform=train_transforms)\n",
        "test_dataset = SegmentationDataset(image_dir, label_dir, test_images, transform=test_transforms)\n",
        "\n",
        "test_loader = DataLoader(dataset=test_dataset, batch_size=4, shuffle=False)\n",
        "\n",
        "k_folds = 5\n",
        "kfold = KFold(n_splits=k_folds, shuffle=True)\n",
        "\n",
        "results = []\n",
        "model_save_path = '/content/drive/MyDrive/횡단보도/4models'\n",
        "if not os.path.exists(model_save_path):\n",
        "    os.makedirs(model_save_path)\n",
        "\n",
        "# fold 4에 대해서만 학습\n",
        "selected_fold = 4\n",
        "for fold, (train_ids, val_ids) in enumerate(kfold.split(train_dataset)):\n",
        "    if fold == selected_fold:\n",
        "        print(f'Starting fold {fold}')\n",
        "        train_subsampler = SubsetRandomSampler(train_ids)\n",
        "        val_subsampler = SubsetRandomSampler(val_ids)\n",
        "\n",
        "        train_loader = DataLoader(dataset=train_dataset, batch_size=16, sampler=train_subsampler)\n",
        "        val_loader = DataLoader(dataset=train_dataset, batch_size=16, sampler=val_subsampler)\n",
        "\n",
        "        device = torch.device(\"cuda\" if torch.cuda.is_available() else \"cpu\")\n",
        "        model = create_deeplabv3plus(num_classes=4).to(device)\n",
        "        criterion = nn.CrossEntropyLoss()\n",
        "        optimizer = optim.Adam(model.parameters(), lr=0.001)\n",
        "\n",
        "        num_epochs = 100\n",
        "\n",
        "        for epoch in range(num_epochs):\n",
        "            model.train()\n",
        "            train_loss = 0.0\n",
        "            for images, labels in train_loader:\n",
        "                images, labels = images.to(device), labels.to(device)\n",
        "                optimizer.zero_grad()\n",
        "                outputs = model(images)\n",
        "                loss = criterion(outputs, labels)\n",
        "                loss.backward()\n",
        "                optimizer.step()\n",
        "                train_loss += loss.item()\n",
        "\n",
        "            model.eval()\n",
        "            val_loss = 0.0\n",
        "            with torch.no_grad():\n",
        "                for images, labels in val_loader:\n",
        "                    images, labels = images.to(device), labels.to(device)\n",
        "                    outputs = model(images)\n",
        "                    loss = criterion(outputs, labels)\n",
        "                    val_loss += loss.item()\n",
        "\n",
        "            val_loss /= len(val_loader)\n",
        "            results.append(val_loss)\n",
        "            print(f'Fold {fold}, Epoch {epoch+1}, Training Loss: {train_loss / len(train_loader)}, Validation Loss: {val_loss}')\n",
        "\n",
        "            torch.save(model.state_dict(), os.path.join(model_save_path, f'model_fold{fold}_epoch{epoch+1}.pth'))\n",
        "        break  # fold 4에 대한 학습이 끝나면 반복문을 종료합니다.\n",
        "\n",
        "average_val_loss = np.mean(results)\n",
        "print(f'Average K-Fold Validation Loss: {average_val_loss}')\n"
      ],
      "metadata": {
        "colab": {
          "base_uri": "https://localhost:8080/",
          "height": 1000
        },
        "id": "B5HiuuX6M0Ri",
        "outputId": "4b04e532-7358-4f4d-f679-e44fc80371d0"
      },
      "execution_count": null,
      "outputs": [
        {
          "output_type": "stream",
          "name": "stdout",
          "text": [
            "Requirement already satisfied: segmentation_models_pytorch in /usr/local/lib/python3.10/dist-packages (0.3.3)\n",
            "Requirement already satisfied: torchvision>=0.5.0 in /usr/local/lib/python3.10/dist-packages (from segmentation_models_pytorch) (0.16.0+cu121)\n",
            "Requirement already satisfied: pretrainedmodels==0.7.4 in /usr/local/lib/python3.10/dist-packages (from segmentation_models_pytorch) (0.7.4)\n",
            "Requirement already satisfied: efficientnet-pytorch==0.7.1 in /usr/local/lib/python3.10/dist-packages (from segmentation_models_pytorch) (0.7.1)\n",
            "Requirement already satisfied: timm==0.9.2 in /usr/local/lib/python3.10/dist-packages (from segmentation_models_pytorch) (0.9.2)\n",
            "Requirement already satisfied: tqdm in /usr/local/lib/python3.10/dist-packages (from segmentation_models_pytorch) (4.66.2)\n",
            "Requirement already satisfied: pillow in /usr/local/lib/python3.10/dist-packages (from segmentation_models_pytorch) (9.4.0)\n",
            "Requirement already satisfied: torch in /usr/local/lib/python3.10/dist-packages (from efficientnet-pytorch==0.7.1->segmentation_models_pytorch) (2.1.0+cu121)\n",
            "Requirement already satisfied: munch in /usr/local/lib/python3.10/dist-packages (from pretrainedmodels==0.7.4->segmentation_models_pytorch) (4.0.0)\n",
            "Requirement already satisfied: pyyaml in /usr/local/lib/python3.10/dist-packages (from timm==0.9.2->segmentation_models_pytorch) (6.0.1)\n",
            "Requirement already satisfied: huggingface-hub in /usr/local/lib/python3.10/dist-packages (from timm==0.9.2->segmentation_models_pytorch) (0.20.3)\n",
            "Requirement already satisfied: safetensors in /usr/local/lib/python3.10/dist-packages (from timm==0.9.2->segmentation_models_pytorch) (0.4.2)\n",
            "Requirement already satisfied: numpy in /usr/local/lib/python3.10/dist-packages (from torchvision>=0.5.0->segmentation_models_pytorch) (1.25.2)\n",
            "Requirement already satisfied: requests in /usr/local/lib/python3.10/dist-packages (from torchvision>=0.5.0->segmentation_models_pytorch) (2.31.0)\n",
            "Requirement already satisfied: filelock in /usr/local/lib/python3.10/dist-packages (from torch->efficientnet-pytorch==0.7.1->segmentation_models_pytorch) (3.13.1)\n",
            "Requirement already satisfied: typing-extensions in /usr/local/lib/python3.10/dist-packages (from torch->efficientnet-pytorch==0.7.1->segmentation_models_pytorch) (4.9.0)\n",
            "Requirement already satisfied: sympy in /usr/local/lib/python3.10/dist-packages (from torch->efficientnet-pytorch==0.7.1->segmentation_models_pytorch) (1.12)\n",
            "Requirement already satisfied: networkx in /usr/local/lib/python3.10/dist-packages (from torch->efficientnet-pytorch==0.7.1->segmentation_models_pytorch) (3.2.1)\n",
            "Requirement already satisfied: jinja2 in /usr/local/lib/python3.10/dist-packages (from torch->efficientnet-pytorch==0.7.1->segmentation_models_pytorch) (3.1.3)\n",
            "Requirement already satisfied: fsspec in /usr/local/lib/python3.10/dist-packages (from torch->efficientnet-pytorch==0.7.1->segmentation_models_pytorch) (2023.6.0)\n",
            "Requirement already satisfied: triton==2.1.0 in /usr/local/lib/python3.10/dist-packages (from torch->efficientnet-pytorch==0.7.1->segmentation_models_pytorch) (2.1.0)\n",
            "Requirement already satisfied: packaging>=20.9 in /usr/local/lib/python3.10/dist-packages (from huggingface-hub->timm==0.9.2->segmentation_models_pytorch) (23.2)\n",
            "Requirement already satisfied: charset-normalizer<4,>=2 in /usr/local/lib/python3.10/dist-packages (from requests->torchvision>=0.5.0->segmentation_models_pytorch) (3.3.2)\n",
            "Requirement already satisfied: idna<4,>=2.5 in /usr/local/lib/python3.10/dist-packages (from requests->torchvision>=0.5.0->segmentation_models_pytorch) (3.6)\n",
            "Requirement already satisfied: urllib3<3,>=1.21.1 in /usr/local/lib/python3.10/dist-packages (from requests->torchvision>=0.5.0->segmentation_models_pytorch) (2.0.7)\n",
            "Requirement already satisfied: certifi>=2017.4.17 in /usr/local/lib/python3.10/dist-packages (from requests->torchvision>=0.5.0->segmentation_models_pytorch) (2024.2.2)\n",
            "Requirement already satisfied: MarkupSafe>=2.0 in /usr/local/lib/python3.10/dist-packages (from jinja2->torch->efficientnet-pytorch==0.7.1->segmentation_models_pytorch) (2.1.5)\n",
            "Requirement already satisfied: mpmath>=0.19 in /usr/local/lib/python3.10/dist-packages (from sympy->torch->efficientnet-pytorch==0.7.1->segmentation_models_pytorch) (1.3.0)\n",
            "Starting fold 4\n",
            "Fold 4, Epoch 1, Training Loss: 0.716089403256774, Validation Loss: 1.5590717196464539\n",
            "Fold 4, Epoch 2, Training Loss: 0.3193270694464445, Validation Loss: 0.5164721980690956\n",
            "Fold 4, Epoch 3, Training Loss: 0.2499748570844531, Validation Loss: 0.3399377167224884\n",
            "Fold 4, Epoch 4, Training Loss: 0.20049986615777016, Validation Loss: 0.24938585236668587\n",
            "Fold 4, Epoch 5, Training Loss: 0.17381377797573805, Validation Loss: 0.19990120083093643\n",
            "Fold 4, Epoch 6, Training Loss: 0.1496152407489717, Validation Loss: 0.17935940995812416\n",
            "Fold 4, Epoch 7, Training Loss: 0.1352172987535596, Validation Loss: 0.1607186757028103\n",
            "Fold 4, Epoch 8, Training Loss: 0.1216344847343862, Validation Loss: 0.16535346768796444\n",
            "Fold 4, Epoch 9, Training Loss: 0.11712434142827988, Validation Loss: 0.19657901674509048\n",
            "Fold 4, Epoch 10, Training Loss: 0.12683600513264537, Validation Loss: 0.3297874331474304\n",
            "Fold 4, Epoch 11, Training Loss: 0.13468732126057148, Validation Loss: 0.3628617823123932\n",
            "Fold 4, Epoch 12, Training Loss: 0.13600532617419958, Validation Loss: 0.1815975159406662\n",
            "Fold 4, Epoch 13, Training Loss: 0.11829554568976164, Validation Loss: 0.16345955058932304\n",
            "Fold 4, Epoch 14, Training Loss: 0.0991346943192184, Validation Loss: 0.1406048983335495\n",
            "Fold 4, Epoch 15, Training Loss: 0.10098458919674158, Validation Loss: 0.1394258327782154\n",
            "Fold 4, Epoch 16, Training Loss: 0.09200011426582932, Validation Loss: 0.15517840906977654\n",
            "Fold 4, Epoch 17, Training Loss: 0.08197574410587549, Validation Loss: 0.11760573647916317\n",
            "Fold 4, Epoch 18, Training Loss: 0.07890287297777832, Validation Loss: 0.1256500706076622\n",
            "Fold 4, Epoch 19, Training Loss: 0.07168448250740767, Validation Loss: 0.12256236560642719\n",
            "Fold 4, Epoch 20, Training Loss: 0.0708725939039141, Validation Loss: 0.11663977988064289\n",
            "Fold 4, Epoch 21, Training Loss: 0.06748616299591959, Validation Loss: 0.11098092794418335\n",
            "Fold 4, Epoch 22, Training Loss: 0.0676054114010185, Validation Loss: 0.108987957239151\n",
            "Fold 4, Epoch 23, Training Loss: 0.0631191183347255, Validation Loss: 0.1092970184981823\n",
            "Fold 4, Epoch 24, Training Loss: 0.05784374545328319, Validation Loss: 0.10402217134833336\n",
            "Fold 4, Epoch 25, Training Loss: 0.0544587979093194, Validation Loss: 0.10483643971383572\n",
            "Fold 4, Epoch 26, Training Loss: 0.053295150864869356, Validation Loss: 0.11216889880597591\n",
            "Fold 4, Epoch 27, Training Loss: 0.05235255183652043, Validation Loss: 0.10634315013885498\n",
            "Fold 4, Epoch 28, Training Loss: 0.050963221583515406, Validation Loss: 0.1036007571965456\n",
            "Fold 4, Epoch 29, Training Loss: 0.049876001197844744, Validation Loss: 0.10529555194079876\n",
            "Fold 4, Epoch 30, Training Loss: 0.04874152271077037, Validation Loss: 0.1031279694288969\n",
            "Fold 4, Epoch 31, Training Loss: 0.04698532330803573, Validation Loss: 0.10691561736166477\n",
            "Fold 4, Epoch 32, Training Loss: 0.046102270716801286, Validation Loss: 0.09982838295400143\n",
            "Fold 4, Epoch 33, Training Loss: 0.044552073115482926, Validation Loss: 0.10073873400688171\n",
            "Fold 4, Epoch 34, Training Loss: 0.04365385067649186, Validation Loss: 0.10555478930473328\n",
            "Fold 4, Epoch 35, Training Loss: 0.04278243542648852, Validation Loss: 0.10064905136823654\n",
            "Fold 4, Epoch 36, Training Loss: 0.04194163018837571, Validation Loss: 0.10405847057700157\n",
            "Fold 4, Epoch 37, Training Loss: 0.042631454300135374, Validation Loss: 0.10793399438261986\n",
            "Fold 4, Epoch 38, Training Loss: 0.041709609562531114, Validation Loss: 0.10322128236293793\n",
            "Fold 4, Epoch 39, Training Loss: 0.04196160123683512, Validation Loss: 0.10521266795694828\n",
            "Fold 4, Epoch 40, Training Loss: 0.042609171476215124, Validation Loss: 0.102507209405303\n",
            "Fold 4, Epoch 41, Training Loss: 0.040990455308929086, Validation Loss: 0.1013553999364376\n",
            "Fold 4, Epoch 42, Training Loss: 0.03932845639064908, Validation Loss: 0.1033705472946167\n",
            "Fold 4, Epoch 43, Training Loss: 0.038228209130465984, Validation Loss: 0.11079389601945877\n",
            "Fold 4, Epoch 44, Training Loss: 0.037400869419798255, Validation Loss: 0.10940143093466759\n",
            "Fold 4, Epoch 45, Training Loss: 0.03644790034741163, Validation Loss: 0.10816289111971855\n",
            "Fold 4, Epoch 46, Training Loss: 0.03662275685928762, Validation Loss: 0.101902075111866\n",
            "Fold 4, Epoch 47, Training Loss: 0.03566518542356789, Validation Loss: 0.10560928843915462\n",
            "Fold 4, Epoch 48, Training Loss: 0.03592831396963447, Validation Loss: 0.10486512631177902\n",
            "Fold 4, Epoch 49, Training Loss: 0.0359050293918699, Validation Loss: 0.10325916856527328\n",
            "Fold 4, Epoch 50, Training Loss: 0.03498781763482839, Validation Loss: 0.10141409561038017\n",
            "Fold 4, Epoch 51, Training Loss: 0.03436642955057323, Validation Loss: 0.1035105250775814\n",
            "Fold 4, Epoch 52, Training Loss: 0.03350131679326296, Validation Loss: 0.10045922733843327\n",
            "Fold 4, Epoch 53, Training Loss: 0.032735814806073904, Validation Loss: 0.10336563363671303\n",
            "Fold 4, Epoch 54, Training Loss: 0.03257699206005782, Validation Loss: 0.10082210972905159\n",
            "Fold 4, Epoch 55, Training Loss: 0.03237770823761821, Validation Loss: 0.10451027564704418\n",
            "Fold 4, Epoch 56, Training Loss: 0.03245894133578986, Validation Loss: 0.10270808637142181\n",
            "Fold 4, Epoch 57, Training Loss: 0.03230324375908822, Validation Loss: 0.10100296512246132\n",
            "Fold 4, Epoch 58, Training Loss: 0.032286767032928765, Validation Loss: 0.1083834320306778\n",
            "Fold 4, Epoch 59, Training Loss: 0.03182208654470742, Validation Loss: 0.10290001332759857\n",
            "Fold 4, Epoch 60, Training Loss: 0.031169676571153104, Validation Loss: 0.10570901818573475\n",
            "Fold 4, Epoch 61, Training Loss: 0.031116430880501866, Validation Loss: 0.10543877631425858\n",
            "Fold 4, Epoch 62, Training Loss: 0.03097193979192525, Validation Loss: 0.1055771354585886\n",
            "Fold 4, Epoch 63, Training Loss: 0.030704064294695854, Validation Loss: 0.10246522910892963\n",
            "Fold 4, Epoch 64, Training Loss: 0.030735956388525665, Validation Loss: 0.10307126119732857\n",
            "Fold 4, Epoch 65, Training Loss: 0.03141234873328358, Validation Loss: 0.10876452177762985\n",
            "Fold 4, Epoch 66, Training Loss: 0.031059192260727286, Validation Loss: 0.1038741022348404\n",
            "Fold 4, Epoch 67, Training Loss: 0.030893930816091597, Validation Loss: 0.10423817485570908\n",
            "Fold 4, Epoch 68, Training Loss: 0.029899720335379243, Validation Loss: 0.10544235445559025\n",
            "Fold 4, Epoch 69, Training Loss: 0.029440421261824667, Validation Loss: 0.10517251491546631\n",
            "Fold 4, Epoch 70, Training Loss: 0.02920782461296767, Validation Loss: 0.10336182080209255\n",
            "Fold 4, Epoch 71, Training Loss: 0.029008243582211435, Validation Loss: 0.10586469806730747\n",
            "Fold 4, Epoch 72, Training Loss: 0.028396971407346427, Validation Loss: 0.10109007731080055\n",
            "Fold 4, Epoch 73, Training Loss: 0.02840216364711523, Validation Loss: 0.10592048428952694\n",
            "Fold 4, Epoch 74, Training Loss: 0.028699855785816908, Validation Loss: 0.1049933135509491\n",
            "Fold 4, Epoch 75, Training Loss: 0.02882103156298399, Validation Loss: 0.10268980637192726\n",
            "Fold 4, Epoch 76, Training Loss: 0.028030968038365245, Validation Loss: 0.10297543741762638\n",
            "Fold 4, Epoch 77, Training Loss: 0.02752160024829209, Validation Loss: 0.10869737342000008\n",
            "Fold 4, Epoch 78, Training Loss: 0.028162058093585074, Validation Loss: 0.10306348837912083\n",
            "Fold 4, Epoch 79, Training Loss: 0.028194392565637827, Validation Loss: 0.10631194338202477\n",
            "Fold 4, Epoch 80, Training Loss: 0.027851280639879405, Validation Loss: 0.10537646524608135\n",
            "Fold 4, Epoch 81, Training Loss: 0.027341818902641535, Validation Loss: 0.1089574471116066\n",
            "Fold 4, Epoch 82, Training Loss: 0.027322024572640657, Validation Loss: 0.10584943555295467\n",
            "Fold 4, Epoch 83, Training Loss: 0.026806306443177164, Validation Loss: 0.10580814443528652\n",
            "Fold 4, Epoch 84, Training Loss: 0.026795827550813556, Validation Loss: 0.10624467208981514\n"
          ]
        },
        {
          "output_type": "error",
          "ename": "KeyboardInterrupt",
          "evalue": "",
          "traceback": [
            "\u001b[0;31m---------------------------------------------------------------------------\u001b[0m",
            "\u001b[0;31mKeyboardInterrupt\u001b[0m                         Traceback (most recent call last)",
            "\u001b[0;32m<ipython-input-4-2842f04ab9ca>\u001b[0m in \u001b[0;36m<cell line: 74>\u001b[0;34m()\u001b[0m\n\u001b[1;32m     91\u001b[0m             \u001b[0mmodel\u001b[0m\u001b[0;34m.\u001b[0m\u001b[0mtrain\u001b[0m\u001b[0;34m(\u001b[0m\u001b[0;34m)\u001b[0m\u001b[0;34m\u001b[0m\u001b[0;34m\u001b[0m\u001b[0m\n\u001b[1;32m     92\u001b[0m             \u001b[0mtrain_loss\u001b[0m \u001b[0;34m=\u001b[0m \u001b[0;36m0.0\u001b[0m\u001b[0;34m\u001b[0m\u001b[0;34m\u001b[0m\u001b[0m\n\u001b[0;32m---> 93\u001b[0;31m             \u001b[0;32mfor\u001b[0m \u001b[0mimages\u001b[0m\u001b[0;34m,\u001b[0m \u001b[0mlabels\u001b[0m \u001b[0;32min\u001b[0m \u001b[0mtrain_loader\u001b[0m\u001b[0;34m:\u001b[0m\u001b[0;34m\u001b[0m\u001b[0;34m\u001b[0m\u001b[0m\n\u001b[0m\u001b[1;32m     94\u001b[0m                 \u001b[0mimages\u001b[0m\u001b[0;34m,\u001b[0m \u001b[0mlabels\u001b[0m \u001b[0;34m=\u001b[0m \u001b[0mimages\u001b[0m\u001b[0;34m.\u001b[0m\u001b[0mto\u001b[0m\u001b[0;34m(\u001b[0m\u001b[0mdevice\u001b[0m\u001b[0;34m)\u001b[0m\u001b[0;34m,\u001b[0m \u001b[0mlabels\u001b[0m\u001b[0;34m.\u001b[0m\u001b[0mto\u001b[0m\u001b[0;34m(\u001b[0m\u001b[0mdevice\u001b[0m\u001b[0;34m)\u001b[0m\u001b[0;34m\u001b[0m\u001b[0;34m\u001b[0m\u001b[0m\n\u001b[1;32m     95\u001b[0m                 \u001b[0moptimizer\u001b[0m\u001b[0;34m.\u001b[0m\u001b[0mzero_grad\u001b[0m\u001b[0;34m(\u001b[0m\u001b[0;34m)\u001b[0m\u001b[0;34m\u001b[0m\u001b[0;34m\u001b[0m\u001b[0m\n",
            "\u001b[0;32m/usr/local/lib/python3.10/dist-packages/torch/utils/data/dataloader.py\u001b[0m in \u001b[0;36m__next__\u001b[0;34m(self)\u001b[0m\n\u001b[1;32m    628\u001b[0m                 \u001b[0;31m# TODO(https://github.com/pytorch/pytorch/issues/76750)\u001b[0m\u001b[0;34m\u001b[0m\u001b[0;34m\u001b[0m\u001b[0m\n\u001b[1;32m    629\u001b[0m                 \u001b[0mself\u001b[0m\u001b[0;34m.\u001b[0m\u001b[0m_reset\u001b[0m\u001b[0;34m(\u001b[0m\u001b[0;34m)\u001b[0m  \u001b[0;31m# type: ignore[call-arg]\u001b[0m\u001b[0;34m\u001b[0m\u001b[0;34m\u001b[0m\u001b[0m\n\u001b[0;32m--> 630\u001b[0;31m             \u001b[0mdata\u001b[0m \u001b[0;34m=\u001b[0m \u001b[0mself\u001b[0m\u001b[0;34m.\u001b[0m\u001b[0m_next_data\u001b[0m\u001b[0;34m(\u001b[0m\u001b[0;34m)\u001b[0m\u001b[0;34m\u001b[0m\u001b[0;34m\u001b[0m\u001b[0m\n\u001b[0m\u001b[1;32m    631\u001b[0m             \u001b[0mself\u001b[0m\u001b[0;34m.\u001b[0m\u001b[0m_num_yielded\u001b[0m \u001b[0;34m+=\u001b[0m \u001b[0;36m1\u001b[0m\u001b[0;34m\u001b[0m\u001b[0;34m\u001b[0m\u001b[0m\n\u001b[1;32m    632\u001b[0m             \u001b[0;32mif\u001b[0m \u001b[0mself\u001b[0m\u001b[0;34m.\u001b[0m\u001b[0m_dataset_kind\u001b[0m \u001b[0;34m==\u001b[0m \u001b[0m_DatasetKind\u001b[0m\u001b[0;34m.\u001b[0m\u001b[0mIterable\u001b[0m \u001b[0;32mand\u001b[0m\u001b[0;31m \u001b[0m\u001b[0;31m\\\u001b[0m\u001b[0;34m\u001b[0m\u001b[0;34m\u001b[0m\u001b[0m\n",
            "\u001b[0;32m/usr/local/lib/python3.10/dist-packages/torch/utils/data/dataloader.py\u001b[0m in \u001b[0;36m_next_data\u001b[0;34m(self)\u001b[0m\n\u001b[1;32m    672\u001b[0m     \u001b[0;32mdef\u001b[0m \u001b[0m_next_data\u001b[0m\u001b[0;34m(\u001b[0m\u001b[0mself\u001b[0m\u001b[0;34m)\u001b[0m\u001b[0;34m:\u001b[0m\u001b[0;34m\u001b[0m\u001b[0;34m\u001b[0m\u001b[0m\n\u001b[1;32m    673\u001b[0m         \u001b[0mindex\u001b[0m \u001b[0;34m=\u001b[0m \u001b[0mself\u001b[0m\u001b[0;34m.\u001b[0m\u001b[0m_next_index\u001b[0m\u001b[0;34m(\u001b[0m\u001b[0;34m)\u001b[0m  \u001b[0;31m# may raise StopIteration\u001b[0m\u001b[0;34m\u001b[0m\u001b[0;34m\u001b[0m\u001b[0m\n\u001b[0;32m--> 674\u001b[0;31m         \u001b[0mdata\u001b[0m \u001b[0;34m=\u001b[0m \u001b[0mself\u001b[0m\u001b[0;34m.\u001b[0m\u001b[0m_dataset_fetcher\u001b[0m\u001b[0;34m.\u001b[0m\u001b[0mfetch\u001b[0m\u001b[0;34m(\u001b[0m\u001b[0mindex\u001b[0m\u001b[0;34m)\u001b[0m  \u001b[0;31m# may raise StopIteration\u001b[0m\u001b[0;34m\u001b[0m\u001b[0;34m\u001b[0m\u001b[0m\n\u001b[0m\u001b[1;32m    675\u001b[0m         \u001b[0;32mif\u001b[0m \u001b[0mself\u001b[0m\u001b[0;34m.\u001b[0m\u001b[0m_pin_memory\u001b[0m\u001b[0;34m:\u001b[0m\u001b[0;34m\u001b[0m\u001b[0;34m\u001b[0m\u001b[0m\n\u001b[1;32m    676\u001b[0m             \u001b[0mdata\u001b[0m \u001b[0;34m=\u001b[0m \u001b[0m_utils\u001b[0m\u001b[0;34m.\u001b[0m\u001b[0mpin_memory\u001b[0m\u001b[0;34m.\u001b[0m\u001b[0mpin_memory\u001b[0m\u001b[0;34m(\u001b[0m\u001b[0mdata\u001b[0m\u001b[0;34m,\u001b[0m \u001b[0mself\u001b[0m\u001b[0;34m.\u001b[0m\u001b[0m_pin_memory_device\u001b[0m\u001b[0;34m)\u001b[0m\u001b[0;34m\u001b[0m\u001b[0;34m\u001b[0m\u001b[0m\n",
            "\u001b[0;32m/usr/local/lib/python3.10/dist-packages/torch/utils/data/_utils/fetch.py\u001b[0m in \u001b[0;36mfetch\u001b[0;34m(self, possibly_batched_index)\u001b[0m\n\u001b[1;32m     49\u001b[0m                 \u001b[0mdata\u001b[0m \u001b[0;34m=\u001b[0m \u001b[0mself\u001b[0m\u001b[0;34m.\u001b[0m\u001b[0mdataset\u001b[0m\u001b[0;34m.\u001b[0m\u001b[0m__getitems__\u001b[0m\u001b[0;34m(\u001b[0m\u001b[0mpossibly_batched_index\u001b[0m\u001b[0;34m)\u001b[0m\u001b[0;34m\u001b[0m\u001b[0;34m\u001b[0m\u001b[0m\n\u001b[1;32m     50\u001b[0m             \u001b[0;32melse\u001b[0m\u001b[0;34m:\u001b[0m\u001b[0;34m\u001b[0m\u001b[0;34m\u001b[0m\u001b[0m\n\u001b[0;32m---> 51\u001b[0;31m                 \u001b[0mdata\u001b[0m \u001b[0;34m=\u001b[0m \u001b[0;34m[\u001b[0m\u001b[0mself\u001b[0m\u001b[0;34m.\u001b[0m\u001b[0mdataset\u001b[0m\u001b[0;34m[\u001b[0m\u001b[0midx\u001b[0m\u001b[0;34m]\u001b[0m \u001b[0;32mfor\u001b[0m \u001b[0midx\u001b[0m \u001b[0;32min\u001b[0m \u001b[0mpossibly_batched_index\u001b[0m\u001b[0;34m]\u001b[0m\u001b[0;34m\u001b[0m\u001b[0;34m\u001b[0m\u001b[0m\n\u001b[0m\u001b[1;32m     52\u001b[0m         \u001b[0;32melse\u001b[0m\u001b[0;34m:\u001b[0m\u001b[0;34m\u001b[0m\u001b[0;34m\u001b[0m\u001b[0m\n\u001b[1;32m     53\u001b[0m             \u001b[0mdata\u001b[0m \u001b[0;34m=\u001b[0m \u001b[0mself\u001b[0m\u001b[0;34m.\u001b[0m\u001b[0mdataset\u001b[0m\u001b[0;34m[\u001b[0m\u001b[0mpossibly_batched_index\u001b[0m\u001b[0;34m]\u001b[0m\u001b[0;34m\u001b[0m\u001b[0;34m\u001b[0m\u001b[0m\n",
            "\u001b[0;32m/usr/local/lib/python3.10/dist-packages/torch/utils/data/_utils/fetch.py\u001b[0m in \u001b[0;36m<listcomp>\u001b[0;34m(.0)\u001b[0m\n\u001b[1;32m     49\u001b[0m                 \u001b[0mdata\u001b[0m \u001b[0;34m=\u001b[0m \u001b[0mself\u001b[0m\u001b[0;34m.\u001b[0m\u001b[0mdataset\u001b[0m\u001b[0;34m.\u001b[0m\u001b[0m__getitems__\u001b[0m\u001b[0;34m(\u001b[0m\u001b[0mpossibly_batched_index\u001b[0m\u001b[0;34m)\u001b[0m\u001b[0;34m\u001b[0m\u001b[0;34m\u001b[0m\u001b[0m\n\u001b[1;32m     50\u001b[0m             \u001b[0;32melse\u001b[0m\u001b[0;34m:\u001b[0m\u001b[0;34m\u001b[0m\u001b[0;34m\u001b[0m\u001b[0m\n\u001b[0;32m---> 51\u001b[0;31m                 \u001b[0mdata\u001b[0m \u001b[0;34m=\u001b[0m \u001b[0;34m[\u001b[0m\u001b[0mself\u001b[0m\u001b[0;34m.\u001b[0m\u001b[0mdataset\u001b[0m\u001b[0;34m[\u001b[0m\u001b[0midx\u001b[0m\u001b[0;34m]\u001b[0m \u001b[0;32mfor\u001b[0m \u001b[0midx\u001b[0m \u001b[0;32min\u001b[0m \u001b[0mpossibly_batched_index\u001b[0m\u001b[0;34m]\u001b[0m\u001b[0;34m\u001b[0m\u001b[0;34m\u001b[0m\u001b[0m\n\u001b[0m\u001b[1;32m     52\u001b[0m         \u001b[0;32melse\u001b[0m\u001b[0;34m:\u001b[0m\u001b[0;34m\u001b[0m\u001b[0;34m\u001b[0m\u001b[0m\n\u001b[1;32m     53\u001b[0m             \u001b[0mdata\u001b[0m \u001b[0;34m=\u001b[0m \u001b[0mself\u001b[0m\u001b[0;34m.\u001b[0m\u001b[0mdataset\u001b[0m\u001b[0;34m[\u001b[0m\u001b[0mpossibly_batched_index\u001b[0m\u001b[0;34m]\u001b[0m\u001b[0;34m\u001b[0m\u001b[0;34m\u001b[0m\u001b[0m\n",
            "\u001b[0;32m<ipython-input-4-2842f04ab9ca>\u001b[0m in \u001b[0;36m__getitem__\u001b[0;34m(self, idx)\u001b[0m\n\u001b[1;32m     32\u001b[0m         \u001b[0mlabel\u001b[0m \u001b[0;34m=\u001b[0m \u001b[0mImage\u001b[0m\u001b[0;34m.\u001b[0m\u001b[0mopen\u001b[0m\u001b[0;34m(\u001b[0m\u001b[0mlabel_path\u001b[0m\u001b[0;34m)\u001b[0m\u001b[0;34m.\u001b[0m\u001b[0mconvert\u001b[0m\u001b[0;34m(\u001b[0m\u001b[0;34m'L'\u001b[0m\u001b[0;34m)\u001b[0m\u001b[0;34m\u001b[0m\u001b[0;34m\u001b[0m\u001b[0m\n\u001b[1;32m     33\u001b[0m         \u001b[0;32mif\u001b[0m \u001b[0mself\u001b[0m\u001b[0;34m.\u001b[0m\u001b[0mtransform\u001b[0m\u001b[0;34m:\u001b[0m\u001b[0;34m\u001b[0m\u001b[0;34m\u001b[0m\u001b[0m\n\u001b[0;32m---> 34\u001b[0;31m             \u001b[0mimage\u001b[0m \u001b[0;34m=\u001b[0m \u001b[0mself\u001b[0m\u001b[0;34m.\u001b[0m\u001b[0mtransform\u001b[0m\u001b[0;34m(\u001b[0m\u001b[0mimage\u001b[0m\u001b[0;34m)\u001b[0m\u001b[0;34m\u001b[0m\u001b[0;34m\u001b[0m\u001b[0m\n\u001b[0m\u001b[1;32m     35\u001b[0m             \u001b[0mlabel\u001b[0m \u001b[0;34m=\u001b[0m \u001b[0mself\u001b[0m\u001b[0;34m.\u001b[0m\u001b[0mtransform\u001b[0m\u001b[0;34m(\u001b[0m\u001b[0mlabel\u001b[0m\u001b[0;34m)\u001b[0m \u001b[0;34m*\u001b[0m \u001b[0;36m255\u001b[0m\u001b[0;34m\u001b[0m\u001b[0;34m\u001b[0m\u001b[0m\n\u001b[1;32m     36\u001b[0m         \u001b[0;32mreturn\u001b[0m \u001b[0mimage\u001b[0m\u001b[0;34m,\u001b[0m \u001b[0mlabel\u001b[0m\u001b[0;34m.\u001b[0m\u001b[0msqueeze\u001b[0m\u001b[0;34m(\u001b[0m\u001b[0;34m)\u001b[0m\u001b[0;34m.\u001b[0m\u001b[0mlong\u001b[0m\u001b[0;34m(\u001b[0m\u001b[0;34m)\u001b[0m\u001b[0;34m\u001b[0m\u001b[0;34m\u001b[0m\u001b[0m\n",
            "\u001b[0;32m/usr/local/lib/python3.10/dist-packages/torchvision/transforms/transforms.py\u001b[0m in \u001b[0;36m__call__\u001b[0;34m(self, img)\u001b[0m\n\u001b[1;32m     93\u001b[0m     \u001b[0;32mdef\u001b[0m \u001b[0m__call__\u001b[0m\u001b[0;34m(\u001b[0m\u001b[0mself\u001b[0m\u001b[0;34m,\u001b[0m \u001b[0mimg\u001b[0m\u001b[0;34m)\u001b[0m\u001b[0;34m:\u001b[0m\u001b[0;34m\u001b[0m\u001b[0;34m\u001b[0m\u001b[0m\n\u001b[1;32m     94\u001b[0m         \u001b[0;32mfor\u001b[0m \u001b[0mt\u001b[0m \u001b[0;32min\u001b[0m \u001b[0mself\u001b[0m\u001b[0;34m.\u001b[0m\u001b[0mtransforms\u001b[0m\u001b[0;34m:\u001b[0m\u001b[0;34m\u001b[0m\u001b[0;34m\u001b[0m\u001b[0m\n\u001b[0;32m---> 95\u001b[0;31m             \u001b[0mimg\u001b[0m \u001b[0;34m=\u001b[0m \u001b[0mt\u001b[0m\u001b[0;34m(\u001b[0m\u001b[0mimg\u001b[0m\u001b[0;34m)\u001b[0m\u001b[0;34m\u001b[0m\u001b[0;34m\u001b[0m\u001b[0m\n\u001b[0m\u001b[1;32m     96\u001b[0m         \u001b[0;32mreturn\u001b[0m \u001b[0mimg\u001b[0m\u001b[0;34m\u001b[0m\u001b[0;34m\u001b[0m\u001b[0m\n\u001b[1;32m     97\u001b[0m \u001b[0;34m\u001b[0m\u001b[0m\n",
            "\u001b[0;32m/usr/local/lib/python3.10/dist-packages/torchvision/transforms/transforms.py\u001b[0m in \u001b[0;36m__call__\u001b[0;34m(self, pic)\u001b[0m\n\u001b[1;32m    135\u001b[0m             \u001b[0mTensor\u001b[0m\u001b[0;34m:\u001b[0m \u001b[0mConverted\u001b[0m \u001b[0mimage\u001b[0m\u001b[0;34m.\u001b[0m\u001b[0;34m\u001b[0m\u001b[0;34m\u001b[0m\u001b[0m\n\u001b[1;32m    136\u001b[0m         \"\"\"\n\u001b[0;32m--> 137\u001b[0;31m         \u001b[0;32mreturn\u001b[0m \u001b[0mF\u001b[0m\u001b[0;34m.\u001b[0m\u001b[0mto_tensor\u001b[0m\u001b[0;34m(\u001b[0m\u001b[0mpic\u001b[0m\u001b[0;34m)\u001b[0m\u001b[0;34m\u001b[0m\u001b[0;34m\u001b[0m\u001b[0m\n\u001b[0m\u001b[1;32m    138\u001b[0m \u001b[0;34m\u001b[0m\u001b[0m\n\u001b[1;32m    139\u001b[0m     \u001b[0;32mdef\u001b[0m \u001b[0m__repr__\u001b[0m\u001b[0;34m(\u001b[0m\u001b[0mself\u001b[0m\u001b[0;34m)\u001b[0m \u001b[0;34m->\u001b[0m \u001b[0mstr\u001b[0m\u001b[0;34m:\u001b[0m\u001b[0;34m\u001b[0m\u001b[0;34m\u001b[0m\u001b[0m\n",
            "\u001b[0;32m/usr/local/lib/python3.10/dist-packages/torchvision/transforms/functional.py\u001b[0m in \u001b[0;36mto_tensor\u001b[0;34m(pic)\u001b[0m\n\u001b[1;32m    170\u001b[0m     \u001b[0mimg\u001b[0m \u001b[0;34m=\u001b[0m \u001b[0mimg\u001b[0m\u001b[0;34m.\u001b[0m\u001b[0mview\u001b[0m\u001b[0;34m(\u001b[0m\u001b[0mpic\u001b[0m\u001b[0;34m.\u001b[0m\u001b[0msize\u001b[0m\u001b[0;34m[\u001b[0m\u001b[0;36m1\u001b[0m\u001b[0;34m]\u001b[0m\u001b[0;34m,\u001b[0m \u001b[0mpic\u001b[0m\u001b[0;34m.\u001b[0m\u001b[0msize\u001b[0m\u001b[0;34m[\u001b[0m\u001b[0;36m0\u001b[0m\u001b[0;34m]\u001b[0m\u001b[0;34m,\u001b[0m \u001b[0mF_pil\u001b[0m\u001b[0;34m.\u001b[0m\u001b[0mget_image_num_channels\u001b[0m\u001b[0;34m(\u001b[0m\u001b[0mpic\u001b[0m\u001b[0;34m)\u001b[0m\u001b[0;34m)\u001b[0m\u001b[0;34m\u001b[0m\u001b[0;34m\u001b[0m\u001b[0m\n\u001b[1;32m    171\u001b[0m     \u001b[0;31m# put it from HWC to CHW format\u001b[0m\u001b[0;34m\u001b[0m\u001b[0;34m\u001b[0m\u001b[0m\n\u001b[0;32m--> 172\u001b[0;31m     \u001b[0mimg\u001b[0m \u001b[0;34m=\u001b[0m \u001b[0mimg\u001b[0m\u001b[0;34m.\u001b[0m\u001b[0mpermute\u001b[0m\u001b[0;34m(\u001b[0m\u001b[0;34m(\u001b[0m\u001b[0;36m2\u001b[0m\u001b[0;34m,\u001b[0m \u001b[0;36m0\u001b[0m\u001b[0;34m,\u001b[0m \u001b[0;36m1\u001b[0m\u001b[0;34m)\u001b[0m\u001b[0;34m)\u001b[0m\u001b[0;34m.\u001b[0m\u001b[0mcontiguous\u001b[0m\u001b[0;34m(\u001b[0m\u001b[0;34m)\u001b[0m\u001b[0;34m\u001b[0m\u001b[0;34m\u001b[0m\u001b[0m\n\u001b[0m\u001b[1;32m    173\u001b[0m     \u001b[0;32mif\u001b[0m \u001b[0misinstance\u001b[0m\u001b[0;34m(\u001b[0m\u001b[0mimg\u001b[0m\u001b[0;34m,\u001b[0m \u001b[0mtorch\u001b[0m\u001b[0;34m.\u001b[0m\u001b[0mByteTensor\u001b[0m\u001b[0;34m)\u001b[0m\u001b[0;34m:\u001b[0m\u001b[0;34m\u001b[0m\u001b[0;34m\u001b[0m\u001b[0m\n\u001b[1;32m    174\u001b[0m         \u001b[0;32mreturn\u001b[0m \u001b[0mimg\u001b[0m\u001b[0;34m.\u001b[0m\u001b[0mto\u001b[0m\u001b[0;34m(\u001b[0m\u001b[0mdtype\u001b[0m\u001b[0;34m=\u001b[0m\u001b[0mdefault_float_dtype\u001b[0m\u001b[0;34m)\u001b[0m\u001b[0;34m.\u001b[0m\u001b[0mdiv\u001b[0m\u001b[0;34m(\u001b[0m\u001b[0;36m255\u001b[0m\u001b[0;34m)\u001b[0m\u001b[0;34m\u001b[0m\u001b[0;34m\u001b[0m\u001b[0m\n",
            "\u001b[0;31mKeyboardInterrupt\u001b[0m: "
          ]
        }
      ]
    },
    {
      "cell_type": "code",
      "execution_count": null,
      "metadata": {
        "colab": {
          "base_uri": "https://localhost:8080/",
          "height": 400
        },
        "id": "RN4Lkb2KC-Qb",
        "outputId": "5aad03d8-37bc-4571-d97b-44317d646b67"
      },
      "outputs": [
        {
          "ename": "ModuleNotFoundError",
          "evalue": "No module named 'segmentation_models_pytorch'",
          "output_type": "error",
          "traceback": [
            "\u001b[0;31m---------------------------------------------------------------------------\u001b[0m",
            "\u001b[0;31mModuleNotFoundError\u001b[0m                       Traceback (most recent call last)",
            "\u001b[0;32m<ipython-input-1-2dd8d9fc264f>\u001b[0m in \u001b[0;36m<cell line: 12>\u001b[0;34m()\u001b[0m\n\u001b[1;32m     10\u001b[0m \u001b[0;32mfrom\u001b[0m \u001b[0msklearn\u001b[0m\u001b[0;34m.\u001b[0m\u001b[0mmodel_selection\u001b[0m \u001b[0;32mimport\u001b[0m \u001b[0mKFold\u001b[0m\u001b[0;34m\u001b[0m\u001b[0;34m\u001b[0m\u001b[0m\n\u001b[1;32m     11\u001b[0m \u001b[0;32mimport\u001b[0m \u001b[0mrandom\u001b[0m\u001b[0;34m\u001b[0m\u001b[0;34m\u001b[0m\u001b[0m\n\u001b[0;32m---> 12\u001b[0;31m \u001b[0;32mimport\u001b[0m \u001b[0msegmentation_models_pytorch\u001b[0m \u001b[0;32mas\u001b[0m \u001b[0msmp\u001b[0m\u001b[0;34m\u001b[0m\u001b[0;34m\u001b[0m\u001b[0m\n\u001b[0m\u001b[1;32m     13\u001b[0m \u001b[0;34m\u001b[0m\u001b[0m\n\u001b[1;32m     14\u001b[0m \u001b[0;31m# 모델 정의를 deeplabv3로 변경\u001b[0m\u001b[0;34m\u001b[0m\u001b[0;34m\u001b[0m\u001b[0m\n",
            "\u001b[0;31mModuleNotFoundError\u001b[0m: No module named 'segmentation_models_pytorch'",
            "",
            "\u001b[0;31m---------------------------------------------------------------------------\u001b[0;32m\nNOTE: If your import is failing due to a missing package, you can\nmanually install dependencies using either !pip or !apt.\n\nTo view examples of installing some common dependencies, click the\n\"Open Examples\" button below.\n\u001b[0;31m---------------------------------------------------------------------------\u001b[0m\n"
          ]
        }
      ],
      "source": [
        "import torch\n",
        "import torch.nn as nn\n",
        "import torch.optim as optim\n",
        "from torch.utils.data import DataLoader, Dataset, SubsetRandomSampler\n",
        "from torchvision import transforms\n",
        "from PIL import Image\n",
        "import os\n",
        "import numpy as np\n",
        "from sklearn.metrics import accuracy_score\n",
        "from sklearn.model_selection import KFold\n",
        "import random\n",
        "import segmentation_models_pytorch as smp\n",
        "\n",
        "\n",
        "def create_deeplabv3plus(num_classes):\n",
        "    model = smp.DeepLabV3Plus(encoder_name=\"resnet101\", classes=num_classes, encoder_weights=\"imagenet\")\n",
        "    return model\n",
        "\n",
        "# 데이터셋 클래스 정의\n",
        "class SegmentationDataset(Dataset):\n",
        "    def __init__(self, image_dir, label_dir, image_list, transform=None):\n",
        "        self.image_dir = image_dir\n",
        "        self.label_dir = label_dir\n",
        "        self.transform = transform\n",
        "        self.images = image_list\n",
        "\n",
        "    def __len__(self):\n",
        "        return len(self.images)\n",
        "\n",
        "    def __getitem__(self, idx):\n",
        "        img_path = os.path.join(self.image_dir, self.images[idx])\n",
        "        label_path = os.path.join(self.label_dir, self.images[idx].replace('.jpg', '_mask.png'))\n",
        "        image = Image.open(img_path).convert('RGB')\n",
        "        label = Image.open(label_path).convert('L')\n",
        "        if self.transform:\n",
        "            image = self.transform(image)\n",
        "            label = self.transform(label) * 255\n",
        "        return image, label.squeeze().long()\n",
        "\n",
        "# 데이터 분할 함수\n",
        "def split_dataset(image_dir, test_ratio=0.2):\n",
        "    images = os.listdir(image_dir)\n",
        "    random.seed(36)\n",
        "    random.shuffle(images)\n",
        "    split_idx = int(len(images) * (1 - test_ratio))\n",
        "    return images[:split_idx], images[split_idx:]\n",
        "\n",
        "# 데이터 변환 정의\n",
        "train_transforms = transforms.Compose([\n",
        "    transforms.Resize((640, 368)),\n",
        "    transforms.ToTensor(),\n",
        "])\n",
        "\n",
        "test_transforms = transforms.Compose([\n",
        "    transforms.Resize((640, 368)),\n",
        "    transforms.ToTensor(),\n",
        "])\n",
        "\n",
        "# 데이터셋 경로 설정\n",
        "image_dir = '/content/drive/MyDrive/횡단보도/segmentation/images'\n",
        "label_dir = '/content/drive/MyDrive/횡단보도/segmentation/labels'\n",
        "\n",
        "# 데이터셋 분할\n",
        "train_images, test_images = split_dataset(image_dir)\n",
        "train_dataset = SegmentationDataset(image_dir, label_dir, train_images, transform=train_transforms)\n",
        "test_dataset = SegmentationDataset(image_dir, label_dir, test_images, transform=test_transforms)\n",
        "\n",
        "# DataLoader 설정\n",
        "test_loader = DataLoader(dataset=test_dataset, batch_size=4, shuffle=False)\n",
        "\n",
        "# 5폴드 교차검증 설정\n",
        "k_folds = 5\n",
        "kfold = KFold(n_splits=k_folds, shuffle=True)\n",
        "\n",
        "# 폴드별 학습 및 검증\n",
        "results = []\n",
        "\n",
        "# 모델 저장 경로 설정\n",
        "model_save_path = '/content/drive/MyDrive/횡단보도/segmentation/models'\n",
        "if not os.path.exists(model_save_path):\n",
        "    os.makedirs(model_save_path)\n",
        "\n",
        "for fold, (train_ids, val_ids) in enumerate(kfold.split(train_dataset)):\n",
        "    print(f'Starting fold {fold}')\n",
        "    train_subsampler = SubsetRandomSampler(train_ids)\n",
        "    val_subsampler = SubsetRandomSampler(val_ids)\n",
        "\n",
        "    train_loader = DataLoader(dataset=train_dataset, batch_size=16, sampler=train_subsampler)\n",
        "    val_loader = DataLoader(dataset=train_dataset, batch_size=16, sampler=val_subsampler)\n",
        "\n",
        "    device =select_device('')\n",
        "    model = create_deeplabv3plus(num_classes=4).to(device)\n",
        "    criterion = nn.CrossEntropyLoss()\n",
        "    optimizer = optim.Adam(model.parameters(), lr=0.001)"
      ]
    },
    {
      "cell_type": "code",
      "execution_count": null,
      "metadata": {
        "colab": {
          "base_uri": "https://localhost:8080/"
        },
        "id": "2DYgWD6Q8XNw",
        "outputId": "100cabb5-6e6e-47fe-ad7f-6ec9f5099063"
      },
      "outputs": [
        {
          "output_type": "stream",
          "name": "stdout",
          "text": [
            "Accuracy of the model on the test images: 96.44%\n"
          ]
        }
      ],
      "source": [
        "def evaluate_model_on_test(model_path, test_loader, device):\n",
        "    # 모델 구조 정의 (위에서 정의한 create_deeplabv3plus 함수 사용)\n",
        "    model = create_deeplabv3plus(num_classes=4).to(device)\n",
        "\n",
        "    # 저장된 모델 가중치 로드\n",
        "    model.load_state_dict(torch.load(model_path))\n",
        "\n",
        "    # 평가 모드 설정\n",
        "    model.eval()\n",
        "\n",
        "    # 정확도 계산을 위한 변수 초기화\n",
        "    total_pixels = 0\n",
        "    correct_pixels = 0\n",
        "\n",
        "    with torch.no_grad():\n",
        "        for images, labels in test_loader:\n",
        "            images, labels = images.to(device), labels.to(device)\n",
        "            outputs = model(images)\n",
        "            _, predicted = torch.max(outputs, dim=1)\n",
        "            correct_pixels += (predicted == labels).sum().item()\n",
        "            total_pixels += torch.numel(labels)\n",
        "\n",
        "\n",
        "    # 정확도 출력\n",
        "    accuracy = 100 * correct_pixels / total_pixels\n",
        "    print(f'Accuracy of the model on the test images: {accuracy:.2f}%')\n",
        "\n",
        "# 모델 평가\n",
        "model_path = '/content/drive/MyDrive/횡단보도/4models/model_fold4_epoch72.pth'  # 모델 경로\n",
        "device = torch.device(\"cuda\" if torch.cuda.is_available() else \"cpu\")\n",
        "evaluate_model_on_test(model_path, test_loader, device)"
      ]
    },
    {
      "cell_type": "markdown",
      "metadata": {
        "id": "bxyOyIL9Ju5f"
      },
      "source": []
    },
    {
      "cell_type": "code",
      "execution_count": null,
      "metadata": {
        "id": "8jHVCoGTiKPP"
      },
      "outputs": [],
      "source": [
        "\n",
        "\n",
        "clear_output()\n",
        "print('Setup complete. Using torch %s %s' % (torch.__version__, torch.cuda.get_device_properties(0) if torch.cuda.is_available() else 'CPU'))\n",
        "\n",
        "!python /content/drive/MyDrive/yolov5/train.py --img 640 --batch 16 --epochs 30 --data data.yaml --weights yolov5m.pt --project /content/drive/MyDrive/yolov5/data/res\n",
        "\n"
      ]
    },
    {
      "cell_type": "code",
      "execution_count": null,
      "metadata": {
        "colab": {
          "base_uri": "https://localhost:8080/"
        },
        "id": "VMZ-RhGeNrFY",
        "outputId": "d259e3a1-27e6-484c-ce05-cffbcb6aa8c1"
      },
      "outputs": [
        {
          "output_type": "stream",
          "name": "stdout",
          "text": [
            "2024-02-22 13:16:35.544741: E external/local_xla/xla/stream_executor/cuda/cuda_dnn.cc:9261] Unable to register cuDNN factory: Attempting to register factory for plugin cuDNN when one has already been registered\n",
            "2024-02-22 13:16:35.544791: E external/local_xla/xla/stream_executor/cuda/cuda_fft.cc:607] Unable to register cuFFT factory: Attempting to register factory for plugin cuFFT when one has already been registered\n",
            "2024-02-22 13:16:35.546366: E external/local_xla/xla/stream_executor/cuda/cuda_blas.cc:1515] Unable to register cuBLAS factory: Attempting to register factory for plugin cuBLAS when one has already been registered\n",
            "\u001b[34m\u001b[1mtrain: \u001b[0mweights=yolov5l.pt, cfg=, data=/content/drive/MyDrive/yolov5/data/data.yaml, hyp=drive/MyDrive/yolov5/data/hyps/hyp.scratch-low.yaml, epochs=400, batch_size=16, imgsz=640, rect=False, resume=False, nosave=False, noval=False, noautoanchor=False, noplots=False, evolve=None, evolve_population=drive/MyDrive/yolov5/data/hyps, resume_evolve=None, bucket=, cache=None, image_weights=False, device=, multi_scale=False, single_cls=False, optimizer=SGD, sync_bn=False, workers=8, project=drive/MyDrive/yolov5/runs/train, name=exp, exist_ok=False, quad=False, cos_lr=False, label_smoothing=0.0, patience=40, freeze=[0], save_period=-1, seed=0, local_rank=-1, entity=None, upload_dataset=False, bbox_interval=-1, artifact_alias=latest, ndjson_console=False, ndjson_file=False\n",
            "\u001b[34m\u001b[1mgithub: \u001b[0mup to date with https://github.com/ultralytics/yolov5 ✅\n",
            "YOLOv5 🚀 v7.0-284-g95ebf68f Python-3.10.12 torch-2.1.0+cu121 CUDA:0 (NVIDIA A100-SXM4-40GB, 40514MiB)\n",
            "\n",
            "\u001b[34m\u001b[1mhyperparameters: \u001b[0mlr0=0.01, lrf=0.01, momentum=0.937, weight_decay=0.0005, warmup_epochs=3.0, warmup_momentum=0.8, warmup_bias_lr=0.1, box=0.05, cls=0.5, cls_pw=1.0, obj=1.0, obj_pw=1.0, iou_t=0.2, anchor_t=4.0, fl_gamma=0.0, hsv_h=0.02, hsv_s=0.7, hsv_v=0.4, degrees=0.0, translate=0.1, scale=0.5, shear=0.0, perspective=0.0, flipud=0.0, fliplr=0.5, mosaic=1.0, mixup=0.0, copy_paste=0.0\n",
            "\u001b[34m\u001b[1mComet: \u001b[0mrun 'pip install comet_ml' to automatically track and visualize YOLOv5 🚀 runs in Comet\n",
            "\u001b[34m\u001b[1mTensorBoard: \u001b[0mStart with 'tensorboard --logdir drive/MyDrive/yolov5/runs/train', view at http://localhost:6006/\n",
            "Overriding model.yaml nc=80 with nc=1\n",
            "\n",
            "                 from  n    params  module                                  arguments                     \n",
            "  0                -1  1      7040  models.common.Conv                      [3, 64, 6, 2, 2]              \n",
            "  1                -1  1     73984  models.common.Conv                      [64, 128, 3, 2]               \n",
            "  2                -1  3    156928  models.common.C3                        [128, 128, 3]                 \n",
            "  3                -1  1    295424  models.common.Conv                      [128, 256, 3, 2]              \n",
            "  4                -1  6   1118208  models.common.C3                        [256, 256, 6]                 \n",
            "  5                -1  1   1180672  models.common.Conv                      [256, 512, 3, 2]              \n",
            "  6                -1  9   6433792  models.common.C3                        [512, 512, 9]                 \n",
            "  7                -1  1   4720640  models.common.Conv                      [512, 1024, 3, 2]             \n",
            "  8                -1  3   9971712  models.common.C3                        [1024, 1024, 3]               \n",
            "  9                -1  1   2624512  models.common.SPPF                      [1024, 1024, 5]               \n",
            " 10                -1  1    525312  models.common.Conv                      [1024, 512, 1, 1]             \n",
            " 11                -1  1         0  torch.nn.modules.upsampling.Upsample    [None, 2, 'nearest']          \n",
            " 12           [-1, 6]  1         0  models.common.Concat                    [1]                           \n",
            " 13                -1  3   2757632  models.common.C3                        [1024, 512, 3, False]         \n",
            " 14                -1  1    131584  models.common.Conv                      [512, 256, 1, 1]              \n",
            " 15                -1  1         0  torch.nn.modules.upsampling.Upsample    [None, 2, 'nearest']          \n",
            " 16           [-1, 4]  1         0  models.common.Concat                    [1]                           \n",
            " 17                -1  3    690688  models.common.C3                        [512, 256, 3, False]          \n",
            " 18                -1  1    590336  models.common.Conv                      [256, 256, 3, 2]              \n",
            " 19          [-1, 14]  1         0  models.common.Concat                    [1]                           \n",
            " 20                -1  3   2495488  models.common.C3                        [512, 512, 3, False]          \n",
            " 21                -1  1   2360320  models.common.Conv                      [512, 512, 3, 2]              \n",
            " 22          [-1, 10]  1         0  models.common.Concat                    [1]                           \n",
            " 23                -1  3   9971712  models.common.C3                        [1024, 1024, 3, False]        \n",
            " 24      [17, 20, 23]  1     32310  models.yolo.Detect                      [1, [[10, 13, 16, 30, 33, 23], [30, 61, 62, 45, 59, 119], [116, 90, 156, 198, 373, 326]], [256, 512, 1024]]\n",
            "Model summary: 368 layers, 46138294 parameters, 46138294 gradients, 108.2 GFLOPs\n",
            "\n",
            "Transferred 607/613 items from yolov5l.pt\n",
            "\u001b[34m\u001b[1mAMP: \u001b[0mchecks passed ✅\n",
            "\u001b[34m\u001b[1moptimizer:\u001b[0m SGD(lr=0.01) with parameter groups 101 weight(decay=0.0), 104 weight(decay=0.0005), 104 bias\n",
            "\u001b[34m\u001b[1malbumentations: \u001b[0mBlur(p=0.01, blur_limit=(3, 7)), MedianBlur(p=0.01, blur_limit=(3, 7)), ToGray(p=0.01), CLAHE(p=0.01, clip_limit=(1, 4.0), tile_grid_size=(8, 8))\n",
            "\u001b[34m\u001b[1mtrain: \u001b[0mScanning /content/drive/MyDrive/yolov5/data/labels/train.cache... 360 images, 4 backgrounds, 0 corrupt: 100% 360/360 [00:00<?, ?it/s]\n",
            "\u001b[34m\u001b[1mval: \u001b[0mScanning /content/drive/MyDrive/yolov5/data/labels/val.cache... 120 images, 0 backgrounds, 0 corrupt: 100% 120/120 [00:00<?, ?it/s]\n",
            "\n",
            "\u001b[34m\u001b[1mAutoAnchor: \u001b[0m3.41 anchors/target, 0.989 Best Possible Recall (BPR). Current anchors are a good fit to dataset ✅\n",
            "Plotting labels to drive/MyDrive/yolov5/runs/train/exp15/labels.jpg... \n",
            "Image sizes 640 train, 640 val\n",
            "Using 8 dataloader workers\n",
            "Logging results to \u001b[1mdrive/MyDrive/yolov5/runs/train/exp15\u001b[0m\n",
            "Starting training for 400 epochs...\n",
            "\n",
            "      Epoch    GPU_mem   box_loss   obj_loss   cls_loss  Instances       Size\n",
            "      0/399      9.44G     0.1089    0.02768          0         44        640: 100% 23/23 [00:17<00:00,  1.35it/s]\n",
            "                 Class     Images  Instances          P          R      mAP50   mAP50-95: 100% 4/4 [00:23<00:00,  5.92s/it]\n",
            "                   all        120        346     0.0005      0.052   0.000265    6.2e-05\n",
            "\n",
            "      Epoch    GPU_mem   box_loss   obj_loss   cls_loss  Instances       Size\n",
            "      1/399      9.84G    0.09093    0.02474          0         21        640: 100% 23/23 [00:04<00:00,  5.53it/s]\n",
            "                 Class     Images  Instances          P          R      mAP50   mAP50-95: 100% 4/4 [00:01<00:00,  2.95it/s]\n",
            "                   all        120        346    0.00344      0.358    0.00508    0.00156\n",
            "\n",
            "      Epoch    GPU_mem   box_loss   obj_loss   cls_loss  Instances       Size\n",
            "      2/399      9.85G    0.08097    0.02514          0         23        640: 100% 23/23 [00:06<00:00,  3.47it/s]\n",
            "                 Class     Images  Instances          P          R      mAP50   mAP50-95: 100% 4/4 [00:01<00:00,  2.77it/s]\n",
            "                   all        120        346      0.228      0.174      0.105     0.0227\n",
            "\n",
            "      Epoch    GPU_mem   box_loss   obj_loss   cls_loss  Instances       Size\n",
            "      3/399      9.85G      0.072    0.02004          0         38        640: 100% 23/23 [00:04<00:00,  4.97it/s]\n",
            "                 Class     Images  Instances          P          R      mAP50   mAP50-95: 100% 4/4 [00:01<00:00,  3.54it/s]\n",
            "                   all        120        346      0.321      0.237      0.199     0.0528\n",
            "\n",
            "      Epoch    GPU_mem   box_loss   obj_loss   cls_loss  Instances       Size\n",
            "      4/399      9.85G    0.07447    0.01716          0         45        640: 100% 23/23 [00:04<00:00,  4.98it/s]\n",
            "                 Class     Images  Instances          P          R      mAP50   mAP50-95: 100% 4/4 [00:01<00:00,  3.70it/s]\n",
            "                   all        120        346      0.268      0.384      0.247     0.0988\n",
            "\n",
            "      Epoch    GPU_mem   box_loss   obj_loss   cls_loss  Instances       Size\n",
            "      5/399      9.85G    0.06669    0.01623          0         54        640: 100% 23/23 [00:04<00:00,  4.63it/s]\n",
            "                 Class     Images  Instances          P          R      mAP50   mAP50-95: 100% 4/4 [00:01<00:00,  2.97it/s]\n",
            "                   all        120        346      0.535      0.436      0.469       0.18\n",
            "\n",
            "      Epoch    GPU_mem   box_loss   obj_loss   cls_loss  Instances       Size\n",
            "      6/399      9.85G    0.06644    0.01609          0         37        640: 100% 23/23 [00:04<00:00,  5.64it/s]\n",
            "                 Class     Images  Instances          P          R      mAP50   mAP50-95: 100% 4/4 [00:01<00:00,  3.35it/s]\n",
            "                   all        120        346      0.328      0.373      0.285     0.0755\n",
            "\n",
            "      Epoch    GPU_mem   box_loss   obj_loss   cls_loss  Instances       Size\n",
            "      7/399      9.85G    0.06171    0.01428          0         30        640: 100% 23/23 [00:04<00:00,  5.00it/s]\n",
            "                 Class     Images  Instances          P          R      mAP50   mAP50-95: 100% 4/4 [00:01<00:00,  3.77it/s]\n",
            "                   all        120        346      0.389      0.524      0.368      0.141\n",
            "\n",
            "      Epoch    GPU_mem   box_loss   obj_loss   cls_loss  Instances       Size\n",
            "      8/399      9.85G    0.05999    0.01387          0         36        640: 100% 23/23 [00:05<00:00,  3.98it/s]\n",
            "                 Class     Images  Instances          P          R      mAP50   mAP50-95: 100% 4/4 [00:01<00:00,  3.52it/s]\n",
            "                   all        120        346      0.617      0.666      0.566      0.244\n",
            "\n",
            "      Epoch    GPU_mem   box_loss   obj_loss   cls_loss  Instances       Size\n",
            "      9/399      9.85G     0.0521    0.01239          0         44        640: 100% 23/23 [00:04<00:00,  4.63it/s]\n",
            "                 Class     Images  Instances          P          R      mAP50   mAP50-95: 100% 4/4 [00:01<00:00,  3.65it/s]\n",
            "                   all        120        346      0.636      0.665      0.686      0.309\n",
            "\n",
            "      Epoch    GPU_mem   box_loss   obj_loss   cls_loss  Instances       Size\n",
            "     10/399      9.85G    0.05568    0.01266          0         25        640: 100% 23/23 [00:04<00:00,  4.98it/s]\n",
            "                 Class     Images  Instances          P          R      mAP50   mAP50-95: 100% 4/4 [00:01<00:00,  3.65it/s]\n",
            "                   all        120        346      0.676      0.645      0.642      0.214\n",
            "\n",
            "      Epoch    GPU_mem   box_loss   obj_loss   cls_loss  Instances       Size\n",
            "     11/399      9.85G    0.05469    0.01173          0         45        640: 100% 23/23 [00:05<00:00,  4.00it/s]\n",
            "                 Class     Images  Instances          P          R      mAP50   mAP50-95: 100% 4/4 [00:01<00:00,  3.74it/s]\n",
            "                   all        120        346      0.744       0.63      0.665      0.236\n",
            "\n",
            "      Epoch    GPU_mem   box_loss   obj_loss   cls_loss  Instances       Size\n",
            "     12/399      9.85G    0.05543    0.01152          0         30        640: 100% 23/23 [00:05<00:00,  4.11it/s]\n",
            "                 Class     Images  Instances          P          R      mAP50   mAP50-95: 100% 4/4 [00:01<00:00,  3.60it/s]\n",
            "                   all        120        346       0.77      0.669      0.748      0.295\n",
            "\n",
            "      Epoch    GPU_mem   box_loss   obj_loss   cls_loss  Instances       Size\n",
            "     13/399      9.85G      0.053    0.01067          0         38        640: 100% 23/23 [00:04<00:00,  5.01it/s]\n",
            "                 Class     Images  Instances          P          R      mAP50   mAP50-95: 100% 4/4 [00:01<00:00,  3.59it/s]\n",
            "                   all        120        346      0.721      0.658      0.707       0.31\n",
            "\n",
            "      Epoch    GPU_mem   box_loss   obj_loss   cls_loss  Instances       Size\n",
            "     14/399      9.85G    0.04948    0.01024          0         56        640: 100% 23/23 [00:04<00:00,  4.87it/s]\n",
            "                 Class     Images  Instances          P          R      mAP50   mAP50-95: 100% 4/4 [00:01<00:00,  3.65it/s]\n",
            "                   all        120        346      0.752       0.65      0.705       0.31\n",
            "\n",
            "      Epoch    GPU_mem   box_loss   obj_loss   cls_loss  Instances       Size\n",
            "     15/399      9.85G    0.05327   0.009958          0         32        640: 100% 23/23 [00:04<00:00,  4.93it/s]\n",
            "                 Class     Images  Instances          P          R      mAP50   mAP50-95: 100% 4/4 [00:01<00:00,  3.73it/s]\n",
            "                   all        120        346      0.765      0.613      0.649      0.234\n",
            "\n",
            "      Epoch    GPU_mem   box_loss   obj_loss   cls_loss  Instances       Size\n",
            "     16/399      9.85G    0.05062    0.01018          0         19        640: 100% 23/23 [00:05<00:00,  3.95it/s]\n",
            "                 Class     Images  Instances          P          R      mAP50   mAP50-95: 100% 4/4 [00:01<00:00,  3.69it/s]\n",
            "                   all        120        346      0.799      0.731      0.774      0.341\n",
            "\n",
            "      Epoch    GPU_mem   box_loss   obj_loss   cls_loss  Instances       Size\n",
            "     17/399      9.85G    0.04558   0.009921          0         37        640: 100% 23/23 [00:04<00:00,  4.67it/s]\n",
            "                 Class     Images  Instances          P          R      mAP50   mAP50-95: 100% 4/4 [00:01<00:00,  3.69it/s]\n",
            "                   all        120        346      0.622      0.572      0.642      0.249\n",
            "\n",
            "      Epoch    GPU_mem   box_loss   obj_loss   cls_loss  Instances       Size\n",
            "     18/399      9.85G    0.04553   0.009105          0         26        640: 100% 23/23 [00:04<00:00,  4.98it/s]\n",
            "                 Class     Images  Instances          P          R      mAP50   mAP50-95: 100% 4/4 [00:01<00:00,  3.61it/s]\n",
            "                   all        120        346      0.827      0.697       0.78       0.34\n",
            "\n",
            "      Epoch    GPU_mem   box_loss   obj_loss   cls_loss  Instances       Size\n",
            "     19/399      9.85G    0.04873   0.009483          0         35        640: 100% 23/23 [00:05<00:00,  3.94it/s]\n",
            "                 Class     Images  Instances          P          R      mAP50   mAP50-95: 100% 4/4 [00:01<00:00,  3.62it/s]\n",
            "                   all        120        346      0.797      0.723      0.775      0.317\n",
            "\n",
            "      Epoch    GPU_mem   box_loss   obj_loss   cls_loss  Instances       Size\n",
            "     20/399      9.85G    0.04612   0.009569          0         24        640: 100% 23/23 [00:04<00:00,  4.86it/s]\n",
            "                 Class     Images  Instances          P          R      mAP50   mAP50-95: 100% 4/4 [00:01<00:00,  3.63it/s]\n",
            "                   all        120        346      0.769      0.734      0.748      0.305\n",
            "\n",
            "      Epoch    GPU_mem   box_loss   obj_loss   cls_loss  Instances       Size\n",
            "     21/399      9.85G    0.04516    0.00941          0         37        640: 100% 23/23 [00:05<00:00,  4.24it/s]\n",
            "                 Class     Images  Instances          P          R      mAP50   mAP50-95: 100% 4/4 [00:01<00:00,  3.66it/s]\n",
            "                   all        120        346      0.762      0.656      0.726      0.329\n",
            "\n",
            "      Epoch    GPU_mem   box_loss   obj_loss   cls_loss  Instances       Size\n",
            "     22/399      9.85G    0.04676   0.008828          0         33        640: 100% 23/23 [00:04<00:00,  4.77it/s]\n",
            "                 Class     Images  Instances          P          R      mAP50   mAP50-95: 100% 4/4 [00:01<00:00,  3.61it/s]\n",
            "                   all        120        346      0.791       0.78      0.813      0.368\n",
            "\n",
            "      Epoch    GPU_mem   box_loss   obj_loss   cls_loss  Instances       Size\n",
            "     23/399      9.85G    0.04414    0.00894          0         45        640: 100% 23/23 [00:04<00:00,  4.73it/s]\n",
            "                 Class     Images  Instances          P          R      mAP50   mAP50-95: 100% 4/4 [00:01<00:00,  3.69it/s]\n",
            "                   all        120        346      0.809      0.711      0.774       0.39\n",
            "\n",
            "      Epoch    GPU_mem   box_loss   obj_loss   cls_loss  Instances       Size\n",
            "     24/399      9.85G    0.04213   0.009116          0         50        640: 100% 23/23 [00:03<00:00,  5.98it/s]\n",
            "                 Class     Images  Instances          P          R      mAP50   mAP50-95: 100% 4/4 [00:01<00:00,  3.61it/s]\n",
            "                   all        120        346      0.748      0.711      0.759      0.369\n",
            "\n",
            "      Epoch    GPU_mem   box_loss   obj_loss   cls_loss  Instances       Size\n",
            "     25/399      9.85G    0.04379   0.008588          0         33        640: 100% 23/23 [00:05<00:00,  3.97it/s]\n",
            "                 Class     Images  Instances          P          R      mAP50   mAP50-95: 100% 4/4 [00:01<00:00,  3.59it/s]\n",
            "                   all        120        346      0.824      0.731      0.798      0.347\n",
            "\n",
            "      Epoch    GPU_mem   box_loss   obj_loss   cls_loss  Instances       Size\n",
            "     26/399      9.85G    0.04184   0.009399          0         29        640: 100% 23/23 [00:05<00:00,  4.07it/s]\n",
            "                 Class     Images  Instances          P          R      mAP50   mAP50-95: 100% 4/4 [00:01<00:00,  3.64it/s]\n",
            "                   all        120        346      0.841      0.725      0.804      0.388\n",
            "\n",
            "      Epoch    GPU_mem   box_loss   obj_loss   cls_loss  Instances       Size\n",
            "     27/399      9.85G    0.04454   0.008552          0         55        640: 100% 23/23 [00:04<00:00,  4.82it/s]\n",
            "                 Class     Images  Instances          P          R      mAP50   mAP50-95: 100% 4/4 [00:01<00:00,  3.74it/s]\n",
            "                   all        120        346      0.786      0.717       0.75      0.344\n",
            "\n",
            "      Epoch    GPU_mem   box_loss   obj_loss   cls_loss  Instances       Size\n",
            "     28/399      9.85G    0.04421   0.009053          0         49        640: 100% 23/23 [00:04<00:00,  4.83it/s]\n",
            "                 Class     Images  Instances          P          R      mAP50   mAP50-95: 100% 4/4 [00:01<00:00,  3.57it/s]\n",
            "                   all        120        346      0.823      0.753      0.806      0.358\n",
            "\n",
            "      Epoch    GPU_mem   box_loss   obj_loss   cls_loss  Instances       Size\n",
            "     29/399      9.85G    0.04143   0.008759          0         38        640: 100% 23/23 [00:05<00:00,  4.07it/s]\n",
            "                 Class     Images  Instances          P          R      mAP50   mAP50-95: 100% 4/4 [00:01<00:00,  3.55it/s]\n",
            "                   all        120        346      0.845      0.754      0.816      0.417\n",
            "\n",
            "      Epoch    GPU_mem   box_loss   obj_loss   cls_loss  Instances       Size\n",
            "     30/399      9.85G    0.03871   0.008139          0         19        640: 100% 23/23 [00:04<00:00,  4.89it/s]\n",
            "                 Class     Images  Instances          P          R      mAP50   mAP50-95: 100% 4/4 [00:01<00:00,  3.70it/s]\n",
            "                   all        120        346      0.798       0.73       0.79      0.379\n",
            "\n",
            "      Epoch    GPU_mem   box_loss   obj_loss   cls_loss  Instances       Size\n",
            "     31/399      9.85G    0.04148   0.008982          0         33        640: 100% 23/23 [00:06<00:00,  3.81it/s]\n",
            "                 Class     Images  Instances          P          R      mAP50   mAP50-95: 100% 4/4 [00:01<00:00,  3.69it/s]\n",
            "                   all        120        346      0.794      0.725       0.77      0.349\n",
            "\n",
            "      Epoch    GPU_mem   box_loss   obj_loss   cls_loss  Instances       Size\n",
            "     32/399      9.85G    0.04308   0.008477          0         35        640: 100% 23/23 [00:05<00:00,  3.88it/s]\n",
            "                 Class     Images  Instances          P          R      mAP50   mAP50-95: 100% 4/4 [00:01<00:00,  3.53it/s]\n",
            "                   all        120        346      0.818      0.765      0.811      0.415\n",
            "\n",
            "      Epoch    GPU_mem   box_loss   obj_loss   cls_loss  Instances       Size\n",
            "     33/399      9.85G    0.04266   0.008741          0         30        640: 100% 23/23 [00:05<00:00,  4.01it/s]\n",
            "                 Class     Images  Instances          P          R      mAP50   mAP50-95: 100% 4/4 [00:01<00:00,  3.46it/s]\n",
            "                   all        120        346      0.889      0.699      0.808      0.417\n",
            "\n",
            "      Epoch    GPU_mem   box_loss   obj_loss   cls_loss  Instances       Size\n",
            "     34/399      9.85G     0.0393   0.007924          0         41        640: 100% 23/23 [00:04<00:00,  4.88it/s]\n",
            "                 Class     Images  Instances          P          R      mAP50   mAP50-95: 100% 4/4 [00:01<00:00,  3.55it/s]\n",
            "                   all        120        346      0.868      0.744       0.82       0.43\n",
            "\n",
            "      Epoch    GPU_mem   box_loss   obj_loss   cls_loss  Instances       Size\n",
            "     35/399      9.85G    0.04072   0.008553          0         39        640: 100% 23/23 [00:05<00:00,  4.03it/s]\n",
            "                 Class     Images  Instances          P          R      mAP50   mAP50-95: 100% 4/4 [00:01<00:00,  3.63it/s]\n",
            "                   all        120        346      0.793      0.751      0.787      0.399\n",
            "\n",
            "      Epoch    GPU_mem   box_loss   obj_loss   cls_loss  Instances       Size\n",
            "     36/399      9.85G     0.0384   0.008392          0         29        640: 100% 23/23 [00:05<00:00,  4.02it/s]\n",
            "                 Class     Images  Instances          P          R      mAP50   mAP50-95: 100% 4/4 [00:01<00:00,  3.60it/s]\n",
            "                   all        120        346      0.821      0.689      0.764      0.363\n",
            "\n",
            "      Epoch    GPU_mem   box_loss   obj_loss   cls_loss  Instances       Size\n",
            "     37/399      9.85G    0.04208   0.008808          0         32        640: 100% 23/23 [00:05<00:00,  4.17it/s]\n",
            "                 Class     Images  Instances          P          R      mAP50   mAP50-95: 100% 4/4 [00:01<00:00,  3.64it/s]\n",
            "                   all        120        346      0.779      0.665      0.719      0.376\n",
            "\n",
            "      Epoch    GPU_mem   box_loss   obj_loss   cls_loss  Instances       Size\n",
            "     38/399      9.85G     0.0402   0.008568          0         37        640: 100% 23/23 [00:05<00:00,  4.02it/s]\n",
            "                 Class     Images  Instances          P          R      mAP50   mAP50-95: 100% 4/4 [00:01<00:00,  3.52it/s]\n",
            "                   all        120        346      0.825      0.694      0.755      0.384\n",
            "\n",
            "      Epoch    GPU_mem   box_loss   obj_loss   cls_loss  Instances       Size\n",
            "     39/399      9.85G    0.03935     0.0082          0         20        640: 100% 23/23 [00:05<00:00,  3.98it/s]\n",
            "                 Class     Images  Instances          P          R      mAP50   mAP50-95: 100% 4/4 [00:01<00:00,  3.62it/s]\n",
            "                   all        120        346      0.865      0.714      0.805      0.403\n",
            "\n",
            "      Epoch    GPU_mem   box_loss   obj_loss   cls_loss  Instances       Size\n",
            "     40/399      9.85G     0.0358   0.008632          0         49        640: 100% 23/23 [00:05<00:00,  3.92it/s]\n",
            "                 Class     Images  Instances          P          R      mAP50   mAP50-95: 100% 4/4 [00:01<00:00,  3.60it/s]\n",
            "                   all        120        346      0.868      0.734      0.797      0.383\n",
            "\n",
            "      Epoch    GPU_mem   box_loss   obj_loss   cls_loss  Instances       Size\n",
            "     41/399      9.85G    0.04305   0.008746          0         27        640: 100% 23/23 [00:06<00:00,  3.51it/s]\n",
            "                 Class     Images  Instances          P          R      mAP50   mAP50-95: 100% 4/4 [00:01<00:00,  3.67it/s]\n",
            "                   all        120        346      0.845      0.777      0.835      0.416\n",
            "\n",
            "      Epoch    GPU_mem   box_loss   obj_loss   cls_loss  Instances       Size\n",
            "     42/399      9.85G    0.04094    0.00906          0         46        640: 100% 23/23 [00:05<00:00,  4.06it/s]\n",
            "                 Class     Images  Instances          P          R      mAP50   mAP50-95: 100% 4/4 [00:01<00:00,  3.71it/s]\n",
            "                   all        120        346      0.829      0.783      0.834      0.412\n",
            "\n",
            "      Epoch    GPU_mem   box_loss   obj_loss   cls_loss  Instances       Size\n",
            "     43/399      9.85G    0.03916   0.008245          0         49        640: 100% 23/23 [00:05<00:00,  4.11it/s]\n",
            "                 Class     Images  Instances          P          R      mAP50   mAP50-95: 100% 4/4 [00:01<00:00,  3.60it/s]\n",
            "                   all        120        346      0.819      0.786      0.817      0.421\n",
            "\n",
            "      Epoch    GPU_mem   box_loss   obj_loss   cls_loss  Instances       Size\n",
            "     44/399      9.85G    0.03737   0.008476          0         41        640: 100% 23/23 [00:05<00:00,  4.08it/s]\n",
            "                 Class     Images  Instances          P          R      mAP50   mAP50-95: 100% 4/4 [00:01<00:00,  3.56it/s]\n",
            "                   all        120        346      0.896      0.734       0.82      0.395\n",
            "\n",
            "      Epoch    GPU_mem   box_loss   obj_loss   cls_loss  Instances       Size\n",
            "     45/399      9.85G    0.03763   0.008033          0         34        640: 100% 23/23 [00:06<00:00,  3.48it/s]\n",
            "                 Class     Images  Instances          P          R      mAP50   mAP50-95: 100% 4/4 [00:00<00:00,  4.24it/s]\n",
            "                   all        120        346      0.864      0.755      0.812      0.382\n",
            "\n",
            "      Epoch    GPU_mem   box_loss   obj_loss   cls_loss  Instances       Size\n",
            "     46/399      9.85G    0.03829   0.008373          0         54        640: 100% 23/23 [00:06<00:00,  3.79it/s]\n",
            "                 Class     Images  Instances          P          R      mAP50   mAP50-95: 100% 4/4 [00:01<00:00,  3.49it/s]\n",
            "                   all        120        346      0.867      0.754      0.829      0.431\n",
            "\n",
            "      Epoch    GPU_mem   box_loss   obj_loss   cls_loss  Instances       Size\n",
            "     47/399      9.85G    0.03816   0.007577          0         18        640: 100% 23/23 [00:04<00:00,  5.15it/s]\n",
            "                 Class     Images  Instances          P          R      mAP50   mAP50-95: 100% 4/4 [00:01<00:00,  3.71it/s]\n",
            "                   all        120        346      0.846      0.765      0.824      0.422\n",
            "\n",
            "      Epoch    GPU_mem   box_loss   obj_loss   cls_loss  Instances       Size\n",
            "     48/399      9.85G    0.03729   0.008122          0         17        640: 100% 23/23 [00:05<00:00,  4.19it/s]\n",
            "                 Class     Images  Instances          P          R      mAP50   mAP50-95: 100% 4/4 [00:01<00:00,  3.61it/s]\n",
            "                   all        120        346      0.885      0.749      0.819      0.407\n",
            "\n",
            "      Epoch    GPU_mem   box_loss   obj_loss   cls_loss  Instances       Size\n",
            "     49/399      9.85G    0.03941   0.008298          0         28        640: 100% 23/23 [00:05<00:00,  3.85it/s]\n",
            "                 Class     Images  Instances          P          R      mAP50   mAP50-95: 100% 4/4 [00:01<00:00,  3.66it/s]\n",
            "                   all        120        346      0.895      0.731      0.835      0.425\n",
            "\n",
            "      Epoch    GPU_mem   box_loss   obj_loss   cls_loss  Instances       Size\n",
            "     50/399      9.85G     0.0345   0.007848          0         46        640: 100% 23/23 [00:06<00:00,  3.37it/s]\n",
            "                 Class     Images  Instances          P          R      mAP50   mAP50-95: 100% 4/4 [00:00<00:00,  4.13it/s]\n",
            "                   all        120        346      0.881      0.708      0.802      0.417\n",
            "\n",
            "      Epoch    GPU_mem   box_loss   obj_loss   cls_loss  Instances       Size\n",
            "     51/399      9.85G    0.03786   0.007617          0         35        640: 100% 23/23 [00:06<00:00,  3.53it/s]\n",
            "                 Class     Images  Instances          P          R      mAP50   mAP50-95: 100% 4/4 [00:01<00:00,  3.59it/s]\n",
            "                   all        120        346      0.872      0.708      0.797        0.4\n",
            "\n",
            "      Epoch    GPU_mem   box_loss   obj_loss   cls_loss  Instances       Size\n",
            "     52/399      9.85G    0.03727   0.007909          0         25        640: 100% 23/23 [00:05<00:00,  4.09it/s]\n",
            "                 Class     Images  Instances          P          R      mAP50   mAP50-95: 100% 4/4 [00:01<00:00,  3.62it/s]\n",
            "                   all        120        346      0.881      0.768      0.844      0.433\n",
            "\n",
            "      Epoch    GPU_mem   box_loss   obj_loss   cls_loss  Instances       Size\n",
            "     53/399      9.85G     0.0379   0.007607          0         27        640: 100% 23/23 [00:04<00:00,  5.02it/s]\n",
            "                 Class     Images  Instances          P          R      mAP50   mAP50-95: 100% 4/4 [00:01<00:00,  3.68it/s]\n",
            "                   all        120        346       0.88      0.722      0.814      0.426\n",
            "\n",
            "      Epoch    GPU_mem   box_loss   obj_loss   cls_loss  Instances       Size\n",
            "     54/399      9.85G    0.03327   0.007822          0         25        640: 100% 23/23 [00:07<00:00,  2.92it/s]\n",
            "                 Class     Images  Instances          P          R      mAP50   mAP50-95: 100% 4/4 [00:01<00:00,  3.55it/s]\n",
            "                   all        120        346      0.893      0.723      0.819      0.431\n",
            "\n",
            "      Epoch    GPU_mem   box_loss   obj_loss   cls_loss  Instances       Size\n",
            "     55/399      9.85G    0.03479    0.00816          0         42        640: 100% 23/23 [00:05<00:00,  3.98it/s]\n",
            "                 Class     Images  Instances          P          R      mAP50   mAP50-95: 100% 4/4 [00:01<00:00,  3.57it/s]\n",
            "                   all        120        346      0.871      0.763      0.834      0.432\n",
            "\n",
            "      Epoch    GPU_mem   box_loss   obj_loss   cls_loss  Instances       Size\n",
            "     56/399      9.85G    0.03483   0.007849          0         25        640: 100% 23/23 [00:05<00:00,  3.91it/s]\n",
            "                 Class     Images  Instances          P          R      mAP50   mAP50-95: 100% 4/4 [00:01<00:00,  3.58it/s]\n",
            "                   all        120        346      0.882      0.777      0.848      0.435\n",
            "\n",
            "      Epoch    GPU_mem   box_loss   obj_loss   cls_loss  Instances       Size\n",
            "     57/399      9.85G    0.03655   0.007698          0         34        640: 100% 23/23 [00:05<00:00,  4.59it/s]\n",
            "                 Class     Images  Instances          P          R      mAP50   mAP50-95: 100% 4/4 [00:00<00:00,  4.08it/s]\n",
            "                   all        120        346      0.857      0.743      0.816      0.393\n",
            "\n",
            "      Epoch    GPU_mem   box_loss   obj_loss   cls_loss  Instances       Size\n",
            "     58/399      9.85G    0.03406   0.007954          0         35        640: 100% 23/23 [00:06<00:00,  3.33it/s]\n",
            "                 Class     Images  Instances          P          R      mAP50   mAP50-95: 100% 4/4 [00:00<00:00,  4.41it/s]\n",
            "                   all        120        346      0.885      0.755      0.823      0.436\n",
            "\n",
            "      Epoch    GPU_mem   box_loss   obj_loss   cls_loss  Instances       Size\n",
            "     59/399      9.85G    0.03432    0.00749          0         36        640: 100% 23/23 [00:05<00:00,  4.13it/s]\n",
            "                 Class     Images  Instances          P          R      mAP50   mAP50-95: 100% 4/4 [00:01<00:00,  3.46it/s]\n",
            "                   all        120        346      0.862       0.78      0.833       0.45\n",
            "\n",
            "      Epoch    GPU_mem   box_loss   obj_loss   cls_loss  Instances       Size\n",
            "     60/399      9.85G    0.03694   0.008076          0         42        640: 100% 23/23 [00:04<00:00,  4.91it/s]\n",
            "                 Class     Images  Instances          P          R      mAP50   mAP50-95: 100% 4/4 [00:01<00:00,  3.67it/s]\n",
            "                   all        120        346      0.822      0.769      0.791      0.403\n",
            "\n",
            "      Epoch    GPU_mem   box_loss   obj_loss   cls_loss  Instances       Size\n",
            "     61/399      9.85G    0.03611    0.00814          0         76        640: 100% 23/23 [00:07<00:00,  3.09it/s]\n",
            "                 Class     Images  Instances          P          R      mAP50   mAP50-95: 100% 4/4 [00:01<00:00,  3.56it/s]\n",
            "                   all        120        346      0.888      0.782       0.84      0.441\n",
            "\n",
            "      Epoch    GPU_mem   box_loss   obj_loss   cls_loss  Instances       Size\n",
            "     62/399      9.85G    0.03403   0.007839          0         36        640: 100% 23/23 [00:07<00:00,  3.17it/s]\n",
            "                 Class     Images  Instances          P          R      mAP50   mAP50-95: 100% 4/4 [00:01<00:00,  3.63it/s]\n",
            "                   all        120        346      0.861       0.76      0.805      0.418\n",
            "\n",
            "      Epoch    GPU_mem   box_loss   obj_loss   cls_loss  Instances       Size\n",
            "     63/399      9.85G    0.03602   0.007939          0         61        640: 100% 23/23 [00:05<00:00,  3.95it/s]\n",
            "                 Class     Images  Instances          P          R      mAP50   mAP50-95: 100% 4/4 [00:01<00:00,  3.65it/s]\n",
            "                   all        120        346       0.87      0.774      0.828       0.43\n",
            "\n",
            "      Epoch    GPU_mem   box_loss   obj_loss   cls_loss  Instances       Size\n",
            "     64/399      9.85G    0.03685     0.0079          0         52        640: 100% 23/23 [00:07<00:00,  3.22it/s]\n",
            "                 Class     Images  Instances          P          R      mAP50   mAP50-95: 100% 4/4 [00:01<00:00,  3.48it/s]\n",
            "                   all        120        346      0.898      0.775      0.815      0.432\n",
            "\n",
            "      Epoch    GPU_mem   box_loss   obj_loss   cls_loss  Instances       Size\n",
            "     65/399      9.85G    0.03263   0.007559          0         35        640: 100% 23/23 [00:05<00:00,  4.59it/s]\n",
            "                 Class     Images  Instances          P          R      mAP50   mAP50-95: 100% 4/4 [00:00<00:00,  4.11it/s]\n",
            "                   all        120        346      0.902      0.767      0.826      0.427\n",
            "\n",
            "      Epoch    GPU_mem   box_loss   obj_loss   cls_loss  Instances       Size\n",
            "     66/399      9.85G    0.03517   0.007655          0         30        640: 100% 23/23 [00:05<00:00,  4.11it/s]\n",
            "                 Class     Images  Instances          P          R      mAP50   mAP50-95: 100% 4/4 [00:01<00:00,  3.60it/s]\n",
            "                   all        120        346      0.892      0.765      0.825       0.42\n",
            "\n",
            "      Epoch    GPU_mem   box_loss   obj_loss   cls_loss  Instances       Size\n",
            "     67/399      9.85G    0.03406   0.007594          0         17        640: 100% 23/23 [00:05<00:00,  4.19it/s]\n",
            "                 Class     Images  Instances          P          R      mAP50   mAP50-95: 100% 4/4 [00:01<00:00,  3.67it/s]\n",
            "                   all        120        346       0.91      0.801      0.853      0.444\n",
            "\n",
            "      Epoch    GPU_mem   box_loss   obj_loss   cls_loss  Instances       Size\n",
            "     68/399      9.85G    0.03373     0.0074          0         42        640: 100% 23/23 [00:05<00:00,  3.97it/s]\n",
            "                 Class     Images  Instances          P          R      mAP50   mAP50-95: 100% 4/4 [00:01<00:00,  3.55it/s]\n",
            "                   all        120        346      0.881      0.725      0.809      0.415\n",
            "\n",
            "      Epoch    GPU_mem   box_loss   obj_loss   cls_loss  Instances       Size\n",
            "     69/399      9.85G    0.03488   0.007162          0         32        640: 100% 23/23 [00:05<00:00,  4.20it/s]\n",
            "                 Class     Images  Instances          P          R      mAP50   mAP50-95: 100% 4/4 [00:01<00:00,  3.65it/s]\n",
            "                   all        120        346      0.895      0.738      0.832      0.447\n",
            "\n",
            "      Epoch    GPU_mem   box_loss   obj_loss   cls_loss  Instances       Size\n",
            "     70/399      9.85G    0.03258   0.007924          0         35        640: 100% 23/23 [00:05<00:00,  3.86it/s]\n",
            "                 Class     Images  Instances          P          R      mAP50   mAP50-95: 100% 4/4 [00:01<00:00,  3.57it/s]\n",
            "                   all        120        346      0.856      0.737      0.797      0.425\n",
            "\n",
            "      Epoch    GPU_mem   box_loss   obj_loss   cls_loss  Instances       Size\n",
            "     71/399      9.85G    0.03119   0.007069          0         29        640: 100% 23/23 [00:04<00:00,  5.12it/s]\n",
            "                 Class     Images  Instances          P          R      mAP50   mAP50-95: 100% 4/4 [00:01<00:00,  3.61it/s]\n",
            "                   all        120        346      0.881      0.731      0.831      0.458\n",
            "\n",
            "      Epoch    GPU_mem   box_loss   obj_loss   cls_loss  Instances       Size\n",
            "     72/399      9.85G     0.0367   0.007194          0         22        640: 100% 23/23 [00:04<00:00,  4.89it/s]\n",
            "                 Class     Images  Instances          P          R      mAP50   mAP50-95: 100% 4/4 [00:01<00:00,  3.58it/s]\n",
            "                   all        120        346      0.856      0.777      0.841      0.448\n",
            "\n",
            "      Epoch    GPU_mem   box_loss   obj_loss   cls_loss  Instances       Size\n",
            "     73/399      9.85G    0.03384   0.007522          0         46        640: 100% 23/23 [00:05<00:00,  3.98it/s]\n",
            "                 Class     Images  Instances          P          R      mAP50   mAP50-95: 100% 4/4 [00:01<00:00,  3.65it/s]\n",
            "                   all        120        346      0.872      0.777      0.851      0.458\n",
            "\n",
            "      Epoch    GPU_mem   box_loss   obj_loss   cls_loss  Instances       Size\n",
            "     74/399      9.85G     0.0307    0.00688          0         36        640: 100% 23/23 [00:04<00:00,  4.80it/s]\n",
            "                 Class     Images  Instances          P          R      mAP50   mAP50-95: 100% 4/4 [00:01<00:00,  3.53it/s]\n",
            "                   all        120        346      0.885      0.763      0.822      0.447\n",
            "\n",
            "      Epoch    GPU_mem   box_loss   obj_loss   cls_loss  Instances       Size\n",
            "     75/399      9.85G    0.03279   0.007735          0         60        640: 100% 23/23 [00:04<00:00,  5.27it/s]\n",
            "                 Class     Images  Instances          P          R      mAP50   mAP50-95: 100% 4/4 [00:01<00:00,  3.58it/s]\n",
            "                   all        120        346      0.888       0.76      0.826      0.433\n",
            "\n",
            "      Epoch    GPU_mem   box_loss   obj_loss   cls_loss  Instances       Size\n",
            "     76/399      9.85G    0.03137   0.007432          0         50        640: 100% 23/23 [00:05<00:00,  4.19it/s]\n",
            "                 Class     Images  Instances          P          R      mAP50   mAP50-95: 100% 4/4 [00:01<00:00,  3.60it/s]\n",
            "                   all        120        346      0.814      0.789      0.806      0.436\n",
            "\n",
            "      Epoch    GPU_mem   box_loss   obj_loss   cls_loss  Instances       Size\n",
            "     77/399      9.85G    0.03145   0.006924          0         32        640: 100% 23/23 [00:05<00:00,  3.89it/s]\n",
            "                 Class     Images  Instances          P          R      mAP50   mAP50-95: 100% 4/4 [00:01<00:00,  3.62it/s]\n",
            "                   all        120        346      0.864      0.763      0.818      0.445\n",
            "\n",
            "      Epoch    GPU_mem   box_loss   obj_loss   cls_loss  Instances       Size\n",
            "     78/399      9.85G    0.03094    0.00739          0         39        640: 100% 23/23 [00:05<00:00,  4.11it/s]\n",
            "                 Class     Images  Instances          P          R      mAP50   mAP50-95: 100% 4/4 [00:01<00:00,  3.58it/s]\n",
            "                   all        120        346      0.888      0.756      0.826       0.45\n",
            "\n",
            "      Epoch    GPU_mem   box_loss   obj_loss   cls_loss  Instances       Size\n",
            "     79/399      9.85G     0.0317   0.007607          0         43        640: 100% 23/23 [00:05<00:00,  4.10it/s]\n",
            "                 Class     Images  Instances          P          R      mAP50   mAP50-95: 100% 4/4 [00:01<00:00,  3.61it/s]\n",
            "                   all        120        346      0.899      0.772      0.838      0.453\n",
            "\n",
            "      Epoch    GPU_mem   box_loss   obj_loss   cls_loss  Instances       Size\n",
            "     80/399      9.85G    0.03315   0.006967          0         30        640: 100% 23/23 [00:05<00:00,  4.17it/s]\n",
            "                 Class     Images  Instances          P          R      mAP50   mAP50-95: 100% 4/4 [00:01<00:00,  3.66it/s]\n",
            "                   all        120        346      0.903      0.724      0.807      0.431\n",
            "\n",
            "      Epoch    GPU_mem   box_loss   obj_loss   cls_loss  Instances       Size\n",
            "     81/399      9.85G    0.03231   0.006954          0         49        640: 100% 23/23 [00:05<00:00,  4.04it/s]\n",
            "                 Class     Images  Instances          P          R      mAP50   mAP50-95: 100% 4/4 [00:01<00:00,  3.58it/s]\n",
            "                   all        120        346      0.883      0.763      0.813      0.439\n",
            "\n",
            "      Epoch    GPU_mem   box_loss   obj_loss   cls_loss  Instances       Size\n",
            "     82/399      9.85G    0.03138   0.006317          0         26        640: 100% 23/23 [00:07<00:00,  3.24it/s]\n",
            "                 Class     Images  Instances          P          R      mAP50   mAP50-95: 100% 4/4 [00:01<00:00,  3.61it/s]\n",
            "                   all        120        346      0.899      0.749      0.814      0.446\n",
            "\n",
            "      Epoch    GPU_mem   box_loss   obj_loss   cls_loss  Instances       Size\n",
            "     83/399      9.85G    0.03231   0.007193          0         24        640: 100% 23/23 [00:05<00:00,  4.38it/s]\n",
            "                 Class     Images  Instances          P          R      mAP50   mAP50-95: 100% 4/4 [00:01<00:00,  3.62it/s]\n",
            "                   all        120        346      0.843      0.795      0.828      0.448\n",
            "\n",
            "      Epoch    GPU_mem   box_loss   obj_loss   cls_loss  Instances       Size\n",
            "     84/399      9.85G    0.03189   0.007057          0         13        640: 100% 23/23 [00:05<00:00,  4.28it/s]\n",
            "                 Class     Images  Instances          P          R      mAP50   mAP50-95: 100% 4/4 [00:01<00:00,  3.69it/s]\n",
            "                   all        120        346      0.814      0.773      0.821      0.454\n",
            "\n",
            "      Epoch    GPU_mem   box_loss   obj_loss   cls_loss  Instances       Size\n",
            "     85/399      9.85G    0.03205   0.006891          0         35        640: 100% 23/23 [00:05<00:00,  3.94it/s]\n",
            "                 Class     Images  Instances          P          R      mAP50   mAP50-95: 100% 4/4 [00:01<00:00,  3.59it/s]\n",
            "                   all        120        346      0.901      0.734      0.807      0.451\n",
            "\n",
            "      Epoch    GPU_mem   box_loss   obj_loss   cls_loss  Instances       Size\n",
            "     86/399      9.85G     0.0328    0.00711          0         29        640: 100% 23/23 [00:05<00:00,  4.21it/s]\n",
            "                 Class     Images  Instances          P          R      mAP50   mAP50-95: 100% 4/4 [00:01<00:00,  3.65it/s]\n",
            "                   all        120        346      0.918      0.742      0.821       0.45\n",
            "\n",
            "      Epoch    GPU_mem   box_loss   obj_loss   cls_loss  Instances       Size\n",
            "     87/399      9.85G    0.03133   0.007487          0         51        640: 100% 23/23 [00:07<00:00,  3.16it/s]\n",
            "                 Class     Images  Instances          P          R      mAP50   mAP50-95: 100% 4/4 [00:01<00:00,  3.55it/s]\n",
            "                   all        120        346      0.929      0.756       0.84      0.471\n",
            "\n",
            "      Epoch    GPU_mem   box_loss   obj_loss   cls_loss  Instances       Size\n",
            "     88/399      9.85G    0.03091   0.007402          0         50        640: 100% 23/23 [00:04<00:00,  4.80it/s]\n",
            "                 Class     Images  Instances          P          R      mAP50   mAP50-95: 100% 4/4 [00:01<00:00,  3.66it/s]\n",
            "                   all        120        346      0.908      0.777      0.835      0.462\n",
            "\n",
            "      Epoch    GPU_mem   box_loss   obj_loss   cls_loss  Instances       Size\n",
            "     89/399      9.85G    0.03187   0.007161          0         38        640: 100% 23/23 [00:05<00:00,  3.92it/s]\n",
            "                 Class     Images  Instances          P          R      mAP50   mAP50-95: 100% 4/4 [00:01<00:00,  3.58it/s]\n",
            "                   all        120        346        0.9      0.784      0.835      0.463\n",
            "\n",
            "      Epoch    GPU_mem   box_loss   obj_loss   cls_loss  Instances       Size\n",
            "     90/399      9.85G    0.02979   0.007001          0         34        640: 100% 23/23 [00:05<00:00,  3.93it/s]\n",
            "                 Class     Images  Instances          P          R      mAP50   mAP50-95: 100% 4/4 [00:01<00:00,  3.58it/s]\n",
            "                   all        120        346      0.879      0.734      0.805      0.416\n",
            "\n",
            "      Epoch    GPU_mem   box_loss   obj_loss   cls_loss  Instances       Size\n",
            "     91/399      9.85G     0.0314   0.006989          0         38        640: 100% 23/23 [00:06<00:00,  3.32it/s]\n",
            "                 Class     Images  Instances          P          R      mAP50   mAP50-95: 100% 4/4 [00:01<00:00,  3.42it/s]\n",
            "                   all        120        346      0.911      0.775       0.85      0.459\n",
            "\n",
            "      Epoch    GPU_mem   box_loss   obj_loss   cls_loss  Instances       Size\n",
            "     92/399      9.85G    0.02937   0.006983          0         38        640: 100% 23/23 [00:05<00:00,  4.11it/s]\n",
            "                 Class     Images  Instances          P          R      mAP50   mAP50-95: 100% 4/4 [00:01<00:00,  3.56it/s]\n",
            "                   all        120        346      0.884      0.754      0.832      0.451\n",
            "\n",
            "      Epoch    GPU_mem   box_loss   obj_loss   cls_loss  Instances       Size\n",
            "     93/399      9.85G     0.0328   0.007032          0         21        640: 100% 23/23 [00:04<00:00,  4.73it/s]\n",
            "                 Class     Images  Instances          P          R      mAP50   mAP50-95: 100% 4/4 [00:01<00:00,  3.50it/s]\n",
            "                   all        120        346      0.914      0.757      0.847      0.455\n",
            "\n",
            "      Epoch    GPU_mem   box_loss   obj_loss   cls_loss  Instances       Size\n",
            "     94/399      9.85G    0.03072   0.006436          0         33        640: 100% 23/23 [00:04<00:00,  5.64it/s]\n",
            "                 Class     Images  Instances          P          R      mAP50   mAP50-95: 100% 4/4 [00:01<00:00,  3.57it/s]\n",
            "                   all        120        346      0.889      0.784      0.839      0.453\n",
            "\n",
            "      Epoch    GPU_mem   box_loss   obj_loss   cls_loss  Instances       Size\n",
            "     95/399      9.85G    0.03024   0.006492          0         35        640: 100% 23/23 [00:05<00:00,  3.92it/s]\n",
            "                 Class     Images  Instances          P          R      mAP50   mAP50-95: 100% 4/4 [00:01<00:00,  3.66it/s]\n",
            "                   all        120        346       0.87      0.816      0.858      0.477\n",
            "\n",
            "      Epoch    GPU_mem   box_loss   obj_loss   cls_loss  Instances       Size\n",
            "     96/399      9.85G    0.02883    0.00697          0         33        640: 100% 23/23 [00:05<00:00,  4.14it/s]\n",
            "                 Class     Images  Instances          P          R      mAP50   mAP50-95: 100% 4/4 [00:01<00:00,  3.56it/s]\n",
            "                   all        120        346      0.897      0.766      0.842      0.462\n",
            "\n",
            "      Epoch    GPU_mem   box_loss   obj_loss   cls_loss  Instances       Size\n",
            "     97/399      9.85G    0.02765   0.006605          0         28        640: 100% 23/23 [00:06<00:00,  3.50it/s]\n",
            "                 Class     Images  Instances          P          R      mAP50   mAP50-95: 100% 4/4 [00:01<00:00,  3.53it/s]\n",
            "                   all        120        346      0.883      0.787      0.853       0.47\n",
            "\n",
            "      Epoch    GPU_mem   box_loss   obj_loss   cls_loss  Instances       Size\n",
            "     98/399      9.85G    0.02939     0.0065          0         38        640: 100% 23/23 [00:05<00:00,  4.04it/s]\n",
            "                 Class     Images  Instances          P          R      mAP50   mAP50-95: 100% 4/4 [00:01<00:00,  3.45it/s]\n",
            "                   all        120        346      0.886      0.775      0.845      0.458\n",
            "\n",
            "      Epoch    GPU_mem   box_loss   obj_loss   cls_loss  Instances       Size\n",
            "     99/399      9.85G    0.02944   0.007067          0         31        640: 100% 23/23 [00:05<00:00,  3.92it/s]\n",
            "                 Class     Images  Instances          P          R      mAP50   mAP50-95: 100% 4/4 [00:01<00:00,  3.48it/s]\n",
            "                   all        120        346      0.879      0.772      0.829       0.46\n",
            "\n",
            "      Epoch    GPU_mem   box_loss   obj_loss   cls_loss  Instances       Size\n",
            "    100/399      9.85G    0.02865   0.006876          0         30        640: 100% 23/23 [00:05<00:00,  4.05it/s]\n",
            "                 Class     Images  Instances          P          R      mAP50   mAP50-95: 100% 4/4 [00:01<00:00,  3.62it/s]\n",
            "                   all        120        346      0.926      0.769      0.833      0.447\n",
            "\n",
            "      Epoch    GPU_mem   box_loss   obj_loss   cls_loss  Instances       Size\n",
            "    101/399      9.85G    0.03154   0.007159          0         32        640: 100% 23/23 [00:05<00:00,  4.20it/s]\n",
            "                 Class     Images  Instances          P          R      mAP50   mAP50-95: 100% 4/4 [00:01<00:00,  3.47it/s]\n",
            "                   all        120        346      0.882       0.76      0.808       0.44\n",
            "\n",
            "      Epoch    GPU_mem   box_loss   obj_loss   cls_loss  Instances       Size\n",
            "    102/399      9.85G    0.02818   0.006546          0         30        640: 100% 23/23 [00:05<00:00,  4.22it/s]\n",
            "                 Class     Images  Instances          P          R      mAP50   mAP50-95: 100% 4/4 [00:01<00:00,  3.60it/s]\n",
            "                   all        120        346      0.915       0.78      0.851       0.47\n",
            "\n",
            "      Epoch    GPU_mem   box_loss   obj_loss   cls_loss  Instances       Size\n",
            "    103/399      9.85G     0.0275    0.00645          0         38        640: 100% 23/23 [00:04<00:00,  4.81it/s]\n",
            "                 Class     Images  Instances          P          R      mAP50   mAP50-95: 100% 4/4 [00:01<00:00,  3.56it/s]\n",
            "                   all        120        346      0.909      0.763      0.849       0.47\n",
            "\n",
            "      Epoch    GPU_mem   box_loss   obj_loss   cls_loss  Instances       Size\n",
            "    104/399      9.85G    0.03161   0.006795          0         36        640: 100% 23/23 [00:05<00:00,  4.27it/s]\n",
            "                 Class     Images  Instances          P          R      mAP50   mAP50-95: 100% 4/4 [00:01<00:00,  3.61it/s]\n",
            "                   all        120        346      0.888       0.76      0.829      0.462\n",
            "\n",
            "      Epoch    GPU_mem   box_loss   obj_loss   cls_loss  Instances       Size\n",
            "    105/399      9.85G    0.03016   0.006727          0         29        640: 100% 23/23 [00:05<00:00,  4.07it/s]\n",
            "                 Class     Images  Instances          P          R      mAP50   mAP50-95: 100% 4/4 [00:01<00:00,  3.60it/s]\n",
            "                   all        120        346      0.878      0.754      0.826      0.466\n",
            "\n",
            "      Epoch    GPU_mem   box_loss   obj_loss   cls_loss  Instances       Size\n",
            "    106/399      9.85G    0.02726   0.006936          0         26        640: 100% 23/23 [00:05<00:00,  3.93it/s]\n",
            "                 Class     Images  Instances          P          R      mAP50   mAP50-95: 100% 4/4 [00:01<00:00,  3.51it/s]\n",
            "                   all        120        346      0.901      0.733      0.817      0.455\n",
            "\n",
            "      Epoch    GPU_mem   box_loss   obj_loss   cls_loss  Instances       Size\n",
            "    107/399      9.85G    0.02962   0.006695          0         30        640: 100% 23/23 [00:05<00:00,  4.55it/s]\n",
            "                 Class     Images  Instances          P          R      mAP50   mAP50-95: 100% 4/4 [00:01<00:00,  3.49it/s]\n",
            "                   all        120        346      0.851      0.806      0.851       0.48\n",
            "\n",
            "      Epoch    GPU_mem   box_loss   obj_loss   cls_loss  Instances       Size\n",
            "    108/399      9.85G    0.02853   0.006863          0         41        640: 100% 23/23 [00:05<00:00,  4.10it/s]\n",
            "                 Class     Images  Instances          P          R      mAP50   mAP50-95: 100% 4/4 [00:01<00:00,  3.52it/s]\n",
            "                   all        120        346      0.877      0.781      0.855      0.463\n",
            "\n",
            "      Epoch    GPU_mem   box_loss   obj_loss   cls_loss  Instances       Size\n",
            "    109/399      9.85G    0.02973    0.00645          0         47        640: 100% 23/23 [00:05<00:00,  4.42it/s]\n",
            "                 Class     Images  Instances          P          R      mAP50   mAP50-95: 100% 4/4 [00:00<00:00,  4.08it/s]\n",
            "                   all        120        346      0.887      0.749      0.831      0.461\n",
            "\n",
            "      Epoch    GPU_mem   box_loss   obj_loss   cls_loss  Instances       Size\n",
            "    110/399      9.85G    0.02905   0.007085          0         39        640: 100% 23/23 [00:06<00:00,  3.60it/s]\n",
            "                 Class     Images  Instances          P          R      mAP50   mAP50-95: 100% 4/4 [00:01<00:00,  3.64it/s]\n",
            "                   all        120        346      0.883       0.76       0.83      0.456\n",
            "\n",
            "      Epoch    GPU_mem   box_loss   obj_loss   cls_loss  Instances       Size\n",
            "    111/399      9.85G    0.02665   0.006495          0         37        640: 100% 23/23 [00:06<00:00,  3.72it/s]\n",
            "                 Class     Images  Instances          P          R      mAP50   mAP50-95: 100% 4/4 [00:01<00:00,  3.51it/s]\n",
            "                   all        120        346      0.904      0.766      0.838      0.467\n",
            "\n",
            "      Epoch    GPU_mem   box_loss   obj_loss   cls_loss  Instances       Size\n",
            "    112/399      9.85G    0.02999   0.006782          0         32        640: 100% 23/23 [00:05<00:00,  4.39it/s]\n",
            "                 Class     Images  Instances          P          R      mAP50   mAP50-95: 100% 4/4 [00:01<00:00,  3.54it/s]\n",
            "                   all        120        346      0.875      0.749      0.821       0.45\n",
            "\n",
            "      Epoch    GPU_mem   box_loss   obj_loss   cls_loss  Instances       Size\n",
            "    113/399      9.85G    0.02864   0.006618          0         20        640: 100% 23/23 [00:05<00:00,  4.46it/s]\n",
            "                 Class     Images  Instances          P          R      mAP50   mAP50-95: 100% 4/4 [00:01<00:00,  3.56it/s]\n",
            "                   all        120        346      0.884       0.74      0.832      0.461\n",
            "\n",
            "      Epoch    GPU_mem   box_loss   obj_loss   cls_loss  Instances       Size\n",
            "    114/399      9.85G    0.02668   0.006188          0         20        640: 100% 23/23 [00:05<00:00,  4.38it/s]\n",
            "                 Class     Images  Instances          P          R      mAP50   mAP50-95: 100% 4/4 [00:01<00:00,  3.53it/s]\n",
            "                   all        120        346      0.895      0.766      0.837      0.451\n",
            "\n",
            "      Epoch    GPU_mem   box_loss   obj_loss   cls_loss  Instances       Size\n",
            "    115/399      9.85G    0.02739   0.006297          0         43        640: 100% 23/23 [00:08<00:00,  2.69it/s]\n",
            "                 Class     Images  Instances          P          R      mAP50   mAP50-95: 100% 4/4 [00:01<00:00,  3.53it/s]\n",
            "                   all        120        346      0.886       0.76      0.838      0.464\n",
            "\n",
            "      Epoch    GPU_mem   box_loss   obj_loss   cls_loss  Instances       Size\n",
            "    116/399      9.85G    0.02882   0.006666          0         53        640: 100% 23/23 [00:05<00:00,  4.10it/s]\n",
            "                 Class     Images  Instances          P          R      mAP50   mAP50-95: 100% 4/4 [00:01<00:00,  3.50it/s]\n",
            "                   all        120        346      0.912      0.757      0.834      0.475\n",
            "\n",
            "      Epoch    GPU_mem   box_loss   obj_loss   cls_loss  Instances       Size\n",
            "    117/399      9.85G    0.03048   0.006994          0         34        640: 100% 23/23 [00:05<00:00,  4.10it/s]\n",
            "                 Class     Images  Instances          P          R      mAP50   mAP50-95: 100% 4/4 [00:01<00:00,  3.61it/s]\n",
            "                   all        120        346      0.879      0.731      0.823      0.449\n",
            "\n",
            "      Epoch    GPU_mem   box_loss   obj_loss   cls_loss  Instances       Size\n",
            "    118/399      9.85G     0.0266   0.006061          0         43        640: 100% 23/23 [00:05<00:00,  4.22it/s]\n",
            "                 Class     Images  Instances          P          R      mAP50   mAP50-95: 100% 4/4 [00:01<00:00,  3.58it/s]\n",
            "                   all        120        346      0.894      0.746      0.841      0.459\n",
            "\n",
            "      Epoch    GPU_mem   box_loss   obj_loss   cls_loss  Instances       Size\n",
            "    119/399      9.85G    0.02678   0.006601          0         23        640: 100% 23/23 [00:05<00:00,  4.07it/s]\n",
            "                 Class     Images  Instances          P          R      mAP50   mAP50-95: 100% 4/4 [00:01<00:00,  3.64it/s]\n",
            "                   all        120        346      0.885      0.736      0.825      0.465\n",
            "\n",
            "      Epoch    GPU_mem   box_loss   obj_loss   cls_loss  Instances       Size\n",
            "    120/399      9.85G    0.02892   0.006313          0         24        640: 100% 23/23 [00:06<00:00,  3.73it/s]\n",
            "                 Class     Images  Instances          P          R      mAP50   mAP50-95: 100% 4/4 [00:01<00:00,  3.67it/s]\n",
            "                   all        120        346      0.858      0.766      0.823      0.454\n",
            "\n",
            "      Epoch    GPU_mem   box_loss   obj_loss   cls_loss  Instances       Size\n",
            "    121/399      9.85G     0.0275   0.006464          0         25        640: 100% 23/23 [00:05<00:00,  4.00it/s]\n",
            "                 Class     Images  Instances          P          R      mAP50   mAP50-95: 100% 4/4 [00:01<00:00,  3.60it/s]\n",
            "                   all        120        346      0.896      0.745      0.826       0.45\n",
            "\n",
            "      Epoch    GPU_mem   box_loss   obj_loss   cls_loss  Instances       Size\n",
            "    122/399      9.85G    0.02708   0.006404          0         50        640: 100% 23/23 [00:05<00:00,  4.10it/s]\n",
            "                 Class     Images  Instances          P          R      mAP50   mAP50-95: 100% 4/4 [00:01<00:00,  3.58it/s]\n",
            "                   all        120        346      0.887      0.772      0.843       0.46\n",
            "\n",
            "      Epoch    GPU_mem   box_loss   obj_loss   cls_loss  Instances       Size\n",
            "    123/399      9.85G    0.02891   0.006718          0         41        640: 100% 23/23 [00:05<00:00,  4.07it/s]\n",
            "                 Class     Images  Instances          P          R      mAP50   mAP50-95: 100% 4/4 [00:00<00:00,  4.45it/s]\n",
            "                   all        120        346      0.893      0.766      0.843      0.466\n",
            "\n",
            "      Epoch    GPU_mem   box_loss   obj_loss   cls_loss  Instances       Size\n",
            "    124/399      9.85G    0.02842   0.007083          0         67        640: 100% 23/23 [00:06<00:00,  3.41it/s]\n",
            "                 Class     Images  Instances          P          R      mAP50   mAP50-95: 100% 4/4 [00:01<00:00,  3.55it/s]\n",
            "                   all        120        346      0.895      0.737      0.825       0.46\n",
            "\n",
            "      Epoch    GPU_mem   box_loss   obj_loss   cls_loss  Instances       Size\n",
            "    125/399      9.85G    0.02571   0.006036          0         37        640: 100% 23/23 [00:05<00:00,  4.07it/s]\n",
            "                 Class     Images  Instances          P          R      mAP50   mAP50-95: 100% 4/4 [00:01<00:00,  3.41it/s]\n",
            "                   all        120        346      0.882      0.753      0.807      0.449\n",
            "\n",
            "      Epoch    GPU_mem   box_loss   obj_loss   cls_loss  Instances       Size\n",
            "    126/399      9.85G     0.0275   0.006627          0         17        640: 100% 23/23 [00:05<00:00,  4.10it/s]\n",
            "                 Class     Images  Instances          P          R      mAP50   mAP50-95: 100% 4/4 [00:01<00:00,  3.61it/s]\n",
            "                   all        120        346      0.883      0.739      0.812       0.44\n",
            "\n",
            "      Epoch    GPU_mem   box_loss   obj_loss   cls_loss  Instances       Size\n",
            "    127/399      9.85G    0.02882   0.006708          0         27        640: 100% 23/23 [00:05<00:00,  4.03it/s]\n",
            "                 Class     Images  Instances          P          R      mAP50   mAP50-95: 100% 4/4 [00:01<00:00,  3.46it/s]\n",
            "                   all        120        346      0.859      0.777      0.831      0.457\n",
            "\n",
            "      Epoch    GPU_mem   box_loss   obj_loss   cls_loss  Instances       Size\n",
            "    128/399      9.85G    0.02758   0.006701          0         25        640: 100% 23/23 [00:05<00:00,  4.26it/s]\n",
            "                 Class     Images  Instances          P          R      mAP50   mAP50-95: 100% 4/4 [00:01<00:00,  3.56it/s]\n",
            "                   all        120        346      0.873      0.801      0.842      0.459\n",
            "\n",
            "      Epoch    GPU_mem   box_loss   obj_loss   cls_loss  Instances       Size\n",
            "    129/399      9.85G    0.02781   0.006622          0         62        640: 100% 23/23 [00:05<00:00,  4.28it/s]\n",
            "                 Class     Images  Instances          P          R      mAP50   mAP50-95: 100% 4/4 [00:01<00:00,  3.54it/s]\n",
            "                   all        120        346      0.907      0.783      0.849      0.467\n",
            "\n",
            "      Epoch    GPU_mem   box_loss   obj_loss   cls_loss  Instances       Size\n",
            "    130/399      9.85G    0.02781    0.00652          0         34        640: 100% 23/23 [00:05<00:00,  3.95it/s]\n",
            "                 Class     Images  Instances          P          R      mAP50   mAP50-95: 100% 4/4 [00:01<00:00,  3.58it/s]\n",
            "                   all        120        346       0.87      0.793      0.849      0.474\n",
            "\n",
            "      Epoch    GPU_mem   box_loss   obj_loss   cls_loss  Instances       Size\n",
            "    131/399      9.85G    0.02812   0.006273          0         54        640: 100% 23/23 [00:05<00:00,  4.00it/s]\n",
            "                 Class     Images  Instances          P          R      mAP50   mAP50-95: 100% 4/4 [00:01<00:00,  3.59it/s]\n",
            "                   all        120        346       0.89      0.771      0.846      0.469\n",
            "\n",
            "      Epoch    GPU_mem   box_loss   obj_loss   cls_loss  Instances       Size\n",
            "    132/399      9.85G    0.02685    0.00618          0         26        640: 100% 23/23 [00:05<00:00,  3.98it/s]\n",
            "                 Class     Images  Instances          P          R      mAP50   mAP50-95: 100% 4/4 [00:01<00:00,  3.46it/s]\n",
            "                   all        120        346      0.893       0.77       0.85      0.473\n",
            "\n",
            "      Epoch    GPU_mem   box_loss   obj_loss   cls_loss  Instances       Size\n",
            "    133/399      9.85G     0.0277   0.007161          0         47        640: 100% 23/23 [00:04<00:00,  5.41it/s]\n",
            "                 Class     Images  Instances          P          R      mAP50   mAP50-95: 100% 4/4 [00:01<00:00,  3.58it/s]\n",
            "                   all        120        346      0.905      0.769      0.849       0.47\n",
            "\n",
            "      Epoch    GPU_mem   box_loss   obj_loss   cls_loss  Instances       Size\n",
            "    134/399      9.85G    0.02579   0.006155          0         29        640: 100% 23/23 [00:05<00:00,  4.23it/s]\n",
            "                 Class     Images  Instances          P          R      mAP50   mAP50-95: 100% 4/4 [00:01<00:00,  3.67it/s]\n",
            "                   all        120        346      0.903       0.78       0.85      0.477\n",
            "\n",
            "      Epoch    GPU_mem   box_loss   obj_loss   cls_loss  Instances       Size\n",
            "    135/399      9.85G    0.02869   0.006038          0         25        640: 100% 23/23 [00:05<00:00,  4.08it/s]\n",
            "                 Class     Images  Instances          P          R      mAP50   mAP50-95: 100% 4/4 [00:01<00:00,  3.69it/s]\n",
            "                   all        120        346      0.887      0.792      0.848      0.465\n",
            "\n",
            "      Epoch    GPU_mem   box_loss   obj_loss   cls_loss  Instances       Size\n",
            "    136/399      9.85G    0.02714   0.006268          0         31        640: 100% 23/23 [00:04<00:00,  5.18it/s]\n",
            "                 Class     Images  Instances          P          R      mAP50   mAP50-95: 100% 4/4 [00:01<00:00,  3.57it/s]\n",
            "                   all        120        346      0.887      0.789      0.853      0.475\n",
            "\n",
            "      Epoch    GPU_mem   box_loss   obj_loss   cls_loss  Instances       Size\n",
            "    137/399      9.85G    0.02809   0.006338          0         23        640: 100% 23/23 [00:04<00:00,  5.08it/s]\n",
            "                 Class     Images  Instances          P          R      mAP50   mAP50-95: 100% 4/4 [00:01<00:00,  3.70it/s]\n",
            "                   all        120        346      0.914      0.798       0.86      0.479\n",
            "\n",
            "      Epoch    GPU_mem   box_loss   obj_loss   cls_loss  Instances       Size\n",
            "    138/399      9.85G     0.0252   0.005948          0         46        640: 100% 23/23 [00:04<00:00,  4.79it/s]\n",
            "                 Class     Images  Instances          P          R      mAP50   mAP50-95: 100% 4/4 [00:01<00:00,  3.51it/s]\n",
            "                   all        120        346      0.904      0.783       0.86      0.476\n",
            "\n",
            "      Epoch    GPU_mem   box_loss   obj_loss   cls_loss  Instances       Size\n",
            "    139/399      9.85G    0.02917   0.006006          0         34        640: 100% 23/23 [00:04<00:00,  5.15it/s]\n",
            "                 Class     Images  Instances          P          R      mAP50   mAP50-95: 100% 4/4 [00:01<00:00,  3.52it/s]\n",
            "                   all        120        346      0.934      0.772      0.863      0.481\n",
            "\n",
            "      Epoch    GPU_mem   box_loss   obj_loss   cls_loss  Instances       Size\n",
            "    140/399      9.85G    0.02572   0.006349          0         30        640: 100% 23/23 [00:04<00:00,  5.18it/s]\n",
            "                 Class     Images  Instances          P          R      mAP50   mAP50-95: 100% 4/4 [00:01<00:00,  3.55it/s]\n",
            "                   all        120        346      0.913      0.777       0.85      0.472\n",
            "\n",
            "      Epoch    GPU_mem   box_loss   obj_loss   cls_loss  Instances       Size\n",
            "    141/399      9.85G    0.02865   0.006202          0         41        640: 100% 23/23 [00:04<00:00,  5.14it/s]\n",
            "                 Class     Images  Instances          P          R      mAP50   mAP50-95: 100% 4/4 [00:01<00:00,  3.67it/s]\n",
            "                   all        120        346      0.908      0.786      0.847      0.476\n",
            "\n",
            "      Epoch    GPU_mem   box_loss   obj_loss   cls_loss  Instances       Size\n",
            "    142/399      9.85G    0.02537   0.005633          0         35        640: 100% 23/23 [00:06<00:00,  3.42it/s]\n",
            "                 Class     Images  Instances          P          R      mAP50   mAP50-95: 100% 4/4 [00:01<00:00,  3.54it/s]\n",
            "                   all        120        346      0.915      0.782       0.86      0.468\n",
            "\n",
            "      Epoch    GPU_mem   box_loss   obj_loss   cls_loss  Instances       Size\n",
            "    143/399      9.85G    0.02853   0.006197          0         35        640: 100% 23/23 [00:06<00:00,  3.71it/s]\n",
            "                 Class     Images  Instances          P          R      mAP50   mAP50-95: 100% 4/4 [00:01<00:00,  3.58it/s]\n",
            "                   all        120        346        0.9      0.766      0.841       0.47\n",
            "\n",
            "      Epoch    GPU_mem   box_loss   obj_loss   cls_loss  Instances       Size\n",
            "    144/399      9.85G    0.02695   0.006199          0         30        640: 100% 23/23 [00:05<00:00,  4.00it/s]\n",
            "                 Class     Images  Instances          P          R      mAP50   mAP50-95: 100% 4/4 [00:01<00:00,  3.51it/s]\n",
            "                   all        120        346      0.902      0.795      0.853      0.477\n",
            "\n",
            "      Epoch    GPU_mem   box_loss   obj_loss   cls_loss  Instances       Size\n",
            "    145/399      9.85G     0.0257   0.006046          0         31        640: 100% 23/23 [00:05<00:00,  4.12it/s]\n",
            "                 Class     Images  Instances          P          R      mAP50   mAP50-95: 100% 4/4 [00:01<00:00,  3.64it/s]\n",
            "                   all        120        346      0.882      0.792       0.86       0.48\n",
            "\n",
            "      Epoch    GPU_mem   box_loss   obj_loss   cls_loss  Instances       Size\n",
            "    146/399      9.85G    0.02827   0.006171          0         24        640: 100% 23/23 [00:05<00:00,  4.39it/s]\n",
            "                 Class     Images  Instances          P          R      mAP50   mAP50-95: 100% 4/4 [00:01<00:00,  3.57it/s]\n",
            "                   all        120        346      0.903       0.76      0.835      0.467\n",
            "\n",
            "      Epoch    GPU_mem   box_loss   obj_loss   cls_loss  Instances       Size\n",
            "    147/399      9.85G    0.02454   0.005998          0         27        640: 100% 23/23 [00:06<00:00,  3.83it/s]\n",
            "                 Class     Images  Instances          P          R      mAP50   mAP50-95: 100% 4/4 [00:01<00:00,  3.60it/s]\n",
            "                   all        120        346      0.896      0.754      0.847       0.48\n",
            "\n",
            "      Epoch    GPU_mem   box_loss   obj_loss   cls_loss  Instances       Size\n",
            "    148/399      9.85G    0.02901   0.006312          0         27        640: 100% 23/23 [00:05<00:00,  4.00it/s]\n",
            "                 Class     Images  Instances          P          R      mAP50   mAP50-95: 100% 4/4 [00:01<00:00,  3.51it/s]\n",
            "                   all        120        346      0.902      0.748      0.832      0.478\n",
            "\n",
            "      Epoch    GPU_mem   box_loss   obj_loss   cls_loss  Instances       Size\n",
            "    149/399      9.85G    0.02715   0.005912          0         30        640: 100% 23/23 [00:05<00:00,  4.04it/s]\n",
            "                 Class     Images  Instances          P          R      mAP50   mAP50-95: 100% 4/4 [00:01<00:00,  3.59it/s]\n",
            "                   all        120        346      0.845      0.754      0.813      0.455\n",
            "\n",
            "      Epoch    GPU_mem   box_loss   obj_loss   cls_loss  Instances       Size\n",
            "    150/399      9.85G    0.02645   0.006557          0         40        640: 100% 23/23 [00:06<00:00,  3.53it/s]\n",
            "                 Class     Images  Instances          P          R      mAP50   mAP50-95: 100% 4/4 [00:01<00:00,  3.66it/s]\n",
            "                   all        120        346      0.891       0.76      0.837      0.473\n",
            "\n",
            "      Epoch    GPU_mem   box_loss   obj_loss   cls_loss  Instances       Size\n",
            "    151/399      9.85G    0.02609   0.005839          0         36        640: 100% 23/23 [00:05<00:00,  4.16it/s]\n",
            "                 Class     Images  Instances          P          R      mAP50   mAP50-95: 100% 4/4 [00:01<00:00,  3.64it/s]\n",
            "                   all        120        346      0.912      0.728      0.838      0.475\n",
            "\n",
            "      Epoch    GPU_mem   box_loss   obj_loss   cls_loss  Instances       Size\n",
            "    152/399      9.85G    0.02493   0.005928          0         29        640: 100% 23/23 [00:05<00:00,  4.21it/s]\n",
            "                 Class     Images  Instances          P          R      mAP50   mAP50-95: 100% 4/4 [00:01<00:00,  3.60it/s]\n",
            "                   all        120        346      0.929      0.734       0.84      0.469\n",
            "\n",
            "      Epoch    GPU_mem   box_loss   obj_loss   cls_loss  Instances       Size\n",
            "    153/399      9.85G     0.0275    0.00602          0         36        640: 100% 23/23 [00:05<00:00,  4.12it/s]\n",
            "                 Class     Images  Instances          P          R      mAP50   mAP50-95: 100% 4/4 [00:01<00:00,  3.56it/s]\n",
            "                   all        120        346      0.924      0.731      0.845      0.476\n",
            "\n",
            "      Epoch    GPU_mem   box_loss   obj_loss   cls_loss  Instances       Size\n",
            "    154/399      9.85G    0.02731    0.00603          0         39        640: 100% 23/23 [00:06<00:00,  3.74it/s]\n",
            "                 Class     Images  Instances          P          R      mAP50   mAP50-95: 100% 4/4 [00:01<00:00,  3.63it/s]\n",
            "                   all        120        346      0.914      0.737      0.839      0.477\n",
            "\n",
            "      Epoch    GPU_mem   box_loss   obj_loss   cls_loss  Instances       Size\n",
            "    155/399      9.85G     0.0259   0.006006          0         59        640: 100% 23/23 [00:06<00:00,  3.78it/s]\n",
            "                 Class     Images  Instances          P          R      mAP50   mAP50-95: 100% 4/4 [00:01<00:00,  3.55it/s]\n",
            "                   all        120        346      0.902      0.775      0.858       0.49\n",
            "\n",
            "      Epoch    GPU_mem   box_loss   obj_loss   cls_loss  Instances       Size\n",
            "    156/399      9.85G    0.02658   0.005873          0         42        640: 100% 23/23 [00:06<00:00,  3.54it/s]\n",
            "                 Class     Images  Instances          P          R      mAP50   mAP50-95: 100% 4/4 [00:01<00:00,  3.61it/s]\n",
            "                   all        120        346       0.92      0.769      0.868      0.497\n",
            "\n",
            "      Epoch    GPU_mem   box_loss   obj_loss   cls_loss  Instances       Size\n",
            "    157/399      9.85G     0.0235   0.006073          0         31        640: 100% 23/23 [00:03<00:00,  6.14it/s]\n",
            "                 Class     Images  Instances          P          R      mAP50   mAP50-95: 100% 4/4 [00:01<00:00,  3.58it/s]\n",
            "                   all        120        346      0.928      0.747      0.848      0.476\n",
            "\n",
            "      Epoch    GPU_mem   box_loss   obj_loss   cls_loss  Instances       Size\n",
            "    158/399      9.85G     0.0259   0.005803          0         36        640: 100% 23/23 [00:05<00:00,  4.58it/s]\n",
            "                 Class     Images  Instances          P          R      mAP50   mAP50-95: 100% 4/4 [00:01<00:00,  3.55it/s]\n",
            "                   all        120        346      0.907      0.736      0.836      0.478\n",
            "\n",
            "      Epoch    GPU_mem   box_loss   obj_loss   cls_loss  Instances       Size\n",
            "    159/399      9.85G     0.0259   0.006272          0         37        640: 100% 23/23 [00:06<00:00,  3.66it/s]\n",
            "                 Class     Images  Instances          P          R      mAP50   mAP50-95: 100% 4/4 [00:01<00:00,  3.63it/s]\n",
            "                   all        120        346      0.911      0.743      0.847      0.478\n",
            "\n",
            "      Epoch    GPU_mem   box_loss   obj_loss   cls_loss  Instances       Size\n",
            "    160/399      9.85G    0.02474   0.005752          0         43        640: 100% 23/23 [00:05<00:00,  4.33it/s]\n",
            "                 Class     Images  Instances          P          R      mAP50   mAP50-95: 100% 4/4 [00:01<00:00,  3.41it/s]\n",
            "                   all        120        346      0.914      0.708      0.825       0.47\n",
            "\n",
            "      Epoch    GPU_mem   box_loss   obj_loss   cls_loss  Instances       Size\n",
            "    161/399      9.85G    0.02689   0.006051          0         64        640: 100% 23/23 [00:04<00:00,  5.23it/s]\n",
            "                 Class     Images  Instances          P          R      mAP50   mAP50-95: 100% 4/4 [00:00<00:00,  4.69it/s]\n",
            "                   all        120        346      0.907      0.734      0.833      0.483\n",
            "\n",
            "      Epoch    GPU_mem   box_loss   obj_loss   cls_loss  Instances       Size\n",
            "    162/399      9.85G    0.02412   0.006097          0         72        640: 100% 23/23 [00:06<00:00,  3.45it/s]\n",
            "                 Class     Images  Instances          P          R      mAP50   mAP50-95: 100% 4/4 [00:01<00:00,  3.57it/s]\n",
            "                   all        120        346      0.885      0.789      0.848      0.483\n",
            "\n",
            "      Epoch    GPU_mem   box_loss   obj_loss   cls_loss  Instances       Size\n",
            "    163/399      9.85G    0.02606   0.005708          0         34        640: 100% 23/23 [00:05<00:00,  4.04it/s]\n",
            "                 Class     Images  Instances          P          R      mAP50   mAP50-95: 100% 4/4 [00:01<00:00,  3.57it/s]\n",
            "                   all        120        346      0.911      0.766      0.838      0.487\n",
            "\n",
            "      Epoch    GPU_mem   box_loss   obj_loss   cls_loss  Instances       Size\n",
            "    164/399      9.85G    0.02494   0.005799          0         25        640: 100% 23/23 [00:05<00:00,  4.35it/s]\n",
            "                 Class     Images  Instances          P          R      mAP50   mAP50-95: 100% 4/4 [00:01<00:00,  3.48it/s]\n",
            "                   all        120        346      0.927      0.734      0.834      0.474\n",
            "\n",
            "      Epoch    GPU_mem   box_loss   obj_loss   cls_loss  Instances       Size\n",
            "    165/399      9.85G    0.02606   0.005436          0         30        640: 100% 23/23 [00:05<00:00,  4.07it/s]\n",
            "                 Class     Images  Instances          P          R      mAP50   mAP50-95: 100% 4/4 [00:01<00:00,  3.61it/s]\n",
            "                   all        120        346      0.861      0.757       0.83      0.466\n",
            "\n",
            "      Epoch    GPU_mem   box_loss   obj_loss   cls_loss  Instances       Size\n",
            "    166/399      9.85G    0.02378   0.006203          0         24        640: 100% 23/23 [00:05<00:00,  4.11it/s]\n",
            "                 Class     Images  Instances          P          R      mAP50   mAP50-95: 100% 4/4 [00:01<00:00,  3.63it/s]\n",
            "                   all        120        346      0.896      0.771      0.841      0.476\n",
            "\n",
            "      Epoch    GPU_mem   box_loss   obj_loss   cls_loss  Instances       Size\n",
            "    167/399      9.85G    0.02521   0.006031          0         52        640: 100% 23/23 [00:05<00:00,  4.10it/s]\n",
            "                 Class     Images  Instances          P          R      mAP50   mAP50-95: 100% 4/4 [00:00<00:00,  4.42it/s]\n",
            "                   all        120        346      0.925       0.75      0.835      0.459\n",
            "\n",
            "      Epoch    GPU_mem   box_loss   obj_loss   cls_loss  Instances       Size\n",
            "    168/399      9.85G    0.02532   0.005965          0         41        640: 100% 23/23 [00:07<00:00,  3.24it/s]\n",
            "                 Class     Images  Instances          P          R      mAP50   mAP50-95: 100% 4/4 [00:01<00:00,  3.50it/s]\n",
            "                   all        120        346      0.894       0.78      0.843       0.47\n",
            "\n",
            "      Epoch    GPU_mem   box_loss   obj_loss   cls_loss  Instances       Size\n",
            "    169/399      9.85G    0.02573   0.005637          0         41        640: 100% 23/23 [00:05<00:00,  4.21it/s]\n",
            "                 Class     Images  Instances          P          R      mAP50   mAP50-95: 100% 4/4 [00:01<00:00,  3.56it/s]\n",
            "                   all        120        346      0.896      0.783      0.848      0.486\n",
            "\n",
            "      Epoch    GPU_mem   box_loss   obj_loss   cls_loss  Instances       Size\n",
            "    170/399      9.85G    0.02232   0.005755          0         33        640: 100% 23/23 [00:05<00:00,  4.24it/s]\n",
            "                 Class     Images  Instances          P          R      mAP50   mAP50-95: 100% 4/4 [00:01<00:00,  3.70it/s]\n",
            "                   all        120        346      0.864      0.783      0.848       0.47\n",
            "\n",
            "      Epoch    GPU_mem   box_loss   obj_loss   cls_loss  Instances       Size\n",
            "    171/399      9.85G    0.02386   0.005932          0         36        640: 100% 23/23 [00:07<00:00,  2.98it/s]\n",
            "                 Class     Images  Instances          P          R      mAP50   mAP50-95: 100% 4/4 [00:01<00:00,  3.53it/s]\n",
            "                   all        120        346      0.905      0.734      0.845      0.464\n",
            "\n",
            "      Epoch    GPU_mem   box_loss   obj_loss   cls_loss  Instances       Size\n",
            "    172/399      9.85G    0.02345   0.005793          0         38        640: 100% 23/23 [00:06<00:00,  3.38it/s]\n",
            "                 Class     Images  Instances          P          R      mAP50   mAP50-95: 100% 4/4 [00:01<00:00,  3.61it/s]\n",
            "                   all        120        346      0.912      0.752      0.843      0.479\n",
            "\n",
            "      Epoch    GPU_mem   box_loss   obj_loss   cls_loss  Instances       Size\n",
            "    173/399      9.85G    0.02473   0.005981          0         24        640: 100% 23/23 [00:05<00:00,  3.93it/s]\n",
            "                 Class     Images  Instances          P          R      mAP50   mAP50-95: 100% 4/4 [00:01<00:00,  3.50it/s]\n",
            "                   all        120        346      0.879      0.749      0.833      0.477\n",
            "\n",
            "      Epoch    GPU_mem   box_loss   obj_loss   cls_loss  Instances       Size\n",
            "    174/399      9.85G    0.02418   0.006072          0         58        640: 100% 23/23 [00:05<00:00,  4.09it/s]\n",
            "                 Class     Images  Instances          P          R      mAP50   mAP50-95: 100% 4/4 [00:01<00:00,  3.76it/s]\n",
            "                   all        120        346       0.88      0.745      0.829      0.482\n",
            "\n",
            "      Epoch    GPU_mem   box_loss   obj_loss   cls_loss  Instances       Size\n",
            "    175/399      9.85G    0.02393   0.006068          0         25        640: 100% 23/23 [00:04<00:00,  4.72it/s]\n",
            "                 Class     Images  Instances          P          R      mAP50   mAP50-95: 100% 4/4 [00:00<00:00,  4.12it/s]\n",
            "                   all        120        346      0.885      0.734       0.83      0.476\n",
            "\n",
            "      Epoch    GPU_mem   box_loss   obj_loss   cls_loss  Instances       Size\n",
            "    176/399      9.85G    0.02498   0.005714          0         31        640: 100% 23/23 [00:06<00:00,  3.58it/s]\n",
            "                 Class     Images  Instances          P          R      mAP50   mAP50-95: 100% 4/4 [00:01<00:00,  3.52it/s]\n",
            "                   all        120        346      0.892      0.764      0.844      0.472\n",
            "\n",
            "      Epoch    GPU_mem   box_loss   obj_loss   cls_loss  Instances       Size\n",
            "    177/399      9.85G    0.02367   0.005409          0         39        640: 100% 23/23 [00:06<00:00,  3.55it/s]\n",
            "                 Class     Images  Instances          P          R      mAP50   mAP50-95: 100% 4/4 [00:01<00:00,  3.81it/s]\n",
            "                   all        120        346      0.884      0.772      0.838      0.472\n",
            "\n",
            "      Epoch    GPU_mem   box_loss   obj_loss   cls_loss  Instances       Size\n",
            "    178/399      9.85G    0.02388   0.005484          0         35        640: 100% 23/23 [00:05<00:00,  4.16it/s]\n",
            "                 Class     Images  Instances          P          R      mAP50   mAP50-95: 100% 4/4 [00:01<00:00,  3.93it/s]\n",
            "                   all        120        346      0.921       0.76      0.858      0.489\n",
            "\n",
            "      Epoch    GPU_mem   box_loss   obj_loss   cls_loss  Instances       Size\n",
            "    179/399      9.85G     0.0233    0.00588          0         31        640: 100% 23/23 [00:05<00:00,  4.46it/s]\n",
            "                 Class     Images  Instances          P          R      mAP50   mAP50-95: 100% 4/4 [00:01<00:00,  3.56it/s]\n",
            "                   all        120        346      0.926      0.749      0.861      0.487\n",
            "\n",
            "      Epoch    GPU_mem   box_loss   obj_loss   cls_loss  Instances       Size\n",
            "    180/399      9.85G    0.02366    0.00564          0         41        640: 100% 23/23 [00:06<00:00,  3.81it/s]\n",
            "                 Class     Images  Instances          P          R      mAP50   mAP50-95: 100% 4/4 [00:01<00:00,  3.52it/s]\n",
            "                   all        120        346      0.923      0.758      0.855      0.482\n",
            "\n",
            "      Epoch    GPU_mem   box_loss   obj_loss   cls_loss  Instances       Size\n",
            "    181/399      9.85G    0.02491   0.005981          0         27        640: 100% 23/23 [00:04<00:00,  4.61it/s]\n",
            "                 Class     Images  Instances          P          R      mAP50   mAP50-95: 100% 4/4 [00:01<00:00,  3.55it/s]\n",
            "                   all        120        346      0.865      0.803      0.857      0.482\n",
            "\n",
            "      Epoch    GPU_mem   box_loss   obj_loss   cls_loss  Instances       Size\n",
            "    182/399      9.85G    0.02478   0.006132          0         29        640: 100% 23/23 [00:04<00:00,  5.31it/s]\n",
            "                 Class     Images  Instances          P          R      mAP50   mAP50-95: 100% 4/4 [00:01<00:00,  3.63it/s]\n",
            "                   all        120        346      0.905      0.767      0.842       0.47\n",
            "\n",
            "      Epoch    GPU_mem   box_loss   obj_loss   cls_loss  Instances       Size\n",
            "    183/399      9.85G    0.02493   0.005725          0         39        640: 100% 23/23 [00:05<00:00,  4.11it/s]\n",
            "                 Class     Images  Instances          P          R      mAP50   mAP50-95: 100% 4/4 [00:01<00:00,  3.56it/s]\n",
            "                   all        120        346      0.911      0.763      0.845      0.475\n",
            "\n",
            "      Epoch    GPU_mem   box_loss   obj_loss   cls_loss  Instances       Size\n",
            "    184/399      9.85G    0.02361   0.005528          0         13        640: 100% 23/23 [00:05<00:00,  4.30it/s]\n",
            "                 Class     Images  Instances          P          R      mAP50   mAP50-95: 100% 4/4 [00:01<00:00,  3.64it/s]\n",
            "                   all        120        346      0.902      0.769       0.85      0.481\n",
            "\n",
            "      Epoch    GPU_mem   box_loss   obj_loss   cls_loss  Instances       Size\n",
            "    185/399      9.85G    0.02347   0.005895          0         42        640: 100% 23/23 [00:05<00:00,  4.16it/s]\n",
            "                 Class     Images  Instances          P          R      mAP50   mAP50-95: 100% 4/4 [00:01<00:00,  3.56it/s]\n",
            "                   all        120        346      0.902      0.766      0.858       0.49\n",
            "\n",
            "      Epoch    GPU_mem   box_loss   obj_loss   cls_loss  Instances       Size\n",
            "    186/399      9.85G    0.02355   0.005374          0         28        640: 100% 23/23 [00:05<00:00,  4.40it/s]\n",
            "                 Class     Images  Instances          P          R      mAP50   mAP50-95: 100% 4/4 [00:01<00:00,  3.58it/s]\n",
            "                   all        120        346      0.908      0.742      0.852      0.486\n",
            "\n",
            "      Epoch    GPU_mem   box_loss   obj_loss   cls_loss  Instances       Size\n",
            "    187/399      9.85G    0.02343   0.005843          0         50        640: 100% 23/23 [00:05<00:00,  3.95it/s]\n",
            "                 Class     Images  Instances          P          R      mAP50   mAP50-95: 100% 4/4 [00:01<00:00,  3.91it/s]\n",
            "                   all        120        346      0.903      0.755      0.847      0.483\n",
            "\n",
            "      Epoch    GPU_mem   box_loss   obj_loss   cls_loss  Instances       Size\n",
            "    188/399      9.85G     0.0226   0.005628          0         44        640: 100% 23/23 [00:06<00:00,  3.50it/s]\n",
            "                 Class     Images  Instances          P          R      mAP50   mAP50-95: 100% 4/4 [00:01<00:00,  3.54it/s]\n",
            "                   all        120        346      0.909      0.777      0.862      0.492\n",
            "\n",
            "      Epoch    GPU_mem   box_loss   obj_loss   cls_loss  Instances       Size\n",
            "    189/399      9.85G     0.0241   0.005756          0         29        640: 100% 23/23 [00:05<00:00,  4.01it/s]\n",
            "                 Class     Images  Instances          P          R      mAP50   mAP50-95: 100% 4/4 [00:01<00:00,  3.62it/s]\n",
            "                   all        120        346      0.906       0.78      0.865       0.49\n",
            "\n",
            "      Epoch    GPU_mem   box_loss   obj_loss   cls_loss  Instances       Size\n",
            "    190/399      9.85G    0.02252   0.005421          0         27        640: 100% 23/23 [00:05<00:00,  4.24it/s]\n",
            "                 Class     Images  Instances          P          R      mAP50   mAP50-95: 100% 4/4 [00:01<00:00,  3.62it/s]\n",
            "                   all        120        346      0.906      0.751      0.849      0.483\n",
            "\n",
            "      Epoch    GPU_mem   box_loss   obj_loss   cls_loss  Instances       Size\n",
            "    191/399      9.85G    0.02456   0.005333          0         17        640: 100% 23/23 [00:05<00:00,  3.96it/s]\n",
            "                 Class     Images  Instances          P          R      mAP50   mAP50-95: 100% 4/4 [00:01<00:00,  3.92it/s]\n",
            "                   all        120        346      0.906      0.753       0.84      0.495\n",
            "\n",
            "      Epoch    GPU_mem   box_loss   obj_loss   cls_loss  Instances       Size\n",
            "    192/399      9.85G    0.02228   0.005534          0         37        640: 100% 23/23 [00:06<00:00,  3.52it/s]\n",
            "                 Class     Images  Instances          P          R      mAP50   mAP50-95: 100% 4/4 [00:01<00:00,  3.58it/s]\n",
            "                   all        120        346      0.907      0.757      0.847      0.495\n",
            "\n",
            "      Epoch    GPU_mem   box_loss   obj_loss   cls_loss  Instances       Size\n",
            "    193/399      9.85G    0.02213   0.005255          0         36        640: 100% 23/23 [00:05<00:00,  4.01it/s]\n",
            "                 Class     Images  Instances          P          R      mAP50   mAP50-95: 100% 4/4 [00:01<00:00,  3.45it/s]\n",
            "                   all        120        346      0.862      0.794      0.848      0.493\n",
            "\n",
            "      Epoch    GPU_mem   box_loss   obj_loss   cls_loss  Instances       Size\n",
            "    194/399      9.85G    0.02257   0.005341          0         33        640: 100% 23/23 [00:05<00:00,  4.04it/s]\n",
            "                 Class     Images  Instances          P          R      mAP50   mAP50-95: 100% 4/4 [00:01<00:00,  3.64it/s]\n",
            "                   all        120        346      0.915      0.757      0.855      0.494\n",
            "\n",
            "      Epoch    GPU_mem   box_loss   obj_loss   cls_loss  Instances       Size\n",
            "    195/399      9.85G    0.02125   0.005325          0         47        640: 100% 23/23 [00:06<00:00,  3.77it/s]\n",
            "                 Class     Images  Instances          P          R      mAP50   mAP50-95: 100% 4/4 [00:00<00:00,  4.15it/s]\n",
            "                   all        120        346      0.892      0.783      0.855      0.496\n",
            "\n",
            "      Epoch    GPU_mem   box_loss   obj_loss   cls_loss  Instances       Size\n",
            "    196/399      9.85G    0.02343   0.005508          0         23        640: 100% 23/23 [00:05<00:00,  4.01it/s]\n",
            "                 Class     Images  Instances          P          R      mAP50   mAP50-95: 100% 4/4 [00:01<00:00,  3.62it/s]\n",
            "                   all        120        346      0.912       0.76      0.847      0.487\n",
            "Stopping training early as no improvement observed in last 40 epochs. Best results observed at epoch 156, best model saved as best.pt.\n",
            "To update EarlyStopping(patience=40) pass a new patience value, i.e. `python train.py --patience 300` or use `--patience 0` to disable EarlyStopping.\n",
            "\n",
            "197 epochs completed in 0.554 hours.\n",
            "Optimizer stripped from drive/MyDrive/yolov5/runs/train/exp15/weights/last.pt, 92.8MB\n",
            "Optimizer stripped from drive/MyDrive/yolov5/runs/train/exp15/weights/best.pt, 92.8MB\n",
            "\n",
            "Validating drive/MyDrive/yolov5/runs/train/exp15/weights/best.pt...\n",
            "Fusing layers... \n",
            "Model summary: 267 layers, 46108278 parameters, 0 gradients, 107.6 GFLOPs\n",
            "                 Class     Images  Instances          P          R      mAP50   mAP50-95: 100% 4/4 [00:03<00:00,  1.23it/s]\n",
            "                   all        120        346      0.921      0.769      0.868      0.497\n",
            "Results saved to \u001b[1mdrive/MyDrive/yolov5/runs/train/exp15\u001b[0m\n"
          ]
        }
      ],
      "source": [
        "\n",
        "# 필요한 라이브러리 설치\n",
        "!git clone https://github.com/ultralytics/ultralytics\n",
        "%cd /content/drive/MyDrive/yolov5/\n",
        "!pip install -r /content/drive/MyDrive/yolov5/requirements.txt # 필요한 라이브러리 설치\n",
        "\n",
        "import torch\n",
        "from IPython.display import Image, clear_output  # 결과를 표시하기 위한 라이브러리\n",
        "!python /content/drive/MyDrive/yolov5/train.py --img 640 --patience 40 --batch 16 --epochs 400 --data /content/drive/MyDrive/yolov5/data/data.yaml --weights yolov5l.pt\n",
        "\n"
      ]
    },
    {
      "cell_type": "code",
      "execution_count": null,
      "metadata": {
        "colab": {
          "base_uri": "https://localhost:8080/"
        },
        "id": "p2MyjWKWWhrh",
        "outputId": "19f2a79f-7878-41fd-a553-f03498cb7d5f"
      },
      "outputs": [
        {
          "output_type": "stream",
          "name": "stdout",
          "text": [
            "Collecting ultralytics\n",
            "  Downloading ultralytics-8.1.17-py3-none-any.whl (715 kB)\n",
            "\u001b[?25l     \u001b[90m━━━━━━━━━━━━━━━━━━━━━━━━━━━━━━━━━━━━━━━━\u001b[0m \u001b[32m0.0/715.9 kB\u001b[0m \u001b[31m?\u001b[0m eta \u001b[36m-:--:--\u001b[0m\r\u001b[2K     \u001b[91m━━━━━━━━━━━━━━━━━━━━━━━━━━━━━━━━━━━━\u001b[0m\u001b[91m╸\u001b[0m\u001b[90m━━━\u001b[0m \u001b[32m655.4/715.9 kB\u001b[0m \u001b[31m19.4 MB/s\u001b[0m eta \u001b[36m0:00:01\u001b[0m\r\u001b[2K     \u001b[90m━━━━━━━━━━━━━━━━━━━━━━━━━━━━━━━━━━━━━━━━\u001b[0m \u001b[32m715.9/715.9 kB\u001b[0m \u001b[31m15.1 MB/s\u001b[0m eta \u001b[36m0:00:00\u001b[0m\n",
            "\u001b[?25hRequirement already satisfied: matplotlib>=3.3.0 in /usr/local/lib/python3.10/dist-packages (from ultralytics) (3.7.1)\n",
            "Requirement already satisfied: opencv-python>=4.6.0 in /usr/local/lib/python3.10/dist-packages (from ultralytics) (4.8.0.76)\n",
            "Requirement already satisfied: pillow>=7.1.2 in /usr/local/lib/python3.10/dist-packages (from ultralytics) (9.4.0)\n",
            "Requirement already satisfied: pyyaml>=5.3.1 in /usr/local/lib/python3.10/dist-packages (from ultralytics) (6.0.1)\n",
            "Requirement already satisfied: requests>=2.23.0 in /usr/local/lib/python3.10/dist-packages (from ultralytics) (2.31.0)\n",
            "Requirement already satisfied: scipy>=1.4.1 in /usr/local/lib/python3.10/dist-packages (from ultralytics) (1.11.4)\n",
            "Requirement already satisfied: torch>=1.8.0 in /usr/local/lib/python3.10/dist-packages (from ultralytics) (2.1.0+cu121)\n",
            "Requirement already satisfied: torchvision>=0.9.0 in /usr/local/lib/python3.10/dist-packages (from ultralytics) (0.16.0+cu121)\n",
            "Requirement already satisfied: tqdm>=4.64.0 in /usr/local/lib/python3.10/dist-packages (from ultralytics) (4.66.2)\n",
            "Requirement already satisfied: psutil in /usr/local/lib/python3.10/dist-packages (from ultralytics) (5.9.5)\n",
            "Requirement already satisfied: py-cpuinfo in /usr/local/lib/python3.10/dist-packages (from ultralytics) (9.0.0)\n",
            "Collecting thop>=0.1.1 (from ultralytics)\n",
            "  Downloading thop-0.1.1.post2209072238-py3-none-any.whl (15 kB)\n",
            "Requirement already satisfied: pandas>=1.1.4 in /usr/local/lib/python3.10/dist-packages (from ultralytics) (1.5.3)\n",
            "Requirement already satisfied: seaborn>=0.11.0 in /usr/local/lib/python3.10/dist-packages (from ultralytics) (0.13.1)\n",
            "Requirement already satisfied: contourpy>=1.0.1 in /usr/local/lib/python3.10/dist-packages (from matplotlib>=3.3.0->ultralytics) (1.2.0)\n",
            "Requirement already satisfied: cycler>=0.10 in /usr/local/lib/python3.10/dist-packages (from matplotlib>=3.3.0->ultralytics) (0.12.1)\n",
            "Requirement already satisfied: fonttools>=4.22.0 in /usr/local/lib/python3.10/dist-packages (from matplotlib>=3.3.0->ultralytics) (4.49.0)\n",
            "Requirement already satisfied: kiwisolver>=1.0.1 in /usr/local/lib/python3.10/dist-packages (from matplotlib>=3.3.0->ultralytics) (1.4.5)\n",
            "Requirement already satisfied: numpy>=1.20 in /usr/local/lib/python3.10/dist-packages (from matplotlib>=3.3.0->ultralytics) (1.25.2)\n",
            "Requirement already satisfied: packaging>=20.0 in /usr/local/lib/python3.10/dist-packages (from matplotlib>=3.3.0->ultralytics) (23.2)\n",
            "Requirement already satisfied: pyparsing>=2.3.1 in /usr/local/lib/python3.10/dist-packages (from matplotlib>=3.3.0->ultralytics) (3.1.1)\n",
            "Requirement already satisfied: python-dateutil>=2.7 in /usr/local/lib/python3.10/dist-packages (from matplotlib>=3.3.0->ultralytics) (2.8.2)\n",
            "Requirement already satisfied: pytz>=2020.1 in /usr/local/lib/python3.10/dist-packages (from pandas>=1.1.4->ultralytics) (2023.4)\n",
            "Requirement already satisfied: charset-normalizer<4,>=2 in /usr/local/lib/python3.10/dist-packages (from requests>=2.23.0->ultralytics) (3.3.2)\n",
            "Requirement already satisfied: idna<4,>=2.5 in /usr/local/lib/python3.10/dist-packages (from requests>=2.23.0->ultralytics) (3.6)\n",
            "Requirement already satisfied: urllib3<3,>=1.21.1 in /usr/local/lib/python3.10/dist-packages (from requests>=2.23.0->ultralytics) (2.0.7)\n",
            "Requirement already satisfied: certifi>=2017.4.17 in /usr/local/lib/python3.10/dist-packages (from requests>=2.23.0->ultralytics) (2024.2.2)\n",
            "Requirement already satisfied: filelock in /usr/local/lib/python3.10/dist-packages (from torch>=1.8.0->ultralytics) (3.13.1)\n",
            "Requirement already satisfied: typing-extensions in /usr/local/lib/python3.10/dist-packages (from torch>=1.8.0->ultralytics) (4.9.0)\n",
            "Requirement already satisfied: sympy in /usr/local/lib/python3.10/dist-packages (from torch>=1.8.0->ultralytics) (1.12)\n",
            "Requirement already satisfied: networkx in /usr/local/lib/python3.10/dist-packages (from torch>=1.8.0->ultralytics) (3.2.1)\n",
            "Requirement already satisfied: jinja2 in /usr/local/lib/python3.10/dist-packages (from torch>=1.8.0->ultralytics) (3.1.3)\n",
            "Requirement already satisfied: fsspec in /usr/local/lib/python3.10/dist-packages (from torch>=1.8.0->ultralytics) (2023.6.0)\n",
            "Requirement already satisfied: triton==2.1.0 in /usr/local/lib/python3.10/dist-packages (from torch>=1.8.0->ultralytics) (2.1.0)\n",
            "Requirement already satisfied: six>=1.5 in /usr/local/lib/python3.10/dist-packages (from python-dateutil>=2.7->matplotlib>=3.3.0->ultralytics) (1.16.0)\n",
            "Requirement already satisfied: MarkupSafe>=2.0 in /usr/local/lib/python3.10/dist-packages (from jinja2->torch>=1.8.0->ultralytics) (2.1.5)\n",
            "Requirement already satisfied: mpmath>=0.19 in /usr/local/lib/python3.10/dist-packages (from sympy->torch>=1.8.0->ultralytics) (1.3.0)\n",
            "Installing collected packages: thop, ultralytics\n",
            "Successfully installed thop-0.1.1.post2209072238 ultralytics-8.1.17\n",
            "\u001b[34m\u001b[1mval: \u001b[0mdata=/content/drive/MyDrive/yolov5/data/data.yaml, weights=['/content/drive/MyDrive/yolov5/runs/train/exp11/weights/best.pt'], batch_size=32, imgsz=640, conf_thres=0.001, iou_thres=0.6, max_det=300, task=test, device=, workers=8, single_cls=False, augment=False, verbose=False, save_txt=False, save_hybrid=False, save_conf=False, save_json=False, project=drive/MyDrive/yolov5/runs/val, name=exp, exist_ok=False, half=False, dnn=False\n",
            "\u001b[31m\u001b[1mrequirements:\u001b[0m Ultralytics requirement ['gitpython>=3.1.30'] not found, attempting AutoUpdate...\n",
            "Collecting gitpython>=3.1.30\n",
            "  Downloading GitPython-3.1.42-py3-none-any.whl (195 kB)\n",
            "     ━━━━━━━━━━━━━━━━━━━━━━━━━━━━━━━━━━━━━━━━ 195.4/195.4 kB 6.9 MB/s eta 0:00:00\n",
            "Collecting gitdb<5,>=4.0.1 (from gitpython>=3.1.30)\n",
            "  Downloading gitdb-4.0.11-py3-none-any.whl (62 kB)\n",
            "     ━━━━━━━━━━━━━━━━━━━━━━━━━━━━━━━━━━━━━━━━ 62.7/62.7 kB 235.0 MB/s eta 0:00:00\n",
            "Collecting smmap<6,>=3.0.1 (from gitdb<5,>=4.0.1->gitpython>=3.1.30)\n",
            "  Downloading smmap-5.0.1-py3-none-any.whl (24 kB)\n",
            "Installing collected packages: smmap, gitdb, gitpython\n",
            "Successfully installed gitdb-4.0.11 gitpython-3.1.42 smmap-5.0.1\n",
            "\n",
            "\u001b[31m\u001b[1mrequirements:\u001b[0m AutoUpdate success ✅ 5.3s, installed 1 package: ['gitpython>=3.1.30']\n",
            "\u001b[31m\u001b[1mrequirements:\u001b[0m ⚠️ \u001b[1mRestart runtime or rerun command for updates to take effect\u001b[0m\n",
            "\n",
            "YOLOv5 🚀 v7.0-284-g95ebf68f Python-3.10.12 torch-2.1.0+cu121 CUDA:0 (NVIDIA A100-SXM4-40GB, 40514MiB)\n",
            "\n",
            "Fusing layers... \n",
            "Model summary: 267 layers, 46108278 parameters, 0 gradients, 107.6 GFLOPs\n",
            "Downloading https://ultralytics.com/assets/Arial.ttf to /root/.config/Ultralytics/Arial.ttf...\n",
            "100% 755k/755k [00:00<00:00, 115MB/s]\n",
            "\u001b[34m\u001b[1mtest: \u001b[0mScanning /content/drive/MyDrive/yolov5/data/labels/test.cache... 120 images, 1 backgrounds, 0 corrupt: 100% 120/120 [00:00<?, ?it/s]\n",
            "                 Class     Images  Instances          P          R      mAP50   mAP50-95: 100% 4/4 [00:44<00:00, 11.18s/it]\n",
            "                   all        120        322      0.867      0.789      0.833      0.461\n",
            "Speed: 0.7ms pre-process, 18.3ms inference, 6.3ms NMS per image at shape (32, 3, 640, 640)\n",
            "Results saved to \u001b[1mdrive/MyDrive/yolov5/runs/val/exp14\u001b[0m\n"
          ]
        }
      ],
      "source": [
        "!python /content/drive/MyDrive/yolov5/val.py --img 640 --weights /content/drive/MyDrive/yolov5/runs/train/exp11/weights/best.pt --data /content/drive/MyDrive/yolov5/data/data.yaml --task test"
      ]
    },
    {
      "cell_type": "code",
      "execution_count": null,
      "metadata": {
        "colab": {
          "base_uri": "https://localhost:8080/"
        },
        "id": "0sprndpN8t3Z",
        "outputId": "2e7288e2-a4f6-4390-a416-611eb5ba4e44"
      },
      "outputs": [
        {
          "name": "stdout",
          "output_type": "stream",
          "text": [
            "shell-init: error retrieving current directory: getcwd: cannot access parent directories: No such file or directory\n",
            "cat: /content/drive/MyDrive/yolov5/data/data.yaml: No such file or directory\n"
          ]
        }
      ],
      "source": [
        "%cat /content/drive/MyDrive/yolov5/data/data.yaml"
      ]
    },
    {
      "cell_type": "code",
      "execution_count": null,
      "metadata": {
        "id": "V7lZRDfno2Ti"
      },
      "outputs": [],
      "source": [
        "!git clone https://github.com/ultralytics/yolov5  # YOLOv5 리포지토리 클론\n",
        "%cd yolov5"
      ]
    },
    {
      "cell_type": "code",
      "execution_count": null,
      "metadata": {
        "colab": {
          "base_uri": "https://localhost:8080/"
        },
        "id": "zoR-iorwsaDE",
        "outputId": "bcaee600-050c-4a93-bd74-503fb2427d08"
      },
      "outputs": [
        {
          "name": "stdout",
          "output_type": "stream",
          "text": [
            "Requirement already satisfied: PyYAML in /usr/local/lib/python3.10/dist-packages (6.0.1)\n",
            "Collecting ultralytics\n",
            "  Downloading ultralytics-8.1.16-py3-none-any.whl (715 kB)\n",
            "\u001b[2K     \u001b[90m━━━━━━━━━━━━━━━━━━━━━━━━━━━━━━━━━━━━━━━━\u001b[0m \u001b[32m715.4/715.4 kB\u001b[0m \u001b[31m9.8 MB/s\u001b[0m eta \u001b[36m0:00:00\u001b[0m\n",
            "\u001b[?25hRequirement already satisfied: matplotlib>=3.3.0 in /usr/local/lib/python3.10/dist-packages (from ultralytics) (3.7.1)\n",
            "Requirement already satisfied: opencv-python>=4.6.0 in /usr/local/lib/python3.10/dist-packages (from ultralytics) (4.8.0.76)\n",
            "Requirement already satisfied: pillow>=7.1.2 in /usr/local/lib/python3.10/dist-packages (from ultralytics) (9.4.0)\n",
            "Requirement already satisfied: pyyaml>=5.3.1 in /usr/local/lib/python3.10/dist-packages (from ultralytics) (6.0.1)\n",
            "Requirement already satisfied: requests>=2.23.0 in /usr/local/lib/python3.10/dist-packages (from ultralytics) (2.31.0)\n",
            "Requirement already satisfied: scipy>=1.4.1 in /usr/local/lib/python3.10/dist-packages (from ultralytics) (1.11.4)\n",
            "Requirement already satisfied: torch>=1.8.0 in /usr/local/lib/python3.10/dist-packages (from ultralytics) (2.1.0+cu121)\n",
            "Requirement already satisfied: torchvision>=0.9.0 in /usr/local/lib/python3.10/dist-packages (from ultralytics) (0.16.0+cu121)\n",
            "Requirement already satisfied: tqdm>=4.64.0 in /usr/local/lib/python3.10/dist-packages (from ultralytics) (4.66.2)\n",
            "Requirement already satisfied: psutil in /usr/local/lib/python3.10/dist-packages (from ultralytics) (5.9.5)\n",
            "Requirement already satisfied: py-cpuinfo in /usr/local/lib/python3.10/dist-packages (from ultralytics) (9.0.0)\n",
            "Collecting thop>=0.1.1 (from ultralytics)\n",
            "  Downloading thop-0.1.1.post2209072238-py3-none-any.whl (15 kB)\n",
            "Requirement already satisfied: pandas>=1.1.4 in /usr/local/lib/python3.10/dist-packages (from ultralytics) (1.5.3)\n",
            "Requirement already satisfied: seaborn>=0.11.0 in /usr/local/lib/python3.10/dist-packages (from ultralytics) (0.13.1)\n",
            "Requirement already satisfied: contourpy>=1.0.1 in /usr/local/lib/python3.10/dist-packages (from matplotlib>=3.3.0->ultralytics) (1.2.0)\n",
            "Requirement already satisfied: cycler>=0.10 in /usr/local/lib/python3.10/dist-packages (from matplotlib>=3.3.0->ultralytics) (0.12.1)\n",
            "Requirement already satisfied: fonttools>=4.22.0 in /usr/local/lib/python3.10/dist-packages (from matplotlib>=3.3.0->ultralytics) (4.49.0)\n",
            "Requirement already satisfied: kiwisolver>=1.0.1 in /usr/local/lib/python3.10/dist-packages (from matplotlib>=3.3.0->ultralytics) (1.4.5)\n",
            "Requirement already satisfied: numpy>=1.20 in /usr/local/lib/python3.10/dist-packages (from matplotlib>=3.3.0->ultralytics) (1.25.2)\n",
            "Requirement already satisfied: packaging>=20.0 in /usr/local/lib/python3.10/dist-packages (from matplotlib>=3.3.0->ultralytics) (23.2)\n",
            "Requirement already satisfied: pyparsing>=2.3.1 in /usr/local/lib/python3.10/dist-packages (from matplotlib>=3.3.0->ultralytics) (3.1.1)\n",
            "Requirement already satisfied: python-dateutil>=2.7 in /usr/local/lib/python3.10/dist-packages (from matplotlib>=3.3.0->ultralytics) (2.8.2)\n",
            "Requirement already satisfied: pytz>=2020.1 in /usr/local/lib/python3.10/dist-packages (from pandas>=1.1.4->ultralytics) (2023.4)\n",
            "Requirement already satisfied: charset-normalizer<4,>=2 in /usr/local/lib/python3.10/dist-packages (from requests>=2.23.0->ultralytics) (3.3.2)\n",
            "Requirement already satisfied: idna<4,>=2.5 in /usr/local/lib/python3.10/dist-packages (from requests>=2.23.0->ultralytics) (3.6)\n",
            "Requirement already satisfied: urllib3<3,>=1.21.1 in /usr/local/lib/python3.10/dist-packages (from requests>=2.23.0->ultralytics) (2.0.7)\n",
            "Requirement already satisfied: certifi>=2017.4.17 in /usr/local/lib/python3.10/dist-packages (from requests>=2.23.0->ultralytics) (2024.2.2)\n",
            "Requirement already satisfied: filelock in /usr/local/lib/python3.10/dist-packages (from torch>=1.8.0->ultralytics) (3.13.1)\n",
            "Requirement already satisfied: typing-extensions in /usr/local/lib/python3.10/dist-packages (from torch>=1.8.0->ultralytics) (4.9.0)\n",
            "Requirement already satisfied: sympy in /usr/local/lib/python3.10/dist-packages (from torch>=1.8.0->ultralytics) (1.12)\n",
            "Requirement already satisfied: networkx in /usr/local/lib/python3.10/dist-packages (from torch>=1.8.0->ultralytics) (3.2.1)\n",
            "Requirement already satisfied: jinja2 in /usr/local/lib/python3.10/dist-packages (from torch>=1.8.0->ultralytics) (3.1.3)\n",
            "Requirement already satisfied: fsspec in /usr/local/lib/python3.10/dist-packages (from torch>=1.8.0->ultralytics) (2023.6.0)\n",
            "Requirement already satisfied: triton==2.1.0 in /usr/local/lib/python3.10/dist-packages (from torch>=1.8.0->ultralytics) (2.1.0)\n",
            "Requirement already satisfied: six>=1.5 in /usr/local/lib/python3.10/dist-packages (from python-dateutil>=2.7->matplotlib>=3.3.0->ultralytics) (1.16.0)\n",
            "Requirement already satisfied: MarkupSafe>=2.0 in /usr/local/lib/python3.10/dist-packages (from jinja2->torch>=1.8.0->ultralytics) (2.1.5)\n",
            "Requirement already satisfied: mpmath>=0.19 in /usr/local/lib/python3.10/dist-packages (from sympy->torch>=1.8.0->ultralytics) (1.3.0)\n",
            "Installing collected packages: thop, ultralytics\n",
            "Successfully installed thop-0.1.1.post2209072238 ultralytics-8.1.16\n"
          ]
        }
      ],
      "source": [
        "!pip install PyYAML\n",
        "!pip install ultralytics\n",
        "from ultralytics import YOLO"
      ]
    },
    {
      "cell_type": "code",
      "execution_count": null,
      "metadata": {
        "colab": {
          "base_uri": "https://localhost:8080/"
        },
        "id": "YFSBVSBptHsz",
        "outputId": "3734dee1-34ad-4a41-bedc-4d1d9591e19a"
      },
      "outputs": [
        {
          "name": "stdout",
          "output_type": "stream",
          "text": [
            "Downloading https://github.com/ultralytics/assets/releases/download/v8.1.0/yolov8l.pt to 'yolov8l.pt'...\n"
          ]
        },
        {
          "name": "stderr",
          "output_type": "stream",
          "text": [
            "100%|██████████| 83.7M/83.7M [00:00<00:00, 344MB/s]\n"
          ]
        }
      ],
      "source": [
        "model = YOLO('yolov8l.pt')"
      ]
    },
    {
      "cell_type": "code",
      "execution_count": null,
      "metadata": {
        "colab": {
          "base_uri": "https://localhost:8080/"
        },
        "id": "UqOUEwSNtQQo",
        "outputId": "023b1d48-2908-4092-ebf0-f7a6fec3745c"
      },
      "outputs": [
        {
          "name": "stdout",
          "output_type": "stream",
          "text": [
            "Ultralytics YOLOv8.1.16 🚀 Python-3.10.12 torch-2.1.0+cu121 CUDA:0 (Tesla T4, 15102MiB)\n",
            "\u001b[34m\u001b[1mengine/trainer: \u001b[0mtask=detect, mode=train, model=yolov8l.pt, data=/content/drive/MyDrive/yolov5/data/data.yaml, epochs=100, time=None, patience=100, batch=16, imgsz=640, save=True, save_period=-1, cache=False, device=None, workers=8, project=None, name=train, exist_ok=False, pretrained=True, optimizer=auto, verbose=True, seed=0, deterministic=True, single_cls=False, rect=False, cos_lr=False, close_mosaic=10, resume=False, amp=True, fraction=1.0, profile=False, freeze=None, multi_scale=False, overlap_mask=True, mask_ratio=4, dropout=0.0, val=True, split=val, save_json=False, save_hybrid=False, conf=None, iou=0.7, max_det=300, half=False, dnn=False, plots=True, source=None, vid_stride=1, stream_buffer=False, visualize=False, augment=False, agnostic_nms=False, classes=None, retina_masks=False, embed=None, show=False, save_frames=False, save_txt=False, save_conf=False, save_crop=False, show_labels=True, show_conf=True, show_boxes=True, line_width=None, format=torchscript, keras=False, optimize=False, int8=False, dynamic=False, simplify=False, opset=None, workspace=4, nms=False, lr0=0.01, lrf=0.01, momentum=0.937, weight_decay=0.0005, warmup_epochs=3.0, warmup_momentum=0.8, warmup_bias_lr=0.1, box=7.5, cls=0.5, dfl=1.5, pose=12.0, kobj=1.0, label_smoothing=0.0, nbs=64, hsv_h=0.015, hsv_s=0.7, hsv_v=0.4, degrees=0.0, translate=0.1, scale=0.5, shear=0.0, perspective=0.0, flipud=0.0, fliplr=0.5, mosaic=1.0, mixup=0.0, copy_paste=0.0, auto_augment=randaugment, erasing=0.4, crop_fraction=1.0, cfg=None, tracker=botsort.yaml, save_dir=runs/detect/train\n",
            "Downloading https://ultralytics.com/assets/Arial.ttf to '/root/.config/Ultralytics/Arial.ttf'...\n"
          ]
        },
        {
          "name": "stderr",
          "output_type": "stream",
          "text": [
            "100%|██████████| 755k/755k [00:00<00:00, 41.2MB/s]\n"
          ]
        },
        {
          "name": "stdout",
          "output_type": "stream",
          "text": [
            "Overriding model.yaml nc=80 with nc=1\n",
            "\n",
            "                   from  n    params  module                                       arguments                     \n",
            "  0                  -1  1      1856  ultralytics.nn.modules.conv.Conv             [3, 64, 3, 2]                 \n",
            "  1                  -1  1     73984  ultralytics.nn.modules.conv.Conv             [64, 128, 3, 2]               \n",
            "  2                  -1  3    279808  ultralytics.nn.modules.block.C2f             [128, 128, 3, True]           \n",
            "  3                  -1  1    295424  ultralytics.nn.modules.conv.Conv             [128, 256, 3, 2]              \n",
            "  4                  -1  6   2101248  ultralytics.nn.modules.block.C2f             [256, 256, 6, True]           \n",
            "  5                  -1  1   1180672  ultralytics.nn.modules.conv.Conv             [256, 512, 3, 2]              \n",
            "  6                  -1  6   8396800  ultralytics.nn.modules.block.C2f             [512, 512, 6, True]           \n",
            "  7                  -1  1   2360320  ultralytics.nn.modules.conv.Conv             [512, 512, 3, 2]              \n",
            "  8                  -1  3   4461568  ultralytics.nn.modules.block.C2f             [512, 512, 3, True]           \n",
            "  9                  -1  1    656896  ultralytics.nn.modules.block.SPPF            [512, 512, 5]                 \n",
            " 10                  -1  1         0  torch.nn.modules.upsampling.Upsample         [None, 2, 'nearest']          \n",
            " 11             [-1, 6]  1         0  ultralytics.nn.modules.conv.Concat           [1]                           \n",
            " 12                  -1  3   4723712  ultralytics.nn.modules.block.C2f             [1024, 512, 3]                \n",
            " 13                  -1  1         0  torch.nn.modules.upsampling.Upsample         [None, 2, 'nearest']          \n",
            " 14             [-1, 4]  1         0  ultralytics.nn.modules.conv.Concat           [1]                           \n",
            " 15                  -1  3   1247744  ultralytics.nn.modules.block.C2f             [768, 256, 3]                 \n",
            " 16                  -1  1    590336  ultralytics.nn.modules.conv.Conv             [256, 256, 3, 2]              \n",
            " 17            [-1, 12]  1         0  ultralytics.nn.modules.conv.Concat           [1]                           \n",
            " 18                  -1  3   4592640  ultralytics.nn.modules.block.C2f             [768, 512, 3]                 \n",
            " 19                  -1  1   2360320  ultralytics.nn.modules.conv.Conv             [512, 512, 3, 2]              \n",
            " 20             [-1, 9]  1         0  ultralytics.nn.modules.conv.Concat           [1]                           \n",
            " 21                  -1  3   4723712  ultralytics.nn.modules.block.C2f             [1024, 512, 3]                \n",
            " 22        [15, 18, 21]  1   5583571  ultralytics.nn.modules.head.Detect           [1, [256, 512, 512]]          \n",
            "Model summary: 365 layers, 43630611 parameters, 43630595 gradients, 165.4 GFLOPs\n",
            "\n",
            "Transferred 589/595 items from pretrained weights\n",
            "\u001b[34m\u001b[1mTensorBoard: \u001b[0mStart with 'tensorboard --logdir runs/detect/train', view at http://localhost:6006/\n",
            "Freezing layer 'model.22.dfl.conv.weight'\n",
            "\u001b[34m\u001b[1mAMP: \u001b[0mrunning Automatic Mixed Precision (AMP) checks with YOLOv8n...\n",
            "Downloading https://github.com/ultralytics/assets/releases/download/v8.1.0/yolov8n.pt to 'yolov8n.pt'...\n"
          ]
        },
        {
          "name": "stderr",
          "output_type": "stream",
          "text": [
            "100%|██████████| 6.23M/6.23M [00:00<00:00, 90.3MB/s]\n"
          ]
        },
        {
          "name": "stdout",
          "output_type": "stream",
          "text": [
            "\u001b[34m\u001b[1mAMP: \u001b[0mchecks passed ✅\n"
          ]
        },
        {
          "name": "stderr",
          "output_type": "stream",
          "text": [
            "\u001b[34m\u001b[1mtrain: \u001b[0mScanning /content/drive/MyDrive/yolov5/data/labels/train.cache... 360 images, 4 backgrounds, 0 corrupt: 100%|██████████| 360/360 [00:00<?, ?it/s]\n"
          ]
        },
        {
          "name": "stdout",
          "output_type": "stream",
          "text": [
            "\u001b[34m\u001b[1malbumentations: \u001b[0mBlur(p=0.01, blur_limit=(3, 7)), MedianBlur(p=0.01, blur_limit=(3, 7)), ToGray(p=0.01), CLAHE(p=0.01, clip_limit=(1, 4.0), tile_grid_size=(8, 8))\n"
          ]
        },
        {
          "name": "stderr",
          "output_type": "stream",
          "text": [
            "\u001b[34m\u001b[1mval: \u001b[0mScanning /content/drive/MyDrive/yolov5/data/labels/val.cache... 120 images, 0 backgrounds, 0 corrupt: 100%|██████████| 120/120 [00:00<?, ?it/s]\n"
          ]
        },
        {
          "name": "stdout",
          "output_type": "stream",
          "text": [
            "Plotting labels to runs/detect/train/labels.jpg... \n",
            "\u001b[34m\u001b[1moptimizer:\u001b[0m 'optimizer=auto' found, ignoring 'lr0=0.01' and 'momentum=0.937' and determining best 'optimizer', 'lr0' and 'momentum' automatically... \n",
            "\u001b[34m\u001b[1moptimizer:\u001b[0m AdamW(lr=0.002, momentum=0.9) with parameter groups 97 weight(decay=0.0), 104 weight(decay=0.0005), 103 bias(decay=0.0)\n",
            "\u001b[34m\u001b[1mTensorBoard: \u001b[0mmodel graph visualization added ✅\n",
            "Image sizes 640 train, 640 val\n",
            "Using 2 dataloader workers\n",
            "Logging results to \u001b[1mruns/detect/train\u001b[0m\n",
            "Starting training for 100 epochs...\n",
            "\n",
            "      Epoch    GPU_mem   box_loss   cls_loss   dfl_loss  Instances       Size\n"
          ]
        },
        {
          "name": "stderr",
          "output_type": "stream",
          "text": [
            "      1/100        11G      1.678      4.231      1.069         50        640: 100%|██████████| 23/23 [00:25<00:00,  1.09s/it]\n",
            "                 Class     Images  Instances      Box(P          R      mAP50  mAP50-95): 100%|██████████| 4/4 [00:10<00:00,  2.58s/it]"
          ]
        },
        {
          "name": "stdout",
          "output_type": "stream",
          "text": [
            "                   all        120        346     0.0136      0.211    0.00639    0.00312\n"
          ]
        },
        {
          "name": "stderr",
          "output_type": "stream",
          "text": [
            "\n"
          ]
        },
        {
          "name": "stdout",
          "output_type": "stream",
          "text": [
            "\n",
            "      Epoch    GPU_mem   box_loss   cls_loss   dfl_loss  Instances       Size\n"
          ]
        },
        {
          "name": "stderr",
          "output_type": "stream",
          "text": [
            "      2/100      11.4G      1.795      1.769      1.044         14        640: 100%|██████████| 23/23 [00:17<00:00,  1.28it/s]\n",
            "                 Class     Images  Instances      Box(P          R      mAP50  mAP50-95): 100%|██████████| 4/4 [00:02<00:00,  1.45it/s]"
          ]
        },
        {
          "name": "stdout",
          "output_type": "stream",
          "text": [
            "                   all        120        346     0.0136      0.211    0.00639    0.00312\n"
          ]
        },
        {
          "name": "stderr",
          "output_type": "stream",
          "text": [
            "\n"
          ]
        },
        {
          "name": "stdout",
          "output_type": "stream",
          "text": [
            "\n",
            "      Epoch    GPU_mem   box_loss   cls_loss   dfl_loss  Instances       Size\n"
          ]
        },
        {
          "name": "stderr",
          "output_type": "stream",
          "text": [
            "      3/100      11.5G      1.994      1.534       1.13         35        640: 100%|██████████| 23/23 [00:19<00:00,  1.20it/s]\n",
            "                 Class     Images  Instances      Box(P          R      mAP50  mAP50-95): 100%|██████████| 4/4 [00:01<00:00,  2.23it/s]"
          ]
        },
        {
          "name": "stdout",
          "output_type": "stream",
          "text": [
            "                   all        120        346     0.0136      0.211    0.00639    0.00312\n"
          ]
        },
        {
          "name": "stderr",
          "output_type": "stream",
          "text": [
            "\n"
          ]
        },
        {
          "name": "stdout",
          "output_type": "stream",
          "text": [
            "\n",
            "      Epoch    GPU_mem   box_loss   cls_loss   dfl_loss  Instances       Size\n"
          ]
        },
        {
          "name": "stderr",
          "output_type": "stream",
          "text": [
            "      4/100      11.4G      2.059      1.493      1.108         39        640: 100%|██████████| 23/23 [00:19<00:00,  1.21it/s]\n",
            "                 Class     Images  Instances      Box(P          R      mAP50  mAP50-95): 100%|██████████| 4/4 [00:02<00:00,  1.79it/s]"
          ]
        },
        {
          "name": "stdout",
          "output_type": "stream",
          "text": [
            "                   all        120        346     0.0136      0.211    0.00639    0.00312\n"
          ]
        },
        {
          "name": "stderr",
          "output_type": "stream",
          "text": [
            "\n"
          ]
        },
        {
          "name": "stdout",
          "output_type": "stream",
          "text": [
            "\n",
            "      Epoch    GPU_mem   box_loss   cls_loss   dfl_loss  Instances       Size\n"
          ]
        },
        {
          "name": "stderr",
          "output_type": "stream",
          "text": [
            "      5/100      11.3G      1.974      1.527      1.077         34        640: 100%|██████████| 23/23 [00:18<00:00,  1.26it/s]\n",
            "                 Class     Images  Instances      Box(P          R      mAP50  mAP50-95): 100%|██████████| 4/4 [00:01<00:00,  2.32it/s]"
          ]
        },
        {
          "name": "stdout",
          "output_type": "stream",
          "text": [
            "                   all        120        346     0.0136      0.211    0.00639    0.00312\n"
          ]
        },
        {
          "name": "stderr",
          "output_type": "stream",
          "text": [
            "\n"
          ]
        },
        {
          "name": "stdout",
          "output_type": "stream",
          "text": [
            "\n",
            "      Epoch    GPU_mem   box_loss   cls_loss   dfl_loss  Instances       Size\n"
          ]
        },
        {
          "name": "stderr",
          "output_type": "stream",
          "text": [
            "      6/100      11.3G      1.895      1.359      1.088         23        640: 100%|██████████| 23/23 [00:17<00:00,  1.29it/s]\n",
            "                 Class     Images  Instances      Box(P          R      mAP50  mAP50-95): 100%|██████████| 4/4 [00:02<00:00,  1.71it/s]"
          ]
        },
        {
          "name": "stdout",
          "output_type": "stream",
          "text": [
            "                   all        120        346    0.00155     0.0116   0.000802   0.000419\n"
          ]
        },
        {
          "name": "stderr",
          "output_type": "stream",
          "text": [
            "\n"
          ]
        },
        {
          "name": "stdout",
          "output_type": "stream",
          "text": [
            "\n",
            "      Epoch    GPU_mem   box_loss   cls_loss   dfl_loss  Instances       Size\n"
          ]
        },
        {
          "name": "stderr",
          "output_type": "stream",
          "text": [
            "      7/100      11.5G      2.012      1.497      1.111         39        640: 100%|██████████| 23/23 [00:17<00:00,  1.29it/s]\n",
            "                 Class     Images  Instances      Box(P          R      mAP50  mAP50-95): 100%|██████████| 4/4 [00:02<00:00,  1.66it/s]"
          ]
        },
        {
          "name": "stdout",
          "output_type": "stream",
          "text": [
            "                   all        120        346      0.406      0.237      0.222      0.102\n"
          ]
        },
        {
          "name": "stderr",
          "output_type": "stream",
          "text": [
            "\n"
          ]
        },
        {
          "name": "stdout",
          "output_type": "stream",
          "text": [
            "\n",
            "      Epoch    GPU_mem   box_loss   cls_loss   dfl_loss  Instances       Size\n"
          ]
        },
        {
          "name": "stderr",
          "output_type": "stream",
          "text": [
            "      8/100      11.5G      1.959      1.323      1.101         48        640: 100%|██████████| 23/23 [00:18<00:00,  1.27it/s]\n",
            "                 Class     Images  Instances      Box(P          R      mAP50  mAP50-95): 100%|██████████| 4/4 [00:02<00:00,  1.75it/s]"
          ]
        },
        {
          "name": "stdout",
          "output_type": "stream",
          "text": [
            "                   all        120        346       0.59      0.373      0.396      0.172\n"
          ]
        },
        {
          "name": "stderr",
          "output_type": "stream",
          "text": [
            "\n"
          ]
        },
        {
          "name": "stdout",
          "output_type": "stream",
          "text": [
            "\n",
            "      Epoch    GPU_mem   box_loss   cls_loss   dfl_loss  Instances       Size\n"
          ]
        },
        {
          "name": "stderr",
          "output_type": "stream",
          "text": [
            "      9/100      11.4G      1.791      1.208      1.058         43        640: 100%|██████████| 23/23 [00:17<00:00,  1.33it/s]\n",
            "                 Class     Images  Instances      Box(P          R      mAP50  mAP50-95): 100%|██████████| 4/4 [00:03<00:00,  1.21it/s]"
          ]
        },
        {
          "name": "stdout",
          "output_type": "stream",
          "text": [
            "                   all        120        346      0.476      0.383      0.369      0.176\n"
          ]
        },
        {
          "name": "stderr",
          "output_type": "stream",
          "text": [
            "\n"
          ]
        },
        {
          "name": "stdout",
          "output_type": "stream",
          "text": [
            "\n",
            "      Epoch    GPU_mem   box_loss   cls_loss   dfl_loss  Instances       Size\n"
          ]
        },
        {
          "name": "stderr",
          "output_type": "stream",
          "text": [
            "     10/100      11.5G      1.892      1.298      1.051         24        640: 100%|██████████| 23/23 [00:17<00:00,  1.29it/s]\n",
            "                 Class     Images  Instances      Box(P          R      mAP50  mAP50-95): 100%|██████████| 4/4 [00:02<00:00,  1.78it/s]"
          ]
        },
        {
          "name": "stdout",
          "output_type": "stream",
          "text": [
            "                   all        120        346      0.597      0.373      0.422      0.192\n"
          ]
        },
        {
          "name": "stderr",
          "output_type": "stream",
          "text": [
            "\n"
          ]
        },
        {
          "name": "stdout",
          "output_type": "stream",
          "text": [
            "\n",
            "      Epoch    GPU_mem   box_loss   cls_loss   dfl_loss  Instances       Size\n"
          ]
        },
        {
          "name": "stderr",
          "output_type": "stream",
          "text": [
            "     11/100      11.5G       1.78      1.189      1.052         67        640: 100%|██████████| 23/23 [00:17<00:00,  1.29it/s]\n",
            "                 Class     Images  Instances      Box(P          R      mAP50  mAP50-95): 100%|██████████| 4/4 [00:02<00:00,  1.76it/s]"
          ]
        },
        {
          "name": "stdout",
          "output_type": "stream",
          "text": [
            "                   all        120        346      0.626       0.45       0.48      0.222\n"
          ]
        },
        {
          "name": "stderr",
          "output_type": "stream",
          "text": [
            "\n"
          ]
        },
        {
          "name": "stdout",
          "output_type": "stream",
          "text": [
            "\n",
            "      Epoch    GPU_mem   box_loss   cls_loss   dfl_loss  Instances       Size\n"
          ]
        },
        {
          "name": "stderr",
          "output_type": "stream",
          "text": [
            "     12/100      11.4G       1.84      1.234      1.026         42        640: 100%|██████████| 23/23 [00:17<00:00,  1.31it/s]\n",
            "                 Class     Images  Instances      Box(P          R      mAP50  mAP50-95): 100%|██████████| 4/4 [00:02<00:00,  1.74it/s]"
          ]
        },
        {
          "name": "stdout",
          "output_type": "stream",
          "text": [
            "                   all        120        346       0.55      0.341      0.363      0.174\n"
          ]
        },
        {
          "name": "stderr",
          "output_type": "stream",
          "text": [
            "\n"
          ]
        },
        {
          "name": "stdout",
          "output_type": "stream",
          "text": [
            "\n",
            "      Epoch    GPU_mem   box_loss   cls_loss   dfl_loss  Instances       Size\n"
          ]
        },
        {
          "name": "stderr",
          "output_type": "stream",
          "text": [
            "     13/100      11.4G      1.773      1.135      1.019         27        640: 100%|██████████| 23/23 [00:18<00:00,  1.21it/s]\n",
            "                 Class     Images  Instances      Box(P          R      mAP50  mAP50-95): 100%|██████████| 4/4 [00:02<00:00,  1.73it/s]"
          ]
        },
        {
          "name": "stdout",
          "output_type": "stream",
          "text": [
            "                   all        120        346      0.691      0.413      0.441      0.209\n"
          ]
        },
        {
          "name": "stderr",
          "output_type": "stream",
          "text": [
            "\n"
          ]
        },
        {
          "name": "stdout",
          "output_type": "stream",
          "text": [
            "\n",
            "      Epoch    GPU_mem   box_loss   cls_loss   dfl_loss  Instances       Size\n"
          ]
        },
        {
          "name": "stderr",
          "output_type": "stream",
          "text": [
            "     14/100      11.5G      1.704      1.145      1.004         41        640: 100%|██████████| 23/23 [00:18<00:00,  1.27it/s]\n",
            "                 Class     Images  Instances      Box(P          R      mAP50  mAP50-95): 100%|██████████| 4/4 [00:02<00:00,  1.40it/s]"
          ]
        },
        {
          "name": "stdout",
          "output_type": "stream",
          "text": [
            "                   all        120        346      0.493      0.425      0.396       0.17\n"
          ]
        },
        {
          "name": "stderr",
          "output_type": "stream",
          "text": [
            "\n"
          ]
        },
        {
          "name": "stdout",
          "output_type": "stream",
          "text": [
            "\n",
            "      Epoch    GPU_mem   box_loss   cls_loss   dfl_loss  Instances       Size\n"
          ]
        },
        {
          "name": "stderr",
          "output_type": "stream",
          "text": [
            "     15/100      11.5G      1.676      1.127      1.004         65        640: 100%|██████████| 23/23 [00:17<00:00,  1.28it/s]\n",
            "                 Class     Images  Instances      Box(P          R      mAP50  mAP50-95): 100%|██████████| 4/4 [00:03<00:00,  1.18it/s]"
          ]
        },
        {
          "name": "stdout",
          "output_type": "stream",
          "text": [
            "                   all        120        346      0.733      0.486      0.551      0.244\n"
          ]
        },
        {
          "name": "stderr",
          "output_type": "stream",
          "text": [
            "\n"
          ]
        },
        {
          "name": "stdout",
          "output_type": "stream",
          "text": [
            "\n",
            "      Epoch    GPU_mem   box_loss   cls_loss   dfl_loss  Instances       Size\n"
          ]
        },
        {
          "name": "stderr",
          "output_type": "stream",
          "text": [
            "     16/100      11.5G      1.683       1.09      1.008         33        640: 100%|██████████| 23/23 [00:18<00:00,  1.27it/s]\n",
            "                 Class     Images  Instances      Box(P          R      mAP50  mAP50-95): 100%|██████████| 4/4 [00:03<00:00,  1.22it/s]"
          ]
        },
        {
          "name": "stdout",
          "output_type": "stream",
          "text": [
            "                   all        120        346      0.661      0.491      0.527      0.241\n"
          ]
        },
        {
          "name": "stderr",
          "output_type": "stream",
          "text": [
            "\n"
          ]
        },
        {
          "name": "stdout",
          "output_type": "stream",
          "text": [
            "\n",
            "      Epoch    GPU_mem   box_loss   cls_loss   dfl_loss  Instances       Size\n"
          ]
        },
        {
          "name": "stderr",
          "output_type": "stream",
          "text": [
            "     17/100      11.4G      1.717      1.064      1.021         45        640: 100%|██████████| 23/23 [00:17<00:00,  1.30it/s]\n",
            "                 Class     Images  Instances      Box(P          R      mAP50  mAP50-95): 100%|██████████| 4/4 [00:02<00:00,  1.64it/s]"
          ]
        },
        {
          "name": "stdout",
          "output_type": "stream",
          "text": [
            "                   all        120        346      0.584      0.298      0.362      0.164\n"
          ]
        },
        {
          "name": "stderr",
          "output_type": "stream",
          "text": [
            "\n"
          ]
        },
        {
          "name": "stdout",
          "output_type": "stream",
          "text": [
            "\n",
            "      Epoch    GPU_mem   box_loss   cls_loss   dfl_loss  Instances       Size\n"
          ]
        },
        {
          "name": "stderr",
          "output_type": "stream",
          "text": [
            "     18/100      11.5G      1.685      1.095      1.026         35        640: 100%|██████████| 23/23 [00:18<00:00,  1.27it/s]\n",
            "                 Class     Images  Instances      Box(P          R      mAP50  mAP50-95): 100%|██████████| 4/4 [00:02<00:00,  1.89it/s]"
          ]
        },
        {
          "name": "stdout",
          "output_type": "stream",
          "text": [
            "                   all        120        346      0.711      0.529      0.595      0.296\n"
          ]
        },
        {
          "name": "stderr",
          "output_type": "stream",
          "text": [
            "\n"
          ]
        },
        {
          "name": "stdout",
          "output_type": "stream",
          "text": [
            "\n",
            "      Epoch    GPU_mem   box_loss   cls_loss   dfl_loss  Instances       Size\n"
          ]
        },
        {
          "name": "stderr",
          "output_type": "stream",
          "text": [
            "     19/100      11.4G      1.622     0.9961      1.005         33        640: 100%|██████████| 23/23 [00:17<00:00,  1.28it/s]\n",
            "                 Class     Images  Instances      Box(P          R      mAP50  mAP50-95): 100%|██████████| 4/4 [00:02<00:00,  1.34it/s]"
          ]
        },
        {
          "name": "stdout",
          "output_type": "stream",
          "text": [
            "                   all        120        346      0.664      0.558      0.593      0.278\n"
          ]
        },
        {
          "name": "stderr",
          "output_type": "stream",
          "text": [
            "\n"
          ]
        },
        {
          "name": "stdout",
          "output_type": "stream",
          "text": [
            "\n",
            "      Epoch    GPU_mem   box_loss   cls_loss   dfl_loss  Instances       Size\n"
          ]
        },
        {
          "name": "stderr",
          "output_type": "stream",
          "text": [
            "     20/100      11.5G      1.615      1.025     0.9691         43        640: 100%|██████████| 23/23 [00:17<00:00,  1.30it/s]\n",
            "                 Class     Images  Instances      Box(P          R      mAP50  mAP50-95): 100%|██████████| 4/4 [00:02<00:00,  1.69it/s]"
          ]
        },
        {
          "name": "stdout",
          "output_type": "stream",
          "text": [
            "                   all        120        346      0.663      0.564      0.602      0.288\n"
          ]
        },
        {
          "name": "stderr",
          "output_type": "stream",
          "text": [
            "\n"
          ]
        },
        {
          "name": "stdout",
          "output_type": "stream",
          "text": [
            "\n",
            "      Epoch    GPU_mem   box_loss   cls_loss   dfl_loss  Instances       Size\n"
          ]
        },
        {
          "name": "stderr",
          "output_type": "stream",
          "text": [
            "     21/100      11.3G       1.59      1.008      0.982         50        640: 100%|██████████| 23/23 [00:19<00:00,  1.20it/s]\n",
            "                 Class     Images  Instances      Box(P          R      mAP50  mAP50-95): 100%|██████████| 4/4 [00:02<00:00,  1.63it/s]"
          ]
        },
        {
          "name": "stdout",
          "output_type": "stream",
          "text": [
            "                   all        120        346      0.676      0.529      0.566       0.28\n"
          ]
        },
        {
          "name": "stderr",
          "output_type": "stream",
          "text": [
            "\n"
          ]
        },
        {
          "name": "stdout",
          "output_type": "stream",
          "text": [
            "\n",
            "      Epoch    GPU_mem   box_loss   cls_loss   dfl_loss  Instances       Size\n"
          ]
        },
        {
          "name": "stderr",
          "output_type": "stream",
          "text": [
            "     22/100      11.4G      1.575     0.9278     0.9653         40        640: 100%|██████████| 23/23 [00:18<00:00,  1.28it/s]\n",
            "                 Class     Images  Instances      Box(P          R      mAP50  mAP50-95): 100%|██████████| 4/4 [00:02<00:00,  1.75it/s]"
          ]
        },
        {
          "name": "stdout",
          "output_type": "stream",
          "text": [
            "                   all        120        346      0.726      0.566      0.612      0.308\n"
          ]
        },
        {
          "name": "stderr",
          "output_type": "stream",
          "text": [
            "\n"
          ]
        },
        {
          "name": "stdout",
          "output_type": "stream",
          "text": [
            "\n",
            "      Epoch    GPU_mem   box_loss   cls_loss   dfl_loss  Instances       Size\n"
          ]
        },
        {
          "name": "stderr",
          "output_type": "stream",
          "text": [
            "     23/100      11.5G      1.518     0.8997     0.9964         37        640: 100%|██████████| 23/23 [00:17<00:00,  1.31it/s]\n",
            "                 Class     Images  Instances      Box(P          R      mAP50  mAP50-95): 100%|██████████| 4/4 [00:03<00:00,  1.23it/s]"
          ]
        },
        {
          "name": "stdout",
          "output_type": "stream",
          "text": [
            "                   all        120        346      0.677      0.555      0.599        0.3\n"
          ]
        },
        {
          "name": "stderr",
          "output_type": "stream",
          "text": [
            "\n"
          ]
        },
        {
          "name": "stdout",
          "output_type": "stream",
          "text": [
            "\n",
            "      Epoch    GPU_mem   box_loss   cls_loss   dfl_loss  Instances       Size\n"
          ]
        },
        {
          "name": "stderr",
          "output_type": "stream",
          "text": [
            "     24/100      11.5G      1.509     0.9221     0.9519         27        640: 100%|██████████| 23/23 [00:18<00:00,  1.27it/s]\n",
            "                 Class     Images  Instances      Box(P          R      mAP50  mAP50-95): 100%|██████████| 4/4 [00:02<00:00,  1.96it/s]"
          ]
        },
        {
          "name": "stdout",
          "output_type": "stream",
          "text": [
            "                   all        120        346      0.755      0.616      0.656      0.317\n"
          ]
        },
        {
          "name": "stderr",
          "output_type": "stream",
          "text": [
            "\n"
          ]
        },
        {
          "name": "stdout",
          "output_type": "stream",
          "text": [
            "\n",
            "      Epoch    GPU_mem   box_loss   cls_loss   dfl_loss  Instances       Size\n"
          ]
        },
        {
          "name": "stderr",
          "output_type": "stream",
          "text": [
            "     25/100      11.4G      1.471     0.8965     0.9566         24        640: 100%|██████████| 23/23 [00:17<00:00,  1.31it/s]\n",
            "                 Class     Images  Instances      Box(P          R      mAP50  mAP50-95): 100%|██████████| 4/4 [00:02<00:00,  1.43it/s]"
          ]
        },
        {
          "name": "stdout",
          "output_type": "stream",
          "text": [
            "                   all        120        346      0.732      0.506      0.615        0.3\n"
          ]
        },
        {
          "name": "stderr",
          "output_type": "stream",
          "text": [
            "\n"
          ]
        },
        {
          "name": "stdout",
          "output_type": "stream",
          "text": [
            "\n",
            "      Epoch    GPU_mem   box_loss   cls_loss   dfl_loss  Instances       Size\n"
          ]
        },
        {
          "name": "stderr",
          "output_type": "stream",
          "text": [
            "     26/100      11.3G      1.513     0.9064     0.9701         25        640: 100%|██████████| 23/23 [00:18<00:00,  1.24it/s]\n",
            "                 Class     Images  Instances      Box(P          R      mAP50  mAP50-95): 100%|██████████| 4/4 [00:02<00:00,  1.34it/s]"
          ]
        },
        {
          "name": "stdout",
          "output_type": "stream",
          "text": [
            "                   all        120        346      0.729      0.544      0.613      0.308\n"
          ]
        },
        {
          "name": "stderr",
          "output_type": "stream",
          "text": [
            "\n"
          ]
        },
        {
          "name": "stdout",
          "output_type": "stream",
          "text": [
            "\n",
            "      Epoch    GPU_mem   box_loss   cls_loss   dfl_loss  Instances       Size\n"
          ]
        },
        {
          "name": "stderr",
          "output_type": "stream",
          "text": [
            "     27/100      11.4G      1.511     0.8801     0.9634         30        640: 100%|██████████| 23/23 [00:17<00:00,  1.29it/s]\n",
            "                 Class     Images  Instances      Box(P          R      mAP50  mAP50-95): 100%|██████████| 4/4 [00:02<00:00,  1.48it/s]"
          ]
        },
        {
          "name": "stdout",
          "output_type": "stream",
          "text": [
            "                   all        120        346      0.777      0.624      0.679      0.325\n"
          ]
        },
        {
          "name": "stderr",
          "output_type": "stream",
          "text": [
            "\n"
          ]
        },
        {
          "name": "stdout",
          "output_type": "stream",
          "text": [
            "\n",
            "      Epoch    GPU_mem   box_loss   cls_loss   dfl_loss  Instances       Size\n"
          ]
        },
        {
          "name": "stderr",
          "output_type": "stream",
          "text": [
            "     28/100      11.5G      1.487     0.8835     0.9564         25        640: 100%|██████████| 23/23 [00:18<00:00,  1.24it/s]\n",
            "                 Class     Images  Instances      Box(P          R      mAP50  mAP50-95): 100%|██████████| 4/4 [00:02<00:00,  1.78it/s]"
          ]
        },
        {
          "name": "stdout",
          "output_type": "stream",
          "text": [
            "                   all        120        346      0.687      0.532      0.625      0.314\n"
          ]
        },
        {
          "name": "stderr",
          "output_type": "stream",
          "text": [
            "\n"
          ]
        },
        {
          "name": "stdout",
          "output_type": "stream",
          "text": [
            "\n",
            "      Epoch    GPU_mem   box_loss   cls_loss   dfl_loss  Instances       Size\n"
          ]
        },
        {
          "name": "stderr",
          "output_type": "stream",
          "text": [
            "     29/100      11.3G      1.368     0.8498     0.9403         35        640: 100%|██████████| 23/23 [00:17<00:00,  1.32it/s]\n",
            "                 Class     Images  Instances      Box(P          R      mAP50  mAP50-95): 100%|██████████| 4/4 [00:03<00:00,  1.28it/s]"
          ]
        },
        {
          "name": "stdout",
          "output_type": "stream",
          "text": [
            "                   all        120        346      0.749      0.647      0.698       0.36\n"
          ]
        },
        {
          "name": "stderr",
          "output_type": "stream",
          "text": [
            "\n"
          ]
        },
        {
          "name": "stdout",
          "output_type": "stream",
          "text": [
            "\n",
            "      Epoch    GPU_mem   box_loss   cls_loss   dfl_loss  Instances       Size\n"
          ]
        },
        {
          "name": "stderr",
          "output_type": "stream",
          "text": [
            "     30/100      11.5G       1.49     0.8649     0.9358         46        640: 100%|██████████| 23/23 [00:17<00:00,  1.30it/s]\n",
            "                 Class     Images  Instances      Box(P          R      mAP50  mAP50-95): 100%|██████████| 4/4 [00:02<00:00,  1.67it/s]"
          ]
        },
        {
          "name": "stdout",
          "output_type": "stream",
          "text": [
            "                   all        120        346      0.707      0.532      0.598      0.293\n"
          ]
        },
        {
          "name": "stderr",
          "output_type": "stream",
          "text": [
            "\n"
          ]
        },
        {
          "name": "stdout",
          "output_type": "stream",
          "text": [
            "\n",
            "      Epoch    GPU_mem   box_loss   cls_loss   dfl_loss  Instances       Size\n"
          ]
        },
        {
          "name": "stderr",
          "output_type": "stream",
          "text": [
            "     31/100      11.5G      1.414     0.8786     0.9272         44        640: 100%|██████████| 23/23 [00:18<00:00,  1.27it/s]\n",
            "                 Class     Images  Instances      Box(P          R      mAP50  mAP50-95): 100%|██████████| 4/4 [00:02<00:00,  1.80it/s]"
          ]
        },
        {
          "name": "stdout",
          "output_type": "stream",
          "text": [
            "                   all        120        346      0.803      0.602      0.681      0.346\n"
          ]
        },
        {
          "name": "stderr",
          "output_type": "stream",
          "text": [
            "\n"
          ]
        },
        {
          "name": "stdout",
          "output_type": "stream",
          "text": [
            "\n",
            "      Epoch    GPU_mem   box_loss   cls_loss   dfl_loss  Instances       Size\n"
          ]
        },
        {
          "name": "stderr",
          "output_type": "stream",
          "text": [
            "     32/100      11.4G      1.417     0.8205     0.9413         61        640: 100%|██████████| 23/23 [00:19<00:00,  1.20it/s]\n",
            "                 Class     Images  Instances      Box(P          R      mAP50  mAP50-95): 100%|██████████| 4/4 [00:02<00:00,  1.61it/s]"
          ]
        },
        {
          "name": "stdout",
          "output_type": "stream",
          "text": [
            "                   all        120        346      0.736      0.532      0.604      0.299\n"
          ]
        },
        {
          "name": "stderr",
          "output_type": "stream",
          "text": [
            "\n"
          ]
        },
        {
          "name": "stdout",
          "output_type": "stream",
          "text": [
            "\n",
            "      Epoch    GPU_mem   box_loss   cls_loss   dfl_loss  Instances       Size\n"
          ]
        },
        {
          "name": "stderr",
          "output_type": "stream",
          "text": [
            "     33/100      11.4G      1.464     0.8622     0.9431         61        640: 100%|██████████| 23/23 [00:18<00:00,  1.22it/s]\n",
            "                 Class     Images  Instances      Box(P          R      mAP50  mAP50-95): 100%|██████████| 4/4 [00:02<00:00,  1.74it/s]"
          ]
        },
        {
          "name": "stdout",
          "output_type": "stream",
          "text": [
            "                   all        120        346      0.821       0.57      0.678      0.333\n"
          ]
        },
        {
          "name": "stderr",
          "output_type": "stream",
          "text": [
            "\n"
          ]
        },
        {
          "name": "stdout",
          "output_type": "stream",
          "text": [
            "\n",
            "      Epoch    GPU_mem   box_loss   cls_loss   dfl_loss  Instances       Size\n"
          ]
        },
        {
          "name": "stderr",
          "output_type": "stream",
          "text": [
            "     34/100      11.5G      1.454     0.8627     0.9472         39        640: 100%|██████████| 23/23 [00:18<00:00,  1.24it/s]\n",
            "                 Class     Images  Instances      Box(P          R      mAP50  mAP50-95): 100%|██████████| 4/4 [00:02<00:00,  1.83it/s]"
          ]
        },
        {
          "name": "stdout",
          "output_type": "stream",
          "text": [
            "                   all        120        346       0.69      0.535      0.569      0.286\n"
          ]
        },
        {
          "name": "stderr",
          "output_type": "stream",
          "text": [
            "\n"
          ]
        },
        {
          "name": "stdout",
          "output_type": "stream",
          "text": [
            "\n",
            "      Epoch    GPU_mem   box_loss   cls_loss   dfl_loss  Instances       Size\n"
          ]
        },
        {
          "name": "stderr",
          "output_type": "stream",
          "text": [
            "     35/100      11.4G      1.379     0.8282     0.9202         45        640: 100%|██████████| 23/23 [00:18<00:00,  1.26it/s]\n",
            "                 Class     Images  Instances      Box(P          R      mAP50  mAP50-95): 100%|██████████| 4/4 [00:02<00:00,  1.67it/s]"
          ]
        },
        {
          "name": "stdout",
          "output_type": "stream",
          "text": [
            "                   all        120        346      0.753      0.564       0.65      0.337\n"
          ]
        },
        {
          "name": "stderr",
          "output_type": "stream",
          "text": [
            "\n"
          ]
        },
        {
          "name": "stdout",
          "output_type": "stream",
          "text": [
            "\n",
            "      Epoch    GPU_mem   box_loss   cls_loss   dfl_loss  Instances       Size\n"
          ]
        },
        {
          "name": "stderr",
          "output_type": "stream",
          "text": [
            "     36/100      11.5G      1.386     0.8282     0.9356         44        640: 100%|██████████| 23/23 [00:17<00:00,  1.28it/s]\n",
            "                 Class     Images  Instances      Box(P          R      mAP50  mAP50-95): 100%|██████████| 4/4 [00:02<00:00,  1.66it/s]"
          ]
        },
        {
          "name": "stdout",
          "output_type": "stream",
          "text": [
            "                   all        120        346      0.721      0.618      0.672      0.355\n"
          ]
        },
        {
          "name": "stderr",
          "output_type": "stream",
          "text": [
            "\n"
          ]
        },
        {
          "name": "stdout",
          "output_type": "stream",
          "text": [
            "\n",
            "      Epoch    GPU_mem   box_loss   cls_loss   dfl_loss  Instances       Size\n"
          ]
        },
        {
          "name": "stderr",
          "output_type": "stream",
          "text": [
            "     37/100      11.4G      1.414     0.8381     0.9333         28        640: 100%|██████████| 23/23 [00:17<00:00,  1.30it/s]\n",
            "                 Class     Images  Instances      Box(P          R      mAP50  mAP50-95): 100%|██████████| 4/4 [00:02<00:00,  1.78it/s]"
          ]
        },
        {
          "name": "stdout",
          "output_type": "stream",
          "text": [
            "                   all        120        346      0.742      0.581      0.649      0.357\n"
          ]
        },
        {
          "name": "stderr",
          "output_type": "stream",
          "text": [
            "\n"
          ]
        },
        {
          "name": "stdout",
          "output_type": "stream",
          "text": [
            "\n",
            "      Epoch    GPU_mem   box_loss   cls_loss   dfl_loss  Instances       Size\n"
          ]
        },
        {
          "name": "stderr",
          "output_type": "stream",
          "text": [
            "     38/100      11.5G       1.31     0.7754     0.9091         38        640: 100%|██████████| 23/23 [00:19<00:00,  1.18it/s]\n",
            "                 Class     Images  Instances      Box(P          R      mAP50  mAP50-95): 100%|██████████| 4/4 [00:02<00:00,  1.72it/s]"
          ]
        },
        {
          "name": "stdout",
          "output_type": "stream",
          "text": [
            "                   all        120        346      0.728      0.613       0.65      0.342\n"
          ]
        },
        {
          "name": "stderr",
          "output_type": "stream",
          "text": [
            "\n"
          ]
        },
        {
          "name": "stdout",
          "output_type": "stream",
          "text": [
            "\n",
            "      Epoch    GPU_mem   box_loss   cls_loss   dfl_loss  Instances       Size\n"
          ]
        },
        {
          "name": "stderr",
          "output_type": "stream",
          "text": [
            "     39/100      11.5G       1.42     0.7896     0.9229         36        640: 100%|██████████| 23/23 [00:17<00:00,  1.31it/s]\n",
            "                 Class     Images  Instances      Box(P          R      mAP50  mAP50-95): 100%|██████████| 4/4 [00:02<00:00,  1.75it/s]"
          ]
        },
        {
          "name": "stdout",
          "output_type": "stream",
          "text": [
            "                   all        120        346      0.787      0.554      0.666       0.35\n"
          ]
        },
        {
          "name": "stderr",
          "output_type": "stream",
          "text": [
            "\n"
          ]
        },
        {
          "name": "stdout",
          "output_type": "stream",
          "text": [
            "\n",
            "      Epoch    GPU_mem   box_loss   cls_loss   dfl_loss  Instances       Size\n"
          ]
        },
        {
          "name": "stderr",
          "output_type": "stream",
          "text": [
            "     40/100      11.4G      1.321     0.7565     0.9161         27        640: 100%|██████████| 23/23 [00:17<00:00,  1.30it/s]\n",
            "                 Class     Images  Instances      Box(P          R      mAP50  mAP50-95): 100%|██████████| 4/4 [00:02<00:00,  1.72it/s]"
          ]
        },
        {
          "name": "stdout",
          "output_type": "stream",
          "text": [
            "                   all        120        346      0.801      0.506      0.644      0.346\n"
          ]
        },
        {
          "name": "stderr",
          "output_type": "stream",
          "text": [
            "\n"
          ]
        },
        {
          "name": "stdout",
          "output_type": "stream",
          "text": [
            "\n",
            "      Epoch    GPU_mem   box_loss   cls_loss   dfl_loss  Instances       Size\n"
          ]
        },
        {
          "name": "stderr",
          "output_type": "stream",
          "text": [
            "     41/100      11.4G      1.248     0.7295     0.9034         51        640: 100%|██████████| 23/23 [00:18<00:00,  1.23it/s]\n",
            "                 Class     Images  Instances      Box(P          R      mAP50  mAP50-95): 100%|██████████| 4/4 [00:02<00:00,  1.79it/s]"
          ]
        },
        {
          "name": "stdout",
          "output_type": "stream",
          "text": [
            "                   all        120        346       0.77       0.59      0.688      0.363\n"
          ]
        },
        {
          "name": "stderr",
          "output_type": "stream",
          "text": [
            "\n"
          ]
        },
        {
          "name": "stdout",
          "output_type": "stream",
          "text": [
            "\n",
            "      Epoch    GPU_mem   box_loss   cls_loss   dfl_loss  Instances       Size\n"
          ]
        },
        {
          "name": "stderr",
          "output_type": "stream",
          "text": [
            "     42/100      11.4G      1.354     0.8031     0.9333         17        640: 100%|██████████| 23/23 [00:17<00:00,  1.29it/s]\n",
            "                 Class     Images  Instances      Box(P          R      mAP50  mAP50-95): 100%|██████████| 4/4 [00:02<00:00,  1.37it/s]"
          ]
        },
        {
          "name": "stdout",
          "output_type": "stream",
          "text": [
            "                   all        120        346      0.738      0.618      0.681      0.352\n"
          ]
        },
        {
          "name": "stderr",
          "output_type": "stream",
          "text": [
            "\n"
          ]
        },
        {
          "name": "stdout",
          "output_type": "stream",
          "text": [
            "\n",
            "      Epoch    GPU_mem   box_loss   cls_loss   dfl_loss  Instances       Size\n"
          ]
        },
        {
          "name": "stderr",
          "output_type": "stream",
          "text": [
            "     43/100      11.5G      1.263     0.7074     0.9164         42        640: 100%|██████████| 23/23 [00:17<00:00,  1.31it/s]\n",
            "                 Class     Images  Instances      Box(P          R      mAP50  mAP50-95): 100%|██████████| 4/4 [00:03<00:00,  1.25it/s]"
          ]
        },
        {
          "name": "stdout",
          "output_type": "stream",
          "text": [
            "                   all        120        346      0.794      0.607      0.708      0.366\n"
          ]
        },
        {
          "name": "stderr",
          "output_type": "stream",
          "text": [
            "\n"
          ]
        },
        {
          "name": "stdout",
          "output_type": "stream",
          "text": [
            "\n",
            "      Epoch    GPU_mem   box_loss   cls_loss   dfl_loss  Instances       Size\n"
          ]
        },
        {
          "name": "stderr",
          "output_type": "stream",
          "text": [
            "     44/100      11.5G      1.291     0.7412     0.8943         27        640: 100%|██████████| 23/23 [00:18<00:00,  1.24it/s]\n",
            "                 Class     Images  Instances      Box(P          R      mAP50  mAP50-95): 100%|██████████| 4/4 [00:02<00:00,  1.85it/s]"
          ]
        },
        {
          "name": "stdout",
          "output_type": "stream",
          "text": [
            "                   all        120        346      0.714      0.592      0.647      0.332\n"
          ]
        },
        {
          "name": "stderr",
          "output_type": "stream",
          "text": [
            "\n"
          ]
        },
        {
          "name": "stdout",
          "output_type": "stream",
          "text": [
            "\n",
            "      Epoch    GPU_mem   box_loss   cls_loss   dfl_loss  Instances       Size\n"
          ]
        },
        {
          "name": "stderr",
          "output_type": "stream",
          "text": [
            "     45/100      11.4G      1.252     0.7132     0.8969         32        640: 100%|██████████| 23/23 [00:18<00:00,  1.26it/s]\n",
            "                 Class     Images  Instances      Box(P          R      mAP50  mAP50-95): 100%|██████████| 4/4 [00:02<00:00,  1.41it/s]"
          ]
        },
        {
          "name": "stdout",
          "output_type": "stream",
          "text": [
            "                   all        120        346      0.697      0.624      0.657       0.35\n"
          ]
        },
        {
          "name": "stderr",
          "output_type": "stream",
          "text": [
            "\n"
          ]
        },
        {
          "name": "stdout",
          "output_type": "stream",
          "text": [
            "\n",
            "      Epoch    GPU_mem   box_loss   cls_loss   dfl_loss  Instances       Size\n"
          ]
        },
        {
          "name": "stderr",
          "output_type": "stream",
          "text": [
            "     46/100      11.5G      1.279     0.7266     0.9035         54        640: 100%|██████████| 23/23 [00:18<00:00,  1.25it/s]\n",
            "                 Class     Images  Instances      Box(P          R      mAP50  mAP50-95): 100%|██████████| 4/4 [00:02<00:00,  1.46it/s]"
          ]
        },
        {
          "name": "stdout",
          "output_type": "stream",
          "text": [
            "                   all        120        346      0.758      0.633      0.676      0.345\n"
          ]
        },
        {
          "name": "stderr",
          "output_type": "stream",
          "text": [
            "\n"
          ]
        },
        {
          "name": "stdout",
          "output_type": "stream",
          "text": [
            "\n",
            "      Epoch    GPU_mem   box_loss   cls_loss   dfl_loss  Instances       Size\n"
          ]
        },
        {
          "name": "stderr",
          "output_type": "stream",
          "text": [
            "     47/100      11.5G      1.285      0.718     0.9144         48        640: 100%|██████████| 23/23 [00:17<00:00,  1.31it/s]\n",
            "                 Class     Images  Instances      Box(P          R      mAP50  mAP50-95): 100%|██████████| 4/4 [00:02<00:00,  1.53it/s]"
          ]
        },
        {
          "name": "stdout",
          "output_type": "stream",
          "text": [
            "                   all        120        346      0.751      0.627      0.679      0.346\n"
          ]
        },
        {
          "name": "stderr",
          "output_type": "stream",
          "text": [
            "\n"
          ]
        },
        {
          "name": "stdout",
          "output_type": "stream",
          "text": [
            "\n",
            "      Epoch    GPU_mem   box_loss   cls_loss   dfl_loss  Instances       Size\n"
          ]
        },
        {
          "name": "stderr",
          "output_type": "stream",
          "text": [
            "     48/100      11.5G      1.248     0.7079     0.8998         37        640: 100%|██████████| 23/23 [00:18<00:00,  1.26it/s]\n",
            "                 Class     Images  Instances      Box(P          R      mAP50  mAP50-95): 100%|██████████| 4/4 [00:02<00:00,  1.72it/s]"
          ]
        },
        {
          "name": "stdout",
          "output_type": "stream",
          "text": [
            "                   all        120        346      0.813      0.666      0.731      0.373\n"
          ]
        },
        {
          "name": "stderr",
          "output_type": "stream",
          "text": [
            "\n"
          ]
        },
        {
          "name": "stdout",
          "output_type": "stream",
          "text": [
            "\n",
            "      Epoch    GPU_mem   box_loss   cls_loss   dfl_loss  Instances       Size\n"
          ]
        },
        {
          "name": "stderr",
          "output_type": "stream",
          "text": [
            "     49/100      11.3G      1.269     0.7149     0.9078         34        640: 100%|██████████| 23/23 [00:19<00:00,  1.18it/s]\n",
            "                 Class     Images  Instances      Box(P          R      mAP50  mAP50-95): 100%|██████████| 4/4 [00:02<00:00,  1.70it/s]"
          ]
        },
        {
          "name": "stdout",
          "output_type": "stream",
          "text": [
            "                   all        120        346      0.776      0.642      0.717      0.368\n"
          ]
        },
        {
          "name": "stderr",
          "output_type": "stream",
          "text": [
            "\n"
          ]
        },
        {
          "name": "stdout",
          "output_type": "stream",
          "text": [
            "\n",
            "      Epoch    GPU_mem   box_loss   cls_loss   dfl_loss  Instances       Size\n"
          ]
        },
        {
          "name": "stderr",
          "output_type": "stream",
          "text": [
            "     50/100      11.5G      1.246     0.7016     0.8953         37        640: 100%|██████████| 23/23 [00:17<00:00,  1.30it/s]\n",
            "                 Class     Images  Instances      Box(P          R      mAP50  mAP50-95): 100%|██████████| 4/4 [00:02<00:00,  1.35it/s]"
          ]
        },
        {
          "name": "stdout",
          "output_type": "stream",
          "text": [
            "                   all        120        346      0.769      0.592       0.67      0.359\n"
          ]
        },
        {
          "name": "stderr",
          "output_type": "stream",
          "text": [
            "\n"
          ]
        },
        {
          "name": "stdout",
          "output_type": "stream",
          "text": [
            "\n",
            "      Epoch    GPU_mem   box_loss   cls_loss   dfl_loss  Instances       Size\n"
          ]
        },
        {
          "name": "stderr",
          "output_type": "stream",
          "text": [
            "     51/100      11.5G      1.237      0.699     0.8959         32        640: 100%|██████████| 23/23 [00:18<00:00,  1.27it/s]\n",
            "                 Class     Images  Instances      Box(P          R      mAP50  mAP50-95): 100%|██████████| 4/4 [00:03<00:00,  1.31it/s]"
          ]
        },
        {
          "name": "stdout",
          "output_type": "stream",
          "text": [
            "                   all        120        346      0.737      0.578      0.641      0.332\n"
          ]
        },
        {
          "name": "stderr",
          "output_type": "stream",
          "text": [
            "\n"
          ]
        },
        {
          "name": "stdout",
          "output_type": "stream",
          "text": [
            "\n",
            "      Epoch    GPU_mem   box_loss   cls_loss   dfl_loss  Instances       Size\n"
          ]
        },
        {
          "name": "stderr",
          "output_type": "stream",
          "text": [
            "     52/100      11.5G      1.202     0.6736     0.9016         28        640: 100%|██████████| 23/23 [00:18<00:00,  1.22it/s]\n",
            "                 Class     Images  Instances      Box(P          R      mAP50  mAP50-95): 100%|██████████| 4/4 [00:03<00:00,  1.13it/s]"
          ]
        },
        {
          "name": "stdout",
          "output_type": "stream",
          "text": [
            "                   all        120        346      0.807      0.663      0.743      0.383\n"
          ]
        },
        {
          "name": "stderr",
          "output_type": "stream",
          "text": [
            "\n"
          ]
        },
        {
          "name": "stdout",
          "output_type": "stream",
          "text": [
            "\n",
            "      Epoch    GPU_mem   box_loss   cls_loss   dfl_loss  Instances       Size\n"
          ]
        },
        {
          "name": "stderr",
          "output_type": "stream",
          "text": [
            "     53/100      11.4G      1.227     0.6754      0.903         25        640: 100%|██████████| 23/23 [00:17<00:00,  1.31it/s]\n",
            "                 Class     Images  Instances      Box(P          R      mAP50  mAP50-95): 100%|██████████| 4/4 [00:02<00:00,  1.58it/s]"
          ]
        },
        {
          "name": "stdout",
          "output_type": "stream",
          "text": [
            "                   all        120        346      0.791      0.645      0.731      0.398\n"
          ]
        },
        {
          "name": "stderr",
          "output_type": "stream",
          "text": [
            "\n"
          ]
        },
        {
          "name": "stdout",
          "output_type": "stream",
          "text": [
            "\n",
            "      Epoch    GPU_mem   box_loss   cls_loss   dfl_loss  Instances       Size\n"
          ]
        },
        {
          "name": "stderr",
          "output_type": "stream",
          "text": [
            "     54/100      11.5G      1.207     0.6695     0.8923         28        640: 100%|██████████| 23/23 [00:17<00:00,  1.30it/s]\n",
            "                 Class     Images  Instances      Box(P          R      mAP50  mAP50-95): 100%|██████████| 4/4 [00:02<00:00,  1.34it/s]"
          ]
        },
        {
          "name": "stdout",
          "output_type": "stream",
          "text": [
            "                   all        120        346      0.771      0.566       0.65      0.339\n"
          ]
        },
        {
          "name": "stderr",
          "output_type": "stream",
          "text": [
            "\n"
          ]
        },
        {
          "name": "stdout",
          "output_type": "stream",
          "text": [
            "\n",
            "      Epoch    GPU_mem   box_loss   cls_loss   dfl_loss  Instances       Size\n"
          ]
        },
        {
          "name": "stderr",
          "output_type": "stream",
          "text": [
            "     55/100      11.5G      1.229     0.6733     0.8977         42        640: 100%|██████████| 23/23 [00:18<00:00,  1.23it/s]\n",
            "                 Class     Images  Instances      Box(P          R      mAP50  mAP50-95): 100%|██████████| 4/4 [00:02<00:00,  1.60it/s]"
          ]
        },
        {
          "name": "stdout",
          "output_type": "stream",
          "text": [
            "                   all        120        346      0.754      0.592      0.664      0.354\n"
          ]
        },
        {
          "name": "stderr",
          "output_type": "stream",
          "text": [
            "\n"
          ]
        },
        {
          "name": "stdout",
          "output_type": "stream",
          "text": [
            "\n",
            "      Epoch    GPU_mem   box_loss   cls_loss   dfl_loss  Instances       Size\n"
          ]
        },
        {
          "name": "stderr",
          "output_type": "stream",
          "text": [
            "     56/100      11.5G      1.224     0.6675     0.8797         31        640: 100%|██████████| 23/23 [00:18<00:00,  1.27it/s]\n",
            "                 Class     Images  Instances      Box(P          R      mAP50  mAP50-95): 100%|██████████| 4/4 [00:03<00:00,  1.33it/s]"
          ]
        },
        {
          "name": "stdout",
          "output_type": "stream",
          "text": [
            "                   all        120        346        0.8      0.612      0.717      0.379\n"
          ]
        },
        {
          "name": "stderr",
          "output_type": "stream",
          "text": [
            "\n"
          ]
        },
        {
          "name": "stdout",
          "output_type": "stream",
          "text": [
            "\n",
            "      Epoch    GPU_mem   box_loss   cls_loss   dfl_loss  Instances       Size\n"
          ]
        },
        {
          "name": "stderr",
          "output_type": "stream",
          "text": [
            "     57/100      11.4G      1.165       0.63     0.8769         32        640: 100%|██████████| 23/23 [00:17<00:00,  1.29it/s]\n",
            "                 Class     Images  Instances      Box(P          R      mAP50  mAP50-95): 100%|██████████| 4/4 [00:02<00:00,  1.69it/s]"
          ]
        },
        {
          "name": "stdout",
          "output_type": "stream",
          "text": [
            "                   all        120        346      0.798      0.601      0.693      0.367\n"
          ]
        },
        {
          "name": "stderr",
          "output_type": "stream",
          "text": [
            "\n"
          ]
        },
        {
          "name": "stdout",
          "output_type": "stream",
          "text": [
            "\n",
            "      Epoch    GPU_mem   box_loss   cls_loss   dfl_loss  Instances       Size\n"
          ]
        },
        {
          "name": "stderr",
          "output_type": "stream",
          "text": [
            "     58/100      11.4G       1.17     0.6309     0.8708         38        640: 100%|██████████| 23/23 [00:17<00:00,  1.29it/s]\n",
            "                 Class     Images  Instances      Box(P          R      mAP50  mAP50-95): 100%|██████████| 4/4 [00:02<00:00,  1.59it/s]"
          ]
        },
        {
          "name": "stdout",
          "output_type": "stream",
          "text": [
            "                   all        120        346      0.825      0.575      0.695      0.364\n"
          ]
        },
        {
          "name": "stderr",
          "output_type": "stream",
          "text": [
            "\n"
          ]
        },
        {
          "name": "stdout",
          "output_type": "stream",
          "text": [
            "\n",
            "      Epoch    GPU_mem   box_loss   cls_loss   dfl_loss  Instances       Size\n"
          ]
        },
        {
          "name": "stderr",
          "output_type": "stream",
          "text": [
            "     59/100      11.4G      1.249     0.6816     0.8807         44        640: 100%|██████████| 23/23 [00:18<00:00,  1.26it/s]\n",
            "                 Class     Images  Instances      Box(P          R      mAP50  mAP50-95): 100%|██████████| 4/4 [00:02<00:00,  1.77it/s]"
          ]
        },
        {
          "name": "stdout",
          "output_type": "stream",
          "text": [
            "                   all        120        346      0.846       0.63      0.728      0.386\n"
          ]
        },
        {
          "name": "stderr",
          "output_type": "stream",
          "text": [
            "\n"
          ]
        },
        {
          "name": "stdout",
          "output_type": "stream",
          "text": [
            "\n",
            "      Epoch    GPU_mem   box_loss   cls_loss   dfl_loss  Instances       Size\n"
          ]
        },
        {
          "name": "stderr",
          "output_type": "stream",
          "text": [
            "     60/100      11.5G      1.132     0.6279     0.8697         37        640: 100%|██████████| 23/23 [00:18<00:00,  1.24it/s]\n",
            "                 Class     Images  Instances      Box(P          R      mAP50  mAP50-95): 100%|██████████| 4/4 [00:02<00:00,  1.65it/s]"
          ]
        },
        {
          "name": "stdout",
          "output_type": "stream",
          "text": [
            "                   all        120        346      0.853      0.654      0.739      0.414\n"
          ]
        },
        {
          "name": "stderr",
          "output_type": "stream",
          "text": [
            "\n"
          ]
        },
        {
          "name": "stdout",
          "output_type": "stream",
          "text": [
            "\n",
            "      Epoch    GPU_mem   box_loss   cls_loss   dfl_loss  Instances       Size\n"
          ]
        },
        {
          "name": "stderr",
          "output_type": "stream",
          "text": [
            "     61/100      11.4G      1.128        0.6     0.8784         22        640: 100%|██████████| 23/23 [00:17<00:00,  1.29it/s]\n",
            "                 Class     Images  Instances      Box(P          R      mAP50  mAP50-95): 100%|██████████| 4/4 [00:02<00:00,  1.67it/s]"
          ]
        },
        {
          "name": "stdout",
          "output_type": "stream",
          "text": [
            "                   all        120        346      0.777      0.574      0.674      0.354\n"
          ]
        },
        {
          "name": "stderr",
          "output_type": "stream",
          "text": [
            "\n"
          ]
        },
        {
          "name": "stdout",
          "output_type": "stream",
          "text": [
            "\n",
            "      Epoch    GPU_mem   box_loss   cls_loss   dfl_loss  Instances       Size\n"
          ]
        },
        {
          "name": "stderr",
          "output_type": "stream",
          "text": [
            "     62/100      11.5G      1.184     0.6451     0.8785         44        640: 100%|██████████| 23/23 [00:18<00:00,  1.24it/s]\n",
            "                 Class     Images  Instances      Box(P          R      mAP50  mAP50-95): 100%|██████████| 4/4 [00:02<00:00,  1.59it/s]"
          ]
        },
        {
          "name": "stdout",
          "output_type": "stream",
          "text": [
            "                   all        120        346      0.842      0.639      0.724      0.404\n"
          ]
        },
        {
          "name": "stderr",
          "output_type": "stream",
          "text": [
            "\n"
          ]
        },
        {
          "name": "stdout",
          "output_type": "stream",
          "text": [
            "\n",
            "      Epoch    GPU_mem   box_loss   cls_loss   dfl_loss  Instances       Size\n"
          ]
        },
        {
          "name": "stderr",
          "output_type": "stream",
          "text": [
            "     63/100      11.5G      1.156     0.6222     0.8635         55        640: 100%|██████████| 23/23 [00:18<00:00,  1.28it/s]\n",
            "                 Class     Images  Instances      Box(P          R      mAP50  mAP50-95): 100%|██████████| 4/4 [00:03<00:00,  1.32it/s]"
          ]
        },
        {
          "name": "stdout",
          "output_type": "stream",
          "text": [
            "                   all        120        346      0.827      0.622      0.721      0.379\n"
          ]
        },
        {
          "name": "stderr",
          "output_type": "stream",
          "text": [
            "\n"
          ]
        },
        {
          "name": "stdout",
          "output_type": "stream",
          "text": [
            "\n",
            "      Epoch    GPU_mem   box_loss   cls_loss   dfl_loss  Instances       Size\n"
          ]
        },
        {
          "name": "stderr",
          "output_type": "stream",
          "text": [
            "     64/100      11.5G      1.154     0.6301     0.8734         57        640: 100%|██████████| 23/23 [00:18<00:00,  1.23it/s]\n",
            "                 Class     Images  Instances      Box(P          R      mAP50  mAP50-95): 100%|██████████| 4/4 [00:02<00:00,  1.65it/s]"
          ]
        },
        {
          "name": "stdout",
          "output_type": "stream",
          "text": [
            "                   all        120        346      0.811      0.645       0.73      0.399\n"
          ]
        },
        {
          "name": "stderr",
          "output_type": "stream",
          "text": [
            "\n"
          ]
        },
        {
          "name": "stdout",
          "output_type": "stream",
          "text": [
            "\n",
            "      Epoch    GPU_mem   box_loss   cls_loss   dfl_loss  Instances       Size\n"
          ]
        },
        {
          "name": "stderr",
          "output_type": "stream",
          "text": [
            "     65/100      11.4G      1.116     0.6052     0.8702         26        640: 100%|██████████| 23/23 [00:17<00:00,  1.29it/s]\n",
            "                 Class     Images  Instances      Box(P          R      mAP50  mAP50-95): 100%|██████████| 4/4 [00:03<00:00,  1.26it/s]"
          ]
        },
        {
          "name": "stdout",
          "output_type": "stream",
          "text": [
            "                   all        120        346      0.771      0.656      0.732      0.398\n"
          ]
        },
        {
          "name": "stderr",
          "output_type": "stream",
          "text": [
            "\n"
          ]
        },
        {
          "name": "stdout",
          "output_type": "stream",
          "text": [
            "\n",
            "      Epoch    GPU_mem   box_loss   cls_loss   dfl_loss  Instances       Size\n"
          ]
        },
        {
          "name": "stderr",
          "output_type": "stream",
          "text": [
            "     66/100      11.5G      1.107     0.6118     0.8597         33        640: 100%|██████████| 23/23 [00:17<00:00,  1.29it/s]\n",
            "                 Class     Images  Instances      Box(P          R      mAP50  mAP50-95): 100%|██████████| 4/4 [00:02<00:00,  1.80it/s]"
          ]
        },
        {
          "name": "stdout",
          "output_type": "stream",
          "text": [
            "                   all        120        346      0.759      0.569      0.675      0.356\n"
          ]
        },
        {
          "name": "stderr",
          "output_type": "stream",
          "text": [
            "\n"
          ]
        },
        {
          "name": "stdout",
          "output_type": "stream",
          "text": [
            "\n",
            "      Epoch    GPU_mem   box_loss   cls_loss   dfl_loss  Instances       Size\n"
          ]
        },
        {
          "name": "stderr",
          "output_type": "stream",
          "text": [
            "     67/100      11.5G      1.153     0.6485     0.8724         68        640: 100%|██████████| 23/23 [00:18<00:00,  1.24it/s]\n",
            "                 Class     Images  Instances      Box(P          R      mAP50  mAP50-95): 100%|██████████| 4/4 [00:02<00:00,  1.80it/s]"
          ]
        },
        {
          "name": "stdout",
          "output_type": "stream",
          "text": [
            "                   all        120        346      0.748      0.621      0.701      0.378\n"
          ]
        },
        {
          "name": "stderr",
          "output_type": "stream",
          "text": [
            "\n"
          ]
        },
        {
          "name": "stdout",
          "output_type": "stream",
          "text": [
            "\n",
            "      Epoch    GPU_mem   box_loss   cls_loss   dfl_loss  Instances       Size\n"
          ]
        },
        {
          "name": "stderr",
          "output_type": "stream",
          "text": [
            "     68/100      11.5G      1.076     0.5885     0.8803         26        640: 100%|██████████| 23/23 [00:18<00:00,  1.27it/s]\n",
            "                 Class     Images  Instances      Box(P          R      mAP50  mAP50-95): 100%|██████████| 4/4 [00:02<00:00,  1.78it/s]"
          ]
        },
        {
          "name": "stdout",
          "output_type": "stream",
          "text": [
            "                   all        120        346      0.809      0.616      0.707      0.378\n"
          ]
        },
        {
          "name": "stderr",
          "output_type": "stream",
          "text": [
            "\n"
          ]
        },
        {
          "name": "stdout",
          "output_type": "stream",
          "text": [
            "\n",
            "      Epoch    GPU_mem   box_loss   cls_loss   dfl_loss  Instances       Size\n"
          ]
        },
        {
          "name": "stderr",
          "output_type": "stream",
          "text": [
            "     69/100      11.3G      1.066     0.5819     0.8617         18        640: 100%|██████████| 23/23 [00:19<00:00,  1.21it/s]\n",
            "                 Class     Images  Instances      Box(P          R      mAP50  mAP50-95): 100%|██████████| 4/4 [00:02<00:00,  1.64it/s]"
          ]
        },
        {
          "name": "stdout",
          "output_type": "stream",
          "text": [
            "                   all        120        346      0.817       0.66      0.747       0.41\n"
          ]
        },
        {
          "name": "stderr",
          "output_type": "stream",
          "text": [
            "\n"
          ]
        },
        {
          "name": "stdout",
          "output_type": "stream",
          "text": [
            "\n",
            "      Epoch    GPU_mem   box_loss   cls_loss   dfl_loss  Instances       Size\n"
          ]
        },
        {
          "name": "stderr",
          "output_type": "stream",
          "text": [
            "     70/100      11.4G      1.131     0.6186     0.8616         34        640: 100%|██████████| 23/23 [00:18<00:00,  1.24it/s]\n",
            "                 Class     Images  Instances      Box(P          R      mAP50  mAP50-95): 100%|██████████| 4/4 [00:02<00:00,  1.79it/s]"
          ]
        },
        {
          "name": "stdout",
          "output_type": "stream",
          "text": [
            "                   all        120        346        0.8      0.676      0.742      0.408\n"
          ]
        },
        {
          "name": "stderr",
          "output_type": "stream",
          "text": [
            "\n"
          ]
        },
        {
          "name": "stdout",
          "output_type": "stream",
          "text": [
            "\n",
            "      Epoch    GPU_mem   box_loss   cls_loss   dfl_loss  Instances       Size\n"
          ]
        },
        {
          "name": "stderr",
          "output_type": "stream",
          "text": [
            "     71/100      11.5G      1.077     0.5618     0.8553         22        640: 100%|██████████| 23/23 [00:17<00:00,  1.28it/s]\n",
            "                 Class     Images  Instances      Box(P          R      mAP50  mAP50-95): 100%|██████████| 4/4 [00:03<00:00,  1.31it/s]"
          ]
        },
        {
          "name": "stdout",
          "output_type": "stream",
          "text": [
            "                   all        120        346      0.812      0.607      0.709      0.383\n"
          ]
        },
        {
          "name": "stderr",
          "output_type": "stream",
          "text": [
            "\n"
          ]
        },
        {
          "name": "stdout",
          "output_type": "stream",
          "text": [
            "\n",
            "      Epoch    GPU_mem   box_loss   cls_loss   dfl_loss  Instances       Size\n"
          ]
        },
        {
          "name": "stderr",
          "output_type": "stream",
          "text": [
            "     72/100      11.5G      1.081     0.5888     0.8614         32        640: 100%|██████████| 23/23 [00:18<00:00,  1.26it/s]\n",
            "                 Class     Images  Instances      Box(P          R      mAP50  mAP50-95): 100%|██████████| 4/4 [00:03<00:00,  1.25it/s]"
          ]
        },
        {
          "name": "stdout",
          "output_type": "stream",
          "text": [
            "                   all        120        346      0.842      0.646      0.742      0.401\n"
          ]
        },
        {
          "name": "stderr",
          "output_type": "stream",
          "text": [
            "\n"
          ]
        },
        {
          "name": "stdout",
          "output_type": "stream",
          "text": [
            "\n",
            "      Epoch    GPU_mem   box_loss   cls_loss   dfl_loss  Instances       Size\n"
          ]
        },
        {
          "name": "stderr",
          "output_type": "stream",
          "text": [
            "     73/100      11.4G      1.002     0.5409     0.8554         35        640: 100%|██████████| 23/23 [00:19<00:00,  1.21it/s]\n",
            "                 Class     Images  Instances      Box(P          R      mAP50  mAP50-95): 100%|██████████| 4/4 [00:02<00:00,  1.52it/s]"
          ]
        },
        {
          "name": "stdout",
          "output_type": "stream",
          "text": [
            "                   all        120        346      0.808      0.642      0.716      0.383\n"
          ]
        },
        {
          "name": "stderr",
          "output_type": "stream",
          "text": [
            "\n"
          ]
        },
        {
          "name": "stdout",
          "output_type": "stream",
          "text": [
            "\n",
            "      Epoch    GPU_mem   box_loss   cls_loss   dfl_loss  Instances       Size\n"
          ]
        },
        {
          "name": "stderr",
          "output_type": "stream",
          "text": [
            "     74/100      11.5G      1.046     0.5779     0.8533         28        640: 100%|██████████| 23/23 [00:17<00:00,  1.28it/s]\n",
            "                 Class     Images  Instances      Box(P          R      mAP50  mAP50-95): 100%|██████████| 4/4 [00:02<00:00,  1.92it/s]"
          ]
        },
        {
          "name": "stdout",
          "output_type": "stream",
          "text": [
            "                   all        120        346      0.829      0.642      0.742      0.406\n"
          ]
        },
        {
          "name": "stderr",
          "output_type": "stream",
          "text": [
            "\n"
          ]
        },
        {
          "name": "stdout",
          "output_type": "stream",
          "text": [
            "\n",
            "      Epoch    GPU_mem   box_loss   cls_loss   dfl_loss  Instances       Size\n"
          ]
        },
        {
          "name": "stderr",
          "output_type": "stream",
          "text": [
            "     75/100      11.5G      1.038     0.5602     0.8594         21        640: 100%|██████████| 23/23 [00:17<00:00,  1.29it/s]\n",
            "                 Class     Images  Instances      Box(P          R      mAP50  mAP50-95): 100%|██████████| 4/4 [00:02<00:00,  1.82it/s]"
          ]
        },
        {
          "name": "stdout",
          "output_type": "stream",
          "text": [
            "                   all        120        346      0.837      0.622      0.739      0.395\n"
          ]
        },
        {
          "name": "stderr",
          "output_type": "stream",
          "text": [
            "\n"
          ]
        },
        {
          "name": "stdout",
          "output_type": "stream",
          "text": [
            "\n",
            "      Epoch    GPU_mem   box_loss   cls_loss   dfl_loss  Instances       Size\n"
          ]
        },
        {
          "name": "stderr",
          "output_type": "stream",
          "text": [
            "     76/100      11.5G      1.002     0.5555     0.8551         26        640: 100%|██████████| 23/23 [00:19<00:00,  1.20it/s]\n",
            "                 Class     Images  Instances      Box(P          R      mAP50  mAP50-95): 100%|██████████| 4/4 [00:02<00:00,  1.74it/s]"
          ]
        },
        {
          "name": "stdout",
          "output_type": "stream",
          "text": [
            "                   all        120        346      0.793      0.652      0.744      0.404\n"
          ]
        },
        {
          "name": "stderr",
          "output_type": "stream",
          "text": [
            "\n"
          ]
        },
        {
          "name": "stdout",
          "output_type": "stream",
          "text": [
            "\n",
            "      Epoch    GPU_mem   box_loss   cls_loss   dfl_loss  Instances       Size\n"
          ]
        },
        {
          "name": "stderr",
          "output_type": "stream",
          "text": [
            "     77/100      11.4G      1.036       0.56     0.8659         18        640: 100%|██████████| 23/23 [00:19<00:00,  1.19it/s]\n",
            "                 Class     Images  Instances      Box(P          R      mAP50  mAP50-95): 100%|██████████| 4/4 [00:02<00:00,  1.74it/s]"
          ]
        },
        {
          "name": "stdout",
          "output_type": "stream",
          "text": [
            "                   all        120        346      0.836      0.624      0.734      0.398\n"
          ]
        },
        {
          "name": "stderr",
          "output_type": "stream",
          "text": [
            "\n"
          ]
        },
        {
          "name": "stdout",
          "output_type": "stream",
          "text": [
            "\n",
            "      Epoch    GPU_mem   box_loss   cls_loss   dfl_loss  Instances       Size\n"
          ]
        },
        {
          "name": "stderr",
          "output_type": "stream",
          "text": [
            "     78/100      11.5G     0.9736     0.5284     0.8529         25        640: 100%|██████████| 23/23 [00:18<00:00,  1.22it/s]\n",
            "                 Class     Images  Instances      Box(P          R      mAP50  mAP50-95): 100%|██████████| 4/4 [00:02<00:00,  1.84it/s]"
          ]
        },
        {
          "name": "stdout",
          "output_type": "stream",
          "text": [
            "                   all        120        346      0.795      0.688       0.75       0.41\n"
          ]
        },
        {
          "name": "stderr",
          "output_type": "stream",
          "text": [
            "\n"
          ]
        },
        {
          "name": "stdout",
          "output_type": "stream",
          "text": [
            "\n",
            "      Epoch    GPU_mem   box_loss   cls_loss   dfl_loss  Instances       Size\n"
          ]
        },
        {
          "name": "stderr",
          "output_type": "stream",
          "text": [
            "     79/100      11.4G     0.9915     0.5354     0.8614         52        640: 100%|██████████| 23/23 [00:20<00:00,  1.14it/s]\n",
            "                 Class     Images  Instances      Box(P          R      mAP50  mAP50-95): 100%|██████████| 4/4 [00:02<00:00,  1.66it/s]"
          ]
        },
        {
          "name": "stdout",
          "output_type": "stream",
          "text": [
            "                   all        120        346      0.805      0.633       0.74      0.408\n"
          ]
        },
        {
          "name": "stderr",
          "output_type": "stream",
          "text": [
            "\n"
          ]
        },
        {
          "name": "stdout",
          "output_type": "stream",
          "text": [
            "\n",
            "      Epoch    GPU_mem   box_loss   cls_loss   dfl_loss  Instances       Size\n"
          ]
        },
        {
          "name": "stderr",
          "output_type": "stream",
          "text": [
            "     80/100      11.5G      1.053     0.5663     0.8625         36        640: 100%|██████████| 23/23 [00:18<00:00,  1.26it/s]\n",
            "                 Class     Images  Instances      Box(P          R      mAP50  mAP50-95): 100%|██████████| 4/4 [00:03<00:00,  1.25it/s]"
          ]
        },
        {
          "name": "stdout",
          "output_type": "stream",
          "text": [
            "                   all        120        346      0.853      0.662      0.763      0.405\n"
          ]
        },
        {
          "name": "stderr",
          "output_type": "stream",
          "text": [
            "\n"
          ]
        },
        {
          "name": "stdout",
          "output_type": "stream",
          "text": [
            "\n",
            "      Epoch    GPU_mem   box_loss   cls_loss   dfl_loss  Instances       Size\n"
          ]
        },
        {
          "name": "stderr",
          "output_type": "stream",
          "text": [
            "     81/100      11.4G     0.9964     0.5515     0.8494         23        640: 100%|██████████| 23/23 [00:17<00:00,  1.28it/s]\n",
            "                 Class     Images  Instances      Box(P          R      mAP50  mAP50-95): 100%|██████████| 4/4 [00:02<00:00,  1.46it/s]"
          ]
        },
        {
          "name": "stdout",
          "output_type": "stream",
          "text": [
            "                   all        120        346      0.834      0.656      0.766      0.414\n"
          ]
        },
        {
          "name": "stderr",
          "output_type": "stream",
          "text": [
            "\n"
          ]
        },
        {
          "name": "stdout",
          "output_type": "stream",
          "text": [
            "\n",
            "      Epoch    GPU_mem   box_loss   cls_loss   dfl_loss  Instances       Size\n"
          ]
        },
        {
          "name": "stderr",
          "output_type": "stream",
          "text": [
            "     82/100      11.5G     0.9881     0.5363     0.8521         59        640: 100%|██████████| 23/23 [00:17<00:00,  1.28it/s]\n",
            "                 Class     Images  Instances      Box(P          R      mAP50  mAP50-95): 100%|██████████| 4/4 [00:02<00:00,  1.63it/s]"
          ]
        },
        {
          "name": "stdout",
          "output_type": "stream",
          "text": [
            "                   all        120        346      0.859      0.672      0.772      0.417\n"
          ]
        },
        {
          "name": "stderr",
          "output_type": "stream",
          "text": [
            "\n"
          ]
        },
        {
          "name": "stdout",
          "output_type": "stream",
          "text": [
            "\n",
            "      Epoch    GPU_mem   box_loss   cls_loss   dfl_loss  Instances       Size\n"
          ]
        },
        {
          "name": "stderr",
          "output_type": "stream",
          "text": [
            "     83/100      11.4G     0.9913     0.5324     0.8504         24        640: 100%|██████████| 23/23 [00:18<00:00,  1.27it/s]\n",
            "                 Class     Images  Instances      Box(P          R      mAP50  mAP50-95): 100%|██████████| 4/4 [00:03<00:00,  1.24it/s]"
          ]
        },
        {
          "name": "stdout",
          "output_type": "stream",
          "text": [
            "                   all        120        346      0.798      0.685      0.763      0.428\n"
          ]
        },
        {
          "name": "stderr",
          "output_type": "stream",
          "text": [
            "\n"
          ]
        },
        {
          "name": "stdout",
          "output_type": "stream",
          "text": [
            "\n",
            "      Epoch    GPU_mem   box_loss   cls_loss   dfl_loss  Instances       Size\n"
          ]
        },
        {
          "name": "stderr",
          "output_type": "stream",
          "text": [
            "     84/100      11.5G     0.9759     0.5379     0.8487         41        640: 100%|██████████| 23/23 [00:18<00:00,  1.27it/s]\n",
            "                 Class     Images  Instances      Box(P          R      mAP50  mAP50-95): 100%|██████████| 4/4 [00:03<00:00,  1.33it/s]"
          ]
        },
        {
          "name": "stdout",
          "output_type": "stream",
          "text": [
            "                   all        120        346      0.803      0.702       0.78      0.435\n"
          ]
        },
        {
          "name": "stderr",
          "output_type": "stream",
          "text": [
            "\n"
          ]
        },
        {
          "name": "stdout",
          "output_type": "stream",
          "text": [
            "\n",
            "      Epoch    GPU_mem   box_loss   cls_loss   dfl_loss  Instances       Size\n"
          ]
        },
        {
          "name": "stderr",
          "output_type": "stream",
          "text": [
            "     85/100      11.4G     0.9422     0.5106      0.852         37        640: 100%|██████████| 23/23 [00:18<00:00,  1.22it/s]\n",
            "                 Class     Images  Instances      Box(P          R      mAP50  mAP50-95): 100%|██████████| 4/4 [00:02<00:00,  1.59it/s]"
          ]
        },
        {
          "name": "stdout",
          "output_type": "stream",
          "text": [
            "                   all        120        346      0.843      0.651       0.77      0.427\n"
          ]
        },
        {
          "name": "stderr",
          "output_type": "stream",
          "text": [
            "\n"
          ]
        },
        {
          "name": "stdout",
          "output_type": "stream",
          "text": [
            "\n",
            "      Epoch    GPU_mem   box_loss   cls_loss   dfl_loss  Instances       Size\n"
          ]
        },
        {
          "name": "stderr",
          "output_type": "stream",
          "text": [
            "     86/100      11.5G     0.9502     0.5223     0.8328         33        640: 100%|██████████| 23/23 [00:18<00:00,  1.25it/s]\n",
            "                 Class     Images  Instances      Box(P          R      mAP50  mAP50-95): 100%|██████████| 4/4 [00:02<00:00,  1.53it/s]"
          ]
        },
        {
          "name": "stdout",
          "output_type": "stream",
          "text": [
            "                   all        120        346      0.764      0.693      0.764      0.419\n"
          ]
        },
        {
          "name": "stderr",
          "output_type": "stream",
          "text": [
            "\n"
          ]
        },
        {
          "name": "stdout",
          "output_type": "stream",
          "text": [
            "\n",
            "      Epoch    GPU_mem   box_loss   cls_loss   dfl_loss  Instances       Size\n"
          ]
        },
        {
          "name": "stderr",
          "output_type": "stream",
          "text": [
            "     87/100      11.5G     0.9407     0.5105     0.8325         37        640: 100%|██████████| 23/23 [00:18<00:00,  1.24it/s]\n",
            "                 Class     Images  Instances      Box(P          R      mAP50  mAP50-95): 100%|██████████| 4/4 [00:02<00:00,  1.76it/s]"
          ]
        },
        {
          "name": "stdout",
          "output_type": "stream",
          "text": [
            "                   all        120        346      0.859      0.621      0.756      0.411\n"
          ]
        },
        {
          "name": "stderr",
          "output_type": "stream",
          "text": [
            "\n"
          ]
        },
        {
          "name": "stdout",
          "output_type": "stream",
          "text": [
            "\n",
            "      Epoch    GPU_mem   box_loss   cls_loss   dfl_loss  Instances       Size\n"
          ]
        },
        {
          "name": "stderr",
          "output_type": "stream",
          "text": [
            "     88/100      11.5G     0.9246     0.5027     0.8296         28        640: 100%|██████████| 23/23 [00:18<00:00,  1.27it/s]\n",
            "                 Class     Images  Instances      Box(P          R      mAP50  mAP50-95): 100%|██████████| 4/4 [00:02<00:00,  1.81it/s]"
          ]
        },
        {
          "name": "stdout",
          "output_type": "stream",
          "text": [
            "                   all        120        346      0.795      0.694      0.769      0.423\n"
          ]
        },
        {
          "name": "stderr",
          "output_type": "stream",
          "text": [
            "\n"
          ]
        },
        {
          "name": "stdout",
          "output_type": "stream",
          "text": [
            "\n",
            "      Epoch    GPU_mem   box_loss   cls_loss   dfl_loss  Instances       Size\n"
          ]
        },
        {
          "name": "stderr",
          "output_type": "stream",
          "text": [
            "     89/100      11.3G      0.976     0.5158     0.8412         48        640: 100%|██████████| 23/23 [00:18<00:00,  1.26it/s]\n",
            "                 Class     Images  Instances      Box(P          R      mAP50  mAP50-95): 100%|██████████| 4/4 [00:02<00:00,  1.80it/s]"
          ]
        },
        {
          "name": "stdout",
          "output_type": "stream",
          "text": [
            "                   all        120        346      0.814      0.665      0.769      0.426\n"
          ]
        },
        {
          "name": "stderr",
          "output_type": "stream",
          "text": [
            "\n"
          ]
        },
        {
          "name": "stdout",
          "output_type": "stream",
          "text": [
            "\n",
            "      Epoch    GPU_mem   box_loss   cls_loss   dfl_loss  Instances       Size\n"
          ]
        },
        {
          "name": "stderr",
          "output_type": "stream",
          "text": [
            "     90/100      11.4G     0.9394     0.5164     0.8235         25        640: 100%|██████████| 23/23 [00:27<00:00,  1.18s/it]\n",
            "                 Class     Images  Instances      Box(P          R      mAP50  mAP50-95): 100%|██████████| 4/4 [00:03<00:00,  1.26it/s]"
          ]
        },
        {
          "name": "stdout",
          "output_type": "stream",
          "text": [
            "                   all        120        346      0.868      0.648      0.764      0.416\n"
          ]
        },
        {
          "name": "stderr",
          "output_type": "stream",
          "text": [
            "\n"
          ]
        },
        {
          "name": "stdout",
          "output_type": "stream",
          "text": [
            "Closing dataloader mosaic\n",
            "\u001b[34m\u001b[1malbumentations: \u001b[0mBlur(p=0.01, blur_limit=(3, 7)), MedianBlur(p=0.01, blur_limit=(3, 7)), ToGray(p=0.01), CLAHE(p=0.01, clip_limit=(1, 4.0), tile_grid_size=(8, 8))\n",
            "\n",
            "      Epoch    GPU_mem   box_loss   cls_loss   dfl_loss  Instances       Size\n"
          ]
        },
        {
          "name": "stderr",
          "output_type": "stream",
          "text": [
            "     91/100      11.4G     0.9433     0.5307     0.8364         17        640: 100%|██████████| 23/23 [00:22<00:00,  1.04it/s]\n",
            "                 Class     Images  Instances      Box(P          R      mAP50  mAP50-95): 100%|██████████| 4/4 [00:02<00:00,  1.95it/s]"
          ]
        },
        {
          "name": "stdout",
          "output_type": "stream",
          "text": [
            "                   all        120        346      0.871      0.642       0.77      0.426\n"
          ]
        },
        {
          "name": "stderr",
          "output_type": "stream",
          "text": [
            "\n"
          ]
        },
        {
          "name": "stdout",
          "output_type": "stream",
          "text": [
            "\n",
            "      Epoch    GPU_mem   box_loss   cls_loss   dfl_loss  Instances       Size\n"
          ]
        },
        {
          "name": "stderr",
          "output_type": "stream",
          "text": [
            "     92/100      11.5G      0.909     0.4842     0.8367         13        640: 100%|██████████| 23/23 [00:18<00:00,  1.25it/s]\n",
            "                 Class     Images  Instances      Box(P          R      mAP50  mAP50-95): 100%|██████████| 4/4 [00:02<00:00,  1.82it/s]"
          ]
        },
        {
          "name": "stdout",
          "output_type": "stream",
          "text": [
            "                   all        120        346      0.837      0.667       0.77      0.425\n"
          ]
        },
        {
          "name": "stderr",
          "output_type": "stream",
          "text": [
            "\n"
          ]
        },
        {
          "name": "stdout",
          "output_type": "stream",
          "text": [
            "\n",
            "      Epoch    GPU_mem   box_loss   cls_loss   dfl_loss  Instances       Size\n"
          ]
        },
        {
          "name": "stderr",
          "output_type": "stream",
          "text": [
            "     93/100      11.3G     0.9052     0.4967     0.8486         14        640: 100%|██████████| 23/23 [00:19<00:00,  1.20it/s]\n",
            "                 Class     Images  Instances      Box(P          R      mAP50  mAP50-95): 100%|██████████| 4/4 [00:02<00:00,  1.38it/s]"
          ]
        },
        {
          "name": "stdout",
          "output_type": "stream",
          "text": [
            "                   all        120        346      0.834      0.673      0.768      0.427\n"
          ]
        },
        {
          "name": "stderr",
          "output_type": "stream",
          "text": [
            "\n"
          ]
        },
        {
          "name": "stdout",
          "output_type": "stream",
          "text": [
            "\n",
            "      Epoch    GPU_mem   box_loss   cls_loss   dfl_loss  Instances       Size\n"
          ]
        },
        {
          "name": "stderr",
          "output_type": "stream",
          "text": [
            "     94/100      11.5G     0.8981     0.4788      0.824         11        640: 100%|██████████| 23/23 [00:19<00:00,  1.17it/s]\n",
            "                 Class     Images  Instances      Box(P          R      mAP50  mAP50-95): 100%|██████████| 4/4 [00:02<00:00,  1.60it/s]"
          ]
        },
        {
          "name": "stdout",
          "output_type": "stream",
          "text": [
            "                   all        120        346      0.809      0.685      0.757      0.432\n"
          ]
        },
        {
          "name": "stderr",
          "output_type": "stream",
          "text": [
            "\n"
          ]
        },
        {
          "name": "stdout",
          "output_type": "stream",
          "text": [
            "\n",
            "      Epoch    GPU_mem   box_loss   cls_loss   dfl_loss  Instances       Size\n"
          ]
        },
        {
          "name": "stderr",
          "output_type": "stream",
          "text": [
            "     95/100      11.5G      0.898      0.478     0.8266         21        640: 100%|██████████| 23/23 [00:17<00:00,  1.28it/s]\n",
            "                 Class     Images  Instances      Box(P          R      mAP50  mAP50-95): 100%|██████████| 4/4 [00:02<00:00,  1.50it/s]"
          ]
        },
        {
          "name": "stdout",
          "output_type": "stream",
          "text": [
            "                   all        120        346      0.861      0.646      0.759      0.429\n"
          ]
        },
        {
          "name": "stderr",
          "output_type": "stream",
          "text": [
            "\n"
          ]
        },
        {
          "name": "stdout",
          "output_type": "stream",
          "text": [
            "\n",
            "      Epoch    GPU_mem   box_loss   cls_loss   dfl_loss  Instances       Size\n"
          ]
        },
        {
          "name": "stderr",
          "output_type": "stream",
          "text": [
            "     96/100      11.4G     0.9136     0.4856     0.8424         24        640: 100%|██████████| 23/23 [00:18<00:00,  1.23it/s]\n",
            "                 Class     Images  Instances      Box(P          R      mAP50  mAP50-95): 100%|██████████| 4/4 [00:03<00:00,  1.24it/s]"
          ]
        },
        {
          "name": "stdout",
          "output_type": "stream",
          "text": [
            "                   all        120        346      0.844      0.642      0.751      0.423\n"
          ]
        },
        {
          "name": "stderr",
          "output_type": "stream",
          "text": [
            "\n"
          ]
        },
        {
          "name": "stdout",
          "output_type": "stream",
          "text": [
            "\n",
            "      Epoch    GPU_mem   box_loss   cls_loss   dfl_loss  Instances       Size\n"
          ]
        },
        {
          "name": "stderr",
          "output_type": "stream",
          "text": [
            "     97/100      11.3G     0.8932     0.4729     0.8301         17        640: 100%|██████████| 23/23 [00:18<00:00,  1.27it/s]\n",
            "                 Class     Images  Instances      Box(P          R      mAP50  mAP50-95): 100%|██████████| 4/4 [00:03<00:00,  1.17it/s]"
          ]
        },
        {
          "name": "stdout",
          "output_type": "stream",
          "text": [
            "                   all        120        346       0.81      0.662      0.745      0.419\n"
          ]
        },
        {
          "name": "stderr",
          "output_type": "stream",
          "text": [
            "\n"
          ]
        },
        {
          "name": "stdout",
          "output_type": "stream",
          "text": [
            "\n",
            "      Epoch    GPU_mem   box_loss   cls_loss   dfl_loss  Instances       Size\n"
          ]
        },
        {
          "name": "stderr",
          "output_type": "stream",
          "text": [
            "     98/100      11.5G     0.8699     0.4727     0.8154         20        640: 100%|██████████| 23/23 [00:18<00:00,  1.27it/s]\n",
            "                 Class     Images  Instances      Box(P          R      mAP50  mAP50-95): 100%|██████████| 4/4 [00:02<00:00,  1.65it/s]"
          ]
        },
        {
          "name": "stdout",
          "output_type": "stream",
          "text": [
            "                   all        120        346      0.813      0.676       0.76      0.421\n"
          ]
        },
        {
          "name": "stderr",
          "output_type": "stream",
          "text": [
            "\n"
          ]
        },
        {
          "name": "stdout",
          "output_type": "stream",
          "text": [
            "\n",
            "      Epoch    GPU_mem   box_loss   cls_loss   dfl_loss  Instances       Size\n"
          ]
        },
        {
          "name": "stderr",
          "output_type": "stream",
          "text": [
            "     99/100      11.5G     0.8667     0.4496     0.8152         26        640: 100%|██████████| 23/23 [00:17<00:00,  1.29it/s]\n",
            "                 Class     Images  Instances      Box(P          R      mAP50  mAP50-95): 100%|██████████| 4/4 [00:02<00:00,  1.77it/s]"
          ]
        },
        {
          "name": "stdout",
          "output_type": "stream",
          "text": [
            "                   all        120        346      0.847      0.659       0.76      0.422\n"
          ]
        },
        {
          "name": "stderr",
          "output_type": "stream",
          "text": [
            "\n"
          ]
        },
        {
          "name": "stdout",
          "output_type": "stream",
          "text": [
            "\n",
            "      Epoch    GPU_mem   box_loss   cls_loss   dfl_loss  Instances       Size\n"
          ]
        },
        {
          "name": "stderr",
          "output_type": "stream",
          "text": [
            "    100/100      11.5G     0.8827     0.4752     0.8259         14        640: 100%|██████████| 23/23 [00:17<00:00,  1.28it/s]\n",
            "                 Class     Images  Instances      Box(P          R      mAP50  mAP50-95): 100%|██████████| 4/4 [00:02<00:00,  1.63it/s]"
          ]
        },
        {
          "name": "stdout",
          "output_type": "stream",
          "text": [
            "                   all        120        346      0.857      0.656      0.766      0.424\n"
          ]
        },
        {
          "name": "stderr",
          "output_type": "stream",
          "text": [
            "\n"
          ]
        },
        {
          "name": "stdout",
          "output_type": "stream",
          "text": [
            "\n",
            "100 epochs completed in 0.786 hours.\n",
            "Optimizer stripped from runs/detect/train/weights/last.pt, 87.6MB\n",
            "Optimizer stripped from runs/detect/train/weights/best.pt, 87.6MB\n",
            "\n",
            "Validating runs/detect/train/weights/best.pt...\n",
            "Ultralytics YOLOv8.1.16 🚀 Python-3.10.12 torch-2.1.0+cu121 CUDA:0 (Tesla T4, 15102MiB)\n",
            "Model summary (fused): 268 layers, 43607379 parameters, 0 gradients, 164.8 GFLOPs\n"
          ]
        },
        {
          "name": "stderr",
          "output_type": "stream",
          "text": [
            "                 Class     Images  Instances      Box(P          R      mAP50  mAP50-95): 100%|██████████| 4/4 [00:04<00:00,  1.14s/it]\n"
          ]
        },
        {
          "name": "stdout",
          "output_type": "stream",
          "text": [
            "                   all        120        346      0.805      0.702       0.78      0.435\n",
            "Speed: 0.1ms preprocess, 10.6ms inference, 0.0ms loss, 4.8ms postprocess per image\n",
            "Results saved to \u001b[1mruns/detect/train\u001b[0m\n"
          ]
        },
        {
          "data": {
            "text/plain": [
              "ultralytics.utils.metrics.DetMetrics object with attributes:\n",
              "\n",
              "ap_class_index: array([0])\n",
              "box: ultralytics.utils.metrics.Metric object\n",
              "confusion_matrix: <ultralytics.utils.metrics.ConfusionMatrix object at 0x7d259af819c0>\n",
              "curves: ['Precision-Recall(B)', 'F1-Confidence(B)', 'Precision-Confidence(B)', 'Recall-Confidence(B)']\n",
              "curves_results: [[array([          0,    0.001001,    0.002002,    0.003003,    0.004004,    0.005005,    0.006006,    0.007007,    0.008008,    0.009009,     0.01001,    0.011011,    0.012012,    0.013013,    0.014014,    0.015015,    0.016016,    0.017017,    0.018018,    0.019019,     0.02002,    0.021021,    0.022022,    0.023023,\n",
              "          0.024024,    0.025025,    0.026026,    0.027027,    0.028028,    0.029029,     0.03003,    0.031031,    0.032032,    0.033033,    0.034034,    0.035035,    0.036036,    0.037037,    0.038038,    0.039039,     0.04004,    0.041041,    0.042042,    0.043043,    0.044044,    0.045045,    0.046046,    0.047047,\n",
              "          0.048048,    0.049049,     0.05005,    0.051051,    0.052052,    0.053053,    0.054054,    0.055055,    0.056056,    0.057057,    0.058058,    0.059059,     0.06006,    0.061061,    0.062062,    0.063063,    0.064064,    0.065065,    0.066066,    0.067067,    0.068068,    0.069069,     0.07007,    0.071071,\n",
              "          0.072072,    0.073073,    0.074074,    0.075075,    0.076076,    0.077077,    0.078078,    0.079079,     0.08008,    0.081081,    0.082082,    0.083083,    0.084084,    0.085085,    0.086086,    0.087087,    0.088088,    0.089089,     0.09009,    0.091091,    0.092092,    0.093093,    0.094094,    0.095095,\n",
              "          0.096096,    0.097097,    0.098098,    0.099099,      0.1001,      0.1011,      0.1021,      0.1031,      0.1041,     0.10511,     0.10611,     0.10711,     0.10811,     0.10911,     0.11011,     0.11111,     0.11211,     0.11311,     0.11411,     0.11512,     0.11612,     0.11712,     0.11812,     0.11912,\n",
              "           0.12012,     0.12112,     0.12212,     0.12312,     0.12412,     0.12513,     0.12613,     0.12713,     0.12813,     0.12913,     0.13013,     0.13113,     0.13213,     0.13313,     0.13413,     0.13514,     0.13614,     0.13714,     0.13814,     0.13914,     0.14014,     0.14114,     0.14214,     0.14314,\n",
              "           0.14414,     0.14515,     0.14615,     0.14715,     0.14815,     0.14915,     0.15015,     0.15115,     0.15215,     0.15315,     0.15415,     0.15516,     0.15616,     0.15716,     0.15816,     0.15916,     0.16016,     0.16116,     0.16216,     0.16316,     0.16416,     0.16517,     0.16617,     0.16717,\n",
              "           0.16817,     0.16917,     0.17017,     0.17117,     0.17217,     0.17317,     0.17417,     0.17518,     0.17618,     0.17718,     0.17818,     0.17918,     0.18018,     0.18118,     0.18218,     0.18318,     0.18418,     0.18519,     0.18619,     0.18719,     0.18819,     0.18919,     0.19019,     0.19119,\n",
              "           0.19219,     0.19319,     0.19419,      0.1952,      0.1962,      0.1972,      0.1982,      0.1992,      0.2002,      0.2012,      0.2022,      0.2032,      0.2042,     0.20521,     0.20621,     0.20721,     0.20821,     0.20921,     0.21021,     0.21121,     0.21221,     0.21321,     0.21421,     0.21522,\n",
              "           0.21622,     0.21722,     0.21822,     0.21922,     0.22022,     0.22122,     0.22222,     0.22322,     0.22422,     0.22523,     0.22623,     0.22723,     0.22823,     0.22923,     0.23023,     0.23123,     0.23223,     0.23323,     0.23423,     0.23524,     0.23624,     0.23724,     0.23824,     0.23924,\n",
              "           0.24024,     0.24124,     0.24224,     0.24324,     0.24424,     0.24525,     0.24625,     0.24725,     0.24825,     0.24925,     0.25025,     0.25125,     0.25225,     0.25325,     0.25425,     0.25526,     0.25626,     0.25726,     0.25826,     0.25926,     0.26026,     0.26126,     0.26226,     0.26326,\n",
              "           0.26426,     0.26527,     0.26627,     0.26727,     0.26827,     0.26927,     0.27027,     0.27127,     0.27227,     0.27327,     0.27427,     0.27528,     0.27628,     0.27728,     0.27828,     0.27928,     0.28028,     0.28128,     0.28228,     0.28328,     0.28428,     0.28529,     0.28629,     0.28729,\n",
              "           0.28829,     0.28929,     0.29029,     0.29129,     0.29229,     0.29329,     0.29429,      0.2953,      0.2963,      0.2973,      0.2983,      0.2993,      0.3003,      0.3013,      0.3023,      0.3033,      0.3043,     0.30531,     0.30631,     0.30731,     0.30831,     0.30931,     0.31031,     0.31131,\n",
              "           0.31231,     0.31331,     0.31431,     0.31532,     0.31632,     0.31732,     0.31832,     0.31932,     0.32032,     0.32132,     0.32232,     0.32332,     0.32432,     0.32533,     0.32633,     0.32733,     0.32833,     0.32933,     0.33033,     0.33133,     0.33233,     0.33333,     0.33433,     0.33534,\n",
              "           0.33634,     0.33734,     0.33834,     0.33934,     0.34034,     0.34134,     0.34234,     0.34334,     0.34434,     0.34535,     0.34635,     0.34735,     0.34835,     0.34935,     0.35035,     0.35135,     0.35235,     0.35335,     0.35435,     0.35536,     0.35636,     0.35736,     0.35836,     0.35936,\n",
              "           0.36036,     0.36136,     0.36236,     0.36336,     0.36436,     0.36537,     0.36637,     0.36737,     0.36837,     0.36937,     0.37037,     0.37137,     0.37237,     0.37337,     0.37437,     0.37538,     0.37638,     0.37738,     0.37838,     0.37938,     0.38038,     0.38138,     0.38238,     0.38338,\n",
              "           0.38438,     0.38539,     0.38639,     0.38739,     0.38839,     0.38939,     0.39039,     0.39139,     0.39239,     0.39339,     0.39439,      0.3954,      0.3964,      0.3974,      0.3984,      0.3994,      0.4004,      0.4014,      0.4024,      0.4034,      0.4044,     0.40541,     0.40641,     0.40741,\n",
              "           0.40841,     0.40941,     0.41041,     0.41141,     0.41241,     0.41341,     0.41441,     0.41542,     0.41642,     0.41742,     0.41842,     0.41942,     0.42042,     0.42142,     0.42242,     0.42342,     0.42442,     0.42543,     0.42643,     0.42743,     0.42843,     0.42943,     0.43043,     0.43143,\n",
              "           0.43243,     0.43343,     0.43443,     0.43544,     0.43644,     0.43744,     0.43844,     0.43944,     0.44044,     0.44144,     0.44244,     0.44344,     0.44444,     0.44545,     0.44645,     0.44745,     0.44845,     0.44945,     0.45045,     0.45145,     0.45245,     0.45345,     0.45445,     0.45546,\n",
              "           0.45646,     0.45746,     0.45846,     0.45946,     0.46046,     0.46146,     0.46246,     0.46346,     0.46446,     0.46547,     0.46647,     0.46747,     0.46847,     0.46947,     0.47047,     0.47147,     0.47247,     0.47347,     0.47447,     0.47548,     0.47648,     0.47748,     0.47848,     0.47948,\n",
              "           0.48048,     0.48148,     0.48248,     0.48348,     0.48448,     0.48549,     0.48649,     0.48749,     0.48849,     0.48949,     0.49049,     0.49149,     0.49249,     0.49349,     0.49449,      0.4955,      0.4965,      0.4975,      0.4985,      0.4995,      0.5005,      0.5015,      0.5025,      0.5035,\n",
              "            0.5045,     0.50551,     0.50651,     0.50751,     0.50851,     0.50951,     0.51051,     0.51151,     0.51251,     0.51351,     0.51451,     0.51552,     0.51652,     0.51752,     0.51852,     0.51952,     0.52052,     0.52152,     0.52252,     0.52352,     0.52452,     0.52553,     0.52653,     0.52753,\n",
              "           0.52853,     0.52953,     0.53053,     0.53153,     0.53253,     0.53353,     0.53453,     0.53554,     0.53654,     0.53754,     0.53854,     0.53954,     0.54054,     0.54154,     0.54254,     0.54354,     0.54454,     0.54555,     0.54655,     0.54755,     0.54855,     0.54955,     0.55055,     0.55155,\n",
              "           0.55255,     0.55355,     0.55455,     0.55556,     0.55656,     0.55756,     0.55856,     0.55956,     0.56056,     0.56156,     0.56256,     0.56356,     0.56456,     0.56557,     0.56657,     0.56757,     0.56857,     0.56957,     0.57057,     0.57157,     0.57257,     0.57357,     0.57457,     0.57558,\n",
              "           0.57658,     0.57758,     0.57858,     0.57958,     0.58058,     0.58158,     0.58258,     0.58358,     0.58458,     0.58559,     0.58659,     0.58759,     0.58859,     0.58959,     0.59059,     0.59159,     0.59259,     0.59359,     0.59459,      0.5956,      0.5966,      0.5976,      0.5986,      0.5996,\n",
              "            0.6006,      0.6016,      0.6026,      0.6036,      0.6046,     0.60561,     0.60661,     0.60761,     0.60861,     0.60961,     0.61061,     0.61161,     0.61261,     0.61361,     0.61461,     0.61562,     0.61662,     0.61762,     0.61862,     0.61962,     0.62062,     0.62162,     0.62262,     0.62362,\n",
              "           0.62462,     0.62563,     0.62663,     0.62763,     0.62863,     0.62963,     0.63063,     0.63163,     0.63263,     0.63363,     0.63463,     0.63564,     0.63664,     0.63764,     0.63864,     0.63964,     0.64064,     0.64164,     0.64264,     0.64364,     0.64464,     0.64565,     0.64665,     0.64765,\n",
              "           0.64865,     0.64965,     0.65065,     0.65165,     0.65265,     0.65365,     0.65465,     0.65566,     0.65666,     0.65766,     0.65866,     0.65966,     0.66066,     0.66166,     0.66266,     0.66366,     0.66466,     0.66567,     0.66667,     0.66767,     0.66867,     0.66967,     0.67067,     0.67167,\n",
              "           0.67267,     0.67367,     0.67467,     0.67568,     0.67668,     0.67768,     0.67868,     0.67968,     0.68068,     0.68168,     0.68268,     0.68368,     0.68468,     0.68569,     0.68669,     0.68769,     0.68869,     0.68969,     0.69069,     0.69169,     0.69269,     0.69369,     0.69469,      0.6957,\n",
              "            0.6967,      0.6977,      0.6987,      0.6997,      0.7007,      0.7017,      0.7027,      0.7037,      0.7047,     0.70571,     0.70671,     0.70771,     0.70871,     0.70971,     0.71071,     0.71171,     0.71271,     0.71371,     0.71471,     0.71572,     0.71672,     0.71772,     0.71872,     0.71972,\n",
              "           0.72072,     0.72172,     0.72272,     0.72372,     0.72472,     0.72573,     0.72673,     0.72773,     0.72873,     0.72973,     0.73073,     0.73173,     0.73273,     0.73373,     0.73473,     0.73574,     0.73674,     0.73774,     0.73874,     0.73974,     0.74074,     0.74174,     0.74274,     0.74374,\n",
              "           0.74474,     0.74575,     0.74675,     0.74775,     0.74875,     0.74975,     0.75075,     0.75175,     0.75275,     0.75375,     0.75475,     0.75576,     0.75676,     0.75776,     0.75876,     0.75976,     0.76076,     0.76176,     0.76276,     0.76376,     0.76476,     0.76577,     0.76677,     0.76777,\n",
              "           0.76877,     0.76977,     0.77077,     0.77177,     0.77277,     0.77377,     0.77477,     0.77578,     0.77678,     0.77778,     0.77878,     0.77978,     0.78078,     0.78178,     0.78278,     0.78378,     0.78478,     0.78579,     0.78679,     0.78779,     0.78879,     0.78979,     0.79079,     0.79179,\n",
              "           0.79279,     0.79379,     0.79479,      0.7958,      0.7968,      0.7978,      0.7988,      0.7998,      0.8008,      0.8018,      0.8028,      0.8038,      0.8048,     0.80581,     0.80681,     0.80781,     0.80881,     0.80981,     0.81081,     0.81181,     0.81281,     0.81381,     0.81481,     0.81582,\n",
              "           0.81682,     0.81782,     0.81882,     0.81982,     0.82082,     0.82182,     0.82282,     0.82382,     0.82482,     0.82583,     0.82683,     0.82783,     0.82883,     0.82983,     0.83083,     0.83183,     0.83283,     0.83383,     0.83483,     0.83584,     0.83684,     0.83784,     0.83884,     0.83984,\n",
              "           0.84084,     0.84184,     0.84284,     0.84384,     0.84484,     0.84585,     0.84685,     0.84785,     0.84885,     0.84985,     0.85085,     0.85185,     0.85285,     0.85385,     0.85485,     0.85586,     0.85686,     0.85786,     0.85886,     0.85986,     0.86086,     0.86186,     0.86286,     0.86386,\n",
              "           0.86486,     0.86587,     0.86687,     0.86787,     0.86887,     0.86987,     0.87087,     0.87187,     0.87287,     0.87387,     0.87487,     0.87588,     0.87688,     0.87788,     0.87888,     0.87988,     0.88088,     0.88188,     0.88288,     0.88388,     0.88488,     0.88589,     0.88689,     0.88789,\n",
              "           0.88889,     0.88989,     0.89089,     0.89189,     0.89289,     0.89389,     0.89489,      0.8959,      0.8969,      0.8979,      0.8989,      0.8999,      0.9009,      0.9019,      0.9029,      0.9039,      0.9049,     0.90591,     0.90691,     0.90791,     0.90891,     0.90991,     0.91091,     0.91191,\n",
              "           0.91291,     0.91391,     0.91491,     0.91592,     0.91692,     0.91792,     0.91892,     0.91992,     0.92092,     0.92192,     0.92292,     0.92392,     0.92492,     0.92593,     0.92693,     0.92793,     0.92893,     0.92993,     0.93093,     0.93193,     0.93293,     0.93393,     0.93493,     0.93594,\n",
              "           0.93694,     0.93794,     0.93894,     0.93994,     0.94094,     0.94194,     0.94294,     0.94394,     0.94494,     0.94595,     0.94695,     0.94795,     0.94895,     0.94995,     0.95095,     0.95195,     0.95295,     0.95395,     0.95495,     0.95596,     0.95696,     0.95796,     0.95896,     0.95996,\n",
              "           0.96096,     0.96196,     0.96296,     0.96396,     0.96496,     0.96597,     0.96697,     0.96797,     0.96897,     0.96997,     0.97097,     0.97197,     0.97297,     0.97397,     0.97497,     0.97598,     0.97698,     0.97798,     0.97898,     0.97998,     0.98098,     0.98198,     0.98298,     0.98398,\n",
              "           0.98498,     0.98599,     0.98699,     0.98799,     0.98899,     0.98999,     0.99099,     0.99199,     0.99299,     0.99399,     0.99499,       0.996,       0.997,       0.998,       0.999,           1]), array([[          1,           1,           1,           1,           1,           1,           1,           1,           1,           1,           1,           1,           1,           1,           1,           1,           1,           1,           1,           1,           1,           1,           1,\n",
              "                  1,           1,           1,           1,           1,           1,           1,           1,           1,           1,           1,           1,           1,           1,           1,           1,           1,           1,           1,           1,           1,           1,           1,\n",
              "                  1,           1,           1,           1,           1,           1,           1,           1,           1,           1,           1,           1,           1,           1,           1,           1,           1,           1,           1,           1,           1,           1,           1,\n",
              "                  1,           1,           1,           1,           1,           1,           1,           1,           1,           1,           1,           1,           1,           1,           1,           1,           1,           1,           1,           1,           1,           1,           1,\n",
              "                  1,           1,           1,           1,           1,           1,           1,           1,           1,           1,           1,           1,           1,           1,           1,           1,           1,           1,           1,           1,           1,           1,           1,\n",
              "                  1,           1,           1,           1,           1,           1,           1,           1,           1,           1,           1,           1,           1,           1,           1,           1,           1,           1,           1,           1,           1,           1,           1,\n",
              "                  1,           1,           1,           1,           1,           1,           1,           1,           1,           1,           1,           1,           1,           1,           1,           1,           1,           1,           1,           1,           1,           1,           1,\n",
              "                  1,           1,           1,           1,           1,           1,           1,           1,           1,           1,           1,           1,           1,           1,           1,           1,           1,           1,           1,           1,           1,           1,           1,\n",
              "                  1,           1,           1,           1,           1,           1,           1,           1,           1,           1,           1,           1,           1,           1,           1,           1,           1,           1,           1,           1,           1,           1,           1,\n",
              "                  1,           1,           1,           1,           1,           1,           1,           1,           1,           1,           1,           1,           1,           1,           1,           1,           1,           1,           1,           1,           1,           1,           1,\n",
              "                  1,           1,           1,           1,           1,           1,           1,           1,           1,           1,           1,           1,           1,           1,           1,           1,           1,           1,           1,           1,           1,           1,           1,\n",
              "                  1,           1,           1,           1,           1,           1,           1,           1,           1,           1,           1,           1,           1,           1,           1,           1,           1,           1,           1,           1,           1,           1,           1,\n",
              "                  1,           1,           1,           1,           1,           1,           1,           1,           1,           1,           1,           1,           1,           1,           1,           1,           1,           1,           1,           1,           1,           1,           1,\n",
              "                  1,           1,           1,           1,           1,           1,           1,           1,           1,           1,           1,           1,           1,           1,           1,           1,           1,           1,           1,           1,           1,           1,           1,\n",
              "                  1,           1,     0.99187,     0.99187,     0.99187,     0.99187,     0.99187,     0.99187,     0.99187,     0.99187,     0.99187,     0.99187,     0.99187,     0.99187,     0.99187,     0.99187,     0.99187,     0.99187,     0.99187,     0.99187,     0.99187,     0.99187,     0.99187,\n",
              "            0.99187,     0.99187,     0.99187,     0.99187,     0.99187,     0.99187,     0.99187,     0.99187,     0.98485,     0.98485,     0.98485,     0.98485,     0.98485,     0.98485,     0.98485,     0.98485,     0.98485,     0.98485,     0.98485,     0.98485,     0.98485,     0.98485,     0.98485,\n",
              "            0.98485,     0.98485,     0.98485,     0.98485,     0.98485,     0.98485,     0.98485,     0.98485,     0.97887,     0.97887,     0.97887,     0.97887,     0.97887,     0.97887,     0.97887,     0.97887,     0.97887,     0.97887,     0.97887,     0.97887,     0.97887,     0.97887,     0.97887,\n",
              "            0.97887,     0.97887,     0.97887,     0.97887,     0.97887,     0.97887,     0.97887,     0.97887,     0.97887,     0.97887,     0.97887,     0.97222,     0.97222,     0.97222,     0.96575,     0.96575,     0.96575,     0.95973,     0.95973,     0.95973,     0.95973,     0.95973,     0.95732,\n",
              "            0.95732,     0.95732,     0.95732,     0.95732,     0.95732,     0.95732,     0.95732,     0.95732,     0.95732,     0.95732,     0.95732,     0.95732,     0.95732,     0.95732,     0.95732,     0.95732,     0.95732,     0.95732,     0.95732,     0.95732,     0.95732,     0.95732,     0.95732,\n",
              "            0.95732,     0.95732,     0.95732,     0.95732,     0.95732,     0.95732,     0.95732,     0.95732,     0.95732,     0.95732,     0.95732,     0.95732,     0.95732,     0.95732,     0.95732,     0.95732,     0.95732,     0.95266,     0.95266,     0.95266,     0.95266,     0.95266,     0.95266,\n",
              "            0.95266,     0.95266,     0.95266,     0.95266,     0.95266,      0.9422,      0.9422,      0.9422,      0.9422,      0.9422,      0.9422,     0.93785,     0.93785,     0.93785,     0.93785,     0.93785,     0.93785,     0.93785,     0.93785,     0.93785,     0.93617,     0.93617,     0.93617,\n",
              "            0.93617,     0.93617,     0.93617,     0.93617,     0.93617,     0.93617,     0.93617,     0.93617,     0.93617,     0.93617,     0.93617,     0.93617,     0.93617,     0.93617,     0.93617,     0.93617,     0.93617,     0.93617,     0.93617,     0.93617,     0.93617,     0.93617,     0.93617,\n",
              "            0.93617,     0.93617,     0.93617,     0.93158,     0.93158,     0.93158,     0.93035,     0.93035,     0.93035,     0.93035,     0.93035,     0.93035,     0.93035,     0.93035,     0.93035,     0.93035,     0.93035,     0.93035,     0.93035,     0.93035,     0.93035,     0.93035,     0.93035,\n",
              "            0.93035,     0.93035,     0.93035,     0.93035,     0.93035,     0.93035,     0.93035,     0.93035,     0.93035,     0.93035,     0.93035,     0.92417,     0.92417,     0.92417,     0.92417,     0.92417,     0.92417,     0.92417,     0.92417,     0.92417,     0.92417,     0.92417,     0.92417,\n",
              "            0.92417,     0.92417,     0.92417,     0.92417,     0.92417,     0.92417,     0.92417,     0.92417,     0.92417,     0.92417,     0.92417,     0.92417,     0.91667,     0.91667,     0.91667,     0.91667,     0.91667,     0.91667,     0.91667,     0.91667,     0.91284,     0.91284,     0.91284,\n",
              "            0.90909,     0.90909,     0.90909,     0.90308,     0.90308,     0.90308,     0.90308,     0.90308,     0.90308,     0.90308,     0.90308,     0.90308,     0.90308,     0.90308,     0.90308,     0.90308,     0.90308,     0.90213,     0.90213,     0.90213,     0.90213,     0.90213,     0.90213,\n",
              "            0.90213,     0.90213,     0.90213,     0.90213,     0.90213,     0.90213,     0.90213,     0.90213,     0.90213,     0.90213,     0.90213,     0.90213,     0.90213,     0.90213,     0.90213,     0.89496,     0.89496,     0.89167,     0.89167,     0.89167,     0.89024,     0.89024,     0.89024,\n",
              "            0.89024,     0.89024,     0.89024,     0.89024,     0.89024,     0.89024,     0.89024,     0.89024,     0.89024,     0.89024,     0.89024,     0.89024,     0.87698,     0.87698,     0.87698,     0.87698,     0.87698,     0.87698,     0.87109,     0.87109,     0.87109,     0.87109,     0.87109,\n",
              "            0.86822,     0.86822,     0.86822,     0.86207,     0.86207,     0.86207,     0.85932,     0.85932,     0.85932,     0.85714,     0.85714,     0.85714,     0.85714,     0.85714,     0.85714,     0.84815,     0.84815,     0.84815,     0.83636,     0.83636,     0.83636,     0.83394,     0.83394,\n",
              "            0.82867,     0.82867,     0.82867,     0.82867,     0.82867,     0.82867,     0.82867,     0.82867,     0.82867,     0.82867,     0.82867,     0.82867,     0.82867,     0.82867,     0.82867,     0.82867,     0.82867,     0.82867,     0.81849,     0.81849,     0.81849,     0.81849,     0.81849,\n",
              "            0.81849,     0.81695,     0.81695,     0.81695,     0.81695,     0.81695,     0.81208,     0.81208,     0.81208,        0.81,        0.81,        0.81,     0.79545,     0.79545,     0.79545,     0.79545,     0.79545,     0.79545,     0.79355,     0.79355,     0.79355,     0.79167,     0.79167,\n",
              "            0.79167,     0.78981,     0.78981,     0.78981,      0.7716,      0.7716,      0.7716,      0.7716,      0.7716,     0.76292,     0.76292,     0.76292,     0.75976,     0.75976,     0.75976,     0.75976,     0.75976,     0.75976,     0.75821,     0.75821,     0.75821,     0.74561,     0.74561,\n",
              "            0.74561,     0.73775,     0.73775,     0.73775,     0.70027,     0.70027,     0.70027,      0.6973,      0.6973,     0.68421,     0.68421,     0.68421,     0.68421,     0.68421,     0.68421,     0.67617,     0.67617,     0.67617,     0.66162,     0.66162,     0.66162,      0.6608,      0.6608,\n",
              "             0.6608,        0.66,        0.66,        0.66,     0.65679,     0.65679,     0.65679,     0.65679,     0.65679,     0.65679,      0.6342,      0.6342,     0.62645,     0.62645,     0.62645,     0.62645,     0.62645,     0.62645,     0.62645,     0.62645,     0.62645,     0.61451,     0.61451,\n",
              "            0.61451,      0.6031,      0.6031,      0.6031,     0.59348,     0.59348,     0.59348,     0.58925,     0.58925,     0.58925,     0.58887,     0.58887,     0.58887,     0.58351,     0.58351,     0.56187,     0.56187,     0.56187,     0.54724,     0.54724,     0.54724,     0.52841,     0.52841,\n",
              "            0.52841,     0.49822,     0.49822,     0.49822,     0.48785,     0.48785,     0.48785,     0.45048,     0.45048,     0.45048,     0.44708,     0.44708,     0.44708,     0.43182,     0.43182,     0.43182,     0.43182,     0.43182,      0.4237,      0.4237,      0.4237,     0.41474,     0.41474,\n",
              "            0.41474,     0.40793,     0.40793,     0.40793,     0.40251,     0.40251,     0.40251,     0.36755,     0.36755,     0.36755,     0.36604,     0.36604,     0.36604,     0.36049,     0.36049,     0.36049,     0.35259,     0.35259,     0.34386,     0.34386,     0.34386,     0.32633,     0.32633,\n",
              "            0.32633,     0.31092,     0.31092,     0.31092,      0.2997,      0.2997,      0.2997,     0.29331,     0.29331,     0.29331,     0.25887,     0.25887,     0.25887,     0.25663,     0.25663,     0.25663,     0.25188,     0.25188,     0.25188,     0.21837,     0.21837,     0.17514,     0.17514,\n",
              "            0.17514,     0.17352,     0.17212,     0.17073,     0.16933,     0.16793,     0.16653,     0.16513,     0.16373,     0.16233,     0.16093,     0.15953,     0.15813,     0.15673,     0.15533,     0.15393,     0.15253,     0.15113,     0.14973,     0.14834,     0.14694,     0.14554,     0.14414,\n",
              "            0.14274,     0.14134,     0.13994,     0.13854,     0.13714,     0.13574,     0.13434,     0.13294,     0.13154,     0.13014,     0.12874,     0.12734,     0.12594,     0.12455,     0.12315,     0.12175,     0.12035,     0.11895,     0.11755,     0.11615,     0.11475,     0.11335,     0.11195,\n",
              "            0.11055,     0.10915,     0.10775,     0.10635,     0.10495,     0.10355,     0.10216,     0.10076,    0.099357,    0.097957,    0.096558,    0.095158,    0.093759,     0.09236,     0.09096,    0.089561,    0.088161,    0.086762,    0.085363,    0.083963,    0.082564,    0.081165,    0.079765,\n",
              "           0.078366,    0.076966,    0.075567,    0.074168,    0.072768,    0.071369,    0.069969,     0.06857,    0.067171,    0.065771,    0.064372,    0.062972,    0.061573,    0.060174,    0.058774,    0.057375,    0.055976,    0.054576,    0.053177,    0.051777,    0.050378,    0.048979,    0.047579,\n",
              "            0.04618,     0.04478,    0.043381,    0.041982,    0.040582,    0.039183,    0.037783,    0.036384,    0.034985,    0.033585,    0.032186,    0.030787,    0.029387,    0.027988,    0.026588,    0.025189,     0.02379,     0.02239,    0.020991,    0.019591,    0.018192,    0.016793,    0.015393,\n",
              "           0.013994,    0.012594,    0.011195,   0.0097957,   0.0083963,   0.0069969,   0.0055976,   0.0041982,   0.0027988,   0.0013994,           0]]), 'Recall', 'Precision'], [array([          0,    0.001001,    0.002002,    0.003003,    0.004004,    0.005005,    0.006006,    0.007007,    0.008008,    0.009009,     0.01001,    0.011011,    0.012012,    0.013013,    0.014014,    0.015015,    0.016016,    0.017017,    0.018018,    0.019019,     0.02002,    0.021021,    0.022022,    0.023023,\n",
              "          0.024024,    0.025025,    0.026026,    0.027027,    0.028028,    0.029029,     0.03003,    0.031031,    0.032032,    0.033033,    0.034034,    0.035035,    0.036036,    0.037037,    0.038038,    0.039039,     0.04004,    0.041041,    0.042042,    0.043043,    0.044044,    0.045045,    0.046046,    0.047047,\n",
              "          0.048048,    0.049049,     0.05005,    0.051051,    0.052052,    0.053053,    0.054054,    0.055055,    0.056056,    0.057057,    0.058058,    0.059059,     0.06006,    0.061061,    0.062062,    0.063063,    0.064064,    0.065065,    0.066066,    0.067067,    0.068068,    0.069069,     0.07007,    0.071071,\n",
              "          0.072072,    0.073073,    0.074074,    0.075075,    0.076076,    0.077077,    0.078078,    0.079079,     0.08008,    0.081081,    0.082082,    0.083083,    0.084084,    0.085085,    0.086086,    0.087087,    0.088088,    0.089089,     0.09009,    0.091091,    0.092092,    0.093093,    0.094094,    0.095095,\n",
              "          0.096096,    0.097097,    0.098098,    0.099099,      0.1001,      0.1011,      0.1021,      0.1031,      0.1041,     0.10511,     0.10611,     0.10711,     0.10811,     0.10911,     0.11011,     0.11111,     0.11211,     0.11311,     0.11411,     0.11512,     0.11612,     0.11712,     0.11812,     0.11912,\n",
              "           0.12012,     0.12112,     0.12212,     0.12312,     0.12412,     0.12513,     0.12613,     0.12713,     0.12813,     0.12913,     0.13013,     0.13113,     0.13213,     0.13313,     0.13413,     0.13514,     0.13614,     0.13714,     0.13814,     0.13914,     0.14014,     0.14114,     0.14214,     0.14314,\n",
              "           0.14414,     0.14515,     0.14615,     0.14715,     0.14815,     0.14915,     0.15015,     0.15115,     0.15215,     0.15315,     0.15415,     0.15516,     0.15616,     0.15716,     0.15816,     0.15916,     0.16016,     0.16116,     0.16216,     0.16316,     0.16416,     0.16517,     0.16617,     0.16717,\n",
              "           0.16817,     0.16917,     0.17017,     0.17117,     0.17217,     0.17317,     0.17417,     0.17518,     0.17618,     0.17718,     0.17818,     0.17918,     0.18018,     0.18118,     0.18218,     0.18318,     0.18418,     0.18519,     0.18619,     0.18719,     0.18819,     0.18919,     0.19019,     0.19119,\n",
              "           0.19219,     0.19319,     0.19419,      0.1952,      0.1962,      0.1972,      0.1982,      0.1992,      0.2002,      0.2012,      0.2022,      0.2032,      0.2042,     0.20521,     0.20621,     0.20721,     0.20821,     0.20921,     0.21021,     0.21121,     0.21221,     0.21321,     0.21421,     0.21522,\n",
              "           0.21622,     0.21722,     0.21822,     0.21922,     0.22022,     0.22122,     0.22222,     0.22322,     0.22422,     0.22523,     0.22623,     0.22723,     0.22823,     0.22923,     0.23023,     0.23123,     0.23223,     0.23323,     0.23423,     0.23524,     0.23624,     0.23724,     0.23824,     0.23924,\n",
              "           0.24024,     0.24124,     0.24224,     0.24324,     0.24424,     0.24525,     0.24625,     0.24725,     0.24825,     0.24925,     0.25025,     0.25125,     0.25225,     0.25325,     0.25425,     0.25526,     0.25626,     0.25726,     0.25826,     0.25926,     0.26026,     0.26126,     0.26226,     0.26326,\n",
              "           0.26426,     0.26527,     0.26627,     0.26727,     0.26827,     0.26927,     0.27027,     0.27127,     0.27227,     0.27327,     0.27427,     0.27528,     0.27628,     0.27728,     0.27828,     0.27928,     0.28028,     0.28128,     0.28228,     0.28328,     0.28428,     0.28529,     0.28629,     0.28729,\n",
              "           0.28829,     0.28929,     0.29029,     0.29129,     0.29229,     0.29329,     0.29429,      0.2953,      0.2963,      0.2973,      0.2983,      0.2993,      0.3003,      0.3013,      0.3023,      0.3033,      0.3043,     0.30531,     0.30631,     0.30731,     0.30831,     0.30931,     0.31031,     0.31131,\n",
              "           0.31231,     0.31331,     0.31431,     0.31532,     0.31632,     0.31732,     0.31832,     0.31932,     0.32032,     0.32132,     0.32232,     0.32332,     0.32432,     0.32533,     0.32633,     0.32733,     0.32833,     0.32933,     0.33033,     0.33133,     0.33233,     0.33333,     0.33433,     0.33534,\n",
              "           0.33634,     0.33734,     0.33834,     0.33934,     0.34034,     0.34134,     0.34234,     0.34334,     0.34434,     0.34535,     0.34635,     0.34735,     0.34835,     0.34935,     0.35035,     0.35135,     0.35235,     0.35335,     0.35435,     0.35536,     0.35636,     0.35736,     0.35836,     0.35936,\n",
              "           0.36036,     0.36136,     0.36236,     0.36336,     0.36436,     0.36537,     0.36637,     0.36737,     0.36837,     0.36937,     0.37037,     0.37137,     0.37237,     0.37337,     0.37437,     0.37538,     0.37638,     0.37738,     0.37838,     0.37938,     0.38038,     0.38138,     0.38238,     0.38338,\n",
              "           0.38438,     0.38539,     0.38639,     0.38739,     0.38839,     0.38939,     0.39039,     0.39139,     0.39239,     0.39339,     0.39439,      0.3954,      0.3964,      0.3974,      0.3984,      0.3994,      0.4004,      0.4014,      0.4024,      0.4034,      0.4044,     0.40541,     0.40641,     0.40741,\n",
              "           0.40841,     0.40941,     0.41041,     0.41141,     0.41241,     0.41341,     0.41441,     0.41542,     0.41642,     0.41742,     0.41842,     0.41942,     0.42042,     0.42142,     0.42242,     0.42342,     0.42442,     0.42543,     0.42643,     0.42743,     0.42843,     0.42943,     0.43043,     0.43143,\n",
              "           0.43243,     0.43343,     0.43443,     0.43544,     0.43644,     0.43744,     0.43844,     0.43944,     0.44044,     0.44144,     0.44244,     0.44344,     0.44444,     0.44545,     0.44645,     0.44745,     0.44845,     0.44945,     0.45045,     0.45145,     0.45245,     0.45345,     0.45445,     0.45546,\n",
              "           0.45646,     0.45746,     0.45846,     0.45946,     0.46046,     0.46146,     0.46246,     0.46346,     0.46446,     0.46547,     0.46647,     0.46747,     0.46847,     0.46947,     0.47047,     0.47147,     0.47247,     0.47347,     0.47447,     0.47548,     0.47648,     0.47748,     0.47848,     0.47948,\n",
              "           0.48048,     0.48148,     0.48248,     0.48348,     0.48448,     0.48549,     0.48649,     0.48749,     0.48849,     0.48949,     0.49049,     0.49149,     0.49249,     0.49349,     0.49449,      0.4955,      0.4965,      0.4975,      0.4985,      0.4995,      0.5005,      0.5015,      0.5025,      0.5035,\n",
              "            0.5045,     0.50551,     0.50651,     0.50751,     0.50851,     0.50951,     0.51051,     0.51151,     0.51251,     0.51351,     0.51451,     0.51552,     0.51652,     0.51752,     0.51852,     0.51952,     0.52052,     0.52152,     0.52252,     0.52352,     0.52452,     0.52553,     0.52653,     0.52753,\n",
              "           0.52853,     0.52953,     0.53053,     0.53153,     0.53253,     0.53353,     0.53453,     0.53554,     0.53654,     0.53754,     0.53854,     0.53954,     0.54054,     0.54154,     0.54254,     0.54354,     0.54454,     0.54555,     0.54655,     0.54755,     0.54855,     0.54955,     0.55055,     0.55155,\n",
              "           0.55255,     0.55355,     0.55455,     0.55556,     0.55656,     0.55756,     0.55856,     0.55956,     0.56056,     0.56156,     0.56256,     0.56356,     0.56456,     0.56557,     0.56657,     0.56757,     0.56857,     0.56957,     0.57057,     0.57157,     0.57257,     0.57357,     0.57457,     0.57558,\n",
              "           0.57658,     0.57758,     0.57858,     0.57958,     0.58058,     0.58158,     0.58258,     0.58358,     0.58458,     0.58559,     0.58659,     0.58759,     0.58859,     0.58959,     0.59059,     0.59159,     0.59259,     0.59359,     0.59459,      0.5956,      0.5966,      0.5976,      0.5986,      0.5996,\n",
              "            0.6006,      0.6016,      0.6026,      0.6036,      0.6046,     0.60561,     0.60661,     0.60761,     0.60861,     0.60961,     0.61061,     0.61161,     0.61261,     0.61361,     0.61461,     0.61562,     0.61662,     0.61762,     0.61862,     0.61962,     0.62062,     0.62162,     0.62262,     0.62362,\n",
              "           0.62462,     0.62563,     0.62663,     0.62763,     0.62863,     0.62963,     0.63063,     0.63163,     0.63263,     0.63363,     0.63463,     0.63564,     0.63664,     0.63764,     0.63864,     0.63964,     0.64064,     0.64164,     0.64264,     0.64364,     0.64464,     0.64565,     0.64665,     0.64765,\n",
              "           0.64865,     0.64965,     0.65065,     0.65165,     0.65265,     0.65365,     0.65465,     0.65566,     0.65666,     0.65766,     0.65866,     0.65966,     0.66066,     0.66166,     0.66266,     0.66366,     0.66466,     0.66567,     0.66667,     0.66767,     0.66867,     0.66967,     0.67067,     0.67167,\n",
              "           0.67267,     0.67367,     0.67467,     0.67568,     0.67668,     0.67768,     0.67868,     0.67968,     0.68068,     0.68168,     0.68268,     0.68368,     0.68468,     0.68569,     0.68669,     0.68769,     0.68869,     0.68969,     0.69069,     0.69169,     0.69269,     0.69369,     0.69469,      0.6957,\n",
              "            0.6967,      0.6977,      0.6987,      0.6997,      0.7007,      0.7017,      0.7027,      0.7037,      0.7047,     0.70571,     0.70671,     0.70771,     0.70871,     0.70971,     0.71071,     0.71171,     0.71271,     0.71371,     0.71471,     0.71572,     0.71672,     0.71772,     0.71872,     0.71972,\n",
              "           0.72072,     0.72172,     0.72272,     0.72372,     0.72472,     0.72573,     0.72673,     0.72773,     0.72873,     0.72973,     0.73073,     0.73173,     0.73273,     0.73373,     0.73473,     0.73574,     0.73674,     0.73774,     0.73874,     0.73974,     0.74074,     0.74174,     0.74274,     0.74374,\n",
              "           0.74474,     0.74575,     0.74675,     0.74775,     0.74875,     0.74975,     0.75075,     0.75175,     0.75275,     0.75375,     0.75475,     0.75576,     0.75676,     0.75776,     0.75876,     0.75976,     0.76076,     0.76176,     0.76276,     0.76376,     0.76476,     0.76577,     0.76677,     0.76777,\n",
              "           0.76877,     0.76977,     0.77077,     0.77177,     0.77277,     0.77377,     0.77477,     0.77578,     0.77678,     0.77778,     0.77878,     0.77978,     0.78078,     0.78178,     0.78278,     0.78378,     0.78478,     0.78579,     0.78679,     0.78779,     0.78879,     0.78979,     0.79079,     0.79179,\n",
              "           0.79279,     0.79379,     0.79479,      0.7958,      0.7968,      0.7978,      0.7988,      0.7998,      0.8008,      0.8018,      0.8028,      0.8038,      0.8048,     0.80581,     0.80681,     0.80781,     0.80881,     0.80981,     0.81081,     0.81181,     0.81281,     0.81381,     0.81481,     0.81582,\n",
              "           0.81682,     0.81782,     0.81882,     0.81982,     0.82082,     0.82182,     0.82282,     0.82382,     0.82482,     0.82583,     0.82683,     0.82783,     0.82883,     0.82983,     0.83083,     0.83183,     0.83283,     0.83383,     0.83483,     0.83584,     0.83684,     0.83784,     0.83884,     0.83984,\n",
              "           0.84084,     0.84184,     0.84284,     0.84384,     0.84484,     0.84585,     0.84685,     0.84785,     0.84885,     0.84985,     0.85085,     0.85185,     0.85285,     0.85385,     0.85485,     0.85586,     0.85686,     0.85786,     0.85886,     0.85986,     0.86086,     0.86186,     0.86286,     0.86386,\n",
              "           0.86486,     0.86587,     0.86687,     0.86787,     0.86887,     0.86987,     0.87087,     0.87187,     0.87287,     0.87387,     0.87487,     0.87588,     0.87688,     0.87788,     0.87888,     0.87988,     0.88088,     0.88188,     0.88288,     0.88388,     0.88488,     0.88589,     0.88689,     0.88789,\n",
              "           0.88889,     0.88989,     0.89089,     0.89189,     0.89289,     0.89389,     0.89489,      0.8959,      0.8969,      0.8979,      0.8989,      0.8999,      0.9009,      0.9019,      0.9029,      0.9039,      0.9049,     0.90591,     0.90691,     0.90791,     0.90891,     0.90991,     0.91091,     0.91191,\n",
              "           0.91291,     0.91391,     0.91491,     0.91592,     0.91692,     0.91792,     0.91892,     0.91992,     0.92092,     0.92192,     0.92292,     0.92392,     0.92492,     0.92593,     0.92693,     0.92793,     0.92893,     0.92993,     0.93093,     0.93193,     0.93293,     0.93393,     0.93493,     0.93594,\n",
              "           0.93694,     0.93794,     0.93894,     0.93994,     0.94094,     0.94194,     0.94294,     0.94394,     0.94494,     0.94595,     0.94695,     0.94795,     0.94895,     0.94995,     0.95095,     0.95195,     0.95295,     0.95395,     0.95495,     0.95596,     0.95696,     0.95796,     0.95896,     0.95996,\n",
              "           0.96096,     0.96196,     0.96296,     0.96396,     0.96496,     0.96597,     0.96697,     0.96797,     0.96897,     0.96997,     0.97097,     0.97197,     0.97297,     0.97397,     0.97497,     0.97598,     0.97698,     0.97798,     0.97898,     0.97998,     0.98098,     0.98198,     0.98298,     0.98398,\n",
              "           0.98498,     0.98599,     0.98699,     0.98799,     0.98899,     0.98999,     0.99099,     0.99199,     0.99299,     0.99399,     0.99499,       0.996,       0.997,       0.998,       0.999,           1]), array([[    0.28995,     0.28995,     0.36683,     0.41763,     0.45384,     0.47813,     0.49663,     0.51237,     0.53423,     0.54675,     0.55956,     0.56787,     0.57997,     0.58535,     0.59377,     0.60301,     0.60999,     0.61371,     0.61925,     0.62678,     0.63343,     0.63732,     0.64224,\n",
              "            0.64666,     0.64942,     0.65477,     0.65545,     0.65631,     0.65912,     0.65905,     0.66085,       0.664,     0.66925,     0.67058,     0.67252,     0.67324,     0.67601,     0.67509,     0.67422,     0.67683,     0.67615,     0.67755,     0.67964,     0.68226,     0.68225,     0.68325,\n",
              "            0.68707,     0.68975,     0.69042,     0.69144,     0.69203,     0.69023,     0.69177,     0.69345,     0.69567,      0.6956,     0.69629,     0.69906,     0.70143,     0.70246,     0.70322,     0.70436,     0.70727,      0.7071,     0.70499,     0.70644,     0.70616,     0.70581,      0.7053,\n",
              "            0.70691,     0.70857,     0.70909,     0.70978,     0.71043,     0.71094,     0.71217,     0.71256,     0.71294,     0.71279,      0.7138,     0.71527,     0.71499,     0.71367,     0.71478,     0.71503,     0.71529,     0.71554,     0.71727,     0.71953,     0.71895,      0.7191,     0.72038,\n",
              "             0.7213,     0.72497,     0.72634,     0.72729,     0.72757,     0.72785,     0.72812,     0.72928,     0.72971,     0.73008,     0.73048,     0.73105,     0.73192,     0.73367,     0.73424,     0.73498,     0.73619,     0.73805,     0.73861,      0.7385,     0.73802,     0.73753,     0.73703,\n",
              "            0.73772,     0.73884,     0.73982,     0.74042,     0.74079,     0.74117,     0.74053,     0.73946,     0.74105,     0.74291,     0.74355,     0.74418,     0.74482,     0.74458,     0.74508,     0.74362,     0.74214,     0.74211,     0.74357,     0.74291,     0.74224,     0.74204,     0.74254,\n",
              "            0.74302,      0.7434,     0.74377,      0.7444,     0.74563,     0.74599,     0.74535,      0.7447,      0.7442,     0.74381,     0.74343,     0.74304,     0.74265,       0.743,     0.74375,     0.74446,     0.74632,     0.74708,     0.74779,     0.74824,     0.74848,     0.74872,     0.74896,\n",
              "            0.74919,     0.75054,     0.75109,     0.75132,     0.75046,     0.74963,     0.74989,     0.75015,     0.75041,     0.75067,     0.74905,     0.74934,     0.74963,     0.74992,     0.74872,     0.74922,     0.74853,     0.74785,     0.74713,     0.74631,     0.74548,     0.74781,      0.7482,\n",
              "             0.7486,     0.74972,     0.75022,     0.75046,      0.7507,     0.75095,     0.75192,     0.75146,     0.75129,     0.75111,     0.75094,     0.75076,     0.75059,     0.75041,     0.75024,     0.75006,     0.74989,     0.74971,      0.7498,     0.75026,     0.75071,     0.75129,     0.75189,\n",
              "            0.74952,     0.74807,     0.74843,     0.74878,     0.74914,     0.74861,     0.74785,     0.74716,     0.74673,     0.74631,     0.74588,     0.74546,     0.74549,     0.74583,     0.74617,     0.74649,     0.74668,     0.74688,     0.74707,     0.74726,     0.74746,      0.7477,     0.74858,\n",
              "            0.74924,     0.74981,     0.74953,     0.74883,     0.74812,     0.74685,     0.74345,     0.74199,     0.74107,     0.74016,      0.7392,     0.73823,     0.73865,     0.73927,     0.73947,     0.73968,     0.73989,     0.74009,      0.7403,     0.74054,      0.7408,     0.74107,     0.74133,\n",
              "            0.74146,     0.74008,     0.73963,     0.73975,     0.73987,     0.73999,     0.74011,     0.74024,     0.74036,     0.74048,      0.7406,     0.74072,     0.74036,     0.73993,     0.73949,     0.73905,     0.73874,     0.73886,     0.73898,      0.7391,     0.73921,     0.73933,     0.73945,\n",
              "            0.73957,     0.73969,     0.73981,     0.73999,     0.74037,     0.74074,     0.74239,     0.74159,     0.74197,     0.74235,      0.7427,     0.74286,     0.74303,     0.74319,     0.74336,     0.74352,     0.74369,     0.74386,      0.7442,     0.74459,     0.74497,     0.74467,     0.74402,\n",
              "            0.74337,       0.742,     0.74114,     0.74143,     0.74172,     0.74202,     0.74201,     0.74152,     0.74102,     0.74052,     0.74017,     0.74036,     0.74054,     0.74073,     0.74091,      0.7411,     0.74128,     0.74124,     0.74107,     0.74089,     0.74072,     0.74054,     0.74037,\n",
              "             0.7402,     0.74002,     0.73985,     0.73968,      0.7395,     0.73933,     0.74136,     0.74085,     0.74084,     0.73869,     0.73839,     0.73809,      0.7378,      0.7375,      0.7372,      0.7369,     0.73681,     0.73753,     0.73826,     0.73898,     0.73604,       0.735,     0.73616,\n",
              "            0.73639,     0.73662,     0.73685,     0.73708,     0.73731,     0.73772,     0.73818,     0.73863,     0.73883,     0.73904,     0.73924,     0.73945,     0.73965,     0.73986,     0.73563,     0.73436,     0.73332,     0.73285,     0.73239,     0.73192,     0.73146,     0.73091,     0.73032,\n",
              "            0.72973,     0.72914,     0.72985,     0.73028,     0.72994,      0.7296,     0.72925,     0.72891,     0.72857,     0.72823,      0.7288,     0.72944,     0.72865,     0.72784,     0.72731,     0.72743,     0.72755,     0.72768,      0.7278,     0.72792,     0.72804,     0.72816,     0.72829,\n",
              "            0.72841,      0.7286,     0.72967,     0.72839,     0.72454,     0.72299,     0.72252,     0.72204,     0.72156,     0.72108,     0.71923,     0.71695,      0.7162,      0.7158,      0.7154,       0.715,      0.7146,     0.71434,     0.71459,     0.71485,     0.71511,     0.71536,     0.71549,\n",
              "            0.71537,     0.71524,     0.71512,     0.71499,     0.71487,     0.71475,     0.71462,      0.7145,     0.71437,     0.71425,     0.71412,       0.714,     0.71387,     0.71375,     0.71363,      0.7135,     0.71338,     0.71323,     0.71304,     0.71284,     0.71264,     0.71245,     0.71225,\n",
              "            0.71205,     0.71186,     0.71166,     0.71146,     0.71127,     0.71107,     0.71066,     0.71019,     0.70973,     0.70926,      0.7088,     0.70659,     0.70447,     0.70473,     0.70498,     0.70523,     0.70553,     0.70626,     0.70665,      0.7065,     0.70634,     0.70619,     0.70603,\n",
              "            0.70587,     0.70572,     0.70556,      0.7054,     0.70525,     0.70509,     0.70493,     0.70478,     0.70462,     0.70447,     0.70474,     0.70517,      0.7056,     0.70519,      0.7046,     0.70402,     0.70343,     0.70246,     0.70176,     0.70117,     0.70057,     0.69999,     0.69973,\n",
              "            0.69946,      0.6992,     0.69893,     0.69867,      0.6984,     0.69814,     0.69787,     0.69776,     0.69808,      0.6984,     0.69872,     0.69938,     0.69543,     0.69526,     0.69509,     0.69491,     0.69474,     0.69457,      0.6944,     0.69422,     0.69405,     0.69388,     0.69371,\n",
              "            0.69353,     0.69336,     0.69319,     0.69034,     0.68973,     0.68913,     0.68852,     0.68816,     0.68785,     0.68755,     0.68724,     0.68694,     0.68663,     0.68633,     0.68601,     0.68479,     0.68362,     0.68338,     0.68313,     0.68288,     0.68264,     0.68239,     0.68215,\n",
              "             0.6819,     0.68166,     0.68141,     0.68163,     0.68269,     0.68333,     0.68342,     0.68259,     0.68177,      0.6802,     0.67866,     0.67816,     0.67767,     0.67717,     0.67667,     0.67366,     0.67303,      0.6724,     0.67178,     0.67071,     0.66945,     0.66904,     0.66893,\n",
              "            0.66881,     0.66869,     0.66857,     0.66846,     0.66834,     0.66822,      0.6681,     0.66799,     0.66787,     0.66775,     0.66763,     0.66752,      0.6674,     0.66728,     0.66716,     0.66705,     0.66693,     0.66681,     0.66669,     0.66628,     0.66577,     0.66526,     0.66476,\n",
              "            0.66425,     0.66192,     0.65937,      0.6604,     0.65921,     0.65795,     0.65846,     0.65896,     0.65769,     0.65589,     0.65459,     0.65371,     0.65307,     0.65242,     0.65177,     0.65095,     0.65008,     0.64921,     0.64873,     0.64832,     0.64792,     0.64752,     0.64712,\n",
              "            0.64671,     0.64588,     0.64456,     0.64359,     0.64293,     0.64227,     0.64161,     0.63971,     0.63763,     0.63609,     0.63556,     0.63503,     0.63449,     0.63396,     0.63398,     0.63189,     0.63099,     0.63009,     0.62737,     0.62706,      0.6272,     0.62735,     0.62749,\n",
              "            0.62764,     0.62779,     0.62793,     0.62808,     0.62644,     0.62521,     0.62479,     0.62437,     0.62395,     0.62353,     0.62311,     0.62302,     0.62363,     0.62418,     0.62459,     0.62501,     0.62288,      0.6223,     0.62201,     0.62172,     0.62143,     0.62114,     0.62085,\n",
              "            0.62056,     0.62027,     0.61998,     0.61895,     0.61757,     0.61484,     0.61533,     0.61537,     0.61426,     0.61314,      0.6106,     0.60779,     0.60711,     0.60667,     0.60624,     0.60581,     0.60537,     0.60494,      0.6037,     0.60191,      0.6011,     0.60028,     0.59947,\n",
              "            0.59587,     0.59505,     0.59423,     0.59057,     0.58961,     0.58864,     0.58323,     0.57986,     0.57891,     0.57826,     0.57761,     0.57695,       0.577,     0.57773,     0.57478,     0.57209,     0.57264,     0.57047,     0.57081,     0.57115,      0.5712,     0.57001,     0.56881,\n",
              "            0.56871,     0.56897,     0.56924,      0.5695,      0.5694,     0.56865,      0.5679,     0.56715,      0.5624,     0.55985,     0.55784,     0.55696,     0.55609,     0.55521,     0.55363,     0.54881,      0.5485,     0.54819,     0.54789,     0.54758,     0.54727,     0.54696,     0.54665,\n",
              "            0.54634,     0.54602,     0.54504,     0.54296,     0.54333,     0.54391,     0.54292,     0.54188,     0.54079,      0.5387,     0.52489,     0.52398,     0.52306,     0.52194,     0.51979,     0.51968,        0.52,     0.51892,     0.51784,     0.50723,     0.50629,     0.50535,     0.50441,\n",
              "            0.50233,     0.49426,     0.49351,     0.49277,     0.49202,     0.49126,     0.49014,     0.48901,     0.48806,     0.48843,     0.48879,     0.48866,      0.4864,     0.47746,     0.47517,     0.47287,     0.46718,     0.46485,     0.46252,      0.4533,     0.45158,     0.45079,        0.45,\n",
              "            0.44921,     0.44842,       0.448,     0.44758,     0.44716,     0.44674,     0.44632,      0.4459,     0.44548,     0.44506,     0.44321,     0.44113,     0.43993,     0.43872,     0.43744,     0.43599,     0.43454,     0.42865,     0.42664,     0.42517,      0.4237,     0.42125,     0.41878,\n",
              "            0.41641,     0.41548,     0.41455,     0.41362,     0.40895,     0.40745,     0.40594,     0.40462,     0.40336,      0.4021,     0.39882,      0.3971,     0.39583,     0.39456,     0.38725,     0.38624,     0.38546,     0.38469,     0.38392,     0.38306,     0.38048,     0.37713,     0.37081,\n",
              "            0.36924,     0.36749,     0.36485,     0.35583,     0.35516,     0.35449,     0.35382,     0.35315,     0.35248,     0.34616,     0.34293,     0.33587,     0.33422,     0.33258,     0.32852,     0.32035,     0.31868,     0.31701,     0.30974,      0.3022,     0.29915,     0.29536,     0.29413,\n",
              "             0.2929,     0.29166,      0.2881,     0.28375,     0.28054,     0.27712,     0.27272,     0.26394,     0.26078,      0.2595,     0.25822,     0.25693,     0.25243,     0.24355,     0.24126,     0.23426,     0.22509,     0.22063,      0.2175,     0.19934,     0.19622,     0.19381,     0.19139,\n",
              "            0.18896,     0.18458,     0.17692,     0.17445,     0.16981,     0.16863,     0.16786,      0.1671,     0.16633,     0.16556,      0.1648,     0.16376,     0.16251,     0.16126,     0.16001,     0.15884,     0.15773,     0.15661,     0.15549,     0.14919,     0.14716,     0.14513,     0.14337,\n",
              "            0.14166,     0.13996,     0.13671,     0.13252,     0.11347,     0.11136,    0.093587,    0.089991,    0.087189,    0.085018,    0.082454,    0.077254,    0.073596,    0.065532,    0.063312,    0.060729,    0.057008,    0.050238,    0.048627,    0.047015,    0.045399,    0.041889,     0.03899,\n",
              "           0.037361,    0.035729,    0.034095,    0.032185,    0.030272,    0.028445,    0.027805,    0.027164,    0.026524,    0.025882,    0.025241,    0.024599,    0.023956,    0.023313,    0.017109,    0.016825,    0.016541,    0.016257,    0.015972,    0.015688,    0.015403,    0.015119,    0.014834,\n",
              "           0.014549,    0.014264,    0.013979,    0.013694,    0.013409,    0.013124,    0.012839,    0.012553,    0.012268,    0.011982,    0.011697,           0,           0,           0,           0,           0,           0,           0,           0,           0,           0,           0,           0,\n",
              "                  0,           0,           0,           0,           0,           0,           0,           0,           0,           0,           0,           0,           0,           0,           0,           0,           0,           0,           0,           0,           0,           0,           0,\n",
              "                  0,           0,           0,           0,           0,           0,           0,           0,           0,           0,           0,           0,           0,           0,           0,           0,           0,           0,           0,           0,           0,           0,           0,\n",
              "                  0,           0,           0,           0,           0,           0,           0,           0,           0,           0,           0]]), 'Confidence', 'F1'], [array([          0,    0.001001,    0.002002,    0.003003,    0.004004,    0.005005,    0.006006,    0.007007,    0.008008,    0.009009,     0.01001,    0.011011,    0.012012,    0.013013,    0.014014,    0.015015,    0.016016,    0.017017,    0.018018,    0.019019,     0.02002,    0.021021,    0.022022,    0.023023,\n",
              "          0.024024,    0.025025,    0.026026,    0.027027,    0.028028,    0.029029,     0.03003,    0.031031,    0.032032,    0.033033,    0.034034,    0.035035,    0.036036,    0.037037,    0.038038,    0.039039,     0.04004,    0.041041,    0.042042,    0.043043,    0.044044,    0.045045,    0.046046,    0.047047,\n",
              "          0.048048,    0.049049,     0.05005,    0.051051,    0.052052,    0.053053,    0.054054,    0.055055,    0.056056,    0.057057,    0.058058,    0.059059,     0.06006,    0.061061,    0.062062,    0.063063,    0.064064,    0.065065,    0.066066,    0.067067,    0.068068,    0.069069,     0.07007,    0.071071,\n",
              "          0.072072,    0.073073,    0.074074,    0.075075,    0.076076,    0.077077,    0.078078,    0.079079,     0.08008,    0.081081,    0.082082,    0.083083,    0.084084,    0.085085,    0.086086,    0.087087,    0.088088,    0.089089,     0.09009,    0.091091,    0.092092,    0.093093,    0.094094,    0.095095,\n",
              "          0.096096,    0.097097,    0.098098,    0.099099,      0.1001,      0.1011,      0.1021,      0.1031,      0.1041,     0.10511,     0.10611,     0.10711,     0.10811,     0.10911,     0.11011,     0.11111,     0.11211,     0.11311,     0.11411,     0.11512,     0.11612,     0.11712,     0.11812,     0.11912,\n",
              "           0.12012,     0.12112,     0.12212,     0.12312,     0.12412,     0.12513,     0.12613,     0.12713,     0.12813,     0.12913,     0.13013,     0.13113,     0.13213,     0.13313,     0.13413,     0.13514,     0.13614,     0.13714,     0.13814,     0.13914,     0.14014,     0.14114,     0.14214,     0.14314,\n",
              "           0.14414,     0.14515,     0.14615,     0.14715,     0.14815,     0.14915,     0.15015,     0.15115,     0.15215,     0.15315,     0.15415,     0.15516,     0.15616,     0.15716,     0.15816,     0.15916,     0.16016,     0.16116,     0.16216,     0.16316,     0.16416,     0.16517,     0.16617,     0.16717,\n",
              "           0.16817,     0.16917,     0.17017,     0.17117,     0.17217,     0.17317,     0.17417,     0.17518,     0.17618,     0.17718,     0.17818,     0.17918,     0.18018,     0.18118,     0.18218,     0.18318,     0.18418,     0.18519,     0.18619,     0.18719,     0.18819,     0.18919,     0.19019,     0.19119,\n",
              "           0.19219,     0.19319,     0.19419,      0.1952,      0.1962,      0.1972,      0.1982,      0.1992,      0.2002,      0.2012,      0.2022,      0.2032,      0.2042,     0.20521,     0.20621,     0.20721,     0.20821,     0.20921,     0.21021,     0.21121,     0.21221,     0.21321,     0.21421,     0.21522,\n",
              "           0.21622,     0.21722,     0.21822,     0.21922,     0.22022,     0.22122,     0.22222,     0.22322,     0.22422,     0.22523,     0.22623,     0.22723,     0.22823,     0.22923,     0.23023,     0.23123,     0.23223,     0.23323,     0.23423,     0.23524,     0.23624,     0.23724,     0.23824,     0.23924,\n",
              "           0.24024,     0.24124,     0.24224,     0.24324,     0.24424,     0.24525,     0.24625,     0.24725,     0.24825,     0.24925,     0.25025,     0.25125,     0.25225,     0.25325,     0.25425,     0.25526,     0.25626,     0.25726,     0.25826,     0.25926,     0.26026,     0.26126,     0.26226,     0.26326,\n",
              "           0.26426,     0.26527,     0.26627,     0.26727,     0.26827,     0.26927,     0.27027,     0.27127,     0.27227,     0.27327,     0.27427,     0.27528,     0.27628,     0.27728,     0.27828,     0.27928,     0.28028,     0.28128,     0.28228,     0.28328,     0.28428,     0.28529,     0.28629,     0.28729,\n",
              "           0.28829,     0.28929,     0.29029,     0.29129,     0.29229,     0.29329,     0.29429,      0.2953,      0.2963,      0.2973,      0.2983,      0.2993,      0.3003,      0.3013,      0.3023,      0.3033,      0.3043,     0.30531,     0.30631,     0.30731,     0.30831,     0.30931,     0.31031,     0.31131,\n",
              "           0.31231,     0.31331,     0.31431,     0.31532,     0.31632,     0.31732,     0.31832,     0.31932,     0.32032,     0.32132,     0.32232,     0.32332,     0.32432,     0.32533,     0.32633,     0.32733,     0.32833,     0.32933,     0.33033,     0.33133,     0.33233,     0.33333,     0.33433,     0.33534,\n",
              "           0.33634,     0.33734,     0.33834,     0.33934,     0.34034,     0.34134,     0.34234,     0.34334,     0.34434,     0.34535,     0.34635,     0.34735,     0.34835,     0.34935,     0.35035,     0.35135,     0.35235,     0.35335,     0.35435,     0.35536,     0.35636,     0.35736,     0.35836,     0.35936,\n",
              "           0.36036,     0.36136,     0.36236,     0.36336,     0.36436,     0.36537,     0.36637,     0.36737,     0.36837,     0.36937,     0.37037,     0.37137,     0.37237,     0.37337,     0.37437,     0.37538,     0.37638,     0.37738,     0.37838,     0.37938,     0.38038,     0.38138,     0.38238,     0.38338,\n",
              "           0.38438,     0.38539,     0.38639,     0.38739,     0.38839,     0.38939,     0.39039,     0.39139,     0.39239,     0.39339,     0.39439,      0.3954,      0.3964,      0.3974,      0.3984,      0.3994,      0.4004,      0.4014,      0.4024,      0.4034,      0.4044,     0.40541,     0.40641,     0.40741,\n",
              "           0.40841,     0.40941,     0.41041,     0.41141,     0.41241,     0.41341,     0.41441,     0.41542,     0.41642,     0.41742,     0.41842,     0.41942,     0.42042,     0.42142,     0.42242,     0.42342,     0.42442,     0.42543,     0.42643,     0.42743,     0.42843,     0.42943,     0.43043,     0.43143,\n",
              "           0.43243,     0.43343,     0.43443,     0.43544,     0.43644,     0.43744,     0.43844,     0.43944,     0.44044,     0.44144,     0.44244,     0.44344,     0.44444,     0.44545,     0.44645,     0.44745,     0.44845,     0.44945,     0.45045,     0.45145,     0.45245,     0.45345,     0.45445,     0.45546,\n",
              "           0.45646,     0.45746,     0.45846,     0.45946,     0.46046,     0.46146,     0.46246,     0.46346,     0.46446,     0.46547,     0.46647,     0.46747,     0.46847,     0.46947,     0.47047,     0.47147,     0.47247,     0.47347,     0.47447,     0.47548,     0.47648,     0.47748,     0.47848,     0.47948,\n",
              "           0.48048,     0.48148,     0.48248,     0.48348,     0.48448,     0.48549,     0.48649,     0.48749,     0.48849,     0.48949,     0.49049,     0.49149,     0.49249,     0.49349,     0.49449,      0.4955,      0.4965,      0.4975,      0.4985,      0.4995,      0.5005,      0.5015,      0.5025,      0.5035,\n",
              "            0.5045,     0.50551,     0.50651,     0.50751,     0.50851,     0.50951,     0.51051,     0.51151,     0.51251,     0.51351,     0.51451,     0.51552,     0.51652,     0.51752,     0.51852,     0.51952,     0.52052,     0.52152,     0.52252,     0.52352,     0.52452,     0.52553,     0.52653,     0.52753,\n",
              "           0.52853,     0.52953,     0.53053,     0.53153,     0.53253,     0.53353,     0.53453,     0.53554,     0.53654,     0.53754,     0.53854,     0.53954,     0.54054,     0.54154,     0.54254,     0.54354,     0.54454,     0.54555,     0.54655,     0.54755,     0.54855,     0.54955,     0.55055,     0.55155,\n",
              "           0.55255,     0.55355,     0.55455,     0.55556,     0.55656,     0.55756,     0.55856,     0.55956,     0.56056,     0.56156,     0.56256,     0.56356,     0.56456,     0.56557,     0.56657,     0.56757,     0.56857,     0.56957,     0.57057,     0.57157,     0.57257,     0.57357,     0.57457,     0.57558,\n",
              "           0.57658,     0.57758,     0.57858,     0.57958,     0.58058,     0.58158,     0.58258,     0.58358,     0.58458,     0.58559,     0.58659,     0.58759,     0.58859,     0.58959,     0.59059,     0.59159,     0.59259,     0.59359,     0.59459,      0.5956,      0.5966,      0.5976,      0.5986,      0.5996,\n",
              "            0.6006,      0.6016,      0.6026,      0.6036,      0.6046,     0.60561,     0.60661,     0.60761,     0.60861,     0.60961,     0.61061,     0.61161,     0.61261,     0.61361,     0.61461,     0.61562,     0.61662,     0.61762,     0.61862,     0.61962,     0.62062,     0.62162,     0.62262,     0.62362,\n",
              "           0.62462,     0.62563,     0.62663,     0.62763,     0.62863,     0.62963,     0.63063,     0.63163,     0.63263,     0.63363,     0.63463,     0.63564,     0.63664,     0.63764,     0.63864,     0.63964,     0.64064,     0.64164,     0.64264,     0.64364,     0.64464,     0.64565,     0.64665,     0.64765,\n",
              "           0.64865,     0.64965,     0.65065,     0.65165,     0.65265,     0.65365,     0.65465,     0.65566,     0.65666,     0.65766,     0.65866,     0.65966,     0.66066,     0.66166,     0.66266,     0.66366,     0.66466,     0.66567,     0.66667,     0.66767,     0.66867,     0.66967,     0.67067,     0.67167,\n",
              "           0.67267,     0.67367,     0.67467,     0.67568,     0.67668,     0.67768,     0.67868,     0.67968,     0.68068,     0.68168,     0.68268,     0.68368,     0.68468,     0.68569,     0.68669,     0.68769,     0.68869,     0.68969,     0.69069,     0.69169,     0.69269,     0.69369,     0.69469,      0.6957,\n",
              "            0.6967,      0.6977,      0.6987,      0.6997,      0.7007,      0.7017,      0.7027,      0.7037,      0.7047,     0.70571,     0.70671,     0.70771,     0.70871,     0.70971,     0.71071,     0.71171,     0.71271,     0.71371,     0.71471,     0.71572,     0.71672,     0.71772,     0.71872,     0.71972,\n",
              "           0.72072,     0.72172,     0.72272,     0.72372,     0.72472,     0.72573,     0.72673,     0.72773,     0.72873,     0.72973,     0.73073,     0.73173,     0.73273,     0.73373,     0.73473,     0.73574,     0.73674,     0.73774,     0.73874,     0.73974,     0.74074,     0.74174,     0.74274,     0.74374,\n",
              "           0.74474,     0.74575,     0.74675,     0.74775,     0.74875,     0.74975,     0.75075,     0.75175,     0.75275,     0.75375,     0.75475,     0.75576,     0.75676,     0.75776,     0.75876,     0.75976,     0.76076,     0.76176,     0.76276,     0.76376,     0.76476,     0.76577,     0.76677,     0.76777,\n",
              "           0.76877,     0.76977,     0.77077,     0.77177,     0.77277,     0.77377,     0.77477,     0.77578,     0.77678,     0.77778,     0.77878,     0.77978,     0.78078,     0.78178,     0.78278,     0.78378,     0.78478,     0.78579,     0.78679,     0.78779,     0.78879,     0.78979,     0.79079,     0.79179,\n",
              "           0.79279,     0.79379,     0.79479,      0.7958,      0.7968,      0.7978,      0.7988,      0.7998,      0.8008,      0.8018,      0.8028,      0.8038,      0.8048,     0.80581,     0.80681,     0.80781,     0.80881,     0.80981,     0.81081,     0.81181,     0.81281,     0.81381,     0.81481,     0.81582,\n",
              "           0.81682,     0.81782,     0.81882,     0.81982,     0.82082,     0.82182,     0.82282,     0.82382,     0.82482,     0.82583,     0.82683,     0.82783,     0.82883,     0.82983,     0.83083,     0.83183,     0.83283,     0.83383,     0.83483,     0.83584,     0.83684,     0.83784,     0.83884,     0.83984,\n",
              "           0.84084,     0.84184,     0.84284,     0.84384,     0.84484,     0.84585,     0.84685,     0.84785,     0.84885,     0.84985,     0.85085,     0.85185,     0.85285,     0.85385,     0.85485,     0.85586,     0.85686,     0.85786,     0.85886,     0.85986,     0.86086,     0.86186,     0.86286,     0.86386,\n",
              "           0.86486,     0.86587,     0.86687,     0.86787,     0.86887,     0.86987,     0.87087,     0.87187,     0.87287,     0.87387,     0.87487,     0.87588,     0.87688,     0.87788,     0.87888,     0.87988,     0.88088,     0.88188,     0.88288,     0.88388,     0.88488,     0.88589,     0.88689,     0.88789,\n",
              "           0.88889,     0.88989,     0.89089,     0.89189,     0.89289,     0.89389,     0.89489,      0.8959,      0.8969,      0.8979,      0.8989,      0.8999,      0.9009,      0.9019,      0.9029,      0.9039,      0.9049,     0.90591,     0.90691,     0.90791,     0.90891,     0.90991,     0.91091,     0.91191,\n",
              "           0.91291,     0.91391,     0.91491,     0.91592,     0.91692,     0.91792,     0.91892,     0.91992,     0.92092,     0.92192,     0.92292,     0.92392,     0.92492,     0.92593,     0.92693,     0.92793,     0.92893,     0.92993,     0.93093,     0.93193,     0.93293,     0.93393,     0.93493,     0.93594,\n",
              "           0.93694,     0.93794,     0.93894,     0.93994,     0.94094,     0.94194,     0.94294,     0.94394,     0.94494,     0.94595,     0.94695,     0.94795,     0.94895,     0.94995,     0.95095,     0.95195,     0.95295,     0.95395,     0.95495,     0.95596,     0.95696,     0.95796,     0.95896,     0.95996,\n",
              "           0.96096,     0.96196,     0.96296,     0.96396,     0.96496,     0.96597,     0.96697,     0.96797,     0.96897,     0.96997,     0.97097,     0.97197,     0.97297,     0.97397,     0.97497,     0.97598,     0.97698,     0.97798,     0.97898,     0.97998,     0.98098,     0.98198,     0.98298,     0.98398,\n",
              "           0.98498,     0.98599,     0.98699,     0.98799,     0.98899,     0.98999,     0.99099,     0.99199,     0.99299,     0.99399,     0.99499,       0.996,       0.997,       0.998,       0.999,           1]), array([[    0.17374,     0.17374,     0.23242,     0.27565,     0.30884,     0.33266,     0.35184,     0.36953,      0.3927,     0.40776,      0.4233,     0.43491,     0.45015,     0.45758,     0.46795,     0.47953,     0.48947,     0.49427,     0.50263,     0.51261,     0.52158,     0.52687,      0.5349,\n",
              "            0.54107,     0.54495,     0.55389,     0.55486,      0.5561,     0.56014,     0.56116,     0.56408,      0.5687,     0.57644,     0.57842,      0.5813,     0.58394,     0.58812,      0.5881,     0.58858,     0.59258,     0.59316,     0.59532,     0.59856,     0.60264,     0.60433,     0.60591,\n",
              "            0.61193,       0.618,     0.61908,     0.62072,     0.62492,     0.62434,     0.62686,     0.62962,     0.63393,     0.63513,     0.63629,     0.64094,     0.64492,     0.64667,     0.64796,      0.6499,     0.65486,     0.65615,     0.65511,     0.65768,     0.65921,     0.66094,     0.66118,\n",
              "             0.6651,     0.66803,     0.66897,      0.6702,     0.67135,     0.67227,     0.67446,     0.67516,     0.67586,     0.67791,     0.67975,     0.68243,     0.68362,     0.68432,     0.68635,     0.68682,     0.68729,     0.68776,     0.69095,     0.69516,     0.69651,     0.69946,     0.70187,\n",
              "            0.70362,     0.71065,     0.71328,     0.71512,     0.71566,     0.71619,     0.71673,     0.71898,     0.71981,     0.72053,     0.72132,     0.72243,     0.72413,     0.72755,     0.72868,     0.73014,     0.73253,     0.73622,     0.73734,     0.73762,     0.73742,     0.73721,     0.73701,\n",
              "            0.73846,     0.74069,     0.74267,     0.74387,     0.74463,     0.74539,     0.74531,     0.74487,     0.74813,     0.75193,     0.75324,     0.75455,     0.75586,     0.75845,     0.75949,     0.75914,     0.75856,     0.75958,     0.76287,     0.76261,     0.76235,     0.76261,     0.76367,\n",
              "            0.76469,     0.76549,     0.76629,     0.76762,     0.77025,      0.7715,     0.77126,     0.77101,     0.77082,     0.77068,     0.77053,     0.77039,     0.77024,     0.77123,     0.77285,     0.77437,     0.77841,     0.78007,     0.78162,     0.78262,     0.78314,     0.78366,     0.78418,\n",
              "             0.7847,     0.78766,     0.78887,     0.78974,     0.78943,     0.78915,     0.78973,     0.79031,     0.79088,     0.79146,     0.79141,     0.79207,     0.79272,     0.79338,      0.7931,     0.79545,     0.79521,     0.79497,     0.79472,     0.79443,     0.79414,     0.79961,     0.80051,\n",
              "            0.80141,       0.804,     0.80513,     0.80569,     0.80626,     0.80682,     0.80987,     0.81205,     0.81199,     0.81194,     0.81188,     0.81182,     0.81177,     0.81171,     0.81165,     0.81159,     0.81154,     0.81148,      0.8119,     0.81297,     0.81404,      0.8154,     0.81682,\n",
              "            0.81617,     0.81577,     0.81661,     0.81746,     0.81831,      0.8183,     0.81806,     0.81784,      0.8177,     0.81757,     0.81743,      0.8173,     0.81773,     0.81856,     0.81939,     0.82015,     0.82062,     0.82109,     0.82155,     0.82202,     0.82249,     0.82308,     0.82522,\n",
              "            0.82681,      0.8282,     0.82853,     0.82831,      0.8281,     0.82771,     0.82667,     0.82623,     0.82594,     0.82566,     0.82536,     0.82506,     0.82659,     0.82812,     0.82864,     0.82916,     0.82968,      0.8302,     0.83072,     0.83133,     0.83199,     0.83266,     0.83332,\n",
              "             0.8339,     0.83349,     0.83352,     0.83384,     0.83415,     0.83446,     0.83477,     0.83508,     0.83539,      0.8357,     0.83601,     0.83632,     0.83625,     0.83612,       0.836,     0.83587,     0.83584,     0.83614,     0.83645,     0.83675,     0.83706,     0.83737,     0.83767,\n",
              "            0.83798,     0.83828,     0.83859,     0.83905,     0.84002,     0.84099,     0.84526,     0.84791,      0.8489,      0.8499,     0.85081,     0.85125,     0.85168,     0.85212,     0.85255,     0.85299,     0.85343,     0.85386,     0.85478,     0.85579,      0.8568,     0.85703,     0.85686,\n",
              "            0.85669,     0.85633,     0.85647,     0.85725,     0.85804,     0.85882,     0.85927,     0.85914,     0.85901,     0.85888,     0.85889,     0.85939,     0.85989,     0.86039,     0.86089,     0.86139,     0.86189,     0.86204,       0.862,     0.86195,     0.86191,     0.86186,     0.86182,\n",
              "            0.86177,     0.86173,     0.86169,     0.86164,      0.8616,     0.86155,     0.86724,       0.868,     0.87109,     0.87057,      0.8705,     0.87042,     0.87035,     0.87028,     0.87021,     0.87014,     0.87049,      0.8725,     0.87453,     0.87656,     0.87627,     0.87629,     0.87959,\n",
              "            0.88025,     0.88091,     0.88157,     0.88223,     0.88289,     0.88405,     0.88538,     0.88667,     0.88726,     0.88786,     0.88845,     0.88904,     0.88963,     0.89022,     0.88935,     0.88908,     0.88886,     0.88876,     0.88866,     0.88856,     0.88847,     0.88835,     0.88822,\n",
              "             0.8881,     0.88797,      0.8901,     0.89165,     0.89158,      0.8915,     0.89143,     0.89136,     0.89129,     0.89122,     0.89301,     0.89493,      0.8948,     0.89463,     0.89463,       0.895,     0.89537,     0.89574,     0.89611,     0.89648,     0.89685,     0.89722,     0.89759,\n",
              "            0.89796,     0.89853,     0.90211,     0.90186,     0.90112,     0.90083,     0.90073,     0.90064,     0.90055,     0.90045,     0.90009,     0.89965,      0.8995,     0.89942,     0.89934,     0.89926,     0.89919,     0.89929,      0.9001,     0.90091,     0.90173,     0.90254,     0.90308,\n",
              "            0.90305,     0.90303,       0.903,     0.90298,     0.90296,     0.90293,     0.90291,     0.90289,     0.90286,     0.90284,     0.90281,     0.90279,     0.90277,     0.90274,     0.90272,      0.9027,     0.90267,     0.90264,     0.90261,     0.90257,     0.90253,     0.90249,     0.90246,\n",
              "            0.90242,     0.90238,     0.90234,      0.9023,     0.90227,     0.90223,     0.90215,     0.90206,     0.90197,     0.90188,     0.90179,     0.90136,      0.9017,     0.90254,     0.90338,     0.90421,     0.90518,     0.90759,     0.90908,     0.90905,     0.90902,       0.909,     0.90897,\n",
              "            0.90894,     0.90891,     0.90888,     0.90885,     0.90882,      0.9088,     0.90877,     0.90874,     0.90871,     0.90868,     0.90973,     0.91116,     0.91258,     0.91276,     0.91266,     0.91255,     0.91245,      0.9163,     0.91618,     0.91608,     0.91598,     0.91589,     0.91584,\n",
              "             0.9158,     0.91575,     0.91571,     0.91566,     0.91562,     0.91557,     0.91553,     0.91578,     0.91688,     0.91799,      0.9191,     0.92139,     0.92343,     0.92341,     0.92338,     0.92335,     0.92333,      0.9233,     0.92327,     0.92325,     0.92322,     0.92319,     0.92317,\n",
              "            0.92314,     0.92311,     0.92308,     0.92264,     0.92254,     0.92244,     0.92235,     0.92229,     0.92224,     0.92219,     0.92214,      0.9221,     0.92205,       0.922,     0.92195,     0.92175,     0.92157,     0.92153,     0.92149,     0.92145,     0.92141,     0.92137,     0.92133,\n",
              "            0.92129,     0.92125,     0.92121,     0.92261,     0.92652,     0.92888,      0.9303,     0.93018,     0.93007,     0.92984,     0.92961,     0.92954,     0.92947,      0.9294,     0.92932,     0.92888,     0.92879,     0.92869,      0.9286,     0.92844,     0.92825,     0.92819,     0.92817,\n",
              "            0.92816,     0.92814,     0.92812,      0.9281,     0.92809,     0.92807,     0.92805,     0.92803,     0.92802,       0.928,     0.92798,     0.92796,     0.92794,     0.92793,     0.92791,     0.92789,     0.92787,     0.92786,     0.92784,     0.92778,      0.9277,     0.92762,     0.92755,\n",
              "            0.92747,     0.92712,     0.92672,     0.93141,      0.9314,     0.93125,     0.93328,     0.93531,     0.93597,     0.93572,     0.93555,     0.93543,     0.93534,     0.93525,     0.93516,     0.93505,     0.93492,      0.9348,     0.93474,     0.93468,     0.93462,     0.93457,     0.93451,\n",
              "            0.93446,     0.93434,     0.93415,     0.93402,     0.93392,     0.93383,     0.93374,     0.93347,     0.93317,     0.93295,     0.93287,     0.93279,     0.93271,     0.93264,     0.93774,     0.93746,     0.93734,     0.93722,     0.93684,     0.93738,     0.93803,     0.93869,     0.93934,\n",
              "            0.93999,     0.94065,      0.9413,     0.94195,     0.94198,     0.94183,     0.94177,     0.94172,     0.94166,     0.94161,     0.94156,      0.9424,     0.94523,     0.94774,     0.94966,     0.95157,     0.95241,     0.95235,     0.95232,     0.95229,     0.95226,     0.95223,      0.9522,\n",
              "            0.95217,     0.95214,     0.95211,       0.952,     0.95185,     0.95324,     0.95561,     0.95729,     0.95718,     0.95707,     0.95683,     0.95655,     0.95648,     0.95644,      0.9564,     0.95635,     0.95631,     0.95627,     0.95615,     0.95597,     0.95589,      0.9558,     0.95572,\n",
              "            0.95536,     0.95527,     0.95519,     0.95481,     0.95471,     0.95461,     0.95404,     0.95368,     0.95358,     0.95351,     0.95344,     0.95337,     0.95543,     0.95973,     0.95945,     0.95962,     0.96571,      0.9667,     0.96866,     0.97063,     0.97221,     0.97213,     0.97205,\n",
              "             0.9732,     0.97475,     0.97631,     0.97787,     0.97886,     0.97882,     0.97878,     0.97874,      0.9785,     0.97837,     0.97826,     0.97821,     0.97817,     0.97812,     0.97804,     0.97778,     0.97776,     0.97774,     0.97772,     0.97771,     0.97769,     0.97767,     0.97766,\n",
              "            0.97764,     0.97762,     0.97757,     0.97745,     0.98093,     0.98473,     0.98481,     0.98477,     0.98473,     0.98465,     0.98411,     0.98407,     0.98403,     0.98399,      0.9839,      0.9877,     0.99186,     0.99184,     0.99182,     0.99159,     0.99157,     0.99155,     0.99153,\n",
              "            0.99148,      0.9913,     0.99128,     0.99126,     0.99124,     0.99123,      0.9912,     0.99117,      0.9915,     0.99452,     0.99755,           1,           1,           1,           1,           1,           1,           1,           1,           1,           1,           1,           1,\n",
              "                  1,           1,           1,           1,           1,           1,           1,           1,           1,           1,           1,           1,           1,           1,           1,           1,           1,           1,           1,           1,           1,           1,           1,\n",
              "                  1,           1,           1,           1,           1,           1,           1,           1,           1,           1,           1,           1,           1,           1,           1,           1,           1,           1,           1,           1,           1,           1,           1,\n",
              "                  1,           1,           1,           1,           1,           1,           1,           1,           1,           1,           1,           1,           1,           1,           1,           1,           1,           1,           1,           1,           1,           1,           1,\n",
              "                  1,           1,           1,           1,           1,           1,           1,           1,           1,           1,           1,           1,           1,           1,           1,           1,           1,           1,           1,           1,           1,           1,           1,\n",
              "                  1,           1,           1,           1,           1,           1,           1,           1,           1,           1,           1,           1,           1,           1,           1,           1,           1,           1,           1,           1,           1,           1,           1,\n",
              "                  1,           1,           1,           1,           1,           1,           1,           1,           1,           1,           1,           1,           1,           1,           1,           1,           1,           1,           1,           1,           1,           1,           1,\n",
              "                  1,           1,           1,           1,           1,           1,           1,           1,           1,           1,           1,           1,           1,           1,           1,           1,           1,           1,           1,           1,           1,           1,           1,\n",
              "                  1,           1,           1,           1,           1,           1,           1,           1,           1,           1,           1,           1,           1,           1,           1,           1,           1,           1,           1,           1,           1,           1,           1,\n",
              "                  1,           1,           1,           1,           1,           1,           1,           1,           1,           1,           1,           1,           1,           1,           1,           1,           1,           1,           1,           1,           1,           1,           1,\n",
              "                  1,           1,           1,           1,           1,           1,           1,           1,           1,           1,           1,           1,           1,           1,           1,           1,           1,           1,           1,           1,           1,           1,           1,\n",
              "                  1,           1,           1,           1,           1,           1,           1,           1,           1,           1,           1]]), 'Confidence', 'Precision'], [array([          0,    0.001001,    0.002002,    0.003003,    0.004004,    0.005005,    0.006006,    0.007007,    0.008008,    0.009009,     0.01001,    0.011011,    0.012012,    0.013013,    0.014014,    0.015015,    0.016016,    0.017017,    0.018018,    0.019019,     0.02002,    0.021021,    0.022022,    0.023023,\n",
              "          0.024024,    0.025025,    0.026026,    0.027027,    0.028028,    0.029029,     0.03003,    0.031031,    0.032032,    0.033033,    0.034034,    0.035035,    0.036036,    0.037037,    0.038038,    0.039039,     0.04004,    0.041041,    0.042042,    0.043043,    0.044044,    0.045045,    0.046046,    0.047047,\n",
              "          0.048048,    0.049049,     0.05005,    0.051051,    0.052052,    0.053053,    0.054054,    0.055055,    0.056056,    0.057057,    0.058058,    0.059059,     0.06006,    0.061061,    0.062062,    0.063063,    0.064064,    0.065065,    0.066066,    0.067067,    0.068068,    0.069069,     0.07007,    0.071071,\n",
              "          0.072072,    0.073073,    0.074074,    0.075075,    0.076076,    0.077077,    0.078078,    0.079079,     0.08008,    0.081081,    0.082082,    0.083083,    0.084084,    0.085085,    0.086086,    0.087087,    0.088088,    0.089089,     0.09009,    0.091091,    0.092092,    0.093093,    0.094094,    0.095095,\n",
              "          0.096096,    0.097097,    0.098098,    0.099099,      0.1001,      0.1011,      0.1021,      0.1031,      0.1041,     0.10511,     0.10611,     0.10711,     0.10811,     0.10911,     0.11011,     0.11111,     0.11211,     0.11311,     0.11411,     0.11512,     0.11612,     0.11712,     0.11812,     0.11912,\n",
              "           0.12012,     0.12112,     0.12212,     0.12312,     0.12412,     0.12513,     0.12613,     0.12713,     0.12813,     0.12913,     0.13013,     0.13113,     0.13213,     0.13313,     0.13413,     0.13514,     0.13614,     0.13714,     0.13814,     0.13914,     0.14014,     0.14114,     0.14214,     0.14314,\n",
              "           0.14414,     0.14515,     0.14615,     0.14715,     0.14815,     0.14915,     0.15015,     0.15115,     0.15215,     0.15315,     0.15415,     0.15516,     0.15616,     0.15716,     0.15816,     0.15916,     0.16016,     0.16116,     0.16216,     0.16316,     0.16416,     0.16517,     0.16617,     0.16717,\n",
              "           0.16817,     0.16917,     0.17017,     0.17117,     0.17217,     0.17317,     0.17417,     0.17518,     0.17618,     0.17718,     0.17818,     0.17918,     0.18018,     0.18118,     0.18218,     0.18318,     0.18418,     0.18519,     0.18619,     0.18719,     0.18819,     0.18919,     0.19019,     0.19119,\n",
              "           0.19219,     0.19319,     0.19419,      0.1952,      0.1962,      0.1972,      0.1982,      0.1992,      0.2002,      0.2012,      0.2022,      0.2032,      0.2042,     0.20521,     0.20621,     0.20721,     0.20821,     0.20921,     0.21021,     0.21121,     0.21221,     0.21321,     0.21421,     0.21522,\n",
              "           0.21622,     0.21722,     0.21822,     0.21922,     0.22022,     0.22122,     0.22222,     0.22322,     0.22422,     0.22523,     0.22623,     0.22723,     0.22823,     0.22923,     0.23023,     0.23123,     0.23223,     0.23323,     0.23423,     0.23524,     0.23624,     0.23724,     0.23824,     0.23924,\n",
              "           0.24024,     0.24124,     0.24224,     0.24324,     0.24424,     0.24525,     0.24625,     0.24725,     0.24825,     0.24925,     0.25025,     0.25125,     0.25225,     0.25325,     0.25425,     0.25526,     0.25626,     0.25726,     0.25826,     0.25926,     0.26026,     0.26126,     0.26226,     0.26326,\n",
              "           0.26426,     0.26527,     0.26627,     0.26727,     0.26827,     0.26927,     0.27027,     0.27127,     0.27227,     0.27327,     0.27427,     0.27528,     0.27628,     0.27728,     0.27828,     0.27928,     0.28028,     0.28128,     0.28228,     0.28328,     0.28428,     0.28529,     0.28629,     0.28729,\n",
              "           0.28829,     0.28929,     0.29029,     0.29129,     0.29229,     0.29329,     0.29429,      0.2953,      0.2963,      0.2973,      0.2983,      0.2993,      0.3003,      0.3013,      0.3023,      0.3033,      0.3043,     0.30531,     0.30631,     0.30731,     0.30831,     0.30931,     0.31031,     0.31131,\n",
              "           0.31231,     0.31331,     0.31431,     0.31532,     0.31632,     0.31732,     0.31832,     0.31932,     0.32032,     0.32132,     0.32232,     0.32332,     0.32432,     0.32533,     0.32633,     0.32733,     0.32833,     0.32933,     0.33033,     0.33133,     0.33233,     0.33333,     0.33433,     0.33534,\n",
              "           0.33634,     0.33734,     0.33834,     0.33934,     0.34034,     0.34134,     0.34234,     0.34334,     0.34434,     0.34535,     0.34635,     0.34735,     0.34835,     0.34935,     0.35035,     0.35135,     0.35235,     0.35335,     0.35435,     0.35536,     0.35636,     0.35736,     0.35836,     0.35936,\n",
              "           0.36036,     0.36136,     0.36236,     0.36336,     0.36436,     0.36537,     0.36637,     0.36737,     0.36837,     0.36937,     0.37037,     0.37137,     0.37237,     0.37337,     0.37437,     0.37538,     0.37638,     0.37738,     0.37838,     0.37938,     0.38038,     0.38138,     0.38238,     0.38338,\n",
              "           0.38438,     0.38539,     0.38639,     0.38739,     0.38839,     0.38939,     0.39039,     0.39139,     0.39239,     0.39339,     0.39439,      0.3954,      0.3964,      0.3974,      0.3984,      0.3994,      0.4004,      0.4014,      0.4024,      0.4034,      0.4044,     0.40541,     0.40641,     0.40741,\n",
              "           0.40841,     0.40941,     0.41041,     0.41141,     0.41241,     0.41341,     0.41441,     0.41542,     0.41642,     0.41742,     0.41842,     0.41942,     0.42042,     0.42142,     0.42242,     0.42342,     0.42442,     0.42543,     0.42643,     0.42743,     0.42843,     0.42943,     0.43043,     0.43143,\n",
              "           0.43243,     0.43343,     0.43443,     0.43544,     0.43644,     0.43744,     0.43844,     0.43944,     0.44044,     0.44144,     0.44244,     0.44344,     0.44444,     0.44545,     0.44645,     0.44745,     0.44845,     0.44945,     0.45045,     0.45145,     0.45245,     0.45345,     0.45445,     0.45546,\n",
              "           0.45646,     0.45746,     0.45846,     0.45946,     0.46046,     0.46146,     0.46246,     0.46346,     0.46446,     0.46547,     0.46647,     0.46747,     0.46847,     0.46947,     0.47047,     0.47147,     0.47247,     0.47347,     0.47447,     0.47548,     0.47648,     0.47748,     0.47848,     0.47948,\n",
              "           0.48048,     0.48148,     0.48248,     0.48348,     0.48448,     0.48549,     0.48649,     0.48749,     0.48849,     0.48949,     0.49049,     0.49149,     0.49249,     0.49349,     0.49449,      0.4955,      0.4965,      0.4975,      0.4985,      0.4995,      0.5005,      0.5015,      0.5025,      0.5035,\n",
              "            0.5045,     0.50551,     0.50651,     0.50751,     0.50851,     0.50951,     0.51051,     0.51151,     0.51251,     0.51351,     0.51451,     0.51552,     0.51652,     0.51752,     0.51852,     0.51952,     0.52052,     0.52152,     0.52252,     0.52352,     0.52452,     0.52553,     0.52653,     0.52753,\n",
              "           0.52853,     0.52953,     0.53053,     0.53153,     0.53253,     0.53353,     0.53453,     0.53554,     0.53654,     0.53754,     0.53854,     0.53954,     0.54054,     0.54154,     0.54254,     0.54354,     0.54454,     0.54555,     0.54655,     0.54755,     0.54855,     0.54955,     0.55055,     0.55155,\n",
              "           0.55255,     0.55355,     0.55455,     0.55556,     0.55656,     0.55756,     0.55856,     0.55956,     0.56056,     0.56156,     0.56256,     0.56356,     0.56456,     0.56557,     0.56657,     0.56757,     0.56857,     0.56957,     0.57057,     0.57157,     0.57257,     0.57357,     0.57457,     0.57558,\n",
              "           0.57658,     0.57758,     0.57858,     0.57958,     0.58058,     0.58158,     0.58258,     0.58358,     0.58458,     0.58559,     0.58659,     0.58759,     0.58859,     0.58959,     0.59059,     0.59159,     0.59259,     0.59359,     0.59459,      0.5956,      0.5966,      0.5976,      0.5986,      0.5996,\n",
              "            0.6006,      0.6016,      0.6026,      0.6036,      0.6046,     0.60561,     0.60661,     0.60761,     0.60861,     0.60961,     0.61061,     0.61161,     0.61261,     0.61361,     0.61461,     0.61562,     0.61662,     0.61762,     0.61862,     0.61962,     0.62062,     0.62162,     0.62262,     0.62362,\n",
              "           0.62462,     0.62563,     0.62663,     0.62763,     0.62863,     0.62963,     0.63063,     0.63163,     0.63263,     0.63363,     0.63463,     0.63564,     0.63664,     0.63764,     0.63864,     0.63964,     0.64064,     0.64164,     0.64264,     0.64364,     0.64464,     0.64565,     0.64665,     0.64765,\n",
              "           0.64865,     0.64965,     0.65065,     0.65165,     0.65265,     0.65365,     0.65465,     0.65566,     0.65666,     0.65766,     0.65866,     0.65966,     0.66066,     0.66166,     0.66266,     0.66366,     0.66466,     0.66567,     0.66667,     0.66767,     0.66867,     0.66967,     0.67067,     0.67167,\n",
              "           0.67267,     0.67367,     0.67467,     0.67568,     0.67668,     0.67768,     0.67868,     0.67968,     0.68068,     0.68168,     0.68268,     0.68368,     0.68468,     0.68569,     0.68669,     0.68769,     0.68869,     0.68969,     0.69069,     0.69169,     0.69269,     0.69369,     0.69469,      0.6957,\n",
              "            0.6967,      0.6977,      0.6987,      0.6997,      0.7007,      0.7017,      0.7027,      0.7037,      0.7047,     0.70571,     0.70671,     0.70771,     0.70871,     0.70971,     0.71071,     0.71171,     0.71271,     0.71371,     0.71471,     0.71572,     0.71672,     0.71772,     0.71872,     0.71972,\n",
              "           0.72072,     0.72172,     0.72272,     0.72372,     0.72472,     0.72573,     0.72673,     0.72773,     0.72873,     0.72973,     0.73073,     0.73173,     0.73273,     0.73373,     0.73473,     0.73574,     0.73674,     0.73774,     0.73874,     0.73974,     0.74074,     0.74174,     0.74274,     0.74374,\n",
              "           0.74474,     0.74575,     0.74675,     0.74775,     0.74875,     0.74975,     0.75075,     0.75175,     0.75275,     0.75375,     0.75475,     0.75576,     0.75676,     0.75776,     0.75876,     0.75976,     0.76076,     0.76176,     0.76276,     0.76376,     0.76476,     0.76577,     0.76677,     0.76777,\n",
              "           0.76877,     0.76977,     0.77077,     0.77177,     0.77277,     0.77377,     0.77477,     0.77578,     0.77678,     0.77778,     0.77878,     0.77978,     0.78078,     0.78178,     0.78278,     0.78378,     0.78478,     0.78579,     0.78679,     0.78779,     0.78879,     0.78979,     0.79079,     0.79179,\n",
              "           0.79279,     0.79379,     0.79479,      0.7958,      0.7968,      0.7978,      0.7988,      0.7998,      0.8008,      0.8018,      0.8028,      0.8038,      0.8048,     0.80581,     0.80681,     0.80781,     0.80881,     0.80981,     0.81081,     0.81181,     0.81281,     0.81381,     0.81481,     0.81582,\n",
              "           0.81682,     0.81782,     0.81882,     0.81982,     0.82082,     0.82182,     0.82282,     0.82382,     0.82482,     0.82583,     0.82683,     0.82783,     0.82883,     0.82983,     0.83083,     0.83183,     0.83283,     0.83383,     0.83483,     0.83584,     0.83684,     0.83784,     0.83884,     0.83984,\n",
              "           0.84084,     0.84184,     0.84284,     0.84384,     0.84484,     0.84585,     0.84685,     0.84785,     0.84885,     0.84985,     0.85085,     0.85185,     0.85285,     0.85385,     0.85485,     0.85586,     0.85686,     0.85786,     0.85886,     0.85986,     0.86086,     0.86186,     0.86286,     0.86386,\n",
              "           0.86486,     0.86587,     0.86687,     0.86787,     0.86887,     0.86987,     0.87087,     0.87187,     0.87287,     0.87387,     0.87487,     0.87588,     0.87688,     0.87788,     0.87888,     0.87988,     0.88088,     0.88188,     0.88288,     0.88388,     0.88488,     0.88589,     0.88689,     0.88789,\n",
              "           0.88889,     0.88989,     0.89089,     0.89189,     0.89289,     0.89389,     0.89489,      0.8959,      0.8969,      0.8979,      0.8989,      0.8999,      0.9009,      0.9019,      0.9029,      0.9039,      0.9049,     0.90591,     0.90691,     0.90791,     0.90891,     0.90991,     0.91091,     0.91191,\n",
              "           0.91291,     0.91391,     0.91491,     0.91592,     0.91692,     0.91792,     0.91892,     0.91992,     0.92092,     0.92192,     0.92292,     0.92392,     0.92492,     0.92593,     0.92693,     0.92793,     0.92893,     0.92993,     0.93093,     0.93193,     0.93293,     0.93393,     0.93493,     0.93594,\n",
              "           0.93694,     0.93794,     0.93894,     0.93994,     0.94094,     0.94194,     0.94294,     0.94394,     0.94494,     0.94595,     0.94695,     0.94795,     0.94895,     0.94995,     0.95095,     0.95195,     0.95295,     0.95395,     0.95495,     0.95596,     0.95696,     0.95796,     0.95896,     0.95996,\n",
              "           0.96096,     0.96196,     0.96296,     0.96396,     0.96496,     0.96597,     0.96697,     0.96797,     0.96897,     0.96997,     0.97097,     0.97197,     0.97297,     0.97397,     0.97497,     0.97598,     0.97698,     0.97798,     0.97898,     0.97998,     0.98098,     0.98198,     0.98298,     0.98398,\n",
              "           0.98498,     0.98599,     0.98699,     0.98799,     0.98899,     0.98999,     0.99099,     0.99199,     0.99299,     0.99399,     0.99499,       0.996,       0.997,       0.998,       0.999,           1]), array([[    0.87572,     0.87572,     0.86994,     0.86127,     0.85549,     0.84971,     0.84393,     0.83526,     0.83526,     0.82948,     0.82521,     0.81792,     0.81503,     0.81214,     0.81214,     0.81214,     0.80925,     0.80925,     0.80636,     0.80636,     0.80636,     0.80636,     0.80347,\n",
              "            0.80347,     0.80347,     0.80058,     0.80058,     0.80058,     0.80058,     0.79829,     0.79769,     0.79769,     0.79769,     0.79769,     0.79769,      0.7948,      0.7948,     0.79229,     0.78902,     0.78902,     0.78613,     0.78613,     0.78613,     0.78613,     0.78324,     0.78324,\n",
              "            0.78324,     0.78035,     0.78035,     0.78035,     0.77528,     0.77168,     0.77168,     0.77168,     0.77075,     0.76879,     0.76879,     0.76879,     0.76879,     0.76879,     0.76879,     0.76879,     0.76879,     0.76663,     0.76308,     0.76301,     0.76032,     0.75723,     0.75574,\n",
              "            0.75434,     0.75434,     0.75434,     0.75434,     0.75434,     0.75434,     0.75434,     0.75434,     0.75434,     0.75145,     0.75145,     0.75145,     0.74938,     0.74566,     0.74566,     0.74566,     0.74566,     0.74566,     0.74566,     0.74566,     0.74288,     0.73988,     0.73988,\n",
              "            0.73988,     0.73988,     0.73988,     0.73988,     0.73988,     0.73988,     0.73988,     0.73988,     0.73988,     0.73988,     0.73988,     0.73988,     0.73988,     0.73988,     0.73988,     0.73988,     0.73988,     0.73988,     0.73988,     0.73939,     0.73861,     0.73784,     0.73706,\n",
              "            0.73699,     0.73699,     0.73699,     0.73699,     0.73699,     0.73699,     0.73581,     0.73412,      0.7341,      0.7341,      0.7341,      0.7341,      0.7341,     0.73121,     0.73121,     0.72873,     0.72643,     0.72543,     0.72523,      0.7242,     0.72317,     0.72254,     0.72254,\n",
              "            0.72254,     0.72254,     0.72254,     0.72254,     0.72254,     0.72211,     0.72112,     0.72013,     0.71935,     0.71876,     0.71816,     0.71757,     0.71698,     0.71676,     0.71676,     0.71676,     0.71676,     0.71676,     0.71676,     0.71676,     0.71676,     0.71676,     0.71676,\n",
              "            0.71676,     0.71676,     0.71676,     0.71647,     0.71515,     0.71387,     0.71387,     0.71387,     0.71387,     0.71387,     0.71098,     0.71098,     0.71098,     0.71098,     0.70904,     0.70806,     0.70703,       0.706,     0.70492,     0.70368,     0.70243,     0.70231,     0.70231,\n",
              "            0.70231,     0.70231,     0.70231,     0.70231,     0.70231,     0.70231,     0.70171,     0.69929,     0.69903,     0.69877,     0.69851,     0.69825,     0.69799,     0.69772,     0.69746,      0.6972,     0.69694,     0.69668,     0.69653,     0.69653,     0.69653,     0.69653,     0.69653,\n",
              "            0.69294,     0.69075,     0.69075,     0.69075,     0.69075,     0.68986,     0.68874,     0.68772,      0.6871,     0.68647,     0.68585,     0.68523,     0.68497,     0.68497,     0.68497,     0.68497,     0.68497,     0.68497,     0.68497,     0.68497,     0.68497,     0.68497,     0.68497,\n",
              "            0.68497,     0.68497,     0.68429,     0.68326,     0.68223,     0.68038,     0.67545,     0.67334,     0.67202,     0.67071,     0.66932,     0.66793,     0.66763,     0.66763,     0.66763,     0.66763,     0.66763,     0.66763,     0.66763,     0.66763,     0.66763,     0.66763,     0.66763,\n",
              "            0.66747,      0.6655,     0.66474,     0.66474,     0.66474,     0.66474,     0.66474,     0.66474,     0.66474,     0.66474,     0.66474,     0.66474,      0.6642,     0.66358,     0.66296,     0.66233,     0.66185,     0.66185,     0.66185,     0.66185,     0.66185,     0.66185,     0.66185,\n",
              "            0.66185,     0.66185,     0.66185,     0.66185,     0.66185,     0.66185,     0.66185,     0.65896,     0.65896,     0.65896,     0.65896,     0.65896,     0.65896,     0.65896,     0.65896,     0.65896,     0.65896,     0.65896,     0.65896,     0.65896,     0.65896,     0.65835,     0.65744,\n",
              "            0.65653,      0.6546,     0.65318,     0.65318,     0.65318,     0.65318,     0.65292,     0.65222,     0.65152,     0.65083,     0.65029,     0.65029,     0.65029,     0.65029,     0.65029,     0.65029,     0.65029,     0.65013,     0.64989,     0.64965,     0.64941,     0.64917,     0.64892,\n",
              "            0.64868,     0.64844,      0.6482,     0.64796,     0.64772,     0.64747,      0.6474,     0.64619,     0.64448,     0.64151,      0.6411,     0.64069,     0.64028,     0.63987,     0.63946,     0.63905,     0.63873,     0.63873,     0.63873,     0.63873,      0.6345,     0.63295,     0.63295,\n",
              "            0.63295,     0.63295,     0.63295,     0.63295,     0.63295,     0.63295,     0.63295,     0.63295,     0.63295,     0.63295,     0.63295,     0.63295,     0.63295,     0.63295,     0.62721,      0.6255,      0.6241,     0.62348,     0.62286,     0.62223,     0.62161,     0.62088,     0.62009,\n",
              "             0.6193,     0.61851,      0.6185,     0.61837,     0.61791,     0.61746,       0.617,     0.61655,     0.61609,     0.61564,     0.61561,     0.61561,     0.61455,     0.61347,     0.61272,     0.61272,     0.61272,     0.61272,     0.61272,     0.61272,     0.61272,     0.61272,     0.61272,\n",
              "            0.61272,     0.61272,     0.61258,     0.61088,     0.60582,      0.6038,     0.60317,     0.60255,     0.60193,      0.6013,     0.59889,     0.59592,     0.59496,     0.59444,     0.59393,     0.59341,      0.5929,     0.59249,     0.59249,     0.59249,     0.59249,     0.59249,     0.59243,\n",
              "            0.59227,     0.59211,     0.59195,     0.59179,     0.59163,     0.59147,     0.59131,     0.59115,     0.59099,     0.59083,     0.59067,     0.59051,     0.59035,     0.59019,     0.59003,     0.58987,     0.58971,     0.58953,     0.58927,     0.58902,     0.58877,     0.58852,     0.58826,\n",
              "            0.58801,     0.58776,     0.58751,     0.58726,       0.587,     0.58675,     0.58622,     0.58563,     0.58504,     0.58444,     0.58385,     0.58104,     0.57803,     0.57803,     0.57803,     0.57803,     0.57803,     0.57803,     0.57796,     0.57776,     0.57757,     0.57737,     0.57717,\n",
              "            0.57697,     0.57678,     0.57658,     0.57638,     0.57618,     0.57599,     0.57579,     0.57559,     0.57539,      0.5752,     0.57514,     0.57514,     0.57514,     0.57454,      0.5738,     0.57306,     0.57232,     0.56955,     0.56867,     0.56793,     0.56719,     0.56646,     0.56613,\n",
              "             0.5658,     0.56547,     0.56515,     0.56482,     0.56449,     0.56416,     0.56383,     0.56358,     0.56358,     0.56358,     0.56358,     0.56358,     0.55772,     0.55751,      0.5573,     0.55709,     0.55688,     0.55667,     0.55645,     0.55624,     0.55603,     0.55582,     0.55561,\n",
              "             0.5554,     0.55518,     0.55497,     0.55149,     0.55075,     0.55001,     0.54927,     0.54883,     0.54846,     0.54809,     0.54772,     0.54735,     0.54698,     0.54661,     0.54622,     0.54474,     0.54333,     0.54304,     0.54274,     0.54245,     0.54215,     0.54185,     0.54156,\n",
              "            0.54126,     0.54096,     0.54067,     0.54046,     0.54046,     0.54046,     0.54009,      0.5391,     0.53811,     0.53623,      0.5344,     0.53381,     0.53321,     0.53262,     0.53203,     0.52846,     0.52772,     0.52698,     0.52624,     0.52498,      0.5235,     0.52302,     0.52288,\n",
              "            0.52274,     0.52261,     0.52247,     0.52233,     0.52219,     0.52205,     0.52192,     0.52178,     0.52164,      0.5215,     0.52137,     0.52123,     0.52109,     0.52095,     0.52081,     0.52068,     0.52054,      0.5204,     0.52026,     0.51977,     0.51918,     0.51859,       0.518,\n",
              "             0.5174,      0.5147,     0.51174,     0.51156,     0.51013,     0.50867,     0.50867,     0.50867,     0.50697,     0.50489,     0.50341,     0.50241,     0.50167,     0.50093,     0.50019,     0.49926,     0.49828,     0.49729,     0.49674,     0.49628,     0.49582,     0.49537,     0.49491,\n",
              "            0.49446,     0.49351,     0.49203,     0.49094,      0.4902,     0.48946,     0.48872,     0.48659,     0.48427,     0.48255,     0.48196,     0.48136,     0.48077,     0.48018,     0.47886,     0.47655,     0.47556,     0.47458,     0.47159,      0.4711,      0.4711,      0.4711,      0.4711,\n",
              "             0.4711,      0.4711,      0.4711,      0.4711,     0.46925,     0.46791,     0.46746,       0.467,     0.46654,     0.46609,     0.46563,     0.46532,     0.46532,     0.46532,     0.46532,     0.46532,     0.46277,     0.46213,     0.46182,     0.46151,      0.4612,     0.46089,     0.46057,\n",
              "            0.46026,     0.45995,     0.45964,     0.45854,     0.45706,     0.45376,     0.45376,     0.45342,     0.45224,     0.45105,     0.44836,      0.4454,     0.44468,     0.44422,     0.44377,     0.44331,     0.44286,      0.4424,      0.4411,     0.43923,     0.43838,     0.43754,     0.43669,\n",
              "            0.43295,     0.43211,     0.43126,     0.42749,      0.4265,     0.42551,     0.41999,     0.41657,     0.41561,     0.41495,      0.4143,     0.41364,     0.41329,     0.41325,     0.41028,     0.40751,     0.40698,     0.40462,     0.40462,     0.40462,      0.4044,     0.40322,     0.40203,\n",
              "            0.40173,     0.40173,     0.40173,     0.40173,     0.40147,     0.40073,     0.39999,     0.39925,      0.3946,     0.39211,     0.39016,     0.38931,     0.38847,     0.38762,     0.38609,     0.38146,     0.38117,     0.38087,     0.38057,     0.38028,     0.37998,     0.37968,     0.37939,\n",
              "            0.37909,      0.3788,     0.37786,     0.37588,     0.37572,     0.37572,     0.37477,     0.37378,     0.37275,     0.37077,     0.35789,     0.35705,      0.3562,     0.35517,     0.35319,      0.3526,     0.35237,     0.35138,     0.35039,     0.34078,     0.33993,     0.33908,     0.33824,\n",
              "            0.33638,     0.32919,     0.32854,     0.32788,     0.32722,     0.32655,     0.32556,     0.32457,      0.3237,      0.3237,      0.3237,     0.32333,     0.32135,      0.3136,     0.31162,     0.30965,     0.30478,     0.30281,     0.30083,     0.29308,     0.29164,     0.29098,     0.29032,\n",
              "            0.28966,     0.28901,     0.28866,     0.28831,     0.28797,     0.28762,     0.28727,     0.28692,     0.28657,     0.28622,     0.28469,     0.28298,     0.28199,       0.281,     0.27995,     0.27876,     0.27758,     0.27279,     0.27116,     0.26998,     0.26879,     0.26682,     0.26485,\n",
              "            0.26296,     0.26221,     0.26147,     0.26073,     0.25703,     0.25584,     0.25466,     0.25362,     0.25263,     0.25164,     0.24908,     0.24774,     0.24675,     0.24577,     0.24012,     0.23934,     0.23875,     0.23815,     0.23756,     0.23691,     0.23493,     0.23238,     0.22761,\n",
              "            0.22642,     0.22511,     0.22313,     0.21642,     0.21592,     0.21543,     0.21493,     0.21444,     0.21395,     0.20931,     0.20695,     0.20183,     0.20064,     0.19946,     0.19654,     0.19073,     0.18954,     0.18836,     0.18325,     0.17799,     0.17588,     0.17327,     0.17242,\n",
              "            0.17158,     0.17073,     0.16829,     0.16533,     0.16316,     0.16085,     0.15789,     0.15203,     0.14994,      0.1491,     0.14825,      0.1474,     0.14445,     0.13866,     0.13718,     0.13267,     0.12682,       0.124,     0.12202,      0.1107,     0.10878,      0.1073,     0.10582,\n",
              "            0.10434,     0.10167,    0.097043,    0.095562,    0.092785,    0.092076,     0.09162,    0.091164,    0.090709,    0.090253,    0.089797,    0.089182,    0.088442,    0.087701,    0.086961,    0.086274,    0.085615,    0.084957,    0.084299,    0.080611,    0.079426,    0.078241,    0.077219,\n",
              "           0.076231,    0.075244,    0.073368,    0.070963,    0.060148,    0.058963,    0.049091,    0.047116,    0.045581,    0.044396,       0.043,    0.040179,    0.038204,    0.033876,    0.032691,    0.031316,    0.029341,    0.025766,     0.02492,    0.024073,    0.023227,    0.021392,    0.019882,\n",
              "           0.019036,     0.01819,    0.017343,    0.016356,    0.015368,    0.014428,    0.014098,    0.013769,     0.01344,    0.013111,    0.012782,    0.012453,    0.012123,    0.011794,   0.0086285,    0.008484,   0.0083395,    0.008195,   0.0080505,    0.007906,   0.0077615,    0.007617,   0.0074724,\n",
              "          0.0073279,   0.0071834,   0.0070389,   0.0068944,   0.0067499,   0.0066054,   0.0064609,   0.0063163,   0.0061718,   0.0060273,   0.0058828,           0,           0,           0,           0,           0,           0,           0,           0,           0,           0,           0,           0,\n",
              "                  0,           0,           0,           0,           0,           0,           0,           0,           0,           0,           0,           0,           0,           0,           0,           0,           0,           0,           0,           0,           0,           0,           0,\n",
              "                  0,           0,           0,           0,           0,           0,           0,           0,           0,           0,           0,           0,           0,           0,           0,           0,           0,           0,           0,           0,           0,           0,           0,\n",
              "                  0,           0,           0,           0,           0,           0,           0,           0,           0,           0,           0]]), 'Confidence', 'Recall']]\n",
              "fitness: 0.4692856029754021\n",
              "keys: ['metrics/precision(B)', 'metrics/recall(B)', 'metrics/mAP50(B)', 'metrics/mAP50-95(B)']\n",
              "maps: array([    0.43474])\n",
              "names: {0: 'Person'}\n",
              "plot: True\n",
              "results_dict: {'metrics/precision(B)': 0.8051318293887214, 'metrics/recall(B)': 0.7023121387283237, 'metrics/mAP50(B)': 0.7802401998707091, 'metrics/mAP50-95(B)': 0.4347350922092569, 'fitness': 0.4692856029754021}\n",
              "save_dir: PosixPath('runs/detect/train')\n",
              "speed: {'preprocess': 0.11258323987325032, 'inference': 10.614977280298868, 'loss': 0.0005642573038736979, 'postprocess': 4.7849297523498535}\n",
              "task: 'detect'"
            ]
          },
          "execution_count": 4,
          "metadata": {},
          "output_type": "execute_result"
        }
      ],
      "source": [
        "# yolov8 학습\n",
        "model.train(data='/content/drive/MyDrive/yolov5/data/data.yaml', epochs=100, batch= 16, imgsz=640)"
      ]
    },
    {
      "cell_type": "code",
      "execution_count": null,
      "metadata": {
        "colab": {
          "base_uri": "https://localhost:8080/"
        },
        "id": "UjNdzBSEyazf",
        "outputId": "8de15ca7-7b0d-4eaa-9e58-38df47379c25"
      },
      "outputs": [
        {
          "name": "stdout",
          "output_type": "stream",
          "text": [
            "\u001b[34m\u001b[1mval: \u001b[0mdata=data/coco128.yaml, weights=['/content/drive/MyDrive/yolov5/runs/train/exp5/weights/best.pt'], batch_size=32, imgsz=640, conf_thres=0.001, iou_thres=0.6, max_det=300, task=test, device=, workers=8, single_cls=False, augment=False, verbose=False, save_txt=False, save_hybrid=False, save_conf=False, save_json=False, project=runs/val, name=exp, exist_ok=False, half=False, dnn=False\n",
            "YOLOv5 🚀 v7.0-284-g95ebf68f Python-3.10.12 torch-2.1.0+cu121 CUDA:0 (Tesla T4, 15102MiB)\n",
            "\n",
            "Fusing layers... \n",
            "Model summary: 267 layers, 46108278 parameters, 0 gradients, 107.6 GFLOPs\n",
            "\n",
            "Dataset not found ⚠️, missing paths ['/content/drive/MyDrive/datasets/coco128/images/train2017']\n",
            "Downloading https://ultralytics.com/assets/coco128.zip to coco128.zip...\n",
            "100% 6.66M/6.66M [00:00<00:00, 145MB/s]\n",
            "Dataset download success ✅ (4.0s), saved to \u001b[1m/content/drive/MyDrive/datasets\u001b[0m\n",
            "Downloading https://ultralytics.com/assets/Arial.ttf to /root/.config/Ultralytics/Arial.ttf...\n",
            "100% 755k/755k [00:00<00:00, 111MB/s]\n",
            "Traceback (most recent call last):\n",
            "  File \"/content/drive/MyDrive/yolov5/val.py\", line 430, in <module>\n",
            "    main(opt)\n",
            "  File \"/content/drive/MyDrive/yolov5/val.py\", line 401, in main\n",
            "    run(**vars(opt))\n",
            "  File \"/usr/local/lib/python3.10/dist-packages/torch/utils/_contextlib.py\", line 115, in decorate_context\n",
            "    return func(*args, **kwargs)\n",
            "  File \"/content/drive/MyDrive/yolov5/val.py\", line 188, in run\n",
            "    assert ncm == nc, (\n",
            "AssertionError: ['/content/drive/MyDrive/yolov5/runs/train/exp5/weights/best.pt'] (1 classes) trained on different --data than what you passed (80 classes). Pass correct combination of --weights and --data that are trained together.\n"
          ]
        }
      ],
      "source": [
        "!python /content/drive/MyDrive/yolov5/val.py --img 640 --weights /content/drive/MyDrive/yolov5/runs/train/exp5/weights/best.pt --task test"
      ]
    },
    {
      "cell_type": "code",
      "execution_count": null,
      "metadata": {
        "colab": {
          "base_uri": "https://localhost:8080/"
        },
        "id": "A-kAAut6wvsm",
        "outputId": "80c76f2d-86e0-4df3-9a07-4efff3d6f865"
      },
      "outputs": [
        {
          "name": "stdout",
          "output_type": "stream",
          "text": [
            "Collecting gitpython>=3.1.30 (from -r /content/drive/MyDrive/yolov5/requirements.txt (line 5))\n",
            "  Downloading GitPython-3.1.42-py3-none-any.whl (195 kB)\n",
            "\u001b[?25l     \u001b[90m━━━━━━━━━━━━━━━━━━━━━━━━━━━━━━━━━━━━━━━━\u001b[0m \u001b[32m0.0/195.4 kB\u001b[0m \u001b[31m?\u001b[0m eta \u001b[36m-:--:--\u001b[0m\r\u001b[2K     \u001b[90m━━━━━━━━━━━━━━━━━━━━━━━━━━━━━━━━━━━━━━━━\u001b[0m \u001b[32m195.4/195.4 kB\u001b[0m \u001b[31m5.8 MB/s\u001b[0m eta \u001b[36m0:00:00\u001b[0m\n",
            "\u001b[?25hRequirement already satisfied: matplotlib>=3.3 in /usr/local/lib/python3.10/dist-packages (from -r /content/drive/MyDrive/yolov5/requirements.txt (line 6)) (3.7.1)\n",
            "Requirement already satisfied: numpy>=1.23.5 in /usr/local/lib/python3.10/dist-packages (from -r /content/drive/MyDrive/yolov5/requirements.txt (line 7)) (1.25.2)\n",
            "Requirement already satisfied: opencv-python>=4.1.1 in /usr/local/lib/python3.10/dist-packages (from -r /content/drive/MyDrive/yolov5/requirements.txt (line 8)) (4.8.0.76)\n",
            "Requirement already satisfied: Pillow>=9.4.0 in /usr/local/lib/python3.10/dist-packages (from -r /content/drive/MyDrive/yolov5/requirements.txt (line 9)) (9.4.0)\n",
            "Requirement already satisfied: psutil in /usr/local/lib/python3.10/dist-packages (from -r /content/drive/MyDrive/yolov5/requirements.txt (line 10)) (5.9.5)\n",
            "Requirement already satisfied: PyYAML>=5.3.1 in /usr/local/lib/python3.10/dist-packages (from -r /content/drive/MyDrive/yolov5/requirements.txt (line 11)) (6.0.1)\n",
            "Requirement already satisfied: requests>=2.23.0 in /usr/local/lib/python3.10/dist-packages (from -r /content/drive/MyDrive/yolov5/requirements.txt (line 12)) (2.31.0)\n",
            "Requirement already satisfied: scipy>=1.4.1 in /usr/local/lib/python3.10/dist-packages (from -r /content/drive/MyDrive/yolov5/requirements.txt (line 13)) (1.11.4)\n",
            "Collecting thop>=0.1.1 (from -r /content/drive/MyDrive/yolov5/requirements.txt (line 14))\n",
            "  Downloading thop-0.1.1.post2209072238-py3-none-any.whl (15 kB)\n",
            "Requirement already satisfied: torch>=1.8.0 in /usr/local/lib/python3.10/dist-packages (from -r /content/drive/MyDrive/yolov5/requirements.txt (line 15)) (2.1.0+cu121)\n",
            "Requirement already satisfied: torchvision>=0.9.0 in /usr/local/lib/python3.10/dist-packages (from -r /content/drive/MyDrive/yolov5/requirements.txt (line 16)) (0.16.0+cu121)\n",
            "Requirement already satisfied: tqdm>=4.64.0 in /usr/local/lib/python3.10/dist-packages (from -r /content/drive/MyDrive/yolov5/requirements.txt (line 17)) (4.66.2)\n",
            "Collecting ultralytics>=8.0.232 (from -r /content/drive/MyDrive/yolov5/requirements.txt (line 18))\n",
            "  Downloading ultralytics-8.1.17-py3-none-any.whl (715 kB)\n",
            "\u001b[2K     \u001b[90m━━━━━━━━━━━━━━━━━━━━━━━━━━━━━━━━━━━━━━━━\u001b[0m \u001b[32m715.9/715.9 kB\u001b[0m \u001b[31m15.3 MB/s\u001b[0m eta \u001b[36m0:00:00\u001b[0m\n",
            "\u001b[?25hRequirement already satisfied: pandas>=1.1.4 in /usr/local/lib/python3.10/dist-packages (from -r /content/drive/MyDrive/yolov5/requirements.txt (line 27)) (1.5.3)\n",
            "Requirement already satisfied: seaborn>=0.11.0 in /usr/local/lib/python3.10/dist-packages (from -r /content/drive/MyDrive/yolov5/requirements.txt (line 28)) (0.13.1)\n",
            "Requirement already satisfied: setuptools>=65.5.1 in /usr/local/lib/python3.10/dist-packages (from -r /content/drive/MyDrive/yolov5/requirements.txt (line 42)) (67.7.2)\n",
            "Collecting gitdb<5,>=4.0.1 (from gitpython>=3.1.30->-r /content/drive/MyDrive/yolov5/requirements.txt (line 5))\n",
            "  Downloading gitdb-4.0.11-py3-none-any.whl (62 kB)\n",
            "\u001b[2K     \u001b[90m━━━━━━━━━━━━━━━━━━━━━━━━━━━━━━━━━━━━━━━━\u001b[0m \u001b[32m62.7/62.7 kB\u001b[0m \u001b[31m9.5 MB/s\u001b[0m eta \u001b[36m0:00:00\u001b[0m\n",
            "\u001b[?25hRequirement already satisfied: contourpy>=1.0.1 in /usr/local/lib/python3.10/dist-packages (from matplotlib>=3.3->-r /content/drive/MyDrive/yolov5/requirements.txt (line 6)) (1.2.0)\n",
            "Requirement already satisfied: cycler>=0.10 in /usr/local/lib/python3.10/dist-packages (from matplotlib>=3.3->-r /content/drive/MyDrive/yolov5/requirements.txt (line 6)) (0.12.1)\n",
            "Requirement already satisfied: fonttools>=4.22.0 in /usr/local/lib/python3.10/dist-packages (from matplotlib>=3.3->-r /content/drive/MyDrive/yolov5/requirements.txt (line 6)) (4.49.0)\n",
            "Requirement already satisfied: kiwisolver>=1.0.1 in /usr/local/lib/python3.10/dist-packages (from matplotlib>=3.3->-r /content/drive/MyDrive/yolov5/requirements.txt (line 6)) (1.4.5)\n",
            "Requirement already satisfied: packaging>=20.0 in /usr/local/lib/python3.10/dist-packages (from matplotlib>=3.3->-r /content/drive/MyDrive/yolov5/requirements.txt (line 6)) (23.2)\n",
            "Requirement already satisfied: pyparsing>=2.3.1 in /usr/local/lib/python3.10/dist-packages (from matplotlib>=3.3->-r /content/drive/MyDrive/yolov5/requirements.txt (line 6)) (3.1.1)\n",
            "Requirement already satisfied: python-dateutil>=2.7 in /usr/local/lib/python3.10/dist-packages (from matplotlib>=3.3->-r /content/drive/MyDrive/yolov5/requirements.txt (line 6)) (2.8.2)\n",
            "Requirement already satisfied: charset-normalizer<4,>=2 in /usr/local/lib/python3.10/dist-packages (from requests>=2.23.0->-r /content/drive/MyDrive/yolov5/requirements.txt (line 12)) (3.3.2)\n",
            "Requirement already satisfied: idna<4,>=2.5 in /usr/local/lib/python3.10/dist-packages (from requests>=2.23.0->-r /content/drive/MyDrive/yolov5/requirements.txt (line 12)) (3.6)\n",
            "Requirement already satisfied: urllib3<3,>=1.21.1 in /usr/local/lib/python3.10/dist-packages (from requests>=2.23.0->-r /content/drive/MyDrive/yolov5/requirements.txt (line 12)) (2.0.7)\n",
            "Requirement already satisfied: certifi>=2017.4.17 in /usr/local/lib/python3.10/dist-packages (from requests>=2.23.0->-r /content/drive/MyDrive/yolov5/requirements.txt (line 12)) (2024.2.2)\n",
            "Requirement already satisfied: filelock in /usr/local/lib/python3.10/dist-packages (from torch>=1.8.0->-r /content/drive/MyDrive/yolov5/requirements.txt (line 15)) (3.13.1)\n",
            "Requirement already satisfied: typing-extensions in /usr/local/lib/python3.10/dist-packages (from torch>=1.8.0->-r /content/drive/MyDrive/yolov5/requirements.txt (line 15)) (4.9.0)\n",
            "Requirement already satisfied: sympy in /usr/local/lib/python3.10/dist-packages (from torch>=1.8.0->-r /content/drive/MyDrive/yolov5/requirements.txt (line 15)) (1.12)\n",
            "Requirement already satisfied: networkx in /usr/local/lib/python3.10/dist-packages (from torch>=1.8.0->-r /content/drive/MyDrive/yolov5/requirements.txt (line 15)) (3.2.1)\n",
            "Requirement already satisfied: jinja2 in /usr/local/lib/python3.10/dist-packages (from torch>=1.8.0->-r /content/drive/MyDrive/yolov5/requirements.txt (line 15)) (3.1.3)\n",
            "Requirement already satisfied: fsspec in /usr/local/lib/python3.10/dist-packages (from torch>=1.8.0->-r /content/drive/MyDrive/yolov5/requirements.txt (line 15)) (2023.6.0)\n",
            "Requirement already satisfied: triton==2.1.0 in /usr/local/lib/python3.10/dist-packages (from torch>=1.8.0->-r /content/drive/MyDrive/yolov5/requirements.txt (line 15)) (2.1.0)\n",
            "Requirement already satisfied: py-cpuinfo in /usr/local/lib/python3.10/dist-packages (from ultralytics>=8.0.232->-r /content/drive/MyDrive/yolov5/requirements.txt (line 18)) (9.0.0)\n",
            "Requirement already satisfied: pytz>=2020.1 in /usr/local/lib/python3.10/dist-packages (from pandas>=1.1.4->-r /content/drive/MyDrive/yolov5/requirements.txt (line 27)) (2023.4)\n",
            "Collecting smmap<6,>=3.0.1 (from gitdb<5,>=4.0.1->gitpython>=3.1.30->-r /content/drive/MyDrive/yolov5/requirements.txt (line 5))\n",
            "  Downloading smmap-5.0.1-py3-none-any.whl (24 kB)\n",
            "Requirement already satisfied: six>=1.5 in /usr/local/lib/python3.10/dist-packages (from python-dateutil>=2.7->matplotlib>=3.3->-r /content/drive/MyDrive/yolov5/requirements.txt (line 6)) (1.16.0)\n",
            "Requirement already satisfied: MarkupSafe>=2.0 in /usr/local/lib/python3.10/dist-packages (from jinja2->torch>=1.8.0->-r /content/drive/MyDrive/yolov5/requirements.txt (line 15)) (2.1.5)\n",
            "Requirement already satisfied: mpmath>=0.19 in /usr/local/lib/python3.10/dist-packages (from sympy->torch>=1.8.0->-r /content/drive/MyDrive/yolov5/requirements.txt (line 15)) (1.3.0)\n",
            "Installing collected packages: smmap, gitdb, thop, gitpython, ultralytics\n",
            "Successfully installed gitdb-4.0.11 gitpython-3.1.42 smmap-5.0.1 thop-0.1.1.post2209072238 ultralytics-8.1.17\n",
            "/content/drive/MyDrive/yolov5\n",
            "Collecting segmentation_models_pytorch\n",
            "  Downloading segmentation_models_pytorch-0.3.3-py3-none-any.whl (106 kB)\n",
            "\u001b[2K     \u001b[90m━━━━━━━━━━━━━━━━━━━━━━━━━━━━━━━━━━━━━━━━\u001b[0m \u001b[32m106.7/106.7 kB\u001b[0m \u001b[31m3.8 MB/s\u001b[0m eta \u001b[36m0:00:00\u001b[0m\n",
            "\u001b[?25hRequirement already satisfied: torchvision>=0.5.0 in /usr/local/lib/python3.10/dist-packages (from segmentation_models_pytorch) (0.16.0+cu121)\n",
            "Collecting pretrainedmodels==0.7.4 (from segmentation_models_pytorch)\n",
            "  Downloading pretrainedmodels-0.7.4.tar.gz (58 kB)\n",
            "\u001b[2K     \u001b[90m━━━━━━━━━━━━━━━━━━━━━━━━━━━━━━━━━━━━━━━━\u001b[0m \u001b[32m58.8/58.8 kB\u001b[0m \u001b[31m9.0 MB/s\u001b[0m eta \u001b[36m0:00:00\u001b[0m\n",
            "\u001b[?25h  Preparing metadata (setup.py) ... \u001b[?25l\u001b[?25hdone\n",
            "Collecting efficientnet-pytorch==0.7.1 (from segmentation_models_pytorch)\n",
            "  Downloading efficientnet_pytorch-0.7.1.tar.gz (21 kB)\n",
            "  Preparing metadata (setup.py) ... \u001b[?25l\u001b[?25hdone\n",
            "Collecting timm==0.9.2 (from segmentation_models_pytorch)\n",
            "  Downloading timm-0.9.2-py3-none-any.whl (2.2 MB)\n",
            "\u001b[2K     \u001b[90m━━━━━━━━━━━━━━━━━━━━━━━━━━━━━━━━━━━━━━━━\u001b[0m \u001b[32m2.2/2.2 MB\u001b[0m \u001b[31m17.4 MB/s\u001b[0m eta \u001b[36m0:00:00\u001b[0m\n",
            "\u001b[?25hRequirement already satisfied: tqdm in /usr/local/lib/python3.10/dist-packages (from segmentation_models_pytorch) (4.66.2)\n",
            "Requirement already satisfied: pillow in /usr/local/lib/python3.10/dist-packages (from segmentation_models_pytorch) (9.4.0)\n",
            "Requirement already satisfied: torch in /usr/local/lib/python3.10/dist-packages (from efficientnet-pytorch==0.7.1->segmentation_models_pytorch) (2.1.0+cu121)\n",
            "Collecting munch (from pretrainedmodels==0.7.4->segmentation_models_pytorch)\n",
            "  Downloading munch-4.0.0-py2.py3-none-any.whl (9.9 kB)\n",
            "Requirement already satisfied: pyyaml in /usr/local/lib/python3.10/dist-packages (from timm==0.9.2->segmentation_models_pytorch) (6.0.1)\n",
            "Requirement already satisfied: huggingface-hub in /usr/local/lib/python3.10/dist-packages (from timm==0.9.2->segmentation_models_pytorch) (0.20.3)\n",
            "Requirement already satisfied: safetensors in /usr/local/lib/python3.10/dist-packages (from timm==0.9.2->segmentation_models_pytorch) (0.4.2)\n",
            "Requirement already satisfied: numpy in /usr/local/lib/python3.10/dist-packages (from torchvision>=0.5.0->segmentation_models_pytorch) (1.25.2)\n",
            "Requirement already satisfied: requests in /usr/local/lib/python3.10/dist-packages (from torchvision>=0.5.0->segmentation_models_pytorch) (2.31.0)\n",
            "Requirement already satisfied: filelock in /usr/local/lib/python3.10/dist-packages (from torch->efficientnet-pytorch==0.7.1->segmentation_models_pytorch) (3.13.1)\n",
            "Requirement already satisfied: typing-extensions in /usr/local/lib/python3.10/dist-packages (from torch->efficientnet-pytorch==0.7.1->segmentation_models_pytorch) (4.9.0)\n",
            "Requirement already satisfied: sympy in /usr/local/lib/python3.10/dist-packages (from torch->efficientnet-pytorch==0.7.1->segmentation_models_pytorch) (1.12)\n",
            "Requirement already satisfied: networkx in /usr/local/lib/python3.10/dist-packages (from torch->efficientnet-pytorch==0.7.1->segmentation_models_pytorch) (3.2.1)\n",
            "Requirement already satisfied: jinja2 in /usr/local/lib/python3.10/dist-packages (from torch->efficientnet-pytorch==0.7.1->segmentation_models_pytorch) (3.1.3)\n",
            "Requirement already satisfied: fsspec in /usr/local/lib/python3.10/dist-packages (from torch->efficientnet-pytorch==0.7.1->segmentation_models_pytorch) (2023.6.0)\n",
            "Requirement already satisfied: triton==2.1.0 in /usr/local/lib/python3.10/dist-packages (from torch->efficientnet-pytorch==0.7.1->segmentation_models_pytorch) (2.1.0)\n",
            "Requirement already satisfied: packaging>=20.9 in /usr/local/lib/python3.10/dist-packages (from huggingface-hub->timm==0.9.2->segmentation_models_pytorch) (23.2)\n",
            "Requirement already satisfied: charset-normalizer<4,>=2 in /usr/local/lib/python3.10/dist-packages (from requests->torchvision>=0.5.0->segmentation_models_pytorch) (3.3.2)\n",
            "Requirement already satisfied: idna<4,>=2.5 in /usr/local/lib/python3.10/dist-packages (from requests->torchvision>=0.5.0->segmentation_models_pytorch) (3.6)\n",
            "Requirement already satisfied: urllib3<3,>=1.21.1 in /usr/local/lib/python3.10/dist-packages (from requests->torchvision>=0.5.0->segmentation_models_pytorch) (2.0.7)\n",
            "Requirement already satisfied: certifi>=2017.4.17 in /usr/local/lib/python3.10/dist-packages (from requests->torchvision>=0.5.0->segmentation_models_pytorch) (2024.2.2)\n",
            "Requirement already satisfied: MarkupSafe>=2.0 in /usr/local/lib/python3.10/dist-packages (from jinja2->torch->efficientnet-pytorch==0.7.1->segmentation_models_pytorch) (2.1.5)\n",
            "Requirement already satisfied: mpmath>=0.19 in /usr/local/lib/python3.10/dist-packages (from sympy->torch->efficientnet-pytorch==0.7.1->segmentation_models_pytorch) (1.3.0)\n",
            "Building wheels for collected packages: efficientnet-pytorch, pretrainedmodels\n",
            "  Building wheel for efficientnet-pytorch (setup.py) ... \u001b[?25l\u001b[?25hdone\n",
            "  Created wheel for efficientnet-pytorch: filename=efficientnet_pytorch-0.7.1-py3-none-any.whl size=16428 sha256=a948699839c51b472684df70f4d103ed9b658040ef9e81b31dbdef899e476f6b\n",
            "  Stored in directory: /root/.cache/pip/wheels/03/3f/e9/911b1bc46869644912bda90a56bcf7b960f20b5187feea3baf\n",
            "  Building wheel for pretrainedmodels (setup.py) ... \u001b[?25l\u001b[?25hdone\n",
            "  Created wheel for pretrainedmodels: filename=pretrainedmodels-0.7.4-py3-none-any.whl size=60945 sha256=b9353f328c41b347768fc69802c51ef5fa3d254b173480837d5812ab222fa7a2\n",
            "  Stored in directory: /root/.cache/pip/wheels/35/cb/a5/8f534c60142835bfc889f9a482e4a67e0b817032d9c6883b64\n",
            "Successfully built efficientnet-pytorch pretrainedmodels\n",
            "Installing collected packages: munch, efficientnet-pytorch, timm, pretrainedmodels, segmentation_models_pytorch\n",
            "Successfully installed efficientnet-pytorch-0.7.1 munch-4.0.0 pretrainedmodels-0.7.4 segmentation_models_pytorch-0.3.3 timm-0.9.2\n"
          ]
        },
        {
          "name": "stderr",
          "output_type": "stream",
          "text": [
            "Fusing layers... \n",
            "Model summary: 267 layers, 46108278 parameters, 0 gradients, 107.6 GFLOPs\n",
            "WARNING ⚠️ NMS time limit 0.550s exceeded\n"
          ]
        }
      ],
      "source": [
        "\n",
        "import torch\n",
        "import os\n",
        "from glob import glob\n",
        "from PIL import Image\n",
        "import numpy as np\n",
        "from torchvision import transforms\n",
        "!pip install -r /content/drive/MyDrive/yolov5/requirements.txt #경로수정\n",
        "%cd /content/drive/MyDrive/yolov5\n",
        "from models.experimental import attempt_load  # YOLOv5 모델 로드 함수\n",
        "from utils.general import non_max_suppression  # NMS 함수\n",
        "from utils.torch_utils import select_device  # 디바이스 선택 함수\n",
        "!pip install segmentation_models_pytorch\n",
        "import segmentation_models_pytorch as smp #임포트 해야되고\n",
        "\n",
        "def save_object_detection_results(pred, save_path, img_width, img_height):\n",
        "    # 이미지 크기를 모델 입력 크기로 설정\n",
        "    model_input_width, model_input_height = 352, 640\n",
        "    result_lines = []\n",
        "    for i, det in enumerate(pred):\n",
        "        if len(det):\n",
        "            for *xyxy, conf, cls in reversed(det):\n",
        "                x_center = ((xyxy[0] + xyxy[2]) / 2) / model_input_width\n",
        "                y_center = ((xyxy[1] + xyxy[3]) / 2) / model_input_height\n",
        "                width = (xyxy[2] - xyxy[0]) / model_input_width\n",
        "                height = (xyxy[3] - xyxy[1]) / model_input_height\n",
        "                result_line = f\"0 {x_center.item()} {y_center.item()} {width.item()} {height.item()}\"\n",
        "                result_lines.append(result_line)\n",
        "\n",
        "    with open(save_path, 'w') as f:\n",
        "        f.write('\\n'.join(result_lines))\n",
        "\n",
        "def predict_images_in_folder(image_folder, object_detection_model_path, segmentation_model_path, device, save_dir):\n",
        "    object_detection_model = attempt_load(object_detection_model_path)  # 객체 탐지 모델 로드\n",
        "    object_detection_model.to(device).eval()\n",
        "\n",
        "    segmentation_model = smp.DeepLabV3Plus(  # 도로 영역 분류 모델 로드\n",
        "        encoder_name=\"resnet101\",\n",
        "        encoder_weights=None,\n",
        "        in_channels=3,\n",
        "        classes=4\n",
        "    )\n",
        "    segmentation_model.load_state_dict(torch.load(segmentation_model_path, map_location=device))\n",
        "    segmentation_model.to(device).eval()\n",
        "\n",
        "    transform = transforms.Compose([  # 이미지 전처리\n",
        "        transforms.Resize((640, 352)),\n",
        "        transforms.ToTensor(),\n",
        "    ])\n",
        "\n",
        "    for image_path in glob(os.path.join(image_folder, '*.jpg')):\n",
        "        image = Image.open(image_path).convert(\"RGB\")\n",
        "        img_width, img_height = image.size\n",
        "        img_tensor = transform(image).unsqueeze(0).to(device)\n",
        "\n",
        "        pred = object_detection_model(img_tensor, augment=False)[0]\n",
        "        pred = non_max_suppression(pred, 0.3, 0.2, classes=None, agnostic=False)\n",
        "\n",
        "        object_detection_save_path = os.path.join(save_dir, os.path.basename(image_path).replace('.jpg', '_detection.txt'))\n",
        "        save_object_detection_results(pred, object_detection_save_path, img_width, img_height)\n",
        "\n",
        "        seg_pred = segmentation_model(img_tensor)  # 도로 영역 분류 수행\n",
        "        seg_pred = torch.argmax(seg_pred, dim=1).byte().cpu().numpy()\n",
        "\n",
        "        road_area_mask = Image.fromarray(seg_pred[0])  # 도로 영역 분류 결과 저장\n",
        "        road_area_mask_save_path = os.path.join(save_dir, os.path.basename(image_path).replace('.jpg', '_road_area_mask.png'))\n",
        "        road_area_mask.save(road_area_mask_save_path)\n",
        "\n",
        "# 예제 사용\n",
        "device = torch.device(\"cuda\" if torch.cuda.is_available() else \"cpu\")\n",
        "image_folder = '/content/drive/MyDrive/yolov5/data/images/test'  # 분석할 이미지 폴더 경로\n",
        "object_detection_model_path = '/content/drive/MyDrive/yolov5/runs/train/exp5/weights/best.pt'  # 객체 탐지 모델 파일 경로\n",
        "segmentation_model_path = '/content/drive/MyDrive/횡단보도/segmentation/models/model_fold4_epoch33.pth'  # 도로 영역 분류 모델 파일 경로\n",
        "save_dir = '/content/drive/MyDrive/yolo_1'  # 결과를 저장할 디렉토리 경로\n",
        "\n",
        "predict_images_in_folder(image_folder, object_detection_model_path, segmentation_model_path, device, save_dir)"
      ]
    },
    {
      "cell_type": "code",
      "execution_count": null,
      "metadata": {
        "colab": {
          "base_uri": "https://localhost:8080/"
        },
        "id": "88rqVF-rhO-6",
        "outputId": "b2847e76-1e3e-42a9-d575-58854e58a8cb"
      },
      "outputs": [
        {
          "name": "stdout",
          "output_type": "stream",
          "text": [
            "Human labels visualization saved at /content/1223.png\n"
          ]
        }
      ],
      "source": [
        "from PIL import Image, ImageDraw\n",
        "\n",
        "def visualize_human_labels(human_label_file, output_file):\n",
        "    # Load human object location labeling file\n",
        "    with open(human_label_file, 'r') as f:\n",
        "        human_label_data = f.readlines()\n",
        "\n",
        "    # Create a white image\n",
        "    img = Image.new('RGB', (640, 640), color='white')\n",
        "    draw = ImageDraw.Draw(img)\n",
        "\n",
        "    # Draw bounding boxes for human objects\n",
        "    for label in human_label_data:\n",
        "        label_data = label.strip().split()\n",
        "        object_center_x, object_center_y, object_width, object_height = map(float, label_data[1:])\n",
        "        x_min = object_center_x - object_width / 2\n",
        "        y_min = object_center_y - object_height / 2\n",
        "        x_max = object_center_x + object_width / 2\n",
        "        y_max = object_center_y + object_height / 2\n",
        "\n",
        "        # Draw bounding box of human object\n",
        "        draw.rectangle([x_min * 640, y_min * 640, x_max * 640, y_max * 640], outline='red', width=2)\n",
        "\n",
        "    # Save the image\n",
        "    img.save(output_file)\n",
        "    print(\"Human labels visualization saved at\", output_file)\n",
        "\n",
        "def visualize_road_labels(road_label_file, output_file):\n",
        "    # Load road area detection labeling file\n",
        "    road_label_img = Image.open(road_label_file)\n",
        "\n",
        "    # Create a blank image to draw colored road areas\n",
        "    colored_img = Image.new('RGB', road_label_img.size)\n",
        "    draw = ImageDraw.Draw(colored_img)\n",
        "\n",
        "    # Define colors for different road areas\n",
        "    colors = [(255, 0, 0), (0, 255, 0), (0, 0, 255)]  # Example colors: Red, Green, Blue\n",
        "\n",
        "    # Highlight road areas with different colors\n",
        "    for y in range(road_label_img.size[1]):\n",
        "        for x in range(road_label_img.size[0]):\n",
        "            pixel_color = road_label_img.getpixel((x, y))\n",
        "            if pixel_color == (255, 255, 255):  # White color indicates road area\n",
        "                # Choose a color based on the location or any other criteria\n",
        "                color_index = (x + y) % len(colors)  # Example: Alternate colors based on x+y coordinate\n",
        "                draw.point((x, y), fill=colors[color_index])\n",
        "\n",
        "    # Save the image\n",
        "    colored_img.save(output_file)\n",
        "    print(\"Road labels visualization saved at\", output_file)\n",
        "\n",
        "# Example usage\n",
        "human_label_file = '/content/240116173846-0043 O.txt'  # Example human object labeling file\n",
        "#road_label_file = '/content/drive/MyDrive/sejong/test/segment_labels/0001.png'  # Example road area labeling file\n",
        "output_human_image_file = '/content/1223.png'  # Output visualization image file path for human labels\n",
        "#output_road_image_file = '/content/drive/MyDrive/sejong/test/001203123/road_labels.png'  # Output visualization image file path for road labels\n",
        "\n",
        "visualize_human_labels(human_label_file, output_human_image_file)\n",
        "#visualize_road_labels(road_label_file, output_road_image_file)"
      ]
    }
  ],
  "metadata": {
    "accelerator": "GPU",
    "colab": {
      "gpuType": "L4",
      "provenance": [],
      "machine_shape": "hm"
    },
    "kernelspec": {
      "display_name": "Python 3",
      "name": "python3"
    },
    "language_info": {
      "name": "python"
    }
  },
  "nbformat": 4,
  "nbformat_minor": 0
}